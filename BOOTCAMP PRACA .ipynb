{
 "cells": [
  {
   "cell_type": "markdown",
   "metadata": {},
   "source": [
    "# House Prices: Advanced Regression Techniques"
   ]
  },
  {
   "cell_type": "markdown",
   "metadata": {},
   "source": [
    "# Table of contents"
   ]
  },
  {
   "cell_type": "markdown",
   "metadata": {},
   "source": [
    "<a href='#introduction'>Introduction</a> <br>\n",
    "<a href='#data'>The data</a> <br>\n",
    "<a href='#cleaning_data'>Cleaning data</a> <br>\n",
    "<a href='#data split and standarization'>Data split and standarization</a> <br>\n",
    "<a href='#pca'>PCA</a> <br>\n",
    "<a href='#linear regression'>Linear regression</a> <br>\n",
    "<a href='#lasso regression'>Lasso regression</a> <br>\n",
    "<a href='#elastic net regression'>Elastic Net regression</a> <br>\n",
    "<a href='#random forrest regression'>Random forrest regression</a> <br>\n",
    "<a href='#ridge regression'>Ridge regression</a> <br>\n",
    "<a href='#multi-layer perceptron regressor'>Neural Network - Multi-layer Perceptron regressor</a> <br>\n",
    "<a href='#conclusion'>Conclusion</a>"
   ]
  },
  {
   "cell_type": "markdown",
   "metadata": {},
   "source": [
    "# <a id='introduction'>Introduction</a>"
   ]
  },
  {
   "cell_type": "markdown",
   "metadata": {
    "collapsed": true
   },
   "source": [
    "The purpose of the analysis is to try to predict the sale price of each of the houses.\n",
    "The entire analysis is based on a data set containing 81 variables describing residential homes in the city of Ames in the state of Iowa in the United States. <br>\n",
    "A complete list of variables with their description is available in the given file: <a href='data_description.txt'>Data file</a> <br>\n",
    "The data has been downloaded from the site: https://www.kaggle.com/c/house-prices-advanced-regression-techniques"
   ]
  },
  {
   "cell_type": "markdown",
   "metadata": {},
   "source": [
    "# <a id='data'>The data</a>"
   ]
  },
  {
   "cell_type": "code",
   "execution_count": 2,
   "metadata": {
    "collapsed": true
   },
   "outputs": [],
   "source": [
    "import pandas as pd\n",
    "import numpy as np\n",
    "import matplotlib.pyplot as plt\n",
    "%matplotlib inline\n",
    "import warnings\n",
    "warnings.filterwarnings('ignore')"
   ]
  },
  {
   "cell_type": "markdown",
   "metadata": {},
   "source": [
    "The following table shows a fragment of the data set on which further analysis will be based."
   ]
  },
  {
   "cell_type": "code",
   "execution_count": 3,
   "metadata": {},
   "outputs": [
    {
     "data": {
      "text/html": [
       "<div>\n",
       "<style>\n",
       "    .dataframe thead tr:only-child th {\n",
       "        text-align: right;\n",
       "    }\n",
       "\n",
       "    .dataframe thead th {\n",
       "        text-align: left;\n",
       "    }\n",
       "\n",
       "    .dataframe tbody tr th {\n",
       "        vertical-align: top;\n",
       "    }\n",
       "</style>\n",
       "<table border=\"1\" class=\"dataframe\">\n",
       "  <thead>\n",
       "    <tr style=\"text-align: right;\">\n",
       "      <th></th>\n",
       "      <th>Id</th>\n",
       "      <th>MSSubClass</th>\n",
       "      <th>MSZoning</th>\n",
       "      <th>LotFrontage</th>\n",
       "      <th>LotArea</th>\n",
       "      <th>Street</th>\n",
       "      <th>Alley</th>\n",
       "      <th>LotShape</th>\n",
       "      <th>LandContour</th>\n",
       "      <th>Utilities</th>\n",
       "      <th>...</th>\n",
       "      <th>PoolArea</th>\n",
       "      <th>PoolQC</th>\n",
       "      <th>Fence</th>\n",
       "      <th>MiscFeature</th>\n",
       "      <th>MiscVal</th>\n",
       "      <th>MoSold</th>\n",
       "      <th>YrSold</th>\n",
       "      <th>SaleType</th>\n",
       "      <th>SaleCondition</th>\n",
       "      <th>SalePrice</th>\n",
       "    </tr>\n",
       "  </thead>\n",
       "  <tbody>\n",
       "    <tr>\n",
       "      <th>0</th>\n",
       "      <td>1</td>\n",
       "      <td>60</td>\n",
       "      <td>RL</td>\n",
       "      <td>65.0</td>\n",
       "      <td>8450</td>\n",
       "      <td>Pave</td>\n",
       "      <td>NaN</td>\n",
       "      <td>Reg</td>\n",
       "      <td>Lvl</td>\n",
       "      <td>AllPub</td>\n",
       "      <td>...</td>\n",
       "      <td>0</td>\n",
       "      <td>NaN</td>\n",
       "      <td>NaN</td>\n",
       "      <td>NaN</td>\n",
       "      <td>0</td>\n",
       "      <td>2</td>\n",
       "      <td>2008</td>\n",
       "      <td>WD</td>\n",
       "      <td>Normal</td>\n",
       "      <td>208500</td>\n",
       "    </tr>\n",
       "    <tr>\n",
       "      <th>1</th>\n",
       "      <td>2</td>\n",
       "      <td>20</td>\n",
       "      <td>RL</td>\n",
       "      <td>80.0</td>\n",
       "      <td>9600</td>\n",
       "      <td>Pave</td>\n",
       "      <td>NaN</td>\n",
       "      <td>Reg</td>\n",
       "      <td>Lvl</td>\n",
       "      <td>AllPub</td>\n",
       "      <td>...</td>\n",
       "      <td>0</td>\n",
       "      <td>NaN</td>\n",
       "      <td>NaN</td>\n",
       "      <td>NaN</td>\n",
       "      <td>0</td>\n",
       "      <td>5</td>\n",
       "      <td>2007</td>\n",
       "      <td>WD</td>\n",
       "      <td>Normal</td>\n",
       "      <td>181500</td>\n",
       "    </tr>\n",
       "    <tr>\n",
       "      <th>2</th>\n",
       "      <td>3</td>\n",
       "      <td>60</td>\n",
       "      <td>RL</td>\n",
       "      <td>68.0</td>\n",
       "      <td>11250</td>\n",
       "      <td>Pave</td>\n",
       "      <td>NaN</td>\n",
       "      <td>IR1</td>\n",
       "      <td>Lvl</td>\n",
       "      <td>AllPub</td>\n",
       "      <td>...</td>\n",
       "      <td>0</td>\n",
       "      <td>NaN</td>\n",
       "      <td>NaN</td>\n",
       "      <td>NaN</td>\n",
       "      <td>0</td>\n",
       "      <td>9</td>\n",
       "      <td>2008</td>\n",
       "      <td>WD</td>\n",
       "      <td>Normal</td>\n",
       "      <td>223500</td>\n",
       "    </tr>\n",
       "    <tr>\n",
       "      <th>3</th>\n",
       "      <td>4</td>\n",
       "      <td>70</td>\n",
       "      <td>RL</td>\n",
       "      <td>60.0</td>\n",
       "      <td>9550</td>\n",
       "      <td>Pave</td>\n",
       "      <td>NaN</td>\n",
       "      <td>IR1</td>\n",
       "      <td>Lvl</td>\n",
       "      <td>AllPub</td>\n",
       "      <td>...</td>\n",
       "      <td>0</td>\n",
       "      <td>NaN</td>\n",
       "      <td>NaN</td>\n",
       "      <td>NaN</td>\n",
       "      <td>0</td>\n",
       "      <td>2</td>\n",
       "      <td>2006</td>\n",
       "      <td>WD</td>\n",
       "      <td>Abnorml</td>\n",
       "      <td>140000</td>\n",
       "    </tr>\n",
       "    <tr>\n",
       "      <th>4</th>\n",
       "      <td>5</td>\n",
       "      <td>60</td>\n",
       "      <td>RL</td>\n",
       "      <td>84.0</td>\n",
       "      <td>14260</td>\n",
       "      <td>Pave</td>\n",
       "      <td>NaN</td>\n",
       "      <td>IR1</td>\n",
       "      <td>Lvl</td>\n",
       "      <td>AllPub</td>\n",
       "      <td>...</td>\n",
       "      <td>0</td>\n",
       "      <td>NaN</td>\n",
       "      <td>NaN</td>\n",
       "      <td>NaN</td>\n",
       "      <td>0</td>\n",
       "      <td>12</td>\n",
       "      <td>2008</td>\n",
       "      <td>WD</td>\n",
       "      <td>Normal</td>\n",
       "      <td>250000</td>\n",
       "    </tr>\n",
       "  </tbody>\n",
       "</table>\n",
       "<p>5 rows × 81 columns</p>\n",
       "</div>"
      ],
      "text/plain": [
       "   Id  MSSubClass MSZoning  LotFrontage  LotArea Street Alley LotShape  \\\n",
       "0   1          60       RL         65.0     8450   Pave   NaN      Reg   \n",
       "1   2          20       RL         80.0     9600   Pave   NaN      Reg   \n",
       "2   3          60       RL         68.0    11250   Pave   NaN      IR1   \n",
       "3   4          70       RL         60.0     9550   Pave   NaN      IR1   \n",
       "4   5          60       RL         84.0    14260   Pave   NaN      IR1   \n",
       "\n",
       "  LandContour Utilities    ...     PoolArea PoolQC Fence MiscFeature MiscVal  \\\n",
       "0         Lvl    AllPub    ...            0    NaN   NaN         NaN       0   \n",
       "1         Lvl    AllPub    ...            0    NaN   NaN         NaN       0   \n",
       "2         Lvl    AllPub    ...            0    NaN   NaN         NaN       0   \n",
       "3         Lvl    AllPub    ...            0    NaN   NaN         NaN       0   \n",
       "4         Lvl    AllPub    ...            0    NaN   NaN         NaN       0   \n",
       "\n",
       "  MoSold YrSold  SaleType  SaleCondition  SalePrice  \n",
       "0      2   2008        WD         Normal     208500  \n",
       "1      5   2007        WD         Normal     181500  \n",
       "2      9   2008        WD         Normal     223500  \n",
       "3      2   2006        WD        Abnorml     140000  \n",
       "4     12   2008        WD         Normal     250000  \n",
       "\n",
       "[5 rows x 81 columns]"
      ]
     },
     "execution_count": 3,
     "metadata": {},
     "output_type": "execute_result"
    }
   ],
   "source": [
    "df = pd.read_csv('train.csv')\n",
    "df.head()"
   ]
  },
  {
   "cell_type": "markdown",
   "metadata": {},
   "source": [
    "Basic information about numeric variables included in the dataset:"
   ]
  },
  {
   "cell_type": "code",
   "execution_count": 4,
   "metadata": {},
   "outputs": [
    {
     "data": {
      "text/html": [
       "<div>\n",
       "<style>\n",
       "    .dataframe thead tr:only-child th {\n",
       "        text-align: right;\n",
       "    }\n",
       "\n",
       "    .dataframe thead th {\n",
       "        text-align: left;\n",
       "    }\n",
       "\n",
       "    .dataframe tbody tr th {\n",
       "        vertical-align: top;\n",
       "    }\n",
       "</style>\n",
       "<table border=\"1\" class=\"dataframe\">\n",
       "  <thead>\n",
       "    <tr style=\"text-align: right;\">\n",
       "      <th></th>\n",
       "      <th>Id</th>\n",
       "      <th>MSSubClass</th>\n",
       "      <th>LotFrontage</th>\n",
       "      <th>LotArea</th>\n",
       "      <th>OverallQual</th>\n",
       "      <th>OverallCond</th>\n",
       "      <th>YearBuilt</th>\n",
       "      <th>YearRemodAdd</th>\n",
       "      <th>MasVnrArea</th>\n",
       "      <th>BsmtFinSF1</th>\n",
       "      <th>...</th>\n",
       "      <th>WoodDeckSF</th>\n",
       "      <th>OpenPorchSF</th>\n",
       "      <th>EnclosedPorch</th>\n",
       "      <th>3SsnPorch</th>\n",
       "      <th>ScreenPorch</th>\n",
       "      <th>PoolArea</th>\n",
       "      <th>MiscVal</th>\n",
       "      <th>MoSold</th>\n",
       "      <th>YrSold</th>\n",
       "      <th>SalePrice</th>\n",
       "    </tr>\n",
       "  </thead>\n",
       "  <tbody>\n",
       "    <tr>\n",
       "      <th>count</th>\n",
       "      <td>1460.000000</td>\n",
       "      <td>1460.000000</td>\n",
       "      <td>1201.000000</td>\n",
       "      <td>1460.000000</td>\n",
       "      <td>1460.000000</td>\n",
       "      <td>1460.000000</td>\n",
       "      <td>1460.000000</td>\n",
       "      <td>1460.000000</td>\n",
       "      <td>1452.000000</td>\n",
       "      <td>1460.000000</td>\n",
       "      <td>...</td>\n",
       "      <td>1460.000000</td>\n",
       "      <td>1460.000000</td>\n",
       "      <td>1460.000000</td>\n",
       "      <td>1460.000000</td>\n",
       "      <td>1460.000000</td>\n",
       "      <td>1460.000000</td>\n",
       "      <td>1460.000000</td>\n",
       "      <td>1460.000000</td>\n",
       "      <td>1460.000000</td>\n",
       "      <td>1460.000000</td>\n",
       "    </tr>\n",
       "    <tr>\n",
       "      <th>mean</th>\n",
       "      <td>730.500000</td>\n",
       "      <td>56.897260</td>\n",
       "      <td>70.049958</td>\n",
       "      <td>10516.828082</td>\n",
       "      <td>6.099315</td>\n",
       "      <td>5.575342</td>\n",
       "      <td>1971.267808</td>\n",
       "      <td>1984.865753</td>\n",
       "      <td>103.685262</td>\n",
       "      <td>443.639726</td>\n",
       "      <td>...</td>\n",
       "      <td>94.244521</td>\n",
       "      <td>46.660274</td>\n",
       "      <td>21.954110</td>\n",
       "      <td>3.409589</td>\n",
       "      <td>15.060959</td>\n",
       "      <td>2.758904</td>\n",
       "      <td>43.489041</td>\n",
       "      <td>6.321918</td>\n",
       "      <td>2007.815753</td>\n",
       "      <td>180921.195890</td>\n",
       "    </tr>\n",
       "    <tr>\n",
       "      <th>std</th>\n",
       "      <td>421.610009</td>\n",
       "      <td>42.300571</td>\n",
       "      <td>24.284752</td>\n",
       "      <td>9981.264932</td>\n",
       "      <td>1.382997</td>\n",
       "      <td>1.112799</td>\n",
       "      <td>30.202904</td>\n",
       "      <td>20.645407</td>\n",
       "      <td>181.066207</td>\n",
       "      <td>456.098091</td>\n",
       "      <td>...</td>\n",
       "      <td>125.338794</td>\n",
       "      <td>66.256028</td>\n",
       "      <td>61.119149</td>\n",
       "      <td>29.317331</td>\n",
       "      <td>55.757415</td>\n",
       "      <td>40.177307</td>\n",
       "      <td>496.123024</td>\n",
       "      <td>2.703626</td>\n",
       "      <td>1.328095</td>\n",
       "      <td>79442.502883</td>\n",
       "    </tr>\n",
       "    <tr>\n",
       "      <th>min</th>\n",
       "      <td>1.000000</td>\n",
       "      <td>20.000000</td>\n",
       "      <td>21.000000</td>\n",
       "      <td>1300.000000</td>\n",
       "      <td>1.000000</td>\n",
       "      <td>1.000000</td>\n",
       "      <td>1872.000000</td>\n",
       "      <td>1950.000000</td>\n",
       "      <td>0.000000</td>\n",
       "      <td>0.000000</td>\n",
       "      <td>...</td>\n",
       "      <td>0.000000</td>\n",
       "      <td>0.000000</td>\n",
       "      <td>0.000000</td>\n",
       "      <td>0.000000</td>\n",
       "      <td>0.000000</td>\n",
       "      <td>0.000000</td>\n",
       "      <td>0.000000</td>\n",
       "      <td>1.000000</td>\n",
       "      <td>2006.000000</td>\n",
       "      <td>34900.000000</td>\n",
       "    </tr>\n",
       "    <tr>\n",
       "      <th>25%</th>\n",
       "      <td>365.750000</td>\n",
       "      <td>20.000000</td>\n",
       "      <td>59.000000</td>\n",
       "      <td>7553.500000</td>\n",
       "      <td>5.000000</td>\n",
       "      <td>5.000000</td>\n",
       "      <td>1954.000000</td>\n",
       "      <td>1967.000000</td>\n",
       "      <td>0.000000</td>\n",
       "      <td>0.000000</td>\n",
       "      <td>...</td>\n",
       "      <td>0.000000</td>\n",
       "      <td>0.000000</td>\n",
       "      <td>0.000000</td>\n",
       "      <td>0.000000</td>\n",
       "      <td>0.000000</td>\n",
       "      <td>0.000000</td>\n",
       "      <td>0.000000</td>\n",
       "      <td>5.000000</td>\n",
       "      <td>2007.000000</td>\n",
       "      <td>129975.000000</td>\n",
       "    </tr>\n",
       "    <tr>\n",
       "      <th>50%</th>\n",
       "      <td>730.500000</td>\n",
       "      <td>50.000000</td>\n",
       "      <td>69.000000</td>\n",
       "      <td>9478.500000</td>\n",
       "      <td>6.000000</td>\n",
       "      <td>5.000000</td>\n",
       "      <td>1973.000000</td>\n",
       "      <td>1994.000000</td>\n",
       "      <td>0.000000</td>\n",
       "      <td>383.500000</td>\n",
       "      <td>...</td>\n",
       "      <td>0.000000</td>\n",
       "      <td>25.000000</td>\n",
       "      <td>0.000000</td>\n",
       "      <td>0.000000</td>\n",
       "      <td>0.000000</td>\n",
       "      <td>0.000000</td>\n",
       "      <td>0.000000</td>\n",
       "      <td>6.000000</td>\n",
       "      <td>2008.000000</td>\n",
       "      <td>163000.000000</td>\n",
       "    </tr>\n",
       "    <tr>\n",
       "      <th>75%</th>\n",
       "      <td>1095.250000</td>\n",
       "      <td>70.000000</td>\n",
       "      <td>80.000000</td>\n",
       "      <td>11601.500000</td>\n",
       "      <td>7.000000</td>\n",
       "      <td>6.000000</td>\n",
       "      <td>2000.000000</td>\n",
       "      <td>2004.000000</td>\n",
       "      <td>166.000000</td>\n",
       "      <td>712.250000</td>\n",
       "      <td>...</td>\n",
       "      <td>168.000000</td>\n",
       "      <td>68.000000</td>\n",
       "      <td>0.000000</td>\n",
       "      <td>0.000000</td>\n",
       "      <td>0.000000</td>\n",
       "      <td>0.000000</td>\n",
       "      <td>0.000000</td>\n",
       "      <td>8.000000</td>\n",
       "      <td>2009.000000</td>\n",
       "      <td>214000.000000</td>\n",
       "    </tr>\n",
       "    <tr>\n",
       "      <th>max</th>\n",
       "      <td>1460.000000</td>\n",
       "      <td>190.000000</td>\n",
       "      <td>313.000000</td>\n",
       "      <td>215245.000000</td>\n",
       "      <td>10.000000</td>\n",
       "      <td>9.000000</td>\n",
       "      <td>2010.000000</td>\n",
       "      <td>2010.000000</td>\n",
       "      <td>1600.000000</td>\n",
       "      <td>5644.000000</td>\n",
       "      <td>...</td>\n",
       "      <td>857.000000</td>\n",
       "      <td>547.000000</td>\n",
       "      <td>552.000000</td>\n",
       "      <td>508.000000</td>\n",
       "      <td>480.000000</td>\n",
       "      <td>738.000000</td>\n",
       "      <td>15500.000000</td>\n",
       "      <td>12.000000</td>\n",
       "      <td>2010.000000</td>\n",
       "      <td>755000.000000</td>\n",
       "    </tr>\n",
       "  </tbody>\n",
       "</table>\n",
       "<p>8 rows × 38 columns</p>\n",
       "</div>"
      ],
      "text/plain": [
       "                Id   MSSubClass  LotFrontage        LotArea  OverallQual  \\\n",
       "count  1460.000000  1460.000000  1201.000000    1460.000000  1460.000000   \n",
       "mean    730.500000    56.897260    70.049958   10516.828082     6.099315   \n",
       "std     421.610009    42.300571    24.284752    9981.264932     1.382997   \n",
       "min       1.000000    20.000000    21.000000    1300.000000     1.000000   \n",
       "25%     365.750000    20.000000    59.000000    7553.500000     5.000000   \n",
       "50%     730.500000    50.000000    69.000000    9478.500000     6.000000   \n",
       "75%    1095.250000    70.000000    80.000000   11601.500000     7.000000   \n",
       "max    1460.000000   190.000000   313.000000  215245.000000    10.000000   \n",
       "\n",
       "       OverallCond    YearBuilt  YearRemodAdd   MasVnrArea   BsmtFinSF1  \\\n",
       "count  1460.000000  1460.000000   1460.000000  1452.000000  1460.000000   \n",
       "mean      5.575342  1971.267808   1984.865753   103.685262   443.639726   \n",
       "std       1.112799    30.202904     20.645407   181.066207   456.098091   \n",
       "min       1.000000  1872.000000   1950.000000     0.000000     0.000000   \n",
       "25%       5.000000  1954.000000   1967.000000     0.000000     0.000000   \n",
       "50%       5.000000  1973.000000   1994.000000     0.000000   383.500000   \n",
       "75%       6.000000  2000.000000   2004.000000   166.000000   712.250000   \n",
       "max       9.000000  2010.000000   2010.000000  1600.000000  5644.000000   \n",
       "\n",
       "           ...         WoodDeckSF  OpenPorchSF  EnclosedPorch    3SsnPorch  \\\n",
       "count      ...        1460.000000  1460.000000    1460.000000  1460.000000   \n",
       "mean       ...          94.244521    46.660274      21.954110     3.409589   \n",
       "std        ...         125.338794    66.256028      61.119149    29.317331   \n",
       "min        ...           0.000000     0.000000       0.000000     0.000000   \n",
       "25%        ...           0.000000     0.000000       0.000000     0.000000   \n",
       "50%        ...           0.000000    25.000000       0.000000     0.000000   \n",
       "75%        ...         168.000000    68.000000       0.000000     0.000000   \n",
       "max        ...         857.000000   547.000000     552.000000   508.000000   \n",
       "\n",
       "       ScreenPorch     PoolArea       MiscVal       MoSold       YrSold  \\\n",
       "count  1460.000000  1460.000000   1460.000000  1460.000000  1460.000000   \n",
       "mean     15.060959     2.758904     43.489041     6.321918  2007.815753   \n",
       "std      55.757415    40.177307    496.123024     2.703626     1.328095   \n",
       "min       0.000000     0.000000      0.000000     1.000000  2006.000000   \n",
       "25%       0.000000     0.000000      0.000000     5.000000  2007.000000   \n",
       "50%       0.000000     0.000000      0.000000     6.000000  2008.000000   \n",
       "75%       0.000000     0.000000      0.000000     8.000000  2009.000000   \n",
       "max     480.000000   738.000000  15500.000000    12.000000  2010.000000   \n",
       "\n",
       "           SalePrice  \n",
       "count    1460.000000  \n",
       "mean   180921.195890  \n",
       "std     79442.502883  \n",
       "min     34900.000000  \n",
       "25%    129975.000000  \n",
       "50%    163000.000000  \n",
       "75%    214000.000000  \n",
       "max    755000.000000  \n",
       "\n",
       "[8 rows x 38 columns]"
      ]
     },
     "execution_count": 4,
     "metadata": {},
     "output_type": "execute_result"
    }
   ],
   "source": [
    "df.describe()"
   ]
  },
  {
   "cell_type": "markdown",
   "metadata": {},
   "source": [
    "# <a id='cleaning_data'>Cleaning data</a>"
   ]
  },
  {
   "cell_type": "markdown",
   "metadata": {},
   "source": [
    "You can start the data cleanup process by writing column names and checking in which columns data is missing."
   ]
  },
  {
   "cell_type": "markdown",
   "metadata": {},
   "source": [
    "The following function returns column names and missing values in these columns."
   ]
  },
  {
   "cell_type": "code",
   "execution_count": 5,
   "metadata": {},
   "outputs": [
    {
     "name": "stdout",
     "output_type": "stream",
     "text": [
      "LotFrontage 259\n",
      "Alley 1369\n",
      "MasVnrType 8\n",
      "MasVnrArea 8\n",
      "BsmtQual 37\n",
      "BsmtCond 37\n",
      "BsmtExposure 38\n",
      "BsmtFinType1 37\n",
      "BsmtFinType2 38\n",
      "Electrical 1\n",
      "FireplaceQu 690\n",
      "GarageType 81\n",
      "GarageYrBlt 81\n",
      "GarageFinish 81\n",
      "GarageQual 81\n",
      "GarageCond 81\n",
      "PoolQC 1453\n",
      "Fence 1179\n",
      "MiscFeature 1406\n"
     ]
    }
   ],
   "source": [
    "def col_view():\n",
    "    for i in df.columns:\n",
    "        val = df[i].isnull().sum() \n",
    "        if val != 0:\n",
    "            print(i,val)\n",
    "        \n",
    "col_view()"
   ]
  },
  {
   "cell_type": "markdown",
   "metadata": {},
   "source": [
    "The above list shows that there are columns in the data set that have large gaps in the data. You must delete them."
   ]
  },
  {
   "cell_type": "code",
   "execution_count": 6,
   "metadata": {
    "collapsed": true
   },
   "outputs": [],
   "source": [
    "del df['LotFrontage']\n",
    "del df['Alley']\n",
    "del df['FireplaceQu']\n",
    "del df['PoolQC']\n",
    "del df['Fence']\n",
    "del df['MiscFeature']"
   ]
  },
  {
   "cell_type": "markdown",
   "metadata": {},
   "source": [
    "# Lack in data"
   ]
  },
  {
   "cell_type": "markdown",
   "metadata": {},
   "source": [
    "The rest of the variables should be analyzed separately and modified accordingly. For categorical variables, in the absence location, add a new class \"Unknown\", and for numeric variables, fill in gaps, eg with an average value."
   ]
  },
  {
   "cell_type": "markdown",
   "metadata": {},
   "source": [
    "MasVnrType variable"
   ]
  },
  {
   "cell_type": "code",
   "execution_count": 7,
   "metadata": {},
   "outputs": [
    {
     "name": "stdout",
     "output_type": "stream",
     "text": [
      "None       864\n",
      "BrkFace    445\n",
      "Stone      128\n",
      "BrkCmn      15\n",
      "Name: MasVnrType, dtype: int64\n"
     ]
    },
    {
     "data": {
      "text/plain": [
       "0"
      ]
     },
     "execution_count": 7,
     "metadata": {},
     "output_type": "execute_result"
    }
   ],
   "source": [
    "print( df['MasVnrType'].value_counts() )\n",
    "df['MasVnrType'].fillna('Unknown', inplace=True)\n",
    "df['MasVnrType'].isnull().sum()"
   ]
  },
  {
   "cell_type": "markdown",
   "metadata": {
    "collapsed": true
   },
   "source": [
    "MasVnrArea variable"
   ]
  },
  {
   "cell_type": "code",
   "execution_count": 8,
   "metadata": {
    "scrolled": true
   },
   "outputs": [
    {
     "name": "stdout",
     "output_type": "stream",
     "text": [
      "0.0       861\n",
      "72.0        8\n",
      "180.0       8\n",
      "108.0       8\n",
      "120.0       7\n",
      "16.0        7\n",
      "80.0        6\n",
      "200.0       6\n",
      "106.0       6\n",
      "340.0       6\n",
      "170.0       5\n",
      "132.0       5\n",
      "360.0       5\n",
      "84.0        5\n",
      "320.0       5\n",
      "100.0       4\n",
      "196.0       4\n",
      "246.0       4\n",
      "216.0       4\n",
      "160.0       4\n",
      "183.0       4\n",
      "178.0       4\n",
      "270.0       4\n",
      "300.0       4\n",
      "210.0       4\n",
      "268.0       4\n",
      "252.0       4\n",
      "168.0       4\n",
      "336.0       4\n",
      "220.0       4\n",
      "         ... \n",
      "14.0        1\n",
      "53.0        1\n",
      "24.0        1\n",
      "127.0       1\n",
      "365.0       1\n",
      "115.0       1\n",
      "562.0       1\n",
      "259.0       1\n",
      "378.0       1\n",
      "219.0       1\n",
      "161.0       1\n",
      "247.0       1\n",
      "109.0       1\n",
      "278.0       1\n",
      "375.0       1\n",
      "225.0       1\n",
      "604.0       1\n",
      "762.0       1\n",
      "290.0       1\n",
      "299.0       1\n",
      "202.0       1\n",
      "731.0       1\n",
      "167.0       1\n",
      "309.0       1\n",
      "1129.0      1\n",
      "651.0       1\n",
      "337.0       1\n",
      "415.0       1\n",
      "293.0       1\n",
      "621.0       1\n",
      "Name: MasVnrArea, Length: 327, dtype: int64\n"
     ]
    }
   ],
   "source": [
    "print( df['MasVnrArea'].value_counts() )\n",
    "df['MasVnrArea'].fillna('0.0', inplace=True)\n",
    "df['MasVnrArea'].isnull().sum()\n",
    "df['MasVnrArea'] = df['MasVnrArea'].astype(float)"
   ]
  },
  {
   "cell_type": "markdown",
   "metadata": {
    "collapsed": true
   },
   "source": [
    "Electrical variable"
   ]
  },
  {
   "cell_type": "code",
   "execution_count": 9,
   "metadata": {},
   "outputs": [
    {
     "name": "stdout",
     "output_type": "stream",
     "text": [
      "SBrkr    1334\n",
      "FuseA      94\n",
      "FuseF      27\n",
      "FuseP       3\n",
      "Mix         1\n",
      "Name: Electrical, dtype: int64\n"
     ]
    },
    {
     "data": {
      "text/plain": [
       "0"
      ]
     },
     "execution_count": 9,
     "metadata": {},
     "output_type": "execute_result"
    }
   ],
   "source": [
    "print( df['Electrical'].value_counts() )\n",
    "df['Electrical'].fillna('SBrkr', inplace=True)\n",
    "df['Electrical'].isnull().sum()"
   ]
  },
  {
   "cell_type": "markdown",
   "metadata": {
    "collapsed": true
   },
   "source": [
    "BsmtQual variable"
   ]
  },
  {
   "cell_type": "code",
   "execution_count": 10,
   "metadata": {},
   "outputs": [
    {
     "name": "stdout",
     "output_type": "stream",
     "text": [
      "TA    649\n",
      "Gd    618\n",
      "Ex    121\n",
      "Fa     35\n",
      "Name: BsmtQual, dtype: int64\n"
     ]
    },
    {
     "data": {
      "text/plain": [
       "0"
      ]
     },
     "execution_count": 10,
     "metadata": {},
     "output_type": "execute_result"
    }
   ],
   "source": [
    "print( df['BsmtQual'].value_counts() )\n",
    "df['BsmtQual'].fillna('Unknown', inplace=True)\n",
    "df['BsmtQual'].isnull().sum()"
   ]
  },
  {
   "cell_type": "markdown",
   "metadata": {
    "collapsed": true
   },
   "source": [
    "BsmtCond variable"
   ]
  },
  {
   "cell_type": "code",
   "execution_count": 11,
   "metadata": {},
   "outputs": [
    {
     "name": "stdout",
     "output_type": "stream",
     "text": [
      "TA    1311\n",
      "Gd      65\n",
      "Fa      45\n",
      "Po       2\n",
      "Name: BsmtCond, dtype: int64\n"
     ]
    },
    {
     "data": {
      "text/plain": [
       "0"
      ]
     },
     "execution_count": 11,
     "metadata": {},
     "output_type": "execute_result"
    }
   ],
   "source": [
    "print( df['BsmtCond'].value_counts() )\n",
    "df['BsmtCond'].fillna('Unknown', inplace=True)\n",
    "df['BsmtCond'].isnull().sum()"
   ]
  },
  {
   "cell_type": "markdown",
   "metadata": {},
   "source": [
    "BsmtExposure variable"
   ]
  },
  {
   "cell_type": "code",
   "execution_count": 12,
   "metadata": {},
   "outputs": [
    {
     "name": "stdout",
     "output_type": "stream",
     "text": [
      "No    953\n",
      "Av    221\n",
      "Gd    134\n",
      "Mn    114\n",
      "Name: BsmtExposure, dtype: int64\n"
     ]
    },
    {
     "data": {
      "text/plain": [
       "0"
      ]
     },
     "execution_count": 12,
     "metadata": {},
     "output_type": "execute_result"
    }
   ],
   "source": [
    "print( df['BsmtExposure'].value_counts() )\n",
    "df['BsmtExposure'].fillna('Unknown', inplace=True)\n",
    "df['BsmtExposure'].isnull().sum()"
   ]
  },
  {
   "cell_type": "markdown",
   "metadata": {},
   "source": [
    "BsmtFinType1 variable"
   ]
  },
  {
   "cell_type": "code",
   "execution_count": 13,
   "metadata": {},
   "outputs": [
    {
     "name": "stdout",
     "output_type": "stream",
     "text": [
      "Unf    430\n",
      "GLQ    418\n",
      "ALQ    220\n",
      "BLQ    148\n",
      "Rec    133\n",
      "LwQ     74\n",
      "Name: BsmtFinType1, dtype: int64\n"
     ]
    },
    {
     "data": {
      "text/plain": [
       "0"
      ]
     },
     "execution_count": 13,
     "metadata": {},
     "output_type": "execute_result"
    }
   ],
   "source": [
    "print( df['BsmtFinType1'].value_counts() )\n",
    "df['BsmtFinType1'].fillna('Unknown', inplace=True)\n",
    "df['BsmtFinType1'].isnull().sum()"
   ]
  },
  {
   "cell_type": "markdown",
   "metadata": {},
   "source": [
    "BsmtFinType2 variable"
   ]
  },
  {
   "cell_type": "code",
   "execution_count": 14,
   "metadata": {},
   "outputs": [
    {
     "name": "stdout",
     "output_type": "stream",
     "text": [
      "Unf    1256\n",
      "Rec      54\n",
      "LwQ      46\n",
      "BLQ      33\n",
      "ALQ      19\n",
      "GLQ      14\n",
      "Name: BsmtFinType2, dtype: int64\n"
     ]
    },
    {
     "data": {
      "text/plain": [
       "0"
      ]
     },
     "execution_count": 14,
     "metadata": {},
     "output_type": "execute_result"
    }
   ],
   "source": [
    "print( df['BsmtFinType2'].value_counts() )\n",
    "df['BsmtFinType2'].fillna('Unknown', inplace=True)\n",
    "df['BsmtFinType2'].isnull().sum()"
   ]
  },
  {
   "cell_type": "markdown",
   "metadata": {},
   "source": [
    "GarageType variable"
   ]
  },
  {
   "cell_type": "code",
   "execution_count": 15,
   "metadata": {},
   "outputs": [
    {
     "name": "stdout",
     "output_type": "stream",
     "text": [
      "Attchd     870\n",
      "Detchd     387\n",
      "BuiltIn     88\n",
      "Basment     19\n",
      "CarPort      9\n",
      "2Types       6\n",
      "Name: GarageType, dtype: int64\n"
     ]
    },
    {
     "data": {
      "text/plain": [
       "0"
      ]
     },
     "execution_count": 15,
     "metadata": {},
     "output_type": "execute_result"
    }
   ],
   "source": [
    "print( df['GarageType'].value_counts() )\n",
    "df['GarageType'].fillna('Unknown', inplace=True)\n",
    "df['GarageType'].isnull().sum()"
   ]
  },
  {
   "cell_type": "markdown",
   "metadata": {},
   "source": [
    "GarageYrBlt variable"
   ]
  },
  {
   "cell_type": "code",
   "execution_count": 16,
   "metadata": {
    "scrolled": true
   },
   "outputs": [
    {
     "name": "stdout",
     "output_type": "stream",
     "text": [
      "2005.0    65\n",
      "2006.0    59\n",
      "2004.0    53\n",
      "2003.0    50\n",
      "2007.0    49\n",
      "1977.0    35\n",
      "1998.0    31\n",
      "1999.0    30\n",
      "2008.0    29\n",
      "1976.0    29\n",
      "2000.0    27\n",
      "2002.0    26\n",
      "1968.0    26\n",
      "1950.0    24\n",
      "1993.0    22\n",
      "2009.0    21\n",
      "1965.0    21\n",
      "1966.0    21\n",
      "1962.0    21\n",
      "1958.0    21\n",
      "2001.0    20\n",
      "1996.0    20\n",
      "1957.0    20\n",
      "1970.0    20\n",
      "1960.0    19\n",
      "1997.0    19\n",
      "1978.0    19\n",
      "1954.0    19\n",
      "1974.0    18\n",
      "1994.0    18\n",
      "          ..\n",
      "1922.0     5\n",
      "1936.0     5\n",
      "1916.0     5\n",
      "1931.0     4\n",
      "1945.0     4\n",
      "1935.0     4\n",
      "1928.0     4\n",
      "1946.0     4\n",
      "1982.0     4\n",
      "1938.0     3\n",
      "1921.0     3\n",
      "1924.0     3\n",
      "1910.0     3\n",
      "1952.0     3\n",
      "1932.0     3\n",
      "2010.0     3\n",
      "1923.0     3\n",
      "1937.0     2\n",
      "1934.0     2\n",
      "1918.0     2\n",
      "1947.0     2\n",
      "1929.0     2\n",
      "1914.0     2\n",
      "1915.0     2\n",
      "1942.0     2\n",
      "1908.0     1\n",
      "1927.0     1\n",
      "1933.0     1\n",
      "1900.0     1\n",
      "1906.0     1\n",
      "Name: GarageYrBlt, Length: 97, dtype: int64\n"
     ]
    },
    {
     "data": {
      "text/plain": [
       "0"
      ]
     },
     "execution_count": 16,
     "metadata": {},
     "output_type": "execute_result"
    }
   ],
   "source": [
    "print( df['GarageYrBlt'].value_counts() )\n",
    "df['GarageYrBlt'].fillna(df['GarageYrBlt'].mean(), inplace=True)\n",
    "df['GarageYrBlt'].isnull().sum()"
   ]
  },
  {
   "cell_type": "markdown",
   "metadata": {},
   "source": [
    "GarageFinish variable"
   ]
  },
  {
   "cell_type": "code",
   "execution_count": 17,
   "metadata": {},
   "outputs": [
    {
     "name": "stdout",
     "output_type": "stream",
     "text": [
      "Unf    605\n",
      "RFn    422\n",
      "Fin    352\n",
      "Name: GarageFinish, dtype: int64\n"
     ]
    },
    {
     "data": {
      "text/plain": [
       "0"
      ]
     },
     "execution_count": 17,
     "metadata": {},
     "output_type": "execute_result"
    }
   ],
   "source": [
    "print( df['GarageFinish'].value_counts() )\n",
    "df['GarageFinish'].fillna('Unknown', inplace=True)\n",
    "df['GarageFinish'].isnull().sum()"
   ]
  },
  {
   "cell_type": "markdown",
   "metadata": {},
   "source": [
    "GarageQual variable"
   ]
  },
  {
   "cell_type": "code",
   "execution_count": 18,
   "metadata": {},
   "outputs": [
    {
     "name": "stdout",
     "output_type": "stream",
     "text": [
      "TA    1311\n",
      "Fa      48\n",
      "Gd      14\n",
      "Po       3\n",
      "Ex       3\n",
      "Name: GarageQual, dtype: int64\n"
     ]
    },
    {
     "data": {
      "text/plain": [
       "0"
      ]
     },
     "execution_count": 18,
     "metadata": {},
     "output_type": "execute_result"
    }
   ],
   "source": [
    "print( df['GarageQual'].value_counts() )\n",
    "df['GarageQual'].fillna('Unknown', inplace=True)\n",
    "df['GarageQual'].isnull().sum()"
   ]
  },
  {
   "cell_type": "markdown",
   "metadata": {},
   "source": [
    "GarageCond variable"
   ]
  },
  {
   "cell_type": "code",
   "execution_count": 19,
   "metadata": {},
   "outputs": [
    {
     "name": "stdout",
     "output_type": "stream",
     "text": [
      "TA    1326\n",
      "Fa      35\n",
      "Gd       9\n",
      "Po       7\n",
      "Ex       2\n",
      "Name: GarageCond, dtype: int64\n"
     ]
    },
    {
     "data": {
      "text/plain": [
       "0"
      ]
     },
     "execution_count": 19,
     "metadata": {},
     "output_type": "execute_result"
    }
   ],
   "source": [
    "print( df['GarageCond'].value_counts() )\n",
    "df['GarageCond'].fillna('Unknown', inplace=True)\n",
    "df['GarageCond'].isnull().sum()"
   ]
  },
  {
   "cell_type": "markdown",
   "metadata": {},
   "source": [
    "# Other variables"
   ]
  },
  {
   "cell_type": "markdown",
   "metadata": {},
   "source": [
    "The following variables do not provide relevant information for analysis, so they must be removed."
   ]
  },
  {
   "cell_type": "code",
   "execution_count": 20,
   "metadata": {
    "collapsed": true
   },
   "outputs": [],
   "source": [
    "del df['Utilities']\n",
    "del df['3SsnPorch']\n",
    "del df['LowQualFinSF']\n",
    "del df['Id']"
   ]
  },
  {
   "cell_type": "markdown",
   "metadata": {},
   "source": [
    "# Date format variables"
   ]
  },
  {
   "cell_type": "markdown",
   "metadata": {},
   "source": [
    "In dataset there are some variables representing time values. Those variables need to a different form \n",
    "which they will represent for example not the year of construction but certain number of years from the construction.\n",
    "This can be achieved by subtracting the current date from the date of construction"
   ]
  },
  {
   "cell_type": "code",
   "execution_count": 21,
   "metadata": {},
   "outputs": [
    {
     "name": "stdout",
     "output_type": "stream",
     "text": [
      "2018\n"
     ]
    }
   ],
   "source": [
    "import datetime\n",
    "now = datetime.datetime.now()\n",
    "print(now.year)"
   ]
  },
  {
   "cell_type": "code",
   "execution_count": 22,
   "metadata": {
    "collapsed": true
   },
   "outputs": [],
   "source": [
    "df['YearBuilt'] = now.year - df['YearBuilt']\n",
    "df['YearRemodAdd'] = now.year - df['YearRemodAdd']\n",
    "df['GarageYrBlt'] = now.year - df['GarageYrBlt']\n",
    "df['YrSold'] = now.year - df['YrSold']"
   ]
  },
  {
   "cell_type": "markdown",
   "metadata": {},
   "source": [
    "In order to check the correctness of the activities carried out, \n",
    "we need to make sure that all deficiencies have been corrected\n",
    "by checking if all gaps are equal to zero."
   ]
  },
  {
   "cell_type": "code",
   "execution_count": 23,
   "metadata": {},
   "outputs": [
    {
     "name": "stdout",
     "output_type": "stream",
     "text": [
      "MSSubClass 0\n",
      "MSZoning 0\n",
      "LotArea 0\n",
      "Street 0\n",
      "LotShape 0\n",
      "LandContour 0\n",
      "LotConfig 0\n",
      "LandSlope 0\n",
      "Neighborhood 0\n",
      "Condition1 0\n",
      "Condition2 0\n",
      "BldgType 0\n",
      "HouseStyle 0\n",
      "OverallQual 0\n",
      "OverallCond 0\n",
      "YearBuilt 0\n",
      "YearRemodAdd 0\n",
      "RoofStyle 0\n",
      "RoofMatl 0\n",
      "Exterior1st 0\n",
      "Exterior2nd 0\n",
      "MasVnrType 0\n",
      "MasVnrArea 0\n",
      "ExterQual 0\n",
      "ExterCond 0\n",
      "Foundation 0\n",
      "BsmtQual 0\n",
      "BsmtCond 0\n",
      "BsmtExposure 0\n",
      "BsmtFinType1 0\n",
      "BsmtFinSF1 0\n",
      "BsmtFinType2 0\n",
      "BsmtFinSF2 0\n",
      "BsmtUnfSF 0\n",
      "TotalBsmtSF 0\n",
      "Heating 0\n",
      "HeatingQC 0\n",
      "CentralAir 0\n",
      "Electrical 0\n",
      "1stFlrSF 0\n",
      "2ndFlrSF 0\n",
      "GrLivArea 0\n",
      "BsmtFullBath 0\n",
      "BsmtHalfBath 0\n",
      "FullBath 0\n",
      "HalfBath 0\n",
      "BedroomAbvGr 0\n",
      "KitchenAbvGr 0\n",
      "KitchenQual 0\n",
      "TotRmsAbvGrd 0\n",
      "Functional 0\n",
      "Fireplaces 0\n",
      "GarageType 0\n",
      "GarageYrBlt 0\n",
      "GarageFinish 0\n",
      "GarageCars 0\n",
      "GarageArea 0\n",
      "GarageQual 0\n",
      "GarageCond 0\n",
      "PavedDrive 0\n",
      "WoodDeckSF 0\n",
      "OpenPorchSF 0\n",
      "EnclosedPorch 0\n",
      "ScreenPorch 0\n",
      "PoolArea 0\n",
      "MiscVal 0\n",
      "MoSold 0\n",
      "YrSold 0\n",
      "SaleType 0\n",
      "SaleCondition 0\n",
      "SalePrice 0\n"
     ]
    }
   ],
   "source": [
    "for i in df.columns:\n",
    "    val = df[i].isnull().sum() \n",
    "    if val == 0:\n",
    "        print(i,val)"
   ]
  },
  {
   "cell_type": "markdown",
   "metadata": {},
   "source": [
    "# One-hot encoding"
   ]
  },
  {
   "cell_type": "markdown",
   "metadata": {},
   "source": [
    "For further analysis it is necessary to conduct the so-called one-hot encoding, or conversion of categorical values into zero-one variables. checking if all gaps are equal to zero"
   ]
  },
  {
   "cell_type": "markdown",
   "metadata": {},
   "source": [
    "The following two lists show zero-one variables - categorical (dummies_columns) and numeric (non_dummies_columns).\n",
    "Both lists should be reduced to tabular form and combined into one table."
   ]
  },
  {
   "cell_type": "code",
   "execution_count": 24,
   "metadata": {
    "collapsed": true
   },
   "outputs": [],
   "source": [
    "dummies_columns = [\n",
    "df['MSSubClass'],df['MSZoning'],df['Street'],df['LotShape'],\n",
    "df['LandContour'],df['LotConfig'],df['LandSlope'],df['Neighborhood'],\n",
    "df['Condition1'],df['Condition2'],df['BldgType'],df['HouseStyle'],\n",
    "df['RoofStyle'],df['RoofMatl'],df['Exterior1st'],df['Exterior2nd'],\n",
    "df['MasVnrType'],df['ExterQual'],df['ExterCond'],df['Foundation'],\n",
    "df['BsmtQual'],df['BsmtCond'],df['BsmtExposure'],df['BsmtFinType1'],\n",
    "df['BsmtFinType2'],df['Heating'],df['HeatingQC'],df['CentralAir'],\n",
    "df['Electrical'],df['KitchenQual'],df['Functional'],df['GarageType'],\n",
    "df['GarageFinish'],df['GarageQual'],df['GarageCond'],df['PavedDrive'],\n",
    "df['SaleType'],df['SaleCondition']      \n",
    "]\n",
    "\n",
    "non_dummies_columns = [\n",
    "df['LotArea'],df['OverallQual'],df['OverallCond'],df['YearBuilt'],\n",
    "df['YearRemodAdd'],\n",
    "df['MasVnrArea'],\n",
    "df['BsmtFinSF1'],df['BsmtFinSF2'],\n",
    "df['BsmtUnfSF'],df['TotalBsmtSF'],df['1stFlrSF'],df['2ndFlrSF'],\n",
    "df['GrLivArea'],df['BsmtFullBath'],df['BsmtHalfBath'],\n",
    "df['FullBath'],df['HalfBath'],df['BedroomAbvGr'],df['KitchenAbvGr'],\n",
    "df['TotRmsAbvGrd'],df['Fireplaces'],df['GarageYrBlt'],df['GarageCars'],\n",
    "df['GarageArea'],df['WoodDeckSF'],df['OpenPorchSF'],df['EnclosedPorch'],\n",
    "df['ScreenPorch'],df['PoolArea'],df['MiscVal'],\n",
    "df['MoSold'],df['YrSold'],df['SalePrice']  \n",
    "]"
   ]
  },
  {
   "cell_type": "markdown",
   "metadata": {},
   "source": [
    "Dummies table:"
   ]
  },
  {
   "cell_type": "code",
   "execution_count": 25,
   "metadata": {},
   "outputs": [
    {
     "data": {
      "text/html": [
       "<div>\n",
       "<style>\n",
       "    .dataframe thead tr:only-child th {\n",
       "        text-align: right;\n",
       "    }\n",
       "\n",
       "    .dataframe thead th {\n",
       "        text-align: left;\n",
       "    }\n",
       "\n",
       "    .dataframe tbody tr th {\n",
       "        vertical-align: top;\n",
       "    }\n",
       "</style>\n",
       "<table border=\"1\" class=\"dataframe\">\n",
       "  <thead>\n",
       "    <tr style=\"text-align: right;\">\n",
       "      <th></th>\n",
       "      <th>20</th>\n",
       "      <th>30</th>\n",
       "      <th>40</th>\n",
       "      <th>45</th>\n",
       "      <th>50</th>\n",
       "      <th>60</th>\n",
       "      <th>70</th>\n",
       "      <th>75</th>\n",
       "      <th>80</th>\n",
       "      <th>85</th>\n",
       "      <th>...</th>\n",
       "      <th>ConLw</th>\n",
       "      <th>New</th>\n",
       "      <th>Oth</th>\n",
       "      <th>WD</th>\n",
       "      <th>Abnorml</th>\n",
       "      <th>AdjLand</th>\n",
       "      <th>Alloca</th>\n",
       "      <th>Family</th>\n",
       "      <th>Normal</th>\n",
       "      <th>Partial</th>\n",
       "    </tr>\n",
       "  </thead>\n",
       "  <tbody>\n",
       "    <tr>\n",
       "      <th>0</th>\n",
       "      <td>0</td>\n",
       "      <td>0</td>\n",
       "      <td>0</td>\n",
       "      <td>0</td>\n",
       "      <td>0</td>\n",
       "      <td>1</td>\n",
       "      <td>0</td>\n",
       "      <td>0</td>\n",
       "      <td>0</td>\n",
       "      <td>0</td>\n",
       "      <td>...</td>\n",
       "      <td>0</td>\n",
       "      <td>0</td>\n",
       "      <td>0</td>\n",
       "      <td>1</td>\n",
       "      <td>0</td>\n",
       "      <td>0</td>\n",
       "      <td>0</td>\n",
       "      <td>0</td>\n",
       "      <td>1</td>\n",
       "      <td>0</td>\n",
       "    </tr>\n",
       "    <tr>\n",
       "      <th>1</th>\n",
       "      <td>1</td>\n",
       "      <td>0</td>\n",
       "      <td>0</td>\n",
       "      <td>0</td>\n",
       "      <td>0</td>\n",
       "      <td>0</td>\n",
       "      <td>0</td>\n",
       "      <td>0</td>\n",
       "      <td>0</td>\n",
       "      <td>0</td>\n",
       "      <td>...</td>\n",
       "      <td>0</td>\n",
       "      <td>0</td>\n",
       "      <td>0</td>\n",
       "      <td>1</td>\n",
       "      <td>0</td>\n",
       "      <td>0</td>\n",
       "      <td>0</td>\n",
       "      <td>0</td>\n",
       "      <td>1</td>\n",
       "      <td>0</td>\n",
       "    </tr>\n",
       "    <tr>\n",
       "      <th>2</th>\n",
       "      <td>0</td>\n",
       "      <td>0</td>\n",
       "      <td>0</td>\n",
       "      <td>0</td>\n",
       "      <td>0</td>\n",
       "      <td>1</td>\n",
       "      <td>0</td>\n",
       "      <td>0</td>\n",
       "      <td>0</td>\n",
       "      <td>0</td>\n",
       "      <td>...</td>\n",
       "      <td>0</td>\n",
       "      <td>0</td>\n",
       "      <td>0</td>\n",
       "      <td>1</td>\n",
       "      <td>0</td>\n",
       "      <td>0</td>\n",
       "      <td>0</td>\n",
       "      <td>0</td>\n",
       "      <td>1</td>\n",
       "      <td>0</td>\n",
       "    </tr>\n",
       "    <tr>\n",
       "      <th>3</th>\n",
       "      <td>0</td>\n",
       "      <td>0</td>\n",
       "      <td>0</td>\n",
       "      <td>0</td>\n",
       "      <td>0</td>\n",
       "      <td>0</td>\n",
       "      <td>1</td>\n",
       "      <td>0</td>\n",
       "      <td>0</td>\n",
       "      <td>0</td>\n",
       "      <td>...</td>\n",
       "      <td>0</td>\n",
       "      <td>0</td>\n",
       "      <td>0</td>\n",
       "      <td>1</td>\n",
       "      <td>1</td>\n",
       "      <td>0</td>\n",
       "      <td>0</td>\n",
       "      <td>0</td>\n",
       "      <td>0</td>\n",
       "      <td>0</td>\n",
       "    </tr>\n",
       "    <tr>\n",
       "      <th>4</th>\n",
       "      <td>0</td>\n",
       "      <td>0</td>\n",
       "      <td>0</td>\n",
       "      <td>0</td>\n",
       "      <td>0</td>\n",
       "      <td>1</td>\n",
       "      <td>0</td>\n",
       "      <td>0</td>\n",
       "      <td>0</td>\n",
       "      <td>0</td>\n",
       "      <td>...</td>\n",
       "      <td>0</td>\n",
       "      <td>0</td>\n",
       "      <td>0</td>\n",
       "      <td>1</td>\n",
       "      <td>0</td>\n",
       "      <td>0</td>\n",
       "      <td>0</td>\n",
       "      <td>0</td>\n",
       "      <td>1</td>\n",
       "      <td>0</td>\n",
       "    </tr>\n",
       "  </tbody>\n",
       "</table>\n",
       "<p>5 rows × 257 columns</p>\n",
       "</div>"
      ],
      "text/plain": [
       "   20  30  40  45  50  60  70  75  80  85   ...     ConLw  New  Oth  WD  \\\n",
       "0   0   0   0   0   0   1   0   0   0   0   ...         0    0    0   1   \n",
       "1   1   0   0   0   0   0   0   0   0   0   ...         0    0    0   1   \n",
       "2   0   0   0   0   0   1   0   0   0   0   ...         0    0    0   1   \n",
       "3   0   0   0   0   0   0   1   0   0   0   ...         0    0    0   1   \n",
       "4   0   0   0   0   0   1   0   0   0   0   ...         0    0    0   1   \n",
       "\n",
       "   Abnorml  AdjLand  Alloca  Family  Normal  Partial  \n",
       "0        0        0       0       0       1        0  \n",
       "1        0        0       0       0       1        0  \n",
       "2        0        0       0       0       1        0  \n",
       "3        1        0       0       0       0        0  \n",
       "4        0        0       0       0       1        0  \n",
       "\n",
       "[5 rows x 257 columns]"
      ]
     },
     "execution_count": 25,
     "metadata": {},
     "output_type": "execute_result"
    }
   ],
   "source": [
    "df_dummies = []\n",
    "for i in dummies_columns:\n",
    "    df_dummies.append(pd.get_dummies(i))\n",
    "    \n",
    "df_dummies = pd.concat(df_dummies,axis=1)\n",
    "df_dummies.head()"
   ]
  },
  {
   "cell_type": "markdown",
   "metadata": {},
   "source": [
    "Non dummies table:"
   ]
  },
  {
   "cell_type": "code",
   "execution_count": 26,
   "metadata": {},
   "outputs": [
    {
     "data": {
      "text/html": [
       "<div>\n",
       "<style>\n",
       "    .dataframe thead tr:only-child th {\n",
       "        text-align: right;\n",
       "    }\n",
       "\n",
       "    .dataframe thead th {\n",
       "        text-align: left;\n",
       "    }\n",
       "\n",
       "    .dataframe tbody tr th {\n",
       "        vertical-align: top;\n",
       "    }\n",
       "</style>\n",
       "<table border=\"1\" class=\"dataframe\">\n",
       "  <thead>\n",
       "    <tr style=\"text-align: right;\">\n",
       "      <th></th>\n",
       "      <th>LotArea</th>\n",
       "      <th>OverallQual</th>\n",
       "      <th>OverallCond</th>\n",
       "      <th>YearBuilt</th>\n",
       "      <th>YearRemodAdd</th>\n",
       "      <th>MasVnrArea</th>\n",
       "      <th>BsmtFinSF1</th>\n",
       "      <th>BsmtFinSF2</th>\n",
       "      <th>BsmtUnfSF</th>\n",
       "      <th>TotalBsmtSF</th>\n",
       "      <th>...</th>\n",
       "      <th>GarageArea</th>\n",
       "      <th>WoodDeckSF</th>\n",
       "      <th>OpenPorchSF</th>\n",
       "      <th>EnclosedPorch</th>\n",
       "      <th>ScreenPorch</th>\n",
       "      <th>PoolArea</th>\n",
       "      <th>MiscVal</th>\n",
       "      <th>MoSold</th>\n",
       "      <th>YrSold</th>\n",
       "      <th>SalePrice</th>\n",
       "    </tr>\n",
       "  </thead>\n",
       "  <tbody>\n",
       "    <tr>\n",
       "      <th>0</th>\n",
       "      <td>8450</td>\n",
       "      <td>7</td>\n",
       "      <td>5</td>\n",
       "      <td>15</td>\n",
       "      <td>15</td>\n",
       "      <td>196.0</td>\n",
       "      <td>706</td>\n",
       "      <td>0</td>\n",
       "      <td>150</td>\n",
       "      <td>856</td>\n",
       "      <td>...</td>\n",
       "      <td>548</td>\n",
       "      <td>0</td>\n",
       "      <td>61</td>\n",
       "      <td>0</td>\n",
       "      <td>0</td>\n",
       "      <td>0</td>\n",
       "      <td>0</td>\n",
       "      <td>2</td>\n",
       "      <td>10</td>\n",
       "      <td>208500</td>\n",
       "    </tr>\n",
       "    <tr>\n",
       "      <th>1</th>\n",
       "      <td>9600</td>\n",
       "      <td>6</td>\n",
       "      <td>8</td>\n",
       "      <td>42</td>\n",
       "      <td>42</td>\n",
       "      <td>0.0</td>\n",
       "      <td>978</td>\n",
       "      <td>0</td>\n",
       "      <td>284</td>\n",
       "      <td>1262</td>\n",
       "      <td>...</td>\n",
       "      <td>460</td>\n",
       "      <td>298</td>\n",
       "      <td>0</td>\n",
       "      <td>0</td>\n",
       "      <td>0</td>\n",
       "      <td>0</td>\n",
       "      <td>0</td>\n",
       "      <td>5</td>\n",
       "      <td>11</td>\n",
       "      <td>181500</td>\n",
       "    </tr>\n",
       "    <tr>\n",
       "      <th>2</th>\n",
       "      <td>11250</td>\n",
       "      <td>7</td>\n",
       "      <td>5</td>\n",
       "      <td>17</td>\n",
       "      <td>16</td>\n",
       "      <td>162.0</td>\n",
       "      <td>486</td>\n",
       "      <td>0</td>\n",
       "      <td>434</td>\n",
       "      <td>920</td>\n",
       "      <td>...</td>\n",
       "      <td>608</td>\n",
       "      <td>0</td>\n",
       "      <td>42</td>\n",
       "      <td>0</td>\n",
       "      <td>0</td>\n",
       "      <td>0</td>\n",
       "      <td>0</td>\n",
       "      <td>9</td>\n",
       "      <td>10</td>\n",
       "      <td>223500</td>\n",
       "    </tr>\n",
       "    <tr>\n",
       "      <th>3</th>\n",
       "      <td>9550</td>\n",
       "      <td>7</td>\n",
       "      <td>5</td>\n",
       "      <td>103</td>\n",
       "      <td>48</td>\n",
       "      <td>0.0</td>\n",
       "      <td>216</td>\n",
       "      <td>0</td>\n",
       "      <td>540</td>\n",
       "      <td>756</td>\n",
       "      <td>...</td>\n",
       "      <td>642</td>\n",
       "      <td>0</td>\n",
       "      <td>35</td>\n",
       "      <td>272</td>\n",
       "      <td>0</td>\n",
       "      <td>0</td>\n",
       "      <td>0</td>\n",
       "      <td>2</td>\n",
       "      <td>12</td>\n",
       "      <td>140000</td>\n",
       "    </tr>\n",
       "    <tr>\n",
       "      <th>4</th>\n",
       "      <td>14260</td>\n",
       "      <td>8</td>\n",
       "      <td>5</td>\n",
       "      <td>18</td>\n",
       "      <td>18</td>\n",
       "      <td>350.0</td>\n",
       "      <td>655</td>\n",
       "      <td>0</td>\n",
       "      <td>490</td>\n",
       "      <td>1145</td>\n",
       "      <td>...</td>\n",
       "      <td>836</td>\n",
       "      <td>192</td>\n",
       "      <td>84</td>\n",
       "      <td>0</td>\n",
       "      <td>0</td>\n",
       "      <td>0</td>\n",
       "      <td>0</td>\n",
       "      <td>12</td>\n",
       "      <td>10</td>\n",
       "      <td>250000</td>\n",
       "    </tr>\n",
       "  </tbody>\n",
       "</table>\n",
       "<p>5 rows × 33 columns</p>\n",
       "</div>"
      ],
      "text/plain": [
       "   LotArea  OverallQual  OverallCond  YearBuilt  YearRemodAdd  MasVnrArea  \\\n",
       "0     8450            7            5         15            15       196.0   \n",
       "1     9600            6            8         42            42         0.0   \n",
       "2    11250            7            5         17            16       162.0   \n",
       "3     9550            7            5        103            48         0.0   \n",
       "4    14260            8            5         18            18       350.0   \n",
       "\n",
       "   BsmtFinSF1  BsmtFinSF2  BsmtUnfSF  TotalBsmtSF    ...      GarageArea  \\\n",
       "0         706           0        150          856    ...             548   \n",
       "1         978           0        284         1262    ...             460   \n",
       "2         486           0        434          920    ...             608   \n",
       "3         216           0        540          756    ...             642   \n",
       "4         655           0        490         1145    ...             836   \n",
       "\n",
       "   WoodDeckSF  OpenPorchSF  EnclosedPorch  ScreenPorch  PoolArea  MiscVal  \\\n",
       "0           0           61              0            0         0        0   \n",
       "1         298            0              0            0         0        0   \n",
       "2           0           42              0            0         0        0   \n",
       "3           0           35            272            0         0        0   \n",
       "4         192           84              0            0         0        0   \n",
       "\n",
       "   MoSold  YrSold  SalePrice  \n",
       "0       2      10     208500  \n",
       "1       5      11     181500  \n",
       "2       9      10     223500  \n",
       "3       2      12     140000  \n",
       "4      12      10     250000  \n",
       "\n",
       "[5 rows x 33 columns]"
      ]
     },
     "execution_count": 26,
     "metadata": {},
     "output_type": "execute_result"
    }
   ],
   "source": [
    "df_non_dummies_columns=[]\n",
    "for i in non_dummies_columns:\n",
    "    df_non_dummies_columns.append(i)\n",
    "    \n",
    "df_non_dummies_columns=pd.concat(df_non_dummies_columns,axis=1)\n",
    "df_non_dummies_columns.head()"
   ]
  },
  {
   "cell_type": "markdown",
   "metadata": {},
   "source": [
    "Final data table:"
   ]
  },
  {
   "cell_type": "code",
   "execution_count": 27,
   "metadata": {},
   "outputs": [
    {
     "data": {
      "text/html": [
       "<div>\n",
       "<style>\n",
       "    .dataframe thead tr:only-child th {\n",
       "        text-align: right;\n",
       "    }\n",
       "\n",
       "    .dataframe thead th {\n",
       "        text-align: left;\n",
       "    }\n",
       "\n",
       "    .dataframe tbody tr th {\n",
       "        vertical-align: top;\n",
       "    }\n",
       "</style>\n",
       "<table border=\"1\" class=\"dataframe\">\n",
       "  <thead>\n",
       "    <tr style=\"text-align: right;\">\n",
       "      <th></th>\n",
       "      <th>20</th>\n",
       "      <th>30</th>\n",
       "      <th>40</th>\n",
       "      <th>45</th>\n",
       "      <th>50</th>\n",
       "      <th>60</th>\n",
       "      <th>70</th>\n",
       "      <th>75</th>\n",
       "      <th>80</th>\n",
       "      <th>85</th>\n",
       "      <th>...</th>\n",
       "      <th>GarageArea</th>\n",
       "      <th>WoodDeckSF</th>\n",
       "      <th>OpenPorchSF</th>\n",
       "      <th>EnclosedPorch</th>\n",
       "      <th>ScreenPorch</th>\n",
       "      <th>PoolArea</th>\n",
       "      <th>MiscVal</th>\n",
       "      <th>MoSold</th>\n",
       "      <th>YrSold</th>\n",
       "      <th>SalePrice</th>\n",
       "    </tr>\n",
       "  </thead>\n",
       "  <tbody>\n",
       "    <tr>\n",
       "      <th>0</th>\n",
       "      <td>0</td>\n",
       "      <td>0</td>\n",
       "      <td>0</td>\n",
       "      <td>0</td>\n",
       "      <td>0</td>\n",
       "      <td>1</td>\n",
       "      <td>0</td>\n",
       "      <td>0</td>\n",
       "      <td>0</td>\n",
       "      <td>0</td>\n",
       "      <td>...</td>\n",
       "      <td>548</td>\n",
       "      <td>0</td>\n",
       "      <td>61</td>\n",
       "      <td>0</td>\n",
       "      <td>0</td>\n",
       "      <td>0</td>\n",
       "      <td>0</td>\n",
       "      <td>2</td>\n",
       "      <td>10</td>\n",
       "      <td>208500</td>\n",
       "    </tr>\n",
       "    <tr>\n",
       "      <th>1</th>\n",
       "      <td>1</td>\n",
       "      <td>0</td>\n",
       "      <td>0</td>\n",
       "      <td>0</td>\n",
       "      <td>0</td>\n",
       "      <td>0</td>\n",
       "      <td>0</td>\n",
       "      <td>0</td>\n",
       "      <td>0</td>\n",
       "      <td>0</td>\n",
       "      <td>...</td>\n",
       "      <td>460</td>\n",
       "      <td>298</td>\n",
       "      <td>0</td>\n",
       "      <td>0</td>\n",
       "      <td>0</td>\n",
       "      <td>0</td>\n",
       "      <td>0</td>\n",
       "      <td>5</td>\n",
       "      <td>11</td>\n",
       "      <td>181500</td>\n",
       "    </tr>\n",
       "    <tr>\n",
       "      <th>2</th>\n",
       "      <td>0</td>\n",
       "      <td>0</td>\n",
       "      <td>0</td>\n",
       "      <td>0</td>\n",
       "      <td>0</td>\n",
       "      <td>1</td>\n",
       "      <td>0</td>\n",
       "      <td>0</td>\n",
       "      <td>0</td>\n",
       "      <td>0</td>\n",
       "      <td>...</td>\n",
       "      <td>608</td>\n",
       "      <td>0</td>\n",
       "      <td>42</td>\n",
       "      <td>0</td>\n",
       "      <td>0</td>\n",
       "      <td>0</td>\n",
       "      <td>0</td>\n",
       "      <td>9</td>\n",
       "      <td>10</td>\n",
       "      <td>223500</td>\n",
       "    </tr>\n",
       "    <tr>\n",
       "      <th>3</th>\n",
       "      <td>0</td>\n",
       "      <td>0</td>\n",
       "      <td>0</td>\n",
       "      <td>0</td>\n",
       "      <td>0</td>\n",
       "      <td>0</td>\n",
       "      <td>1</td>\n",
       "      <td>0</td>\n",
       "      <td>0</td>\n",
       "      <td>0</td>\n",
       "      <td>...</td>\n",
       "      <td>642</td>\n",
       "      <td>0</td>\n",
       "      <td>35</td>\n",
       "      <td>272</td>\n",
       "      <td>0</td>\n",
       "      <td>0</td>\n",
       "      <td>0</td>\n",
       "      <td>2</td>\n",
       "      <td>12</td>\n",
       "      <td>140000</td>\n",
       "    </tr>\n",
       "    <tr>\n",
       "      <th>4</th>\n",
       "      <td>0</td>\n",
       "      <td>0</td>\n",
       "      <td>0</td>\n",
       "      <td>0</td>\n",
       "      <td>0</td>\n",
       "      <td>1</td>\n",
       "      <td>0</td>\n",
       "      <td>0</td>\n",
       "      <td>0</td>\n",
       "      <td>0</td>\n",
       "      <td>...</td>\n",
       "      <td>836</td>\n",
       "      <td>192</td>\n",
       "      <td>84</td>\n",
       "      <td>0</td>\n",
       "      <td>0</td>\n",
       "      <td>0</td>\n",
       "      <td>0</td>\n",
       "      <td>12</td>\n",
       "      <td>10</td>\n",
       "      <td>250000</td>\n",
       "    </tr>\n",
       "  </tbody>\n",
       "</table>\n",
       "<p>5 rows × 290 columns</p>\n",
       "</div>"
      ],
      "text/plain": [
       "   20  30  40  45  50  60  70  75  80  85    ...      GarageArea  WoodDeckSF  \\\n",
       "0   0   0   0   0   0   1   0   0   0   0    ...             548           0   \n",
       "1   1   0   0   0   0   0   0   0   0   0    ...             460         298   \n",
       "2   0   0   0   0   0   1   0   0   0   0    ...             608           0   \n",
       "3   0   0   0   0   0   0   1   0   0   0    ...             642           0   \n",
       "4   0   0   0   0   0   1   0   0   0   0    ...             836         192   \n",
       "\n",
       "   OpenPorchSF  EnclosedPorch  ScreenPorch  PoolArea  MiscVal  MoSold  YrSold  \\\n",
       "0           61              0            0         0        0       2      10   \n",
       "1            0              0            0         0        0       5      11   \n",
       "2           42              0            0         0        0       9      10   \n",
       "3           35            272            0         0        0       2      12   \n",
       "4           84              0            0         0        0      12      10   \n",
       "\n",
       "   SalePrice  \n",
       "0     208500  \n",
       "1     181500  \n",
       "2     223500  \n",
       "3     140000  \n",
       "4     250000  \n",
       "\n",
       "[5 rows x 290 columns]"
      ]
     },
     "execution_count": 27,
     "metadata": {},
     "output_type": "execute_result"
    }
   ],
   "source": [
    "final_data = pd.concat([df_dummies,df_non_dummies_columns],axis=1)\n",
    "final_data.head()"
   ]
  },
  {
   "cell_type": "markdown",
   "metadata": {},
   "source": [
    "# <a id='data split and standarization'>Data split and standarization</a>"
   ]
  },
  {
   "cell_type": "markdown",
   "metadata": {},
   "source": [
    "For further analysis it is necessary to divide data into test and training and to standardize variables."
   ]
  },
  {
   "cell_type": "code",
   "execution_count": 28,
   "metadata": {
    "collapsed": true
   },
   "outputs": [],
   "source": [
    "from sklearn.preprocessing import StandardScaler\n",
    "from sklearn.model_selection import train_test_split"
   ]
  },
  {
   "cell_type": "markdown",
   "metadata": {},
   "source": [
    "The variable y must be separated from the set and saved in a separate variable."
   ]
  },
  {
   "cell_type": "code",
   "execution_count": 29,
   "metadata": {
    "collapsed": true
   },
   "outputs": [],
   "source": [
    "y = df_non_dummies_columns['SalePrice']\n",
    "del df_non_dummies_columns['SalePrice']"
   ]
  },
  {
   "cell_type": "code",
   "execution_count": 30,
   "metadata": {
    "collapsed": true
   },
   "outputs": [],
   "source": [
    "# splitting data set into train and test sets\n",
    "X_train, X_test, y_train, y_test = train_test_split(final_data, y, test_size=0.33, random_state=20)\n",
    "\n",
    "X_train = X_train.values # X_train represents training part of data\n",
    "X_test = X_test.values # X_test represents testing part of data\n",
    "\n",
    "y_train = y_train.values.reshape(-1, 1) # y_train represents training part of y data\n",
    "y_test = y_test.values.reshape(-1, 1) # y_train represents training part of y data"
   ]
  },
  {
   "cell_type": "code",
   "execution_count": 31,
   "metadata": {
    "collapsed": true
   },
   "outputs": [],
   "source": [
    "X_scaler = StandardScaler(with_mean=True, with_std=True) # the standar scaler is assigning to X_scaler variable\n",
    "X_scaler.fit(X_train) # fitting standard scaler to X_train (calculating mean and variance)\n",
    "X_train_scaled = X_scaler.transform(X_train) # scaling X_train set\n",
    "X_test_scaled = X_scaler.transform(X_test) # scaling X_test set\n",
    "\n",
    "Y_scaler = StandardScaler(with_mean=True, with_std=True)\n",
    "Y_scaler.fit(y_train.reshape(-1,1))\n",
    "y_train_scaled = Y_scaler.transform(y_train) # scaling y_train set\n",
    "y_test_scaled = Y_scaler.transform(y_test) # scaling y_test set"
   ]
  },
  {
   "cell_type": "markdown",
   "metadata": {},
   "source": [
    "# <a id='pca'>PCA - reduction of data dimensions.</a>"
   ]
  },
  {
   "cell_type": "code",
   "execution_count": 32,
   "metadata": {
    "collapsed": true
   },
   "outputs": [],
   "source": [
    "from sklearn.decomposition import PCA\n",
    "import matplotlib.pyplot as plt\n",
    "% matplotlib inline"
   ]
  },
  {
   "cell_type": "code",
   "execution_count": 33,
   "metadata": {
    "collapsed": true
   },
   "outputs": [],
   "source": [
    "pca = PCA(100) # setting number of components to 100\n",
    "X_train_pca100 = pca.fit_transform(X_train_scaled) # \n",
    "X_test_pca100 = pca.transform(X_test_scaled) # transform X_test_scaled set\n",
    "explained_variance = pca.explained_variance_ratio_ # calculate explained ratio"
   ]
  },
  {
   "cell_type": "markdown",
   "metadata": {},
   "source": [
    "# Elbow method"
   ]
  },
  {
   "cell_type": "markdown",
   "metadata": {},
   "source": [
    "On the basis of the representative \"elbow method\", the number of component variables that are sufficient to describe the whole set is determined."
   ]
  },
  {
   "cell_type": "code",
   "execution_count": 34,
   "metadata": {},
   "outputs": [
    {
     "data": {
      "text/plain": [
       "[<matplotlib.lines.Line2D at 0x1e0179d1048>]"
      ]
     },
     "execution_count": 34,
     "metadata": {},
     "output_type": "execute_result"
    },
    {
     "data": {
      "image/png": "[encoded data removed]",
      "text/plain": [
       "<matplotlib.figure.Figure at 0x1e0170c8390>"
      ]
     },
     "metadata": {},
     "output_type": "display_data"
    }
   ],
   "source": [
    "plt.plot(pca.explained_variance_ratio_, '-.')"
   ]
  },
  {
   "cell_type": "markdown",
   "metadata": {},
   "source": [
    "The above chart shows that the optimal value is 20 variables."
   ]
  },
  {
   "cell_type": "markdown",
   "metadata": {},
   "source": [
    "The number of data from the training and test set should be transformed to 20 variables according to the above method."
   ]
  },
  {
   "cell_type": "code",
   "execution_count": 35,
   "metadata": {
    "collapsed": true
   },
   "outputs": [],
   "source": [
    "X_train = X_train_pca100[:,:20] # first 20 principal components for train set\n",
    "X_test = X_test_pca100[:,:20] # first 20 principal components for test set"
   ]
  },
  {
   "cell_type": "markdown",
   "metadata": {},
   "source": [
    "# Automatization"
   ]
  },
  {
   "cell_type": "markdown",
   "metadata": {},
   "source": [
    "The function implemented below will be used to improve and facilitate further analysis."
   ]
  },
  {
   "cell_type": "markdown",
   "metadata": {},
   "source": [
    "The calculate_reg_metrics function returns metrics calculated on the base\n",
    "test and training values of y, and then displays them."
   ]
  },
  {
   "cell_type": "code",
   "execution_count": 36,
   "metadata": {
    "collapsed": true
   },
   "outputs": [],
   "source": [
    "from sklearn.metrics import mean_squared_error, r2_score, mean_absolute_error"
   ]
  },
  {
   "cell_type": "code",
   "execution_count": 37,
   "metadata": {
    "collapsed": true
   },
   "outputs": [],
   "source": [
    "def calculate_reg_metrics(y_train_scaled, y_test_scaled, model, X_train, X_test, name):\n",
    "    \n",
    "    y_pred_test = model.predict(X_test)\n",
    "    y_pred_train = model.predict(X_train)\n",
    "    \n",
    "    mse_train = mean_squared_error(y_train_scaled, y_pred_train)\n",
    "    r2_train = r2_score(y_train_scaled, y_pred_train)\n",
    "    mae_train = mean_absolute_error(y_train_scaled, y_pred_train)\n",
    "    \n",
    "    mse_test = mean_squared_error(y_test_scaled, y_pred_test)\n",
    "    r2_test = r2_score(y_test_scaled, y_pred_test)\n",
    "    mae_test = mean_absolute_error(y_test_scaled, y_pred_test)\n",
    "      \n",
    "    data = pd.DataFrame(index=[name],\n",
    "                        data={'train mse':[mse_train], \n",
    "                              'train r2':[r2_train],\n",
    "                              'train mae':[mae_train],\n",
    "                              'test mse':[mse_test],\n",
    "                              'test r2':[r2_test],\n",
    "                              'test mae':[mae_test]} )    \n",
    "    return data"
   ]
  },
  {
   "cell_type": "markdown",
   "metadata": {},
   "source": [
    "# <a id='linear regression'>Linear regression</a>"
   ]
  },
  {
   "cell_type": "code",
   "execution_count": 38,
   "metadata": {
    "collapsed": true
   },
   "outputs": [],
   "source": [
    "from sklearn.linear_model import LinearRegression"
   ]
  },
  {
   "cell_type": "code",
   "execution_count": 39,
   "metadata": {},
   "outputs": [
    {
     "data": {
      "text/plain": [
       "LinearRegression(copy_X=True, fit_intercept=True, n_jobs=1, normalize=False)"
      ]
     },
     "execution_count": 39,
     "metadata": {},
     "output_type": "execute_result"
    }
   ],
   "source": [
    "model = LinearRegression() # initializing model\n",
    "model.fit(X_train, y_train_scaled) # fitting model to training data"
   ]
  },
  {
   "cell_type": "code",
   "execution_count": 40,
   "metadata": {},
   "outputs": [
    {
     "data": {
      "text/html": [
       "<div>\n",
       "<style>\n",
       "    .dataframe thead tr:only-child th {\n",
       "        text-align: right;\n",
       "    }\n",
       "\n",
       "    .dataframe thead th {\n",
       "        text-align: left;\n",
       "    }\n",
       "\n",
       "    .dataframe tbody tr th {\n",
       "        vertical-align: top;\n",
       "    }\n",
       "</style>\n",
       "<table border=\"1\" class=\"dataframe\">\n",
       "  <thead>\n",
       "    <tr style=\"text-align: right;\">\n",
       "      <th></th>\n",
       "      <th>test mae</th>\n",
       "      <th>test mse</th>\n",
       "      <th>test r2</th>\n",
       "      <th>train mae</th>\n",
       "      <th>train mse</th>\n",
       "      <th>train r2</th>\n",
       "    </tr>\n",
       "  </thead>\n",
       "  <tbody>\n",
       "    <tr>\n",
       "      <th>linear</th>\n",
       "      <td>0.248293</td>\n",
       "      <td>0.178904</td>\n",
       "      <td>0.814004</td>\n",
       "      <td>0.248476</td>\n",
       "      <td>0.159639</td>\n",
       "      <td>0.840361</td>\n",
       "    </tr>\n",
       "  </tbody>\n",
       "</table>\n",
       "</div>"
      ],
      "text/plain": [
       "        test mae  test mse   test r2  train mae  train mse  train r2\n",
       "linear  0.248293  0.178904  0.814004   0.248476   0.159639  0.840361"
      ]
     },
     "execution_count": 40,
     "metadata": {},
     "output_type": "execute_result"
    }
   ],
   "source": [
    "linear_reg_metrics = calculate_reg_metrics(y_train_scaled, y_test_scaled,  model, X_train, X_test, 'linear')\n",
    "linear_reg_metrics # printing table with metrics"
   ]
  },
  {
   "cell_type": "markdown",
   "metadata": {},
   "source": [
    "# <a id='lasso regression'>Lasso regression</a>"
   ]
  },
  {
   "cell_type": "code",
   "execution_count": 41,
   "metadata": {
    "collapsed": true
   },
   "outputs": [],
   "source": [
    "from sklearn.pipeline import Pipeline\n",
    "from sklearn.linear_model import Lasso\n",
    "from sklearn.model_selection import GridSearchCV"
   ]
  },
  {
   "cell_type": "code",
   "execution_count": 42,
   "metadata": {
    "collapsed": true
   },
   "outputs": [],
   "source": [
    "lasso_params={\n",
    "    \"Lasso regression__alpha\":[0.0001,0.001,0.01,0.1]\n",
    "}\n",
    "\n",
    "pipe = Pipeline([                  \n",
    "                 ('Lasso regression', Lasso())\n",
    "                ])\n",
    "\n",
    "grid = GridSearchCV(pipe , lasso_params, \n",
    "                    cv=5, refit=True)"
   ]
  },
  {
   "cell_type": "code",
   "execution_count": 43,
   "metadata": {},
   "outputs": [
    {
     "name": "stdout",
     "output_type": "stream",
     "text": [
      "{'Lasso regression__alpha': 0.01}\n"
     ]
    }
   ],
   "source": [
    "grid.fit(X_train, y_train_scaled) # fitting grid search to training data \n",
    "print(grid.best_params_) # printing best parameters"
   ]
  },
  {
   "cell_type": "code",
   "execution_count": 44,
   "metadata": {},
   "outputs": [
    {
     "data": {
      "text/plain": [
       "Pipeline(steps=[('Lasso regression', Lasso(alpha=0.01, copy_X=True, fit_intercept=True, max_iter=1000,\n",
       "   normalize=False, positive=False, precompute=False, random_state=None,\n",
       "   selection='cyclic', tol=0.0001, warm_start=False))])"
      ]
     },
     "execution_count": 44,
     "metadata": {},
     "output_type": "execute_result"
    }
   ],
   "source": [
    "model_lasso = grid.best_estimator_ # getting the best estimator\n",
    "model_lasso"
   ]
  },
  {
   "cell_type": "code",
   "execution_count": 45,
   "metadata": {},
   "outputs": [
    {
     "data": {
      "text/html": [
       "<div>\n",
       "<style>\n",
       "    .dataframe thead tr:only-child th {\n",
       "        text-align: right;\n",
       "    }\n",
       "\n",
       "    .dataframe thead th {\n",
       "        text-align: left;\n",
       "    }\n",
       "\n",
       "    .dataframe tbody tr th {\n",
       "        vertical-align: top;\n",
       "    }\n",
       "</style>\n",
       "<table border=\"1\" class=\"dataframe\">\n",
       "  <thead>\n",
       "    <tr style=\"text-align: right;\">\n",
       "      <th></th>\n",
       "      <th>test mae</th>\n",
       "      <th>test mse</th>\n",
       "      <th>test r2</th>\n",
       "      <th>train mae</th>\n",
       "      <th>train mse</th>\n",
       "      <th>train r2</th>\n",
       "    </tr>\n",
       "  </thead>\n",
       "  <tbody>\n",
       "    <tr>\n",
       "      <th>lasso</th>\n",
       "      <td>0.248293</td>\n",
       "      <td>0.178904</td>\n",
       "      <td>0.814004</td>\n",
       "      <td>0.248476</td>\n",
       "      <td>0.159639</td>\n",
       "      <td>0.840361</td>\n",
       "    </tr>\n",
       "  </tbody>\n",
       "</table>\n",
       "</div>"
      ],
      "text/plain": [
       "       test mae  test mse   test r2  train mae  train mse  train r2\n",
       "lasso  0.248293  0.178904  0.814004   0.248476   0.159639  0.840361"
      ]
     },
     "execution_count": 45,
     "metadata": {},
     "output_type": "execute_result"
    }
   ],
   "source": [
    "lasso_metrics = calculate_reg_metrics(y_train_scaled, y_test_scaled,  model, X_train, X_test, 'lasso')\n",
    "lasso_metrics # printing table with metrics"
   ]
  },
  {
   "cell_type": "markdown",
   "metadata": {},
   "source": [
    "# <a id='elastic net regression'>Elastic Net regression</a>"
   ]
  },
  {
   "cell_type": "code",
   "execution_count": 46,
   "metadata": {
    "collapsed": true
   },
   "outputs": [],
   "source": [
    "from sklearn.linear_model import ElasticNet"
   ]
  },
  {
   "cell_type": "code",
   "execution_count": 47,
   "metadata": {
    "collapsed": true
   },
   "outputs": [],
   "source": [
    "elastic_net_params = {   \n",
    "    \"Elastic Net regression__alpha\":[1.0,2.0,10.0],\n",
    "    \"Elastic Net regression__l1_ratio\":[1.0,2.0,10.0]\n",
    "}\n",
    "pipe = Pipeline([                  \n",
    "                 ('Elastic Net regression', ElasticNet())\n",
    "                ])\n",
    "\n",
    "grid = GridSearchCV(pipe , elastic_net_params, \n",
    "                    cv=5, refit=True)"
   ]
  },
  {
   "cell_type": "code",
   "execution_count": 48,
   "metadata": {},
   "outputs": [
    {
     "name": "stdout",
     "output_type": "stream",
     "text": [
      "{'Elastic Net regression__alpha': 1.0, 'Elastic Net regression__l1_ratio': 1.0}\n"
     ]
    }
   ],
   "source": [
    "grid.fit(X_train, y_train_scaled) # fitting grid search to training data\n",
    "print(grid.best_params_) # printing best parameters"
   ]
  },
  {
   "cell_type": "code",
   "execution_count": 49,
   "metadata": {},
   "outputs": [
    {
     "data": {
      "text/plain": [
       "Pipeline(steps=[('Elastic Net regression', ElasticNet(alpha=1.0, copy_X=True, fit_intercept=True, l1_ratio=1.0,\n",
       "      max_iter=1000, normalize=False, positive=False, precompute=False,\n",
       "      random_state=None, selection='cyclic', tol=0.0001, warm_start=False))])"
      ]
     },
     "execution_count": 49,
     "metadata": {},
     "output_type": "execute_result"
    }
   ],
   "source": [
    "model_elsatic_net = grid.best_estimator_ # getting best estimator\n",
    "model_elsatic_net"
   ]
  },
  {
   "cell_type": "code",
   "execution_count": 50,
   "metadata": {},
   "outputs": [
    {
     "data": {
      "text/html": [
       "<div>\n",
       "<style>\n",
       "    .dataframe thead tr:only-child th {\n",
       "        text-align: right;\n",
       "    }\n",
       "\n",
       "    .dataframe thead th {\n",
       "        text-align: left;\n",
       "    }\n",
       "\n",
       "    .dataframe tbody tr th {\n",
       "        vertical-align: top;\n",
       "    }\n",
       "</style>\n",
       "<table border=\"1\" class=\"dataframe\">\n",
       "  <thead>\n",
       "    <tr style=\"text-align: right;\">\n",
       "      <th></th>\n",
       "      <th>test mae</th>\n",
       "      <th>test mse</th>\n",
       "      <th>test r2</th>\n",
       "      <th>train mae</th>\n",
       "      <th>train mse</th>\n",
       "      <th>train r2</th>\n",
       "    </tr>\n",
       "  </thead>\n",
       "  <tbody>\n",
       "    <tr>\n",
       "      <th>elastic net</th>\n",
       "      <td>0.248293</td>\n",
       "      <td>0.178904</td>\n",
       "      <td>0.814004</td>\n",
       "      <td>0.248476</td>\n",
       "      <td>0.159639</td>\n",
       "      <td>0.840361</td>\n",
       "    </tr>\n",
       "  </tbody>\n",
       "</table>\n",
       "</div>"
      ],
      "text/plain": [
       "             test mae  test mse   test r2  train mae  train mse  train r2\n",
       "elastic net  0.248293  0.178904  0.814004   0.248476   0.159639  0.840361"
      ]
     },
     "execution_count": 50,
     "metadata": {},
     "output_type": "execute_result"
    }
   ],
   "source": [
    "elastic_net_metrics = calculate_reg_metrics(y_train_scaled, y_test_scaled,  model, X_train, X_test, 'elastic net')\n",
    "elastic_net_metrics # printing table with metrics"
   ]
  },
  {
   "cell_type": "markdown",
   "metadata": {},
   "source": [
    "# <a id='random forrest regression'>Random forrest regression</a>"
   ]
  },
  {
   "cell_type": "code",
   "execution_count": 51,
   "metadata": {
    "collapsed": true
   },
   "outputs": [],
   "source": [
    "from sklearn.ensemble import RandomForestRegressor"
   ]
  },
  {
   "cell_type": "code",
   "execution_count": 52,
   "metadata": {
    "collapsed": true
   },
   "outputs": [],
   "source": [
    "random_forest_params = {\n",
    "    \"Random forrest regression__max_features\": [\"sqrt\", \"log2\"],\n",
    "    \"Random forrest regression__max_depth\": [2,3,4,5],\n",
    "    \"Random forrest regression__n_estimators\": [100,200,300]\n",
    "}\n",
    "pipe = Pipeline([                  \n",
    "                 ('Random forrest regression', RandomForestRegressor())\n",
    "                ])\n",
    "\n",
    "grid = GridSearchCV(pipe , random_forest_params, \n",
    "                    cv=5, refit=True)"
   ]
  },
  {
   "cell_type": "code",
   "execution_count": 53,
   "metadata": {
    "scrolled": true
   },
   "outputs": [
    {
     "name": "stdout",
     "output_type": "stream",
     "text": [
      "{'Random forrest regression__max_depth': 5, 'Random forrest regression__max_features': 'log2', 'Random forrest regression__n_estimators': 100}\n"
     ]
    }
   ],
   "source": [
    "grid.fit(X_train, y_train_scaled) # fitting grid search to training data \n",
    "print(grid.best_params_) # printing best parameters"
   ]
  },
  {
   "cell_type": "code",
   "execution_count": 54,
   "metadata": {},
   "outputs": [
    {
     "data": {
      "text/plain": [
       "Pipeline(steps=[('Random forrest regression', RandomForestRegressor(bootstrap=True, criterion='mse', max_depth=5,\n",
       "           max_features='log2', max_leaf_nodes=None,\n",
       "           min_impurity_split=1e-07, min_samples_leaf=1,\n",
       "           min_samples_split=2, min_weight_fraction_leaf=0.0,\n",
       "           n_estimators=100, n_jobs=1, oob_score=False, random_state=None,\n",
       "           verbose=0, warm_start=False))])"
      ]
     },
     "execution_count": 54,
     "metadata": {},
     "output_type": "execute_result"
    }
   ],
   "source": [
    "model_random_forrest = grid.best_estimator_# getting the best estimator\n",
    "model_random_forrest"
   ]
  },
  {
   "cell_type": "code",
   "execution_count": 55,
   "metadata": {},
   "outputs": [
    {
     "data": {
      "text/html": [
       "<div>\n",
       "<style>\n",
       "    .dataframe thead tr:only-child th {\n",
       "        text-align: right;\n",
       "    }\n",
       "\n",
       "    .dataframe thead th {\n",
       "        text-align: left;\n",
       "    }\n",
       "\n",
       "    .dataframe tbody tr th {\n",
       "        vertical-align: top;\n",
       "    }\n",
       "</style>\n",
       "<table border=\"1\" class=\"dataframe\">\n",
       "  <thead>\n",
       "    <tr style=\"text-align: right;\">\n",
       "      <th></th>\n",
       "      <th>test mae</th>\n",
       "      <th>test mse</th>\n",
       "      <th>test r2</th>\n",
       "      <th>train mae</th>\n",
       "      <th>train mse</th>\n",
       "      <th>train r2</th>\n",
       "    </tr>\n",
       "  </thead>\n",
       "  <tbody>\n",
       "    <tr>\n",
       "      <th>random forrest</th>\n",
       "      <td>0.354023</td>\n",
       "      <td>0.28177</td>\n",
       "      <td>0.70706</td>\n",
       "      <td>0.30055</td>\n",
       "      <td>0.178808</td>\n",
       "      <td>0.821192</td>\n",
       "    </tr>\n",
       "  </tbody>\n",
       "</table>\n",
       "</div>"
      ],
      "text/plain": [
       "                test mae  test mse  test r2  train mae  train mse  train r2\n",
       "random forrest  0.354023   0.28177  0.70706    0.30055   0.178808  0.821192"
      ]
     },
     "execution_count": 55,
     "metadata": {},
     "output_type": "execute_result"
    }
   ],
   "source": [
    "random_forrest_metrics = calculate_reg_metrics(y_train_scaled, y_test_scaled,  model_random_forrest, X_train, X_test, 'random forrest')\n",
    "random_forrest_metrics # printing table with metrics"
   ]
  },
  {
   "cell_type": "markdown",
   "metadata": {},
   "source": [
    "# <a id='ridge regression'>Ridge regression</a>"
   ]
  },
  {
   "cell_type": "code",
   "execution_count": 56,
   "metadata": {
    "collapsed": true
   },
   "outputs": [],
   "source": [
    "from sklearn.linear_model import Ridge"
   ]
  },
  {
   "cell_type": "code",
   "execution_count": 57,
   "metadata": {
    "collapsed": true
   },
   "outputs": [],
   "source": [
    "ridge_params={\n",
    "    \"Ridge regression__alpha\":[0.0001,0.001,0.01,0.1,1]\n",
    "}\n",
    "pipe = Pipeline([                  \n",
    "                 ('Ridge regression', Ridge())\n",
    "                ])\n",
    "\n",
    "grid = GridSearchCV(pipe , ridge_params, \n",
    "                    cv=5, refit=True)"
   ]
  },
  {
   "cell_type": "code",
   "execution_count": 58,
   "metadata": {
    "scrolled": true
   },
   "outputs": [
    {
     "name": "stdout",
     "output_type": "stream",
     "text": [
      "{'Ridge regression__alpha': 1}\n"
     ]
    }
   ],
   "source": [
    "grid.fit(X_train, y_train_scaled) # fitting grid search to training data\n",
    "print(grid.best_params_) # printing best parameters"
   ]
  },
  {
   "cell_type": "code",
   "execution_count": 59,
   "metadata": {},
   "outputs": [
    {
     "data": {
      "text/plain": [
       "Pipeline(steps=[('Ridge regression', Ridge(alpha=1, copy_X=True, fit_intercept=True, max_iter=None,\n",
       "   normalize=False, random_state=None, solver='auto', tol=0.001))])"
      ]
     },
     "execution_count": 59,
     "metadata": {},
     "output_type": "execute_result"
    }
   ],
   "source": [
    "model_ridge = grid.best_estimator_ #getting best estimator\n",
    "model_ridge"
   ]
  },
  {
   "cell_type": "code",
   "execution_count": 60,
   "metadata": {},
   "outputs": [
    {
     "data": {
      "text/html": [
       "<div>\n",
       "<style>\n",
       "    .dataframe thead tr:only-child th {\n",
       "        text-align: right;\n",
       "    }\n",
       "\n",
       "    .dataframe thead th {\n",
       "        text-align: left;\n",
       "    }\n",
       "\n",
       "    .dataframe tbody tr th {\n",
       "        vertical-align: top;\n",
       "    }\n",
       "</style>\n",
       "<table border=\"1\" class=\"dataframe\">\n",
       "  <thead>\n",
       "    <tr style=\"text-align: right;\">\n",
       "      <th></th>\n",
       "      <th>test mae</th>\n",
       "      <th>test mse</th>\n",
       "      <th>test r2</th>\n",
       "      <th>train mae</th>\n",
       "      <th>train mse</th>\n",
       "      <th>train r2</th>\n",
       "    </tr>\n",
       "  </thead>\n",
       "  <tbody>\n",
       "    <tr>\n",
       "      <th>ridge</th>\n",
       "      <td>0.248291</td>\n",
       "      <td>0.178905</td>\n",
       "      <td>0.814003</td>\n",
       "      <td>0.248467</td>\n",
       "      <td>0.159639</td>\n",
       "      <td>0.840361</td>\n",
       "    </tr>\n",
       "  </tbody>\n",
       "</table>\n",
       "</div>"
      ],
      "text/plain": [
       "       test mae  test mse   test r2  train mae  train mse  train r2\n",
       "ridge  0.248291  0.178905  0.814003   0.248467   0.159639  0.840361"
      ]
     },
     "execution_count": 60,
     "metadata": {},
     "output_type": "execute_result"
    }
   ],
   "source": [
    "ridge_metrics = calculate_reg_metrics(y_train_scaled, y_test_scaled,  model_ridge, X_train, X_test,'ridge')\n",
    "ridge_metrics # printing table with metrics"
   ]
  },
  {
   "cell_type": "markdown",
   "metadata": {},
   "source": [
    "# <a id='multi-layer perceptron regressor'>Neural Network - Multi-layer Perceptron regressor</a>"
   ]
  },
  {
   "cell_type": "code",
   "execution_count": 61,
   "metadata": {
    "collapsed": true
   },
   "outputs": [],
   "source": [
    "from sklearn.neural_network import MLPRegressor"
   ]
  },
  {
   "cell_type": "code",
   "execution_count": 62,
   "metadata": {
    "collapsed": true
   },
   "outputs": [],
   "source": [
    "nn_params = {\n",
    "    \"MLPRegressor__hidden_layer_sizes\": [[10],[20],[30],[10,10]],\n",
    "    \"MLPRegressor__alpha\":[0.0001,0.001,0.01,0.1], \n",
    "    \"MLPRegressor__learning_rate\":['constant', 'invscaling', 'adaptive'] ,\n",
    "    \"MLPRegressor__batch_size\":[50,100],\n",
    "    \"MLPRegressor__max_iter\":[500,1000,1500]\n",
    "}\n",
    "pipe = Pipeline([                  \n",
    "                 ('MLPRegressor', MLPRegressor())\n",
    "                ])\n",
    "\n",
    "grid = GridSearchCV(pipe , nn_params, \n",
    "                    cv=5, refit=True)"
   ]
  },
  {
   "cell_type": "code",
   "execution_count": 63,
   "metadata": {},
   "outputs": [
    {
     "name": "stdout",
     "output_type": "stream",
     "text": [
      "{'MLPRegressor__alpha': 0.01, 'MLPRegressor__batch_size': 50, 'MLPRegressor__hidden_layer_sizes': [10, 10], 'MLPRegressor__learning_rate': 'invscaling', 'MLPRegressor__max_iter': 500}\n"
     ]
    }
   ],
   "source": [
    "grid.fit(X_train, y_train_scaled) # fitting grid search to training data \n",
    "print(grid.best_params_) # printing best parameters"
   ]
  },
  {
   "cell_type": "code",
   "execution_count": 64,
   "metadata": {},
   "outputs": [
    {
     "data": {
      "text/plain": [
       "Pipeline(steps=[('MLPRegressor', MLPRegressor(activation='relu', alpha=0.01, batch_size=50, beta_1=0.9,\n",
       "       beta_2=0.999, early_stopping=False, epsilon=1e-08,\n",
       "       hidden_layer_sizes=[10, 10], learning_rate='invscaling',\n",
       "       learning_rate_init=0.001, max_iter=500, momentum=0.9,\n",
       "       nesterovs_momentum=True, power_t=0.5, random_state=None,\n",
       "       shuffle=True, solver='adam', tol=0.0001, validation_fraction=0.1,\n",
       "       verbose=False, warm_start=False))])"
      ]
     },
     "execution_count": 64,
     "metadata": {},
     "output_type": "execute_result"
    }
   ],
   "source": [
    "model_mlpr = grid.best_estimator_ # getting the best estimator\n",
    "model_mlpr"
   ]
  },
  {
   "cell_type": "code",
   "execution_count": 65,
   "metadata": {},
   "outputs": [
    {
     "data": {
      "text/html": [
       "<div>\n",
       "<style>\n",
       "    .dataframe thead tr:only-child th {\n",
       "        text-align: right;\n",
       "    }\n",
       "\n",
       "    .dataframe thead th {\n",
       "        text-align: left;\n",
       "    }\n",
       "\n",
       "    .dataframe tbody tr th {\n",
       "        vertical-align: top;\n",
       "    }\n",
       "</style>\n",
       "<table border=\"1\" class=\"dataframe\">\n",
       "  <thead>\n",
       "    <tr style=\"text-align: right;\">\n",
       "      <th></th>\n",
       "      <th>test mae</th>\n",
       "      <th>test mse</th>\n",
       "      <th>test r2</th>\n",
       "      <th>train mae</th>\n",
       "      <th>train mse</th>\n",
       "      <th>train r2</th>\n",
       "    </tr>\n",
       "  </thead>\n",
       "  <tbody>\n",
       "    <tr>\n",
       "      <th>mlpr</th>\n",
       "      <td>0.249761</td>\n",
       "      <td>0.147918</td>\n",
       "      <td>0.846219</td>\n",
       "      <td>0.170256</td>\n",
       "      <td>0.056971</td>\n",
       "      <td>0.943029</td>\n",
       "    </tr>\n",
       "  </tbody>\n",
       "</table>\n",
       "</div>"
      ],
      "text/plain": [
       "      test mae  test mse   test r2  train mae  train mse  train r2\n",
       "mlpr  0.249761  0.147918  0.846219   0.170256   0.056971  0.943029"
      ]
     },
     "execution_count": 65,
     "metadata": {},
     "output_type": "execute_result"
    }
   ],
   "source": [
    "mlpr_metrics = calculate_reg_metrics(y_train_scaled, y_test_scaled,  model_mlpr, X_train, X_test, 'mlpr')\n",
    "mlpr_metrics # printing table with metrics"
   ]
  },
  {
   "cell_type": "markdown",
   "metadata": {},
   "source": [
    "# <a id='conclusion'>Conclusions</a>"
   ]
  },
  {
   "cell_type": "markdown",
   "metadata": {},
   "source": [
    "List of metrics for each regressions:"
   ]
  },
  {
   "cell_type": "code",
   "execution_count": 66,
   "metadata": {
    "collapsed": true
   },
   "outputs": [],
   "source": [
    "data = [\n",
    "    linear_reg_metrics,\n",
    "    lasso_metrics,\n",
    "    elastic_net_metrics,\n",
    "    random_forrest_metrics,\n",
    "    ridge_metrics,\n",
    "    mlpr_metrics\n",
    "]"
   ]
  },
  {
   "cell_type": "markdown",
   "metadata": {},
   "source": [
    "Table of metrics for each regressions:"
   ]
  },
  {
   "cell_type": "code",
   "execution_count": 67,
   "metadata": {
    "scrolled": false
   },
   "outputs": [
    {
     "data": {
      "text/html": [
       "<div>\n",
       "<style>\n",
       "    .dataframe thead tr:only-child th {\n",
       "        text-align: right;\n",
       "    }\n",
       "\n",
       "    .dataframe thead th {\n",
       "        text-align: left;\n",
       "    }\n",
       "\n",
       "    .dataframe tbody tr th {\n",
       "        vertical-align: top;\n",
       "    }\n",
       "</style>\n",
       "<table border=\"1\" class=\"dataframe\">\n",
       "  <thead>\n",
       "    <tr style=\"text-align: right;\">\n",
       "      <th></th>\n",
       "      <th>test mae</th>\n",
       "      <th>test mse</th>\n",
       "      <th>test r2</th>\n",
       "      <th>train mae</th>\n",
       "      <th>train mse</th>\n",
       "      <th>train r2</th>\n",
       "    </tr>\n",
       "  </thead>\n",
       "  <tbody>\n",
       "    <tr>\n",
       "      <th>mlpr</th>\n",
       "      <td>0.249761</td>\n",
       "      <td>0.147918</td>\n",
       "      <td>0.846219</td>\n",
       "      <td>0.170256</td>\n",
       "      <td>0.056971</td>\n",
       "      <td>0.943029</td>\n",
       "    </tr>\n",
       "    <tr>\n",
       "      <th>linear</th>\n",
       "      <td>0.248293</td>\n",
       "      <td>0.178904</td>\n",
       "      <td>0.814004</td>\n",
       "      <td>0.248476</td>\n",
       "      <td>0.159639</td>\n",
       "      <td>0.840361</td>\n",
       "    </tr>\n",
       "    <tr>\n",
       "      <th>lasso</th>\n",
       "      <td>0.248293</td>\n",
       "      <td>0.178904</td>\n",
       "      <td>0.814004</td>\n",
       "      <td>0.248476</td>\n",
       "      <td>0.159639</td>\n",
       "      <td>0.840361</td>\n",
       "    </tr>\n",
       "    <tr>\n",
       "      <th>elastic net</th>\n",
       "      <td>0.248293</td>\n",
       "      <td>0.178904</td>\n",
       "      <td>0.814004</td>\n",
       "      <td>0.248476</td>\n",
       "      <td>0.159639</td>\n",
       "      <td>0.840361</td>\n",
       "    </tr>\n",
       "    <tr>\n",
       "      <th>ridge</th>\n",
       "      <td>0.248291</td>\n",
       "      <td>0.178905</td>\n",
       "      <td>0.814003</td>\n",
       "      <td>0.248467</td>\n",
       "      <td>0.159639</td>\n",
       "      <td>0.840361</td>\n",
       "    </tr>\n",
       "    <tr>\n",
       "      <th>random forrest</th>\n",
       "      <td>0.354023</td>\n",
       "      <td>0.281770</td>\n",
       "      <td>0.707060</td>\n",
       "      <td>0.300550</td>\n",
       "      <td>0.178808</td>\n",
       "      <td>0.821192</td>\n",
       "    </tr>\n",
       "  </tbody>\n",
       "</table>\n",
       "</div>"
      ],
      "text/plain": [
       "                test mae  test mse   test r2  train mae  train mse  train r2\n",
       "mlpr            0.249761  0.147918  0.846219   0.170256   0.056971  0.943029\n",
       "linear          0.248293  0.178904  0.814004   0.248476   0.159639  0.840361\n",
       "lasso           0.248293  0.178904  0.814004   0.248476   0.159639  0.840361\n",
       "elastic net     0.248293  0.178904  0.814004   0.248476   0.159639  0.840361\n",
       "ridge           0.248291  0.178905  0.814003   0.248467   0.159639  0.840361\n",
       "random forrest  0.354023  0.281770  0.707060   0.300550   0.178808  0.821192"
      ]
     },
     "execution_count": 67,
     "metadata": {},
     "output_type": "execute_result"
    }
   ],
   "source": [
    "results = pd.concat(data) \n",
    "results.sort_values('test mse')"
   ]
  },
  {
   "cell_type": "markdown",
   "metadata": {},
   "source": [
    "# Testing the best model"
   ]
  },
  {
   "cell_type": "markdown",
   "metadata": {},
   "source": [
    "The table above shows that the best model is a neural network. The next step is to scale back the values from the test set to compare how our predicted results differed from the test results."
   ]
  },
  {
   "cell_type": "code",
   "execution_count": 68,
   "metadata": {
    "collapsed": true
   },
   "outputs": [],
   "source": [
    "predicted_test_y = model_mlpr.predict(X_test)"
   ]
  },
  {
   "cell_type": "code",
   "execution_count": 69,
   "metadata": {
    "collapsed": true
   },
   "outputs": [],
   "source": [
    "predicted_test_y_dollars = Y_scaler.inverse_transform(predicted_test_y) "
   ]
  },
  {
   "cell_type": "markdown",
   "metadata": {},
   "source": [
    "The following \"dollars\" table shows the predicted and test values of y and the module with the difference of these values."
   ]
  },
  {
   "cell_type": "code",
   "execution_count": 70,
   "metadata": {
    "scrolled": true
   },
   "outputs": [
    {
     "data": {
      "text/html": [
       "<div>\n",
       "<style>\n",
       "    .dataframe thead tr:only-child th {\n",
       "        text-align: right;\n",
       "    }\n",
       "\n",
       "    .dataframe thead th {\n",
       "        text-align: left;\n",
       "    }\n",
       "\n",
       "    .dataframe tbody tr th {\n",
       "        vertical-align: top;\n",
       "    }\n",
       "</style>\n",
       "<table border=\"1\" class=\"dataframe\">\n",
       "  <thead>\n",
       "    <tr style=\"text-align: right;\">\n",
       "      <th></th>\n",
       "      <th>predicted y test dollars</th>\n",
       "      <th>y test dollars</th>\n",
       "      <th>difference</th>\n",
       "      <th>abs difference</th>\n",
       "    </tr>\n",
       "  </thead>\n",
       "  <tbody>\n",
       "    <tr>\n",
       "      <th>0</th>\n",
       "      <td>184884.969328</td>\n",
       "      <td>127500</td>\n",
       "      <td>57384.969328</td>\n",
       "      <td>57384.969328</td>\n",
       "    </tr>\n",
       "    <tr>\n",
       "      <th>1</th>\n",
       "      <td>264145.404771</td>\n",
       "      <td>324000</td>\n",
       "      <td>-59854.595229</td>\n",
       "      <td>59854.595229</td>\n",
       "    </tr>\n",
       "    <tr>\n",
       "      <th>2</th>\n",
       "      <td>119818.666226</td>\n",
       "      <td>82500</td>\n",
       "      <td>37318.666226</td>\n",
       "      <td>37318.666226</td>\n",
       "    </tr>\n",
       "    <tr>\n",
       "      <th>3</th>\n",
       "      <td>371608.373558</td>\n",
       "      <td>335000</td>\n",
       "      <td>36608.373558</td>\n",
       "      <td>36608.373558</td>\n",
       "    </tr>\n",
       "    <tr>\n",
       "      <th>4</th>\n",
       "      <td>156075.051326</td>\n",
       "      <td>149500</td>\n",
       "      <td>6575.051326</td>\n",
       "      <td>6575.051326</td>\n",
       "    </tr>\n",
       "    <tr>\n",
       "      <th>5</th>\n",
       "      <td>381560.922455</td>\n",
       "      <td>275000</td>\n",
       "      <td>106560.922455</td>\n",
       "      <td>106560.922455</td>\n",
       "    </tr>\n",
       "    <tr>\n",
       "      <th>6</th>\n",
       "      <td>194024.536289</td>\n",
       "      <td>240000</td>\n",
       "      <td>-45975.463711</td>\n",
       "      <td>45975.463711</td>\n",
       "    </tr>\n",
       "    <tr>\n",
       "      <th>7</th>\n",
       "      <td>198522.108872</td>\n",
       "      <td>210000</td>\n",
       "      <td>-11477.891128</td>\n",
       "      <td>11477.891128</td>\n",
       "    </tr>\n",
       "    <tr>\n",
       "      <th>8</th>\n",
       "      <td>163502.184752</td>\n",
       "      <td>161750</td>\n",
       "      <td>1752.184752</td>\n",
       "      <td>1752.184752</td>\n",
       "    </tr>\n",
       "    <tr>\n",
       "      <th>9</th>\n",
       "      <td>221909.256838</td>\n",
       "      <td>260000</td>\n",
       "      <td>-38090.743162</td>\n",
       "      <td>38090.743162</td>\n",
       "    </tr>\n",
       "    <tr>\n",
       "      <th>10</th>\n",
       "      <td>275742.448939</td>\n",
       "      <td>270000</td>\n",
       "      <td>5742.448939</td>\n",
       "      <td>5742.448939</td>\n",
       "    </tr>\n",
       "    <tr>\n",
       "      <th>11</th>\n",
       "      <td>127430.785026</td>\n",
       "      <td>129500</td>\n",
       "      <td>-2069.214974</td>\n",
       "      <td>2069.214974</td>\n",
       "    </tr>\n",
       "    <tr>\n",
       "      <th>12</th>\n",
       "      <td>189675.631164</td>\n",
       "      <td>196000</td>\n",
       "      <td>-6324.368836</td>\n",
       "      <td>6324.368836</td>\n",
       "    </tr>\n",
       "    <tr>\n",
       "      <th>13</th>\n",
       "      <td>164670.480079</td>\n",
       "      <td>143000</td>\n",
       "      <td>21670.480079</td>\n",
       "      <td>21670.480079</td>\n",
       "    </tr>\n",
       "    <tr>\n",
       "      <th>14</th>\n",
       "      <td>141972.114767</td>\n",
       "      <td>107400</td>\n",
       "      <td>34572.114767</td>\n",
       "      <td>34572.114767</td>\n",
       "    </tr>\n",
       "    <tr>\n",
       "      <th>15</th>\n",
       "      <td>128980.504465</td>\n",
       "      <td>128500</td>\n",
       "      <td>480.504465</td>\n",
       "      <td>480.504465</td>\n",
       "    </tr>\n",
       "    <tr>\n",
       "      <th>16</th>\n",
       "      <td>163503.923781</td>\n",
       "      <td>138800</td>\n",
       "      <td>24703.923781</td>\n",
       "      <td>24703.923781</td>\n",
       "    </tr>\n",
       "    <tr>\n",
       "      <th>17</th>\n",
       "      <td>110679.936040</td>\n",
       "      <td>76500</td>\n",
       "      <td>34179.936040</td>\n",
       "      <td>34179.936040</td>\n",
       "    </tr>\n",
       "    <tr>\n",
       "      <th>18</th>\n",
       "      <td>199074.828179</td>\n",
       "      <td>178000</td>\n",
       "      <td>21074.828179</td>\n",
       "      <td>21074.828179</td>\n",
       "    </tr>\n",
       "    <tr>\n",
       "      <th>19</th>\n",
       "      <td>147617.559050</td>\n",
       "      <td>200000</td>\n",
       "      <td>-52382.440950</td>\n",
       "      <td>52382.440950</td>\n",
       "    </tr>\n",
       "    <tr>\n",
       "      <th>20</th>\n",
       "      <td>134195.750865</td>\n",
       "      <td>151000</td>\n",
       "      <td>-16804.249135</td>\n",
       "      <td>16804.249135</td>\n",
       "    </tr>\n",
       "    <tr>\n",
       "      <th>21</th>\n",
       "      <td>184077.734371</td>\n",
       "      <td>175900</td>\n",
       "      <td>8177.734371</td>\n",
       "      <td>8177.734371</td>\n",
       "    </tr>\n",
       "    <tr>\n",
       "      <th>22</th>\n",
       "      <td>325672.418055</td>\n",
       "      <td>375000</td>\n",
       "      <td>-49327.581945</td>\n",
       "      <td>49327.581945</td>\n",
       "    </tr>\n",
       "    <tr>\n",
       "      <th>23</th>\n",
       "      <td>125610.734147</td>\n",
       "      <td>139000</td>\n",
       "      <td>-13389.265853</td>\n",
       "      <td>13389.265853</td>\n",
       "    </tr>\n",
       "    <tr>\n",
       "      <th>24</th>\n",
       "      <td>180144.939346</td>\n",
       "      <td>176000</td>\n",
       "      <td>4144.939346</td>\n",
       "      <td>4144.939346</td>\n",
       "    </tr>\n",
       "    <tr>\n",
       "      <th>25</th>\n",
       "      <td>122131.984829</td>\n",
       "      <td>167500</td>\n",
       "      <td>-45368.015171</td>\n",
       "      <td>45368.015171</td>\n",
       "    </tr>\n",
       "    <tr>\n",
       "      <th>26</th>\n",
       "      <td>132822.985873</td>\n",
       "      <td>144000</td>\n",
       "      <td>-11177.014127</td>\n",
       "      <td>11177.014127</td>\n",
       "    </tr>\n",
       "    <tr>\n",
       "      <th>27</th>\n",
       "      <td>147038.396082</td>\n",
       "      <td>129000</td>\n",
       "      <td>18038.396082</td>\n",
       "      <td>18038.396082</td>\n",
       "    </tr>\n",
       "    <tr>\n",
       "      <th>28</th>\n",
       "      <td>119563.823273</td>\n",
       "      <td>100000</td>\n",
       "      <td>19563.823273</td>\n",
       "      <td>19563.823273</td>\n",
       "    </tr>\n",
       "    <tr>\n",
       "      <th>29</th>\n",
       "      <td>93100.898992</td>\n",
       "      <td>103200</td>\n",
       "      <td>-10099.101008</td>\n",
       "      <td>10099.101008</td>\n",
       "    </tr>\n",
       "    <tr>\n",
       "      <th>...</th>\n",
       "      <td>...</td>\n",
       "      <td>...</td>\n",
       "      <td>...</td>\n",
       "      <td>...</td>\n",
       "    </tr>\n",
       "    <tr>\n",
       "      <th>452</th>\n",
       "      <td>263992.555744</td>\n",
       "      <td>274725</td>\n",
       "      <td>-10732.444256</td>\n",
       "      <td>10732.444256</td>\n",
       "    </tr>\n",
       "    <tr>\n",
       "      <th>453</th>\n",
       "      <td>75285.436521</td>\n",
       "      <td>35311</td>\n",
       "      <td>39974.436521</td>\n",
       "      <td>39974.436521</td>\n",
       "    </tr>\n",
       "    <tr>\n",
       "      <th>454</th>\n",
       "      <td>73893.943103</td>\n",
       "      <td>106250</td>\n",
       "      <td>-32356.056897</td>\n",
       "      <td>32356.056897</td>\n",
       "    </tr>\n",
       "    <tr>\n",
       "      <th>455</th>\n",
       "      <td>206707.810648</td>\n",
       "      <td>194201</td>\n",
       "      <td>12506.810648</td>\n",
       "      <td>12506.810648</td>\n",
       "    </tr>\n",
       "    <tr>\n",
       "      <th>456</th>\n",
       "      <td>119182.491306</td>\n",
       "      <td>113000</td>\n",
       "      <td>6182.491306</td>\n",
       "      <td>6182.491306</td>\n",
       "    </tr>\n",
       "    <tr>\n",
       "      <th>457</th>\n",
       "      <td>135029.238423</td>\n",
       "      <td>129900</td>\n",
       "      <td>5129.238423</td>\n",
       "      <td>5129.238423</td>\n",
       "    </tr>\n",
       "    <tr>\n",
       "      <th>458</th>\n",
       "      <td>304077.069475</td>\n",
       "      <td>301500</td>\n",
       "      <td>2577.069475</td>\n",
       "      <td>2577.069475</td>\n",
       "    </tr>\n",
       "    <tr>\n",
       "      <th>459</th>\n",
       "      <td>209475.608117</td>\n",
       "      <td>197000</td>\n",
       "      <td>12475.608117</td>\n",
       "      <td>12475.608117</td>\n",
       "    </tr>\n",
       "    <tr>\n",
       "      <th>460</th>\n",
       "      <td>149264.232440</td>\n",
       "      <td>156000</td>\n",
       "      <td>-6735.767560</td>\n",
       "      <td>6735.767560</td>\n",
       "    </tr>\n",
       "    <tr>\n",
       "      <th>461</th>\n",
       "      <td>224816.287167</td>\n",
       "      <td>223500</td>\n",
       "      <td>1316.287167</td>\n",
       "      <td>1316.287167</td>\n",
       "    </tr>\n",
       "    <tr>\n",
       "      <th>462</th>\n",
       "      <td>177288.957649</td>\n",
       "      <td>196500</td>\n",
       "      <td>-19211.042351</td>\n",
       "      <td>19211.042351</td>\n",
       "    </tr>\n",
       "    <tr>\n",
       "      <th>463</th>\n",
       "      <td>136485.260942</td>\n",
       "      <td>129500</td>\n",
       "      <td>6985.260942</td>\n",
       "      <td>6985.260942</td>\n",
       "    </tr>\n",
       "    <tr>\n",
       "      <th>464</th>\n",
       "      <td>420430.102492</td>\n",
       "      <td>378500</td>\n",
       "      <td>41930.102492</td>\n",
       "      <td>41930.102492</td>\n",
       "    </tr>\n",
       "    <tr>\n",
       "      <th>465</th>\n",
       "      <td>107725.682676</td>\n",
       "      <td>152000</td>\n",
       "      <td>-44274.317324</td>\n",
       "      <td>44274.317324</td>\n",
       "    </tr>\n",
       "    <tr>\n",
       "      <th>466</th>\n",
       "      <td>113893.200825</td>\n",
       "      <td>101800</td>\n",
       "      <td>12093.200825</td>\n",
       "      <td>12093.200825</td>\n",
       "    </tr>\n",
       "    <tr>\n",
       "      <th>467</th>\n",
       "      <td>207249.853493</td>\n",
       "      <td>217500</td>\n",
       "      <td>-10250.146507</td>\n",
       "      <td>10250.146507</td>\n",
       "    </tr>\n",
       "    <tr>\n",
       "      <th>468</th>\n",
       "      <td>187105.675211</td>\n",
       "      <td>181134</td>\n",
       "      <td>5971.675211</td>\n",
       "      <td>5971.675211</td>\n",
       "    </tr>\n",
       "    <tr>\n",
       "      <th>469</th>\n",
       "      <td>134579.551430</td>\n",
       "      <td>125500</td>\n",
       "      <td>9079.551430</td>\n",
       "      <td>9079.551430</td>\n",
       "    </tr>\n",
       "    <tr>\n",
       "      <th>470</th>\n",
       "      <td>155451.638656</td>\n",
       "      <td>142500</td>\n",
       "      <td>12951.638656</td>\n",
       "      <td>12951.638656</td>\n",
       "    </tr>\n",
       "    <tr>\n",
       "      <th>471</th>\n",
       "      <td>155626.849066</td>\n",
       "      <td>132250</td>\n",
       "      <td>23376.849066</td>\n",
       "      <td>23376.849066</td>\n",
       "    </tr>\n",
       "    <tr>\n",
       "      <th>472</th>\n",
       "      <td>414152.422365</td>\n",
       "      <td>361919</td>\n",
       "      <td>52233.422365</td>\n",
       "      <td>52233.422365</td>\n",
       "    </tr>\n",
       "    <tr>\n",
       "      <th>473</th>\n",
       "      <td>125626.824728</td>\n",
       "      <td>117000</td>\n",
       "      <td>8626.824728</td>\n",
       "      <td>8626.824728</td>\n",
       "    </tr>\n",
       "    <tr>\n",
       "      <th>474</th>\n",
       "      <td>149458.659509</td>\n",
       "      <td>207000</td>\n",
       "      <td>-57541.340491</td>\n",
       "      <td>57541.340491</td>\n",
       "    </tr>\n",
       "    <tr>\n",
       "      <th>475</th>\n",
       "      <td>363535.634296</td>\n",
       "      <td>253293</td>\n",
       "      <td>110242.634296</td>\n",
       "      <td>110242.634296</td>\n",
       "    </tr>\n",
       "    <tr>\n",
       "      <th>476</th>\n",
       "      <td>140360.799736</td>\n",
       "      <td>134000</td>\n",
       "      <td>6360.799736</td>\n",
       "      <td>6360.799736</td>\n",
       "    </tr>\n",
       "    <tr>\n",
       "      <th>477</th>\n",
       "      <td>146494.658241</td>\n",
       "      <td>141000</td>\n",
       "      <td>5494.658241</td>\n",
       "      <td>5494.658241</td>\n",
       "    </tr>\n",
       "    <tr>\n",
       "      <th>478</th>\n",
       "      <td>169900.394632</td>\n",
       "      <td>163900</td>\n",
       "      <td>6000.394632</td>\n",
       "      <td>6000.394632</td>\n",
       "    </tr>\n",
       "    <tr>\n",
       "      <th>479</th>\n",
       "      <td>196326.664032</td>\n",
       "      <td>190000</td>\n",
       "      <td>6326.664032</td>\n",
       "      <td>6326.664032</td>\n",
       "    </tr>\n",
       "    <tr>\n",
       "      <th>480</th>\n",
       "      <td>195473.329783</td>\n",
       "      <td>107500</td>\n",
       "      <td>87973.329783</td>\n",
       "      <td>87973.329783</td>\n",
       "    </tr>\n",
       "    <tr>\n",
       "      <th>481</th>\n",
       "      <td>90412.301592</td>\n",
       "      <td>127500</td>\n",
       "      <td>-37087.698408</td>\n",
       "      <td>37087.698408</td>\n",
       "    </tr>\n",
       "  </tbody>\n",
       "</table>\n",
       "<p>482 rows × 4 columns</p>\n",
       "</div>"
      ],
      "text/plain": [
       "     predicted y test dollars  y test dollars     difference  abs difference\n",
       "0               184884.969328          127500   57384.969328    57384.969328\n",
       "1               264145.404771          324000  -59854.595229    59854.595229\n",
       "2               119818.666226           82500   37318.666226    37318.666226\n",
       "3               371608.373558          335000   36608.373558    36608.373558\n",
       "4               156075.051326          149500    6575.051326     6575.051326\n",
       "5               381560.922455          275000  106560.922455   106560.922455\n",
       "6               194024.536289          240000  -45975.463711    45975.463711\n",
       "7               198522.108872          210000  -11477.891128    11477.891128\n",
       "8               163502.184752          161750    1752.184752     1752.184752\n",
       "9               221909.256838          260000  -38090.743162    38090.743162\n",
       "10              275742.448939          270000    5742.448939     5742.448939\n",
       "11              127430.785026          129500   -2069.214974     2069.214974\n",
       "12              189675.631164          196000   -6324.368836     6324.368836\n",
       "13              164670.480079          143000   21670.480079    21670.480079\n",
       "14              141972.114767          107400   34572.114767    34572.114767\n",
       "15              128980.504465          128500     480.504465      480.504465\n",
       "16              163503.923781          138800   24703.923781    24703.923781\n",
       "17              110679.936040           76500   34179.936040    34179.936040\n",
       "18              199074.828179          178000   21074.828179    21074.828179\n",
       "19              147617.559050          200000  -52382.440950    52382.440950\n",
       "20              134195.750865          151000  -16804.249135    16804.249135\n",
       "21              184077.734371          175900    8177.734371     8177.734371\n",
       "22              325672.418055          375000  -49327.581945    49327.581945\n",
       "23              125610.734147          139000  -13389.265853    13389.265853\n",
       "24              180144.939346          176000    4144.939346     4144.939346\n",
       "25              122131.984829          167500  -45368.015171    45368.015171\n",
       "26              132822.985873          144000  -11177.014127    11177.014127\n",
       "27              147038.396082          129000   18038.396082    18038.396082\n",
       "28              119563.823273          100000   19563.823273    19563.823273\n",
       "29               93100.898992          103200  -10099.101008    10099.101008\n",
       "..                        ...             ...            ...             ...\n",
       "452             263992.555744          274725  -10732.444256    10732.444256\n",
       "453              75285.436521           35311   39974.436521    39974.436521\n",
       "454              73893.943103          106250  -32356.056897    32356.056897\n",
       "455             206707.810648          194201   12506.810648    12506.810648\n",
       "456             119182.491306          113000    6182.491306     6182.491306\n",
       "457             135029.238423          129900    5129.238423     5129.238423\n",
       "458             304077.069475          301500    2577.069475     2577.069475\n",
       "459             209475.608117          197000   12475.608117    12475.608117\n",
       "460             149264.232440          156000   -6735.767560     6735.767560\n",
       "461             224816.287167          223500    1316.287167     1316.287167\n",
       "462             177288.957649          196500  -19211.042351    19211.042351\n",
       "463             136485.260942          129500    6985.260942     6985.260942\n",
       "464             420430.102492          378500   41930.102492    41930.102492\n",
       "465             107725.682676          152000  -44274.317324    44274.317324\n",
       "466             113893.200825          101800   12093.200825    12093.200825\n",
       "467             207249.853493          217500  -10250.146507    10250.146507\n",
       "468             187105.675211          181134    5971.675211     5971.675211\n",
       "469             134579.551430          125500    9079.551430     9079.551430\n",
       "470             155451.638656          142500   12951.638656    12951.638656\n",
       "471             155626.849066          132250   23376.849066    23376.849066\n",
       "472             414152.422365          361919   52233.422365    52233.422365\n",
       "473             125626.824728          117000    8626.824728     8626.824728\n",
       "474             149458.659509          207000  -57541.340491    57541.340491\n",
       "475             363535.634296          253293  110242.634296   110242.634296\n",
       "476             140360.799736          134000    6360.799736     6360.799736\n",
       "477             146494.658241          141000    5494.658241     5494.658241\n",
       "478             169900.394632          163900    6000.394632     6000.394632\n",
       "479             196326.664032          190000    6326.664032     6326.664032\n",
       "480             195473.329783          107500   87973.329783    87973.329783\n",
       "481              90412.301592          127500  -37087.698408    37087.698408\n",
       "\n",
       "[482 rows x 4 columns]"
      ]
     },
     "execution_count": 70,
     "metadata": {},
     "output_type": "execute_result"
    }
   ],
   "source": [
    "dollars = pd.DataFrame(data={'y test dollars':y_test.flatten(),'predicted y test dollars':predicted_test_y_dollars})\n",
    "dollars['difference'] = dollars['predicted y test dollars'] - dollars['y test dollars']\n",
    "dollars['abs difference'] = abs(dollars['difference'])\n",
    "dollars"
   ]
  },
  {
   "cell_type": "markdown",
   "metadata": {},
   "source": [
    "Negative values indicate underestimation and positive values about overestimation relative to test values."
   ]
  },
  {
   "cell_type": "markdown",
   "metadata": {},
   "source": [
    "# Data visualization"
   ]
  },
  {
   "cell_type": "code",
   "execution_count": 71,
   "metadata": {},
   "outputs": [
    {
     "data": {
      "text/html": [
       "<script>requirejs.config({paths: { 'plotly': ['https://cdn.plot.ly/plotly-latest.min']},});if(!window.Plotly) {{require(['plotly'],function(plotly) {window.Plotly=plotly;});}}</script>"
      ],
      "text/vnd.plotly.v1+html": [
       "<script>requirejs.config({paths: { 'plotly': ['https://cdn.plot.ly/plotly-latest.min']},});if(!window.Plotly) {{require(['plotly'],function(plotly) {window.Plotly=plotly;});}}</script>"
      ]
     },
     "metadata": {},
     "output_type": "display_data"
    }
   ],
   "source": [
    "import plotly.offline as py\n",
    "import plotly.graph_objs as go\n",
    "py.init_notebook_mode(connected=True)"
   ]
  },
  {
   "cell_type": "markdown",
   "metadata": {},
   "source": [
    "# Histogram"
   ]
  },
  {
   "cell_type": "code",
   "execution_count": 72,
   "metadata": {},
   "outputs": [
    {
     "data": {
      "application/vnd.plotly.v1+json": {
       "data": [
        {
         "type": "histogram",
         "x": [
          57384.9693279888,
          -59854.5952285105,
          37318.66622581286,
          36608.37355787668,
          6575.051325870503,
          106560.92245472455,
          -45975.463711282995,
          -11477.891127671464,
          1752.1847521800955,
          -38090.74316173227,
          5742.448939442809,
          -2069.214973760245,
          -6324.368835655419,
          21670.480079200235,
          34572.11476664388,
          480.5044645429007,
          24703.92378104909,
          34179.93604040559,
          21074.828178832016,
          -52382.44094970185,
          -16804.249134745245,
          8177.73437149066,
          -49327.58194534556,
          -13389.265852707496,
          4144.9393455678655,
          -45368.015171009756,
          -11177.014127409959,
          18038.396082454594,
          19563.823273263522,
          -10099.101007509467,
          8515.639463808038,
          -5734.411683648941,
          -6863.4348161661765,
          -45956.065217571246,
          7428.410551693873,
          22903.88172866663,
          -11734.630436036881,
          -17706.648694676085,
          -4562.373535443214,
          3447.3426773766114,
          -7085.450949630962,
          16636.505900514836,
          -15375.463800173835,
          6104.475870123482,
          -13191.902183831116,
          -16101.303850575365,
          -40692.9666664954,
          -69640.49373892578,
          20324.199788839265,
          7375.834260362957,
          27953.076521149604,
          41867.59920800125,
          9064.817574418208,
          7994.5143990963115,
          -51.877965475810925,
          13058.667873167637,
          -838.780985351943,
          9065.089559790125,
          20368.591394836156,
          31593.524257548837,
          788.0221401419549,
          26173.925827152154,
          -44583.15571986156,
          -5163.516438411345,
          34518.42980090456,
          -42097.076060224674,
          -9803.23293503435,
          13115.416984620548,
          47845.54052051771,
          -10670.202995936503,
          -4201.311940487474,
          31990.155823483656,
          -37824.75311260653,
          40223.33454408156,
          10428.735339633859,
          6803.770890019485,
          4171.417476314207,
          1254.8165419864818,
          2745.6142118838034,
          -36479.42482726756,
          2320.270242445462,
          10155.848957443115,
          -22222.3717830581,
          -6070.235102105362,
          -2371.2012771215814,
          23555.22816114922,
          9854.524323427206,
          -6906.852056190415,
          -16454.722949922012,
          -7578.771599825646,
          16868.202602633013,
          20620.833988090744,
          10131.889320099814,
          84090.71542571834,
          -7151.829614971299,
          12103.469085990044,
          209.97955688148795,
          6711.396509440907,
          -7322.7675829533255,
          7436.976878893562,
          14173.531668529555,
          -2403.5459760256344,
          5934.120523930964,
          29019.253078409703,
          8236.235971721122,
          -18304.019076511686,
          10232.074936942867,
          -20092.66971136043,
          14441.951248109384,
          -29119.651972429245,
          28092.688923615584,
          -4447.357816447591,
          30865.486536518103,
          15846.673178457655,
          -53114.52613323601,
          29588.45299059275,
          -19340.376886788465,
          -58756.746828698844,
          9588.261560678337,
          -9415.666706194344,
          22132.320398043143,
          -13475.05295131597,
          27515.893991483317,
          2692.2090996982297,
          5054.93339000846,
          -4233.004530079372,
          13727.885228999337,
          -6072.539197048871,
          13060.833435444132,
          -5628.2561647784605,
          -23927.910765072316,
          73622.21684072478,
          -33960.920132275496,
          -3966.8894853585516,
          -9196.034369098168,
          -12574.938385717978,
          64651.478641677066,
          2824.4511059695506,
          -31370.359425220406,
          -16663.369151447987,
          -9001.541412842547,
          11560.752779966104,
          -42925.81343099594,
          22686.185835987882,
          6063.116496355797,
          1111.5043903969054,
          -11105.876914134948,
          36187.26712645596,
          17166.602406199614,
          -1422.8502717787924,
          -659.6033194213524,
          6258.401742135524,
          53064.40343570383,
          17654.45581205991,
          -26021.73931278207,
          -5245.202514135832,
          14998.699662414816,
          -38161.694146638445,
          561.1002560677589,
          -2284.039491525735,
          -5753.742076190116,
          5008.437984020333,
          -50479.17593144695,
          -25210.637748805195,
          -18197.88979724006,
          -17371.522278486722,
          13430.388188686367,
          34319.472525597375,
          33027.634945158265,
          -16489.973764745955,
          13539.496697425668,
          -26320.709217465308,
          -16941.36175943981,
          8053.939603019535,
          -12154.12129306927,
          12661.368471892958,
          49132.93270985808,
          9494.168689039914,
          134.4175905419106,
          3909.2635866290657,
          5435.277754947485,
          6970.956592507398,
          27912.912859738106,
          8641.16573845921,
          9495.29533826132,
          -7965.623340579419,
          28201.8920215946,
          -102407.08694871399,
          15392.667294978513,
          1791.7113551069342,
          -10964.027311643411,
          -8914.108510736085,
          3047.50720598473,
          19202.07510695653,
          15879.80336423326,
          9098.97708026212,
          -25742.98660036488,
          -1878.7080534888082,
          26908.560390990577,
          -25795.41486732458,
          -223439.24855987146,
          11539.65609963311,
          -57322.560337810835,
          21192.06414164821,
          -3209.785800656129,
          2711.4068764765107,
          -41457.28092053527,
          -28506.6628101182,
          11607.060647976847,
          -16431.26883498777,
          8726.578194576432,
          18557.82636845662,
          357.21339025218913,
          6898.229826144379,
          -51874.190381808265,
          -31097.908991831384,
          11591.360960509977,
          -15348.164004215127,
          14682.62172722991,
          5404.9659140510485,
          11892.4187559594,
          34643.23175262165,
          35231.89412918294,
          7073.470583631919,
          -54194.28380582901,
          21570.481331958057,
          11841.701850107522,
          -30891.939422116295,
          24499.05096207805,
          15272.436701534112,
          14810.268083418821,
          -24036.39246788746,
          23102.023309345823,
          30616.420603017526,
          -16644.191006736364,
          -7875.765258112457,
          -9095.016582939279,
          -6225.201743414102,
          7700.000982746831,
          23982.90401707677,
          -11720.48711930908,
          -4936.16157825751,
          13834.519583969406,
          -6221.71850206668,
          2449.560900689976,
          -19451.14082880391,
          2683.302938873647,
          -6711.180857584142,
          530.5243654872465,
          30384.916413990693,
          -39734.559296649415,
          449.1134954057052,
          40806.10185514041,
          -10994.10614925249,
          14100.297062135098,
          -2355.9744759773603,
          15508.087613542797,
          -19021.47682443369,
          -80116.48467768269,
          21300.531549159903,
          12479.466223091003,
          -2128.572498368507,
          3348.2997184789856,
          -7806.415153038484,
          -12256.642982828896,
          10256.543600694102,
          39960.65877556277,
          -10895.165981479106,
          27018.153884891217,
          12246.917236222158,
          3575.6480060284957,
          -11235.818279057159,
          -8853.372642707342,
          2986.2954210978933,
          -44389.49355049484,
          -9753.043128105055,
          -23670.6490135458,
          24706.07740577351,
          -23398.185192189325,
          -8999.15365464671,
          -12501.194764025218,
          8705.60928107804,
          -1683.326163970516,
          3248.903138199472,
          8847.168353598041,
          -33391.922104487196,
          2773.869496777741,
          34892.794051292934,
          -865.4274730396137,
          8883.193159111775,
          101949.75165101042,
          10473.403046072752,
          2328.02724362367,
          -11865.828029802069,
          36192.394924104156,
          -9995.56931865844,
          951.6732103791437,
          -13208.79646913585,
          -539.7782873325632,
          -4931.96307789383,
          -11619.202372850661,
          23296.731421418954,
          -20074.10514508246,
          36760.81474310637,
          25893.85939023104,
          121874.00884311053,
          -350.7372488398105,
          43441.92122891708,
          -11961.843259180518,
          6096.528552168544,
          18120.008319027038,
          42544.3718009046,
          11570.374678482243,
          22427.918135788204,
          -19981.412773256045,
          6399.1496352869435,
          1350.7105327122845,
          -49293.68644052233,
          -13820.148434890929,
          -9320.686606829637,
          18093.490719584195,
          -13216.558673434614,
          -19970.682350122093,
          147229.21386220638,
          42893.17622654,
          -18059.022787537717,
          22504.827983533905,
          -39057.334849950625,
          16676.45121321254,
          -5020.370547329614,
          -31223.45666363067,
          3268.8704667830607,
          17732.85891657771,
          -8780.743882176583,
          7173.253841775993,
          1348.5764764085761,
          -11470.172877319375,
          -19702.947467970065,
          10634.705401574494,
          28839.0282098662,
          3175.195679468059,
          19945.42666492524,
          -4250.715111409547,
          7746.540090369759,
          6830.18485605935,
          3130.752081985469,
          -1089.593429555156,
          20391.75736601799,
          20386.756876808475,
          2274.707643435686,
          36294.23687085509,
          66709.93386748346,
          -34696.16230284801,
          9893.388604107633,
          -22768.587216599786,
          2191.240565154585,
          -6577.629708568391,
          -21110.786066673318,
          22747.189256591722,
          14830.593469127663,
          31679.21638115123,
          -1666.6292238858005,
          11434.692965590279,
          -7775.0438348320895,
          6492.523469922715,
          -40676.777955997124,
          -288.6442461607221,
          -32867.89600803907,
          24017.363791100215,
          -3260.578127600922,
          -37792.08256874932,
          -5410.258926438168,
          -15514.110386811997,
          -36847.89584375647,
          -59801.93773026302,
          -28053.499786762317,
          -149.69948781246785,
          2850.648708277149,
          -5594.930932980293,
          -286.99696172442054,
          -2718.033576031681,
          13291.290815810935,
          20254.35366443405,
          12915.875679195844,
          26955.788273278973,
          -32340.813700467872,
          -15980.713023725533,
          -53179.72299567651,
          -5619.858139530785,
          1283.6991504459584,
          -5846.122025434626,
          10865.673504712991,
          -1469.1775452427391,
          -11747.132988325844,
          -29725.713317146787,
          49533.51445413113,
          5736.675380639092,
          -4878.62926423116,
          50468.742049175606,
          13080.389535125796,
          325.8178901708161,
          -37205.32224475485,
          -7399.4731605157285,
          -19990.46487939279,
          6872.519749992527,
          -15100.035658812907,
          -2537.615935606649,
          11228.385969324969,
          -14350.719193190627,
          6856.750787317549,
          -2540.5191183232673,
          26758.800632825645,
          -2472.40070702869,
          21090.777180536214,
          2827.915619614476,
          23294.036779722082,
          2585.725692049542,
          -1002.5124213967938,
          206318.9355148991,
          5442.042909088428,
          4556.602194951149,
          -4331.129607931274,
          41795.851543446304,
          -19466.59128077724,
          18017.98643530003,
          85458.87903918867,
          106859.75975561445,
          44376.73615406474,
          34320.92079941768,
          4594.263002151827,
          15497.405464975367,
          29498.806659249618,
          -6599.6419303963485,
          61196.27563273092,
          -3007.968972651812,
          2244.4831921111618,
          33862.37191973452,
          -5296.580781753,
          2195.774898141448,
          -7628.897436557658,
          -2220.8798118991836,
          33388.14161790843,
          2468.2212756725494,
          14520.592771264026,
          2356.1852833998564,
          17165.867559892096,
          -1529.0550421242224,
          5259.148339457111,
          -34578.0891277309,
          22437.730734221695,
          -8958.692292148917,
          7957.604267322167,
          -10732.44425617042,
          39974.436521232186,
          -32356.05689689261,
          12506.810647801787,
          6182.491305821211,
          5129.238423023024,
          2577.069475252996,
          12475.60811718044,
          -6735.767560170381,
          1316.2871674876078,
          -19211.042351013428,
          6985.260941717948,
          41930.10249210836,
          -44274.3173235733,
          12093.200824828251,
          -10250.146507468715,
          5971.6752110493835,
          9079.551430478634,
          12951.63865566472,
          23376.849066363473,
          52233.42236504366,
          8626.824728027626,
          -57541.340490512404,
          110242.6342959553,
          6360.79973612912,
          5494.658240891818,
          6000.394631871721,
          6326.664032064204,
          87973.32978336464,
          -37087.69840786277
         ]
        }
       ],
       "layout": {}
      },
      "text/html": [
       "<div id=\"a2daccf6-be09-4af0-96f1-109919030247\" style=\"height: 525px; width: 100%;\" class=\"plotly-graph-div\"></div><script type=\"text/javascript\">require([\"plotly\"], function(Plotly) { window.PLOTLYENV=window.PLOTLYENV || {};window.PLOTLYENV.BASE_URL=\"https://plot.ly\";Plotly.newPlot(\"a2daccf6-be09-4af0-96f1-109919030247\", [{\"type\": \"histogram\", \"x\": [57384.9693279888, -59854.5952285105, 37318.66622581286, 36608.37355787668, 6575.051325870503, 106560.92245472455, -45975.463711282995, -11477.891127671464, 1752.1847521800955, -38090.74316173227, 5742.448939442809, -2069.214973760245, -6324.368835655419, 21670.480079200235, 34572.11476664388, 480.5044645429007, 24703.92378104909, 34179.93604040559, 21074.828178832016, -52382.44094970185, -16804.249134745245, 8177.73437149066, -49327.58194534556, -13389.265852707496, 4144.9393455678655, -45368.015171009756, -11177.014127409959, 18038.396082454594, 19563.823273263522, -10099.101007509467, 8515.639463808038, -5734.411683648941, -6863.4348161661765, -45956.065217571246, 7428.410551693873, 22903.88172866663, -11734.630436036881, -17706.648694676085, -4562.373535443214, 3447.3426773766114, -7085.450949630962, 16636.505900514836, -15375.463800173835, 6104.475870123482, -13191.902183831116, -16101.303850575365, -40692.9666664954, -69640.49373892578, 20324.199788839265, 7375.834260362957, 27953.076521149604, 41867.59920800125, 9064.817574418208, 7994.5143990963115, -51.877965475810925, 13058.667873167637, -838.780985351943, 9065.089559790125, 20368.591394836156, 31593.524257548837, 788.0221401419549, 26173.925827152154, -44583.15571986156, -5163.516438411345, 34518.42980090456, -42097.076060224674, -9803.23293503435, 13115.416984620548, 47845.54052051771, -10670.202995936503, -4201.311940487474, 31990.155823483656, -37824.75311260653, 40223.33454408156, 10428.735339633859, 6803.770890019485, 4171.417476314207, 1254.8165419864818, 2745.6142118838034, -36479.42482726756, 2320.270242445462, 10155.848957443115, -22222.3717830581, -6070.235102105362, -2371.2012771215814, 23555.22816114922, 9854.524323427206, -6906.852056190415, -16454.722949922012, -7578.771599825646, 16868.202602633013, 20620.833988090744, 10131.889320099814, 84090.71542571834, -7151.829614971299, 12103.469085990044, 209.97955688148795, 6711.396509440907, -7322.7675829533255, 7436.976878893562, 14173.531668529555, -2403.5459760256344, 5934.120523930964, 29019.253078409703, 8236.235971721122, -18304.019076511686, 10232.074936942867, -20092.66971136043, 14441.951248109384, -29119.651972429245, 28092.688923615584, -4447.357816447591, 30865.486536518103, 15846.673178457655, -53114.52613323601, 29588.45299059275, -19340.376886788465, -58756.746828698844, 9588.261560678337, -9415.666706194344, 22132.320398043143, -13475.05295131597, 27515.893991483317, 2692.2090996982297, 5054.93339000846, -4233.004530079372, 13727.885228999337, -6072.539197048871, 13060.833435444132, -5628.2561647784605, -23927.910765072316, 73622.21684072478, -33960.920132275496, -3966.8894853585516, -9196.034369098168, -12574.938385717978, 64651.478641677066, 2824.4511059695506, -31370.359425220406, -16663.369151447987, -9001.541412842547, 11560.752779966104, -42925.81343099594, 22686.185835987882, 6063.116496355797, 1111.5043903969054, -11105.876914134948, 36187.26712645596, 17166.602406199614, -1422.8502717787924, -659.6033194213524, 6258.401742135524, 53064.40343570383, 17654.45581205991, -26021.73931278207, -5245.202514135832, 14998.699662414816, -38161.694146638445, 561.1002560677589, -2284.039491525735, -5753.742076190116, 5008.437984020333, -50479.17593144695, -25210.637748805195, -18197.88979724006, -17371.522278486722, 13430.388188686367, 34319.472525597375, 33027.634945158265, -16489.973764745955, 13539.496697425668, -26320.709217465308, -16941.36175943981, 8053.939603019535, -12154.12129306927, 12661.368471892958, 49132.93270985808, 9494.168689039914, 134.4175905419106, 3909.2635866290657, 5435.277754947485, 6970.956592507398, 27912.912859738106, 8641.16573845921, 9495.29533826132, -7965.623340579419, 28201.8920215946, -102407.08694871399, 15392.667294978513, 1791.7113551069342, -10964.027311643411, -8914.108510736085, 3047.50720598473, 19202.07510695653, 15879.80336423326, 9098.97708026212, -25742.98660036488, -1878.7080534888082, 26908.560390990577, -25795.41486732458, -223439.24855987146, 11539.65609963311, -57322.560337810835, 21192.06414164821, -3209.785800656129, 2711.4068764765107, -41457.28092053527, -28506.6628101182, 11607.060647976847, -16431.26883498777, 8726.578194576432, 18557.82636845662, 357.21339025218913, 6898.229826144379, -51874.190381808265, -31097.908991831384, 11591.360960509977, -15348.164004215127, 14682.62172722991, 5404.9659140510485, 11892.4187559594, 34643.23175262165, 35231.89412918294, 7073.470583631919, -54194.28380582901, 21570.481331958057, 11841.701850107522, -30891.939422116295, 24499.05096207805, 15272.436701534112, 14810.268083418821, -24036.39246788746, 23102.023309345823, 30616.420603017526, -16644.191006736364, -7875.765258112457, -9095.016582939279, -6225.201743414102, 7700.000982746831, 23982.90401707677, -11720.48711930908, -4936.16157825751, 13834.519583969406, -6221.71850206668, 2449.560900689976, -19451.14082880391, 2683.302938873647, -6711.180857584142, 530.5243654872465, 30384.916413990693, -39734.559296649415, 449.1134954057052, 40806.10185514041, -10994.10614925249, 14100.297062135098, -2355.9744759773603, 15508.087613542797, -19021.47682443369, -80116.48467768269, 21300.531549159903, 12479.466223091003, -2128.572498368507, 3348.2997184789856, -7806.415153038484, -12256.642982828896, 10256.543600694102, 39960.65877556277, -10895.165981479106, 27018.153884891217, 12246.917236222158, 3575.6480060284957, -11235.818279057159, -8853.372642707342, 2986.2954210978933, -44389.49355049484, -9753.043128105055, -23670.6490135458, 24706.07740577351, -23398.185192189325, -8999.15365464671, -12501.194764025218, 8705.60928107804, -1683.326163970516, 3248.903138199472, 8847.168353598041, -33391.922104487196, 2773.869496777741, 34892.794051292934, -865.4274730396137, 8883.193159111775, 101949.75165101042, 10473.403046072752, 2328.02724362367, -11865.828029802069, 36192.394924104156, -9995.56931865844, 951.6732103791437, -13208.79646913585, -539.7782873325632, -4931.96307789383, -11619.202372850661, 23296.731421418954, -20074.10514508246, 36760.81474310637, 25893.85939023104, 121874.00884311053, -350.7372488398105, 43441.92122891708, -11961.843259180518, 6096.528552168544, 18120.008319027038, 42544.3718009046, 11570.374678482243, 22427.918135788204, -19981.412773256045, 6399.1496352869435, 1350.7105327122845, -49293.68644052233, -13820.148434890929, -9320.686606829637, 18093.490719584195, -13216.558673434614, -19970.682350122093, 147229.21386220638, 42893.17622654, -18059.022787537717, 22504.827983533905, -39057.334849950625, 16676.45121321254, -5020.370547329614, -31223.45666363067, 3268.8704667830607, 17732.85891657771, -8780.743882176583, 7173.253841775993, 1348.5764764085761, -11470.172877319375, -19702.947467970065, 10634.705401574494, 28839.0282098662, 3175.195679468059, 19945.42666492524, -4250.715111409547, 7746.540090369759, 6830.18485605935, 3130.752081985469, -1089.593429555156, 20391.75736601799, 20386.756876808475, 2274.707643435686, 36294.23687085509, 66709.93386748346, -34696.16230284801, 9893.388604107633, -22768.587216599786, 2191.240565154585, -6577.629708568391, -21110.786066673318, 22747.189256591722, 14830.593469127663, 31679.21638115123, -1666.6292238858005, 11434.692965590279, -7775.0438348320895, 6492.523469922715, -40676.777955997124, -288.6442461607221, -32867.89600803907, 24017.363791100215, -3260.578127600922, -37792.08256874932, -5410.258926438168, -15514.110386811997, -36847.89584375647, -59801.93773026302, -28053.499786762317, -149.69948781246785, 2850.648708277149, -5594.930932980293, -286.99696172442054, -2718.033576031681, 13291.290815810935, 20254.35366443405, 12915.875679195844, 26955.788273278973, -32340.813700467872, -15980.713023725533, -53179.72299567651, -5619.858139530785, 1283.6991504459584, -5846.122025434626, 10865.673504712991, -1469.1775452427391, -11747.132988325844, -29725.713317146787, 49533.51445413113, 5736.675380639092, -4878.62926423116, 50468.742049175606, 13080.389535125796, 325.8178901708161, -37205.32224475485, -7399.4731605157285, -19990.46487939279, 6872.519749992527, -15100.035658812907, -2537.615935606649, 11228.385969324969, -14350.719193190627, 6856.750787317549, -2540.5191183232673, 26758.800632825645, -2472.40070702869, 21090.777180536214, 2827.915619614476, 23294.036779722082, 2585.725692049542, -1002.5124213967938, 206318.9355148991, 5442.042909088428, 4556.602194951149, -4331.129607931274, 41795.851543446304, -19466.59128077724, 18017.98643530003, 85458.87903918867, 106859.75975561445, 44376.73615406474, 34320.92079941768, 4594.263002151827, 15497.405464975367, 29498.806659249618, -6599.6419303963485, 61196.27563273092, -3007.968972651812, 2244.4831921111618, 33862.37191973452, -5296.580781753, 2195.774898141448, -7628.897436557658, -2220.8798118991836, 33388.14161790843, 2468.2212756725494, 14520.592771264026, 2356.1852833998564, 17165.867559892096, -1529.0550421242224, 5259.148339457111, -34578.0891277309, 22437.730734221695, -8958.692292148917, 7957.604267322167, -10732.44425617042, 39974.436521232186, -32356.05689689261, 12506.810647801787, 6182.491305821211, 5129.238423023024, 2577.069475252996, 12475.60811718044, -6735.767560170381, 1316.2871674876078, -19211.042351013428, 6985.260941717948, 41930.10249210836, -44274.3173235733, 12093.200824828251, -10250.146507468715, 5971.6752110493835, 9079.551430478634, 12951.63865566472, 23376.849066363473, 52233.42236504366, 8626.824728027626, -57541.340490512404, 110242.6342959553, 6360.79973612912, 5494.658240891818, 6000.394631871721, 6326.664032064204, 87973.32978336464, -37087.69840786277]}], {}, {\"showLink\": true, \"linkText\": \"Export to plot.ly\"})});</script>"
      ],
      "text/vnd.plotly.v1+html": [
       "<div id=\"a2daccf6-be09-4af0-96f1-109919030247\" style=\"height: 525px; width: 100%;\" class=\"plotly-graph-div\"></div><script type=\"text/javascript\">require([\"plotly\"], function(Plotly) { window.PLOTLYENV=window.PLOTLYENV || {};window.PLOTLYENV.BASE_URL=\"https://plot.ly\";Plotly.newPlot(\"a2daccf6-be09-4af0-96f1-109919030247\", [{\"type\": \"histogram\", \"x\": [57384.9693279888, -59854.5952285105, 37318.66622581286, 36608.37355787668, 6575.051325870503, 106560.92245472455, -45975.463711282995, -11477.891127671464, 1752.1847521800955, -38090.74316173227, 5742.448939442809, -2069.214973760245, -6324.368835655419, 21670.480079200235, 34572.11476664388, 480.5044645429007, 24703.92378104909, 34179.93604040559, 21074.828178832016, -52382.44094970185, -16804.249134745245, 8177.73437149066, -49327.58194534556, -13389.265852707496, 4144.9393455678655, -45368.015171009756, -11177.014127409959, 18038.396082454594, 19563.823273263522, -10099.101007509467, 8515.639463808038, -5734.411683648941, -6863.4348161661765, -45956.065217571246, 7428.410551693873, 22903.88172866663, -11734.630436036881, -17706.648694676085, -4562.373535443214, 3447.3426773766114, -7085.450949630962, 16636.505900514836, -15375.463800173835, 6104.475870123482, -13191.902183831116, -16101.303850575365, -40692.9666664954, -69640.49373892578, 20324.199788839265, 7375.834260362957, 27953.076521149604, 41867.59920800125, 9064.817574418208, 7994.5143990963115, -51.877965475810925, 13058.667873167637, -838.780985351943, 9065.089559790125, 20368.591394836156, 31593.524257548837, 788.0221401419549, 26173.925827152154, -44583.15571986156, -5163.516438411345, 34518.42980090456, -42097.076060224674, -9803.23293503435, 13115.416984620548, 47845.54052051771, -10670.202995936503, -4201.311940487474, 31990.155823483656, -37824.75311260653, 40223.33454408156, 10428.735339633859, 6803.770890019485, 4171.417476314207, 1254.8165419864818, 2745.6142118838034, -36479.42482726756, 2320.270242445462, 10155.848957443115, -22222.3717830581, -6070.235102105362, -2371.2012771215814, 23555.22816114922, 9854.524323427206, -6906.852056190415, -16454.722949922012, -7578.771599825646, 16868.202602633013, 20620.833988090744, 10131.889320099814, 84090.71542571834, -7151.829614971299, 12103.469085990044, 209.97955688148795, 6711.396509440907, -7322.7675829533255, 7436.976878893562, 14173.531668529555, -2403.5459760256344, 5934.120523930964, 29019.253078409703, 8236.235971721122, -18304.019076511686, 10232.074936942867, -20092.66971136043, 14441.951248109384, -29119.651972429245, 28092.688923615584, -4447.357816447591, 30865.486536518103, 15846.673178457655, -53114.52613323601, 29588.45299059275, -19340.376886788465, -58756.746828698844, 9588.261560678337, -9415.666706194344, 22132.320398043143, -13475.05295131597, 27515.893991483317, 2692.2090996982297, 5054.93339000846, -4233.004530079372, 13727.885228999337, -6072.539197048871, 13060.833435444132, -5628.2561647784605, -23927.910765072316, 73622.21684072478, -33960.920132275496, -3966.8894853585516, -9196.034369098168, -12574.938385717978, 64651.478641677066, 2824.4511059695506, -31370.359425220406, -16663.369151447987, -9001.541412842547, 11560.752779966104, -42925.81343099594, 22686.185835987882, 6063.116496355797, 1111.5043903969054, -11105.876914134948, 36187.26712645596, 17166.602406199614, -1422.8502717787924, -659.6033194213524, 6258.401742135524, 53064.40343570383, 17654.45581205991, -26021.73931278207, -5245.202514135832, 14998.699662414816, -38161.694146638445, 561.1002560677589, -2284.039491525735, -5753.742076190116, 5008.437984020333, -50479.17593144695, -25210.637748805195, -18197.88979724006, -17371.522278486722, 13430.388188686367, 34319.472525597375, 33027.634945158265, -16489.973764745955, 13539.496697425668, -26320.709217465308, -16941.36175943981, 8053.939603019535, -12154.12129306927, 12661.368471892958, 49132.93270985808, 9494.168689039914, 134.4175905419106, 3909.2635866290657, 5435.277754947485, 6970.956592507398, 27912.912859738106, 8641.16573845921, 9495.29533826132, -7965.623340579419, 28201.8920215946, -102407.08694871399, 15392.667294978513, 1791.7113551069342, -10964.027311643411, -8914.108510736085, 3047.50720598473, 19202.07510695653, 15879.80336423326, 9098.97708026212, -25742.98660036488, -1878.7080534888082, 26908.560390990577, -25795.41486732458, -223439.24855987146, 11539.65609963311, -57322.560337810835, 21192.06414164821, -3209.785800656129, 2711.4068764765107, -41457.28092053527, -28506.6628101182, 11607.060647976847, -16431.26883498777, 8726.578194576432, 18557.82636845662, 357.21339025218913, 6898.229826144379, -51874.190381808265, -31097.908991831384, 11591.360960509977, -15348.164004215127, 14682.62172722991, 5404.9659140510485, 11892.4187559594, 34643.23175262165, 35231.89412918294, 7073.470583631919, -54194.28380582901, 21570.481331958057, 11841.701850107522, -30891.939422116295, 24499.05096207805, 15272.436701534112, 14810.268083418821, -24036.39246788746, 23102.023309345823, 30616.420603017526, -16644.191006736364, -7875.765258112457, -9095.016582939279, -6225.201743414102, 7700.000982746831, 23982.90401707677, -11720.48711930908, -4936.16157825751, 13834.519583969406, -6221.71850206668, 2449.560900689976, -19451.14082880391, 2683.302938873647, -6711.180857584142, 530.5243654872465, 30384.916413990693, -39734.559296649415, 449.1134954057052, 40806.10185514041, -10994.10614925249, 14100.297062135098, -2355.9744759773603, 15508.087613542797, -19021.47682443369, -80116.48467768269, 21300.531549159903, 12479.466223091003, -2128.572498368507, 3348.2997184789856, -7806.415153038484, -12256.642982828896, 10256.543600694102, 39960.65877556277, -10895.165981479106, 27018.153884891217, 12246.917236222158, 3575.6480060284957, -11235.818279057159, -8853.372642707342, 2986.2954210978933, -44389.49355049484, -9753.043128105055, -23670.6490135458, 24706.07740577351, -23398.185192189325, -8999.15365464671, -12501.194764025218, 8705.60928107804, -1683.326163970516, 3248.903138199472, 8847.168353598041, -33391.922104487196, 2773.869496777741, 34892.794051292934, -865.4274730396137, 8883.193159111775, 101949.75165101042, 10473.403046072752, 2328.02724362367, -11865.828029802069, 36192.394924104156, -9995.56931865844, 951.6732103791437, -13208.79646913585, -539.7782873325632, -4931.96307789383, -11619.202372850661, 23296.731421418954, -20074.10514508246, 36760.81474310637, 25893.85939023104, 121874.00884311053, -350.7372488398105, 43441.92122891708, -11961.843259180518, 6096.528552168544, 18120.008319027038, 42544.3718009046, 11570.374678482243, 22427.918135788204, -19981.412773256045, 6399.1496352869435, 1350.7105327122845, -49293.68644052233, -13820.148434890929, -9320.686606829637, 18093.490719584195, -13216.558673434614, -19970.682350122093, 147229.21386220638, 42893.17622654, -18059.022787537717, 22504.827983533905, -39057.334849950625, 16676.45121321254, -5020.370547329614, -31223.45666363067, 3268.8704667830607, 17732.85891657771, -8780.743882176583, 7173.253841775993, 1348.5764764085761, -11470.172877319375, -19702.947467970065, 10634.705401574494, 28839.0282098662, 3175.195679468059, 19945.42666492524, -4250.715111409547, 7746.540090369759, 6830.18485605935, 3130.752081985469, -1089.593429555156, 20391.75736601799, 20386.756876808475, 2274.707643435686, 36294.23687085509, 66709.93386748346, -34696.16230284801, 9893.388604107633, -22768.587216599786, 2191.240565154585, -6577.629708568391, -21110.786066673318, 22747.189256591722, 14830.593469127663, 31679.21638115123, -1666.6292238858005, 11434.692965590279, -7775.0438348320895, 6492.523469922715, -40676.777955997124, -288.6442461607221, -32867.89600803907, 24017.363791100215, -3260.578127600922, -37792.08256874932, -5410.258926438168, -15514.110386811997, -36847.89584375647, -59801.93773026302, -28053.499786762317, -149.69948781246785, 2850.648708277149, -5594.930932980293, -286.99696172442054, -2718.033576031681, 13291.290815810935, 20254.35366443405, 12915.875679195844, 26955.788273278973, -32340.813700467872, -15980.713023725533, -53179.72299567651, -5619.858139530785, 1283.6991504459584, -5846.122025434626, 10865.673504712991, -1469.1775452427391, -11747.132988325844, -29725.713317146787, 49533.51445413113, 5736.675380639092, -4878.62926423116, 50468.742049175606, 13080.389535125796, 325.8178901708161, -37205.32224475485, -7399.4731605157285, -19990.46487939279, 6872.519749992527, -15100.035658812907, -2537.615935606649, 11228.385969324969, -14350.719193190627, 6856.750787317549, -2540.5191183232673, 26758.800632825645, -2472.40070702869, 21090.777180536214, 2827.915619614476, 23294.036779722082, 2585.725692049542, -1002.5124213967938, 206318.9355148991, 5442.042909088428, 4556.602194951149, -4331.129607931274, 41795.851543446304, -19466.59128077724, 18017.98643530003, 85458.87903918867, 106859.75975561445, 44376.73615406474, 34320.92079941768, 4594.263002151827, 15497.405464975367, 29498.806659249618, -6599.6419303963485, 61196.27563273092, -3007.968972651812, 2244.4831921111618, 33862.37191973452, -5296.580781753, 2195.774898141448, -7628.897436557658, -2220.8798118991836, 33388.14161790843, 2468.2212756725494, 14520.592771264026, 2356.1852833998564, 17165.867559892096, -1529.0550421242224, 5259.148339457111, -34578.0891277309, 22437.730734221695, -8958.692292148917, 7957.604267322167, -10732.44425617042, 39974.436521232186, -32356.05689689261, 12506.810647801787, 6182.491305821211, 5129.238423023024, 2577.069475252996, 12475.60811718044, -6735.767560170381, 1316.2871674876078, -19211.042351013428, 6985.260941717948, 41930.10249210836, -44274.3173235733, 12093.200824828251, -10250.146507468715, 5971.6752110493835, 9079.551430478634, 12951.63865566472, 23376.849066363473, 52233.42236504366, 8626.824728027626, -57541.340490512404, 110242.6342959553, 6360.79973612912, 5494.658240891818, 6000.394631871721, 6326.664032064204, 87973.32978336464, -37087.69840786277]}], {}, {\"showLink\": true, \"linkText\": \"Export to plot.ly\"})});</script>"
      ]
     },
     "metadata": {},
     "output_type": "display_data"
    }
   ],
   "source": [
    "data = [go.Histogram(x=dollars['difference'])]\n",
    "py.iplot(data, filename='basic histogram')"
   ]
  },
  {
   "cell_type": "markdown",
   "metadata": {},
   "source": [
    "# Box plot"
   ]
  },
  {
   "cell_type": "code",
   "execution_count": 73,
   "metadata": {},
   "outputs": [
    {
     "data": {
      "application/vnd.plotly.v1+json": {
       "data": [
        {
         "type": "box",
         "y": [
          57384.9693279888,
          -59854.5952285105,
          37318.66622581286,
          36608.37355787668,
          6575.051325870503,
          106560.92245472455,
          -45975.463711282995,
          -11477.891127671464,
          1752.1847521800955,
          -38090.74316173227,
          5742.448939442809,
          -2069.214973760245,
          -6324.368835655419,
          21670.480079200235,
          34572.11476664388,
          480.5044645429007,
          24703.92378104909,
          34179.93604040559,
          21074.828178832016,
          -52382.44094970185,
          -16804.249134745245,
          8177.73437149066,
          -49327.58194534556,
          -13389.265852707496,
          4144.9393455678655,
          -45368.015171009756,
          -11177.014127409959,
          18038.396082454594,
          19563.823273263522,
          -10099.101007509467,
          8515.639463808038,
          -5734.411683648941,
          -6863.4348161661765,
          -45956.065217571246,
          7428.410551693873,
          22903.88172866663,
          -11734.630436036881,
          -17706.648694676085,
          -4562.373535443214,
          3447.3426773766114,
          -7085.450949630962,
          16636.505900514836,
          -15375.463800173835,
          6104.475870123482,
          -13191.902183831116,
          -16101.303850575365,
          -40692.9666664954,
          -69640.49373892578,
          20324.199788839265,
          7375.834260362957,
          27953.076521149604,
          41867.59920800125,
          9064.817574418208,
          7994.5143990963115,
          -51.877965475810925,
          13058.667873167637,
          -838.780985351943,
          9065.089559790125,
          20368.591394836156,
          31593.524257548837,
          788.0221401419549,
          26173.925827152154,
          -44583.15571986156,
          -5163.516438411345,
          34518.42980090456,
          -42097.076060224674,
          -9803.23293503435,
          13115.416984620548,
          47845.54052051771,
          -10670.202995936503,
          -4201.311940487474,
          31990.155823483656,
          -37824.75311260653,
          40223.33454408156,
          10428.735339633859,
          6803.770890019485,
          4171.417476314207,
          1254.8165419864818,
          2745.6142118838034,
          -36479.42482726756,
          2320.270242445462,
          10155.848957443115,
          -22222.3717830581,
          -6070.235102105362,
          -2371.2012771215814,
          23555.22816114922,
          9854.524323427206,
          -6906.852056190415,
          -16454.722949922012,
          -7578.771599825646,
          16868.202602633013,
          20620.833988090744,
          10131.889320099814,
          84090.71542571834,
          -7151.829614971299,
          12103.469085990044,
          209.97955688148795,
          6711.396509440907,
          -7322.7675829533255,
          7436.976878893562,
          14173.531668529555,
          -2403.5459760256344,
          5934.120523930964,
          29019.253078409703,
          8236.235971721122,
          -18304.019076511686,
          10232.074936942867,
          -20092.66971136043,
          14441.951248109384,
          -29119.651972429245,
          28092.688923615584,
          -4447.357816447591,
          30865.486536518103,
          15846.673178457655,
          -53114.52613323601,
          29588.45299059275,
          -19340.376886788465,
          -58756.746828698844,
          9588.261560678337,
          -9415.666706194344,
          22132.320398043143,
          -13475.05295131597,
          27515.893991483317,
          2692.2090996982297,
          5054.93339000846,
          -4233.004530079372,
          13727.885228999337,
          -6072.539197048871,
          13060.833435444132,
          -5628.2561647784605,
          -23927.910765072316,
          73622.21684072478,
          -33960.920132275496,
          -3966.8894853585516,
          -9196.034369098168,
          -12574.938385717978,
          64651.478641677066,
          2824.4511059695506,
          -31370.359425220406,
          -16663.369151447987,
          -9001.541412842547,
          11560.752779966104,
          -42925.81343099594,
          22686.185835987882,
          6063.116496355797,
          1111.5043903969054,
          -11105.876914134948,
          36187.26712645596,
          17166.602406199614,
          -1422.8502717787924,
          -659.6033194213524,
          6258.401742135524,
          53064.40343570383,
          17654.45581205991,
          -26021.73931278207,
          -5245.202514135832,
          14998.699662414816,
          -38161.694146638445,
          561.1002560677589,
          -2284.039491525735,
          -5753.742076190116,
          5008.437984020333,
          -50479.17593144695,
          -25210.637748805195,
          -18197.88979724006,
          -17371.522278486722,
          13430.388188686367,
          34319.472525597375,
          33027.634945158265,
          -16489.973764745955,
          13539.496697425668,
          -26320.709217465308,
          -16941.36175943981,
          8053.939603019535,
          -12154.12129306927,
          12661.368471892958,
          49132.93270985808,
          9494.168689039914,
          134.4175905419106,
          3909.2635866290657,
          5435.277754947485,
          6970.956592507398,
          27912.912859738106,
          8641.16573845921,
          9495.29533826132,
          -7965.623340579419,
          28201.8920215946,
          -102407.08694871399,
          15392.667294978513,
          1791.7113551069342,
          -10964.027311643411,
          -8914.108510736085,
          3047.50720598473,
          19202.07510695653,
          15879.80336423326,
          9098.97708026212,
          -25742.98660036488,
          -1878.7080534888082,
          26908.560390990577,
          -25795.41486732458,
          -223439.24855987146,
          11539.65609963311,
          -57322.560337810835,
          21192.06414164821,
          -3209.785800656129,
          2711.4068764765107,
          -41457.28092053527,
          -28506.6628101182,
          11607.060647976847,
          -16431.26883498777,
          8726.578194576432,
          18557.82636845662,
          357.21339025218913,
          6898.229826144379,
          -51874.190381808265,
          -31097.908991831384,
          11591.360960509977,
          -15348.164004215127,
          14682.62172722991,
          5404.9659140510485,
          11892.4187559594,
          34643.23175262165,
          35231.89412918294,
          7073.470583631919,
          -54194.28380582901,
          21570.481331958057,
          11841.701850107522,
          -30891.939422116295,
          24499.05096207805,
          15272.436701534112,
          14810.268083418821,
          -24036.39246788746,
          23102.023309345823,
          30616.420603017526,
          -16644.191006736364,
          -7875.765258112457,
          -9095.016582939279,
          -6225.201743414102,
          7700.000982746831,
          23982.90401707677,
          -11720.48711930908,
          -4936.16157825751,
          13834.519583969406,
          -6221.71850206668,
          2449.560900689976,
          -19451.14082880391,
          2683.302938873647,
          -6711.180857584142,
          530.5243654872465,
          30384.916413990693,
          -39734.559296649415,
          449.1134954057052,
          40806.10185514041,
          -10994.10614925249,
          14100.297062135098,
          -2355.9744759773603,
          15508.087613542797,
          -19021.47682443369,
          -80116.48467768269,
          21300.531549159903,
          12479.466223091003,
          -2128.572498368507,
          3348.2997184789856,
          -7806.415153038484,
          -12256.642982828896,
          10256.543600694102,
          39960.65877556277,
          -10895.165981479106,
          27018.153884891217,
          12246.917236222158,
          3575.6480060284957,
          -11235.818279057159,
          -8853.372642707342,
          2986.2954210978933,
          -44389.49355049484,
          -9753.043128105055,
          -23670.6490135458,
          24706.07740577351,
          -23398.185192189325,
          -8999.15365464671,
          -12501.194764025218,
          8705.60928107804,
          -1683.326163970516,
          3248.903138199472,
          8847.168353598041,
          -33391.922104487196,
          2773.869496777741,
          34892.794051292934,
          -865.4274730396137,
          8883.193159111775,
          101949.75165101042,
          10473.403046072752,
          2328.02724362367,
          -11865.828029802069,
          36192.394924104156,
          -9995.56931865844,
          951.6732103791437,
          -13208.79646913585,
          -539.7782873325632,
          -4931.96307789383,
          -11619.202372850661,
          23296.731421418954,
          -20074.10514508246,
          36760.81474310637,
          25893.85939023104,
          121874.00884311053,
          -350.7372488398105,
          43441.92122891708,
          -11961.843259180518,
          6096.528552168544,
          18120.008319027038,
          42544.3718009046,
          11570.374678482243,
          22427.918135788204,
          -19981.412773256045,
          6399.1496352869435,
          1350.7105327122845,
          -49293.68644052233,
          -13820.148434890929,
          -9320.686606829637,
          18093.490719584195,
          -13216.558673434614,
          -19970.682350122093,
          147229.21386220638,
          42893.17622654,
          -18059.022787537717,
          22504.827983533905,
          -39057.334849950625,
          16676.45121321254,
          -5020.370547329614,
          -31223.45666363067,
          3268.8704667830607,
          17732.85891657771,
          -8780.743882176583,
          7173.253841775993,
          1348.5764764085761,
          -11470.172877319375,
          -19702.947467970065,
          10634.705401574494,
          28839.0282098662,
          3175.195679468059,
          19945.42666492524,
          -4250.715111409547,
          7746.540090369759,
          6830.18485605935,
          3130.752081985469,
          -1089.593429555156,
          20391.75736601799,
          20386.756876808475,
          2274.707643435686,
          36294.23687085509,
          66709.93386748346,
          -34696.16230284801,
          9893.388604107633,
          -22768.587216599786,
          2191.240565154585,
          -6577.629708568391,
          -21110.786066673318,
          22747.189256591722,
          14830.593469127663,
          31679.21638115123,
          -1666.6292238858005,
          11434.692965590279,
          -7775.0438348320895,
          6492.523469922715,
          -40676.777955997124,
          -288.6442461607221,
          -32867.89600803907,
          24017.363791100215,
          -3260.578127600922,
          -37792.08256874932,
          -5410.258926438168,
          -15514.110386811997,
          -36847.89584375647,
          -59801.93773026302,
          -28053.499786762317,
          -149.69948781246785,
          2850.648708277149,
          -5594.930932980293,
          -286.99696172442054,
          -2718.033576031681,
          13291.290815810935,
          20254.35366443405,
          12915.875679195844,
          26955.788273278973,
          -32340.813700467872,
          -15980.713023725533,
          -53179.72299567651,
          -5619.858139530785,
          1283.6991504459584,
          -5846.122025434626,
          10865.673504712991,
          -1469.1775452427391,
          -11747.132988325844,
          -29725.713317146787,
          49533.51445413113,
          5736.675380639092,
          -4878.62926423116,
          50468.742049175606,
          13080.389535125796,
          325.8178901708161,
          -37205.32224475485,
          -7399.4731605157285,
          -19990.46487939279,
          6872.519749992527,
          -15100.035658812907,
          -2537.615935606649,
          11228.385969324969,
          -14350.719193190627,
          6856.750787317549,
          -2540.5191183232673,
          26758.800632825645,
          -2472.40070702869,
          21090.777180536214,
          2827.915619614476,
          23294.036779722082,
          2585.725692049542,
          -1002.5124213967938,
          206318.9355148991,
          5442.042909088428,
          4556.602194951149,
          -4331.129607931274,
          41795.851543446304,
          -19466.59128077724,
          18017.98643530003,
          85458.87903918867,
          106859.75975561445,
          44376.73615406474,
          34320.92079941768,
          4594.263002151827,
          15497.405464975367,
          29498.806659249618,
          -6599.6419303963485,
          61196.27563273092,
          -3007.968972651812,
          2244.4831921111618,
          33862.37191973452,
          -5296.580781753,
          2195.774898141448,
          -7628.897436557658,
          -2220.8798118991836,
          33388.14161790843,
          2468.2212756725494,
          14520.592771264026,
          2356.1852833998564,
          17165.867559892096,
          -1529.0550421242224,
          5259.148339457111,
          -34578.0891277309,
          22437.730734221695,
          -8958.692292148917,
          7957.604267322167,
          -10732.44425617042,
          39974.436521232186,
          -32356.05689689261,
          12506.810647801787,
          6182.491305821211,
          5129.238423023024,
          2577.069475252996,
          12475.60811718044,
          -6735.767560170381,
          1316.2871674876078,
          -19211.042351013428,
          6985.260941717948,
          41930.10249210836,
          -44274.3173235733,
          12093.200824828251,
          -10250.146507468715,
          5971.6752110493835,
          9079.551430478634,
          12951.63865566472,
          23376.849066363473,
          52233.42236504366,
          8626.824728027626,
          -57541.340490512404,
          110242.6342959553,
          6360.79973612912,
          5494.658240891818,
          6000.394631871721,
          6326.664032064204,
          87973.32978336464,
          -37087.69840786277
         ]
        }
       ],
       "layout": {}
      },
      "text/html": [
       "<div id=\"38f26a88-ec60-4557-bb5c-8ecf7ea86762\" style=\"height: 525px; width: 100%;\" class=\"plotly-graph-div\"></div><script type=\"text/javascript\">require([\"plotly\"], function(Plotly) { window.PLOTLYENV=window.PLOTLYENV || {};window.PLOTLYENV.BASE_URL=\"https://plot.ly\";Plotly.newPlot(\"38f26a88-ec60-4557-bb5c-8ecf7ea86762\", [{\"type\": \"box\", \"y\": [57384.9693279888, -59854.5952285105, 37318.66622581286, 36608.37355787668, 6575.051325870503, 106560.92245472455, -45975.463711282995, -11477.891127671464, 1752.1847521800955, -38090.74316173227, 5742.448939442809, -2069.214973760245, -6324.368835655419, 21670.480079200235, 34572.11476664388, 480.5044645429007, 24703.92378104909, 34179.93604040559, 21074.828178832016, -52382.44094970185, -16804.249134745245, 8177.73437149066, -49327.58194534556, -13389.265852707496, 4144.9393455678655, -45368.015171009756, -11177.014127409959, 18038.396082454594, 19563.823273263522, -10099.101007509467, 8515.639463808038, -5734.411683648941, -6863.4348161661765, -45956.065217571246, 7428.410551693873, 22903.88172866663, -11734.630436036881, -17706.648694676085, -4562.373535443214, 3447.3426773766114, -7085.450949630962, 16636.505900514836, -15375.463800173835, 6104.475870123482, -13191.902183831116, -16101.303850575365, -40692.9666664954, -69640.49373892578, 20324.199788839265, 7375.834260362957, 27953.076521149604, 41867.59920800125, 9064.817574418208, 7994.5143990963115, -51.877965475810925, 13058.667873167637, -838.780985351943, 9065.089559790125, 20368.591394836156, 31593.524257548837, 788.0221401419549, 26173.925827152154, -44583.15571986156, -5163.516438411345, 34518.42980090456, -42097.076060224674, -9803.23293503435, 13115.416984620548, 47845.54052051771, -10670.202995936503, -4201.311940487474, 31990.155823483656, -37824.75311260653, 40223.33454408156, 10428.735339633859, 6803.770890019485, 4171.417476314207, 1254.8165419864818, 2745.6142118838034, -36479.42482726756, 2320.270242445462, 10155.848957443115, -22222.3717830581, -6070.235102105362, -2371.2012771215814, 23555.22816114922, 9854.524323427206, -6906.852056190415, -16454.722949922012, -7578.771599825646, 16868.202602633013, 20620.833988090744, 10131.889320099814, 84090.71542571834, -7151.829614971299, 12103.469085990044, 209.97955688148795, 6711.396509440907, -7322.7675829533255, 7436.976878893562, 14173.531668529555, -2403.5459760256344, 5934.120523930964, 29019.253078409703, 8236.235971721122, -18304.019076511686, 10232.074936942867, -20092.66971136043, 14441.951248109384, -29119.651972429245, 28092.688923615584, -4447.357816447591, 30865.486536518103, 15846.673178457655, -53114.52613323601, 29588.45299059275, -19340.376886788465, -58756.746828698844, 9588.261560678337, -9415.666706194344, 22132.320398043143, -13475.05295131597, 27515.893991483317, 2692.2090996982297, 5054.93339000846, -4233.004530079372, 13727.885228999337, -6072.539197048871, 13060.833435444132, -5628.2561647784605, -23927.910765072316, 73622.21684072478, -33960.920132275496, -3966.8894853585516, -9196.034369098168, -12574.938385717978, 64651.478641677066, 2824.4511059695506, -31370.359425220406, -16663.369151447987, -9001.541412842547, 11560.752779966104, -42925.81343099594, 22686.185835987882, 6063.116496355797, 1111.5043903969054, -11105.876914134948, 36187.26712645596, 17166.602406199614, -1422.8502717787924, -659.6033194213524, 6258.401742135524, 53064.40343570383, 17654.45581205991, -26021.73931278207, -5245.202514135832, 14998.699662414816, -38161.694146638445, 561.1002560677589, -2284.039491525735, -5753.742076190116, 5008.437984020333, -50479.17593144695, -25210.637748805195, -18197.88979724006, -17371.522278486722, 13430.388188686367, 34319.472525597375, 33027.634945158265, -16489.973764745955, 13539.496697425668, -26320.709217465308, -16941.36175943981, 8053.939603019535, -12154.12129306927, 12661.368471892958, 49132.93270985808, 9494.168689039914, 134.4175905419106, 3909.2635866290657, 5435.277754947485, 6970.956592507398, 27912.912859738106, 8641.16573845921, 9495.29533826132, -7965.623340579419, 28201.8920215946, -102407.08694871399, 15392.667294978513, 1791.7113551069342, -10964.027311643411, -8914.108510736085, 3047.50720598473, 19202.07510695653, 15879.80336423326, 9098.97708026212, -25742.98660036488, -1878.7080534888082, 26908.560390990577, -25795.41486732458, -223439.24855987146, 11539.65609963311, -57322.560337810835, 21192.06414164821, -3209.785800656129, 2711.4068764765107, -41457.28092053527, -28506.6628101182, 11607.060647976847, -16431.26883498777, 8726.578194576432, 18557.82636845662, 357.21339025218913, 6898.229826144379, -51874.190381808265, -31097.908991831384, 11591.360960509977, -15348.164004215127, 14682.62172722991, 5404.9659140510485, 11892.4187559594, 34643.23175262165, 35231.89412918294, 7073.470583631919, -54194.28380582901, 21570.481331958057, 11841.701850107522, -30891.939422116295, 24499.05096207805, 15272.436701534112, 14810.268083418821, -24036.39246788746, 23102.023309345823, 30616.420603017526, -16644.191006736364, -7875.765258112457, -9095.016582939279, -6225.201743414102, 7700.000982746831, 23982.90401707677, -11720.48711930908, -4936.16157825751, 13834.519583969406, -6221.71850206668, 2449.560900689976, -19451.14082880391, 2683.302938873647, -6711.180857584142, 530.5243654872465, 30384.916413990693, -39734.559296649415, 449.1134954057052, 40806.10185514041, -10994.10614925249, 14100.297062135098, -2355.9744759773603, 15508.087613542797, -19021.47682443369, -80116.48467768269, 21300.531549159903, 12479.466223091003, -2128.572498368507, 3348.2997184789856, -7806.415153038484, -12256.642982828896, 10256.543600694102, 39960.65877556277, -10895.165981479106, 27018.153884891217, 12246.917236222158, 3575.6480060284957, -11235.818279057159, -8853.372642707342, 2986.2954210978933, -44389.49355049484, -9753.043128105055, -23670.6490135458, 24706.07740577351, -23398.185192189325, -8999.15365464671, -12501.194764025218, 8705.60928107804, -1683.326163970516, 3248.903138199472, 8847.168353598041, -33391.922104487196, 2773.869496777741, 34892.794051292934, -865.4274730396137, 8883.193159111775, 101949.75165101042, 10473.403046072752, 2328.02724362367, -11865.828029802069, 36192.394924104156, -9995.56931865844, 951.6732103791437, -13208.79646913585, -539.7782873325632, -4931.96307789383, -11619.202372850661, 23296.731421418954, -20074.10514508246, 36760.81474310637, 25893.85939023104, 121874.00884311053, -350.7372488398105, 43441.92122891708, -11961.843259180518, 6096.528552168544, 18120.008319027038, 42544.3718009046, 11570.374678482243, 22427.918135788204, -19981.412773256045, 6399.1496352869435, 1350.7105327122845, -49293.68644052233, -13820.148434890929, -9320.686606829637, 18093.490719584195, -13216.558673434614, -19970.682350122093, 147229.21386220638, 42893.17622654, -18059.022787537717, 22504.827983533905, -39057.334849950625, 16676.45121321254, -5020.370547329614, -31223.45666363067, 3268.8704667830607, 17732.85891657771, -8780.743882176583, 7173.253841775993, 1348.5764764085761, -11470.172877319375, -19702.947467970065, 10634.705401574494, 28839.0282098662, 3175.195679468059, 19945.42666492524, -4250.715111409547, 7746.540090369759, 6830.18485605935, 3130.752081985469, -1089.593429555156, 20391.75736601799, 20386.756876808475, 2274.707643435686, 36294.23687085509, 66709.93386748346, -34696.16230284801, 9893.388604107633, -22768.587216599786, 2191.240565154585, -6577.629708568391, -21110.786066673318, 22747.189256591722, 14830.593469127663, 31679.21638115123, -1666.6292238858005, 11434.692965590279, -7775.0438348320895, 6492.523469922715, -40676.777955997124, -288.6442461607221, -32867.89600803907, 24017.363791100215, -3260.578127600922, -37792.08256874932, -5410.258926438168, -15514.110386811997, -36847.89584375647, -59801.93773026302, -28053.499786762317, -149.69948781246785, 2850.648708277149, -5594.930932980293, -286.99696172442054, -2718.033576031681, 13291.290815810935, 20254.35366443405, 12915.875679195844, 26955.788273278973, -32340.813700467872, -15980.713023725533, -53179.72299567651, -5619.858139530785, 1283.6991504459584, -5846.122025434626, 10865.673504712991, -1469.1775452427391, -11747.132988325844, -29725.713317146787, 49533.51445413113, 5736.675380639092, -4878.62926423116, 50468.742049175606, 13080.389535125796, 325.8178901708161, -37205.32224475485, -7399.4731605157285, -19990.46487939279, 6872.519749992527, -15100.035658812907, -2537.615935606649, 11228.385969324969, -14350.719193190627, 6856.750787317549, -2540.5191183232673, 26758.800632825645, -2472.40070702869, 21090.777180536214, 2827.915619614476, 23294.036779722082, 2585.725692049542, -1002.5124213967938, 206318.9355148991, 5442.042909088428, 4556.602194951149, -4331.129607931274, 41795.851543446304, -19466.59128077724, 18017.98643530003, 85458.87903918867, 106859.75975561445, 44376.73615406474, 34320.92079941768, 4594.263002151827, 15497.405464975367, 29498.806659249618, -6599.6419303963485, 61196.27563273092, -3007.968972651812, 2244.4831921111618, 33862.37191973452, -5296.580781753, 2195.774898141448, -7628.897436557658, -2220.8798118991836, 33388.14161790843, 2468.2212756725494, 14520.592771264026, 2356.1852833998564, 17165.867559892096, -1529.0550421242224, 5259.148339457111, -34578.0891277309, 22437.730734221695, -8958.692292148917, 7957.604267322167, -10732.44425617042, 39974.436521232186, -32356.05689689261, 12506.810647801787, 6182.491305821211, 5129.238423023024, 2577.069475252996, 12475.60811718044, -6735.767560170381, 1316.2871674876078, -19211.042351013428, 6985.260941717948, 41930.10249210836, -44274.3173235733, 12093.200824828251, -10250.146507468715, 5971.6752110493835, 9079.551430478634, 12951.63865566472, 23376.849066363473, 52233.42236504366, 8626.824728027626, -57541.340490512404, 110242.6342959553, 6360.79973612912, 5494.658240891818, 6000.394631871721, 6326.664032064204, 87973.32978336464, -37087.69840786277]}], {}, {\"showLink\": true, \"linkText\": \"Export to plot.ly\"})});</script>"
      ],
      "text/vnd.plotly.v1+html": [
       "<div id=\"38f26a88-ec60-4557-bb5c-8ecf7ea86762\" style=\"height: 525px; width: 100%;\" class=\"plotly-graph-div\"></div><script type=\"text/javascript\">require([\"plotly\"], function(Plotly) { window.PLOTLYENV=window.PLOTLYENV || {};window.PLOTLYENV.BASE_URL=\"https://plot.ly\";Plotly.newPlot(\"38f26a88-ec60-4557-bb5c-8ecf7ea86762\", [{\"type\": \"box\", \"y\": [57384.9693279888, -59854.5952285105, 37318.66622581286, 36608.37355787668, 6575.051325870503, 106560.92245472455, -45975.463711282995, -11477.891127671464, 1752.1847521800955, -38090.74316173227, 5742.448939442809, -2069.214973760245, -6324.368835655419, 21670.480079200235, 34572.11476664388, 480.5044645429007, 24703.92378104909, 34179.93604040559, 21074.828178832016, -52382.44094970185, -16804.249134745245, 8177.73437149066, -49327.58194534556, -13389.265852707496, 4144.9393455678655, -45368.015171009756, -11177.014127409959, 18038.396082454594, 19563.823273263522, -10099.101007509467, 8515.639463808038, -5734.411683648941, -6863.4348161661765, -45956.065217571246, 7428.410551693873, 22903.88172866663, -11734.630436036881, -17706.648694676085, -4562.373535443214, 3447.3426773766114, -7085.450949630962, 16636.505900514836, -15375.463800173835, 6104.475870123482, -13191.902183831116, -16101.303850575365, -40692.9666664954, -69640.49373892578, 20324.199788839265, 7375.834260362957, 27953.076521149604, 41867.59920800125, 9064.817574418208, 7994.5143990963115, -51.877965475810925, 13058.667873167637, -838.780985351943, 9065.089559790125, 20368.591394836156, 31593.524257548837, 788.0221401419549, 26173.925827152154, -44583.15571986156, -5163.516438411345, 34518.42980090456, -42097.076060224674, -9803.23293503435, 13115.416984620548, 47845.54052051771, -10670.202995936503, -4201.311940487474, 31990.155823483656, -37824.75311260653, 40223.33454408156, 10428.735339633859, 6803.770890019485, 4171.417476314207, 1254.8165419864818, 2745.6142118838034, -36479.42482726756, 2320.270242445462, 10155.848957443115, -22222.3717830581, -6070.235102105362, -2371.2012771215814, 23555.22816114922, 9854.524323427206, -6906.852056190415, -16454.722949922012, -7578.771599825646, 16868.202602633013, 20620.833988090744, 10131.889320099814, 84090.71542571834, -7151.829614971299, 12103.469085990044, 209.97955688148795, 6711.396509440907, -7322.7675829533255, 7436.976878893562, 14173.531668529555, -2403.5459760256344, 5934.120523930964, 29019.253078409703, 8236.235971721122, -18304.019076511686, 10232.074936942867, -20092.66971136043, 14441.951248109384, -29119.651972429245, 28092.688923615584, -4447.357816447591, 30865.486536518103, 15846.673178457655, -53114.52613323601, 29588.45299059275, -19340.376886788465, -58756.746828698844, 9588.261560678337, -9415.666706194344, 22132.320398043143, -13475.05295131597, 27515.893991483317, 2692.2090996982297, 5054.93339000846, -4233.004530079372, 13727.885228999337, -6072.539197048871, 13060.833435444132, -5628.2561647784605, -23927.910765072316, 73622.21684072478, -33960.920132275496, -3966.8894853585516, -9196.034369098168, -12574.938385717978, 64651.478641677066, 2824.4511059695506, -31370.359425220406, -16663.369151447987, -9001.541412842547, 11560.752779966104, -42925.81343099594, 22686.185835987882, 6063.116496355797, 1111.5043903969054, -11105.876914134948, 36187.26712645596, 17166.602406199614, -1422.8502717787924, -659.6033194213524, 6258.401742135524, 53064.40343570383, 17654.45581205991, -26021.73931278207, -5245.202514135832, 14998.699662414816, -38161.694146638445, 561.1002560677589, -2284.039491525735, -5753.742076190116, 5008.437984020333, -50479.17593144695, -25210.637748805195, -18197.88979724006, -17371.522278486722, 13430.388188686367, 34319.472525597375, 33027.634945158265, -16489.973764745955, 13539.496697425668, -26320.709217465308, -16941.36175943981, 8053.939603019535, -12154.12129306927, 12661.368471892958, 49132.93270985808, 9494.168689039914, 134.4175905419106, 3909.2635866290657, 5435.277754947485, 6970.956592507398, 27912.912859738106, 8641.16573845921, 9495.29533826132, -7965.623340579419, 28201.8920215946, -102407.08694871399, 15392.667294978513, 1791.7113551069342, -10964.027311643411, -8914.108510736085, 3047.50720598473, 19202.07510695653, 15879.80336423326, 9098.97708026212, -25742.98660036488, -1878.7080534888082, 26908.560390990577, -25795.41486732458, -223439.24855987146, 11539.65609963311, -57322.560337810835, 21192.06414164821, -3209.785800656129, 2711.4068764765107, -41457.28092053527, -28506.6628101182, 11607.060647976847, -16431.26883498777, 8726.578194576432, 18557.82636845662, 357.21339025218913, 6898.229826144379, -51874.190381808265, -31097.908991831384, 11591.360960509977, -15348.164004215127, 14682.62172722991, 5404.9659140510485, 11892.4187559594, 34643.23175262165, 35231.89412918294, 7073.470583631919, -54194.28380582901, 21570.481331958057, 11841.701850107522, -30891.939422116295, 24499.05096207805, 15272.436701534112, 14810.268083418821, -24036.39246788746, 23102.023309345823, 30616.420603017526, -16644.191006736364, -7875.765258112457, -9095.016582939279, -6225.201743414102, 7700.000982746831, 23982.90401707677, -11720.48711930908, -4936.16157825751, 13834.519583969406, -6221.71850206668, 2449.560900689976, -19451.14082880391, 2683.302938873647, -6711.180857584142, 530.5243654872465, 30384.916413990693, -39734.559296649415, 449.1134954057052, 40806.10185514041, -10994.10614925249, 14100.297062135098, -2355.9744759773603, 15508.087613542797, -19021.47682443369, -80116.48467768269, 21300.531549159903, 12479.466223091003, -2128.572498368507, 3348.2997184789856, -7806.415153038484, -12256.642982828896, 10256.543600694102, 39960.65877556277, -10895.165981479106, 27018.153884891217, 12246.917236222158, 3575.6480060284957, -11235.818279057159, -8853.372642707342, 2986.2954210978933, -44389.49355049484, -9753.043128105055, -23670.6490135458, 24706.07740577351, -23398.185192189325, -8999.15365464671, -12501.194764025218, 8705.60928107804, -1683.326163970516, 3248.903138199472, 8847.168353598041, -33391.922104487196, 2773.869496777741, 34892.794051292934, -865.4274730396137, 8883.193159111775, 101949.75165101042, 10473.403046072752, 2328.02724362367, -11865.828029802069, 36192.394924104156, -9995.56931865844, 951.6732103791437, -13208.79646913585, -539.7782873325632, -4931.96307789383, -11619.202372850661, 23296.731421418954, -20074.10514508246, 36760.81474310637, 25893.85939023104, 121874.00884311053, -350.7372488398105, 43441.92122891708, -11961.843259180518, 6096.528552168544, 18120.008319027038, 42544.3718009046, 11570.374678482243, 22427.918135788204, -19981.412773256045, 6399.1496352869435, 1350.7105327122845, -49293.68644052233, -13820.148434890929, -9320.686606829637, 18093.490719584195, -13216.558673434614, -19970.682350122093, 147229.21386220638, 42893.17622654, -18059.022787537717, 22504.827983533905, -39057.334849950625, 16676.45121321254, -5020.370547329614, -31223.45666363067, 3268.8704667830607, 17732.85891657771, -8780.743882176583, 7173.253841775993, 1348.5764764085761, -11470.172877319375, -19702.947467970065, 10634.705401574494, 28839.0282098662, 3175.195679468059, 19945.42666492524, -4250.715111409547, 7746.540090369759, 6830.18485605935, 3130.752081985469, -1089.593429555156, 20391.75736601799, 20386.756876808475, 2274.707643435686, 36294.23687085509, 66709.93386748346, -34696.16230284801, 9893.388604107633, -22768.587216599786, 2191.240565154585, -6577.629708568391, -21110.786066673318, 22747.189256591722, 14830.593469127663, 31679.21638115123, -1666.6292238858005, 11434.692965590279, -7775.0438348320895, 6492.523469922715, -40676.777955997124, -288.6442461607221, -32867.89600803907, 24017.363791100215, -3260.578127600922, -37792.08256874932, -5410.258926438168, -15514.110386811997, -36847.89584375647, -59801.93773026302, -28053.499786762317, -149.69948781246785, 2850.648708277149, -5594.930932980293, -286.99696172442054, -2718.033576031681, 13291.290815810935, 20254.35366443405, 12915.875679195844, 26955.788273278973, -32340.813700467872, -15980.713023725533, -53179.72299567651, -5619.858139530785, 1283.6991504459584, -5846.122025434626, 10865.673504712991, -1469.1775452427391, -11747.132988325844, -29725.713317146787, 49533.51445413113, 5736.675380639092, -4878.62926423116, 50468.742049175606, 13080.389535125796, 325.8178901708161, -37205.32224475485, -7399.4731605157285, -19990.46487939279, 6872.519749992527, -15100.035658812907, -2537.615935606649, 11228.385969324969, -14350.719193190627, 6856.750787317549, -2540.5191183232673, 26758.800632825645, -2472.40070702869, 21090.777180536214, 2827.915619614476, 23294.036779722082, 2585.725692049542, -1002.5124213967938, 206318.9355148991, 5442.042909088428, 4556.602194951149, -4331.129607931274, 41795.851543446304, -19466.59128077724, 18017.98643530003, 85458.87903918867, 106859.75975561445, 44376.73615406474, 34320.92079941768, 4594.263002151827, 15497.405464975367, 29498.806659249618, -6599.6419303963485, 61196.27563273092, -3007.968972651812, 2244.4831921111618, 33862.37191973452, -5296.580781753, 2195.774898141448, -7628.897436557658, -2220.8798118991836, 33388.14161790843, 2468.2212756725494, 14520.592771264026, 2356.1852833998564, 17165.867559892096, -1529.0550421242224, 5259.148339457111, -34578.0891277309, 22437.730734221695, -8958.692292148917, 7957.604267322167, -10732.44425617042, 39974.436521232186, -32356.05689689261, 12506.810647801787, 6182.491305821211, 5129.238423023024, 2577.069475252996, 12475.60811718044, -6735.767560170381, 1316.2871674876078, -19211.042351013428, 6985.260941717948, 41930.10249210836, -44274.3173235733, 12093.200824828251, -10250.146507468715, 5971.6752110493835, 9079.551430478634, 12951.63865566472, 23376.849066363473, 52233.42236504366, 8626.824728027626, -57541.340490512404, 110242.6342959553, 6360.79973612912, 5494.658240891818, 6000.394631871721, 6326.664032064204, 87973.32978336464, -37087.69840786277]}], {}, {\"showLink\": true, \"linkText\": \"Export to plot.ly\"})});</script>"
      ]
     },
     "metadata": {},
     "output_type": "display_data"
    }
   ],
   "source": [
    " trace0 = go.Box(\n",
    "    y=dollars['difference']\n",
    ")\n",
    "\n",
    "data = [trace0]\n",
    "py.iplot(data)"
   ]
  },
  {
   "cell_type": "markdown",
   "metadata": {},
   "source": [
    "# Metrics:"
   ]
  },
  {
   "cell_type": "code",
   "execution_count": 74,
   "metadata": {},
   "outputs": [
    {
     "data": {
      "application/vnd.plotly.v1+json": {
       "data": [
        {
         "name": "test r2",
         "type": "bar",
         "x": [
          "linear",
          "lasso",
          "elastic net",
          "random forrest",
          "ridge",
          "mlpr"
         ],
         "y": [
          0.8140043359709115,
          0.8140043359709115,
          0.8140043359709115,
          0.7070602988443361,
          0.8140029199140684,
          0.8462188123583058
         ]
        },
        {
         "name": "train r2",
         "type": "bar",
         "x": [
          "linear",
          "lasso",
          "elastic net",
          "random forrest",
          "ridge",
          "mlpr"
         ],
         "y": [
          0.8403612380203688,
          0.8403612380203688,
          0.8403612380203688,
          0.821191839174717,
          0.840361229503378,
          0.9430291295267309
         ]
        }
       ],
       "layout": {
        "barmode": "group",
        "title": "R2 metric",
        "xaxis": {
         "title": "Model",
         "titlefont": {
          "color": "#7f7f7f",
          "family": "Courier New, monospace",
          "size": 18
         }
        },
        "yaxis": {
         "title": "Test value",
         "titlefont": {
          "color": "#7f7f7f",
          "family": "Courier New, monospace",
          "size": 25
         }
        }
       }
      },
      "text/html": [
       "<div id=\"195555ed-08d5-4eb9-b1f4-b30b7b864d28\" style=\"height: 525px; width: 100%;\" class=\"plotly-graph-div\"></div><script type=\"text/javascript\">require([\"plotly\"], function(Plotly) { window.PLOTLYENV=window.PLOTLYENV || {};window.PLOTLYENV.BASE_URL=\"https://plot.ly\";Plotly.newPlot(\"195555ed-08d5-4eb9-b1f4-b30b7b864d28\", [{\"type\": \"bar\", \"x\": [\"linear\", \"lasso\", \"elastic net\", \"random forrest\", \"ridge\", \"mlpr\"], \"y\": [0.8140043359709115, 0.8140043359709115, 0.8140043359709115, 0.7070602988443361, 0.8140029199140684, 0.8462188123583058], \"name\": \"test r2\"}, {\"type\": \"bar\", \"x\": [\"linear\", \"lasso\", \"elastic net\", \"random forrest\", \"ridge\", \"mlpr\"], \"y\": [0.8403612380203688, 0.8403612380203688, 0.8403612380203688, 0.821191839174717, 0.840361229503378, 0.9430291295267309], \"name\": \"train r2\"}], {\"barmode\": \"group\", \"title\": \"R2 metric\", \"xaxis\": {\"title\": \"Model\", \"titlefont\": {\"family\": \"Courier New, monospace\", \"size\": 18, \"color\": \"#7f7f7f\"}}, \"yaxis\": {\"title\": \"Test value\", \"titlefont\": {\"family\": \"Courier New, monospace\", \"size\": 25, \"color\": \"#7f7f7f\"}}}, {\"showLink\": true, \"linkText\": \"Export to plot.ly\"})});</script>"
      ],
      "text/vnd.plotly.v1+html": [
       "<div id=\"195555ed-08d5-4eb9-b1f4-b30b7b864d28\" style=\"height: 525px; width: 100%;\" class=\"plotly-graph-div\"></div><script type=\"text/javascript\">require([\"plotly\"], function(Plotly) { window.PLOTLYENV=window.PLOTLYENV || {};window.PLOTLYENV.BASE_URL=\"https://plot.ly\";Plotly.newPlot(\"195555ed-08d5-4eb9-b1f4-b30b7b864d28\", [{\"type\": \"bar\", \"x\": [\"linear\", \"lasso\", \"elastic net\", \"random forrest\", \"ridge\", \"mlpr\"], \"y\": [0.8140043359709115, 0.8140043359709115, 0.8140043359709115, 0.7070602988443361, 0.8140029199140684, 0.8462188123583058], \"name\": \"test r2\"}, {\"type\": \"bar\", \"x\": [\"linear\", \"lasso\", \"elastic net\", \"random forrest\", \"ridge\", \"mlpr\"], \"y\": [0.8403612380203688, 0.8403612380203688, 0.8403612380203688, 0.821191839174717, 0.840361229503378, 0.9430291295267309], \"name\": \"train r2\"}], {\"barmode\": \"group\", \"title\": \"R2 metric\", \"xaxis\": {\"title\": \"Model\", \"titlefont\": {\"family\": \"Courier New, monospace\", \"size\": 18, \"color\": \"#7f7f7f\"}}, \"yaxis\": {\"title\": \"Test value\", \"titlefont\": {\"family\": \"Courier New, monospace\", \"size\": 25, \"color\": \"#7f7f7f\"}}}, {\"showLink\": true, \"linkText\": \"Export to plot.ly\"})});</script>"
      ]
     },
     "metadata": {},
     "output_type": "display_data"
    }
   ],
   "source": [
    "trace1 = go.Bar(\n",
    "    x=results.index,\n",
    "    y=results['test r2'],\n",
    "    name='test r2'\n",
    ")\n",
    "trace2 = go.Bar(\n",
    "    x=results.index,\n",
    "    y=results['train r2'],\n",
    "    name='train r2'\n",
    ")\n",
    "\n",
    "data = [trace1, trace2]\n",
    "layout = go.Layout(\n",
    "    barmode='group',\n",
    "    \n",
    "    title='R2 metric',\n",
    "    xaxis=dict(\n",
    "        title='Model',\n",
    "        titlefont=dict(\n",
    "            family='Courier New, monospace',\n",
    "            size=18,\n",
    "            color='#7f7f7f'\n",
    "        )\n",
    "    ),\n",
    "    yaxis=dict(\n",
    "        title='Test value',\n",
    "        titlefont=dict(\n",
    "            family='Courier New, monospace',\n",
    "            size=25,\n",
    "            color='#7f7f7f'\n",
    "        )\n",
    "    ) \n",
    ")\n",
    "\n",
    "fig = go.Figure(data=data, layout=layout)\n",
    "py.iplot(fig, filename='grouped-bar')"
   ]
  },
  {
   "cell_type": "code",
   "execution_count": 75,
   "metadata": {},
   "outputs": [
    {
     "data": {
      "application/vnd.plotly.v1+json": {
       "data": [
        {
         "name": "test mae",
         "type": "bar",
         "x": [
          "linear",
          "lasso",
          "elastic net",
          "random forrest",
          "ridge",
          "mlpr"
         ],
         "y": [
          0.24829303134071562,
          0.24829303134071562,
          0.24829303134071562,
          0.3540226218691812,
          0.2482914820044678,
          0.2497611189242951
         ]
        },
        {
         "name": "train mae",
         "type": "bar",
         "x": [
          "linear",
          "lasso",
          "elastic net",
          "random forrest",
          "ridge",
          "mlpr"
         ],
         "y": [
          0.2484764636107935,
          0.2484764636107935,
          0.2484764636107935,
          0.300549616949123,
          0.2484667497423327,
          0.1702557544801752
         ]
        }
       ],
       "layout": {
        "barmode": "group",
        "title": "MAE metric",
        "xaxis": {
         "title": "Model",
         "titlefont": {
          "color": "#7f7f7f",
          "family": "Courier New, monospace",
          "size": 18
         }
        },
        "yaxis": {
         "title": "Test value",
         "titlefont": {
          "color": "#7f7f7f",
          "family": "Courier New, monospace",
          "size": 25
         }
        }
       }
      },
      "text/html": [
       "<div id=\"de679fef-91cb-4a27-ba7b-45d4cad92bc9\" style=\"height: 525px; width: 100%;\" class=\"plotly-graph-div\"></div><script type=\"text/javascript\">require([\"plotly\"], function(Plotly) { window.PLOTLYENV=window.PLOTLYENV || {};window.PLOTLYENV.BASE_URL=\"https://plot.ly\";Plotly.newPlot(\"de679fef-91cb-4a27-ba7b-45d4cad92bc9\", [{\"type\": \"bar\", \"x\": [\"linear\", \"lasso\", \"elastic net\", \"random forrest\", \"ridge\", \"mlpr\"], \"y\": [0.24829303134071562, 0.24829303134071562, 0.24829303134071562, 0.3540226218691812, 0.2482914820044678, 0.2497611189242951], \"name\": \"test mae\"}, {\"type\": \"bar\", \"x\": [\"linear\", \"lasso\", \"elastic net\", \"random forrest\", \"ridge\", \"mlpr\"], \"y\": [0.2484764636107935, 0.2484764636107935, 0.2484764636107935, 0.300549616949123, 0.2484667497423327, 0.1702557544801752], \"name\": \"train mae\"}], {\"barmode\": \"group\", \"title\": \"MAE metric\", \"xaxis\": {\"title\": \"Model\", \"titlefont\": {\"family\": \"Courier New, monospace\", \"size\": 18, \"color\": \"#7f7f7f\"}}, \"yaxis\": {\"title\": \"Test value\", \"titlefont\": {\"family\": \"Courier New, monospace\", \"size\": 25, \"color\": \"#7f7f7f\"}}}, {\"showLink\": true, \"linkText\": \"Export to plot.ly\"})});</script>"
      ],
      "text/vnd.plotly.v1+html": [
       "<div id=\"de679fef-91cb-4a27-ba7b-45d4cad92bc9\" style=\"height: 525px; width: 100%;\" class=\"plotly-graph-div\"></div><script type=\"text/javascript\">require([\"plotly\"], function(Plotly) { window.PLOTLYENV=window.PLOTLYENV || {};window.PLOTLYENV.BASE_URL=\"https://plot.ly\";Plotly.newPlot(\"de679fef-91cb-4a27-ba7b-45d4cad92bc9\", [{\"type\": \"bar\", \"x\": [\"linear\", \"lasso\", \"elastic net\", \"random forrest\", \"ridge\", \"mlpr\"], \"y\": [0.24829303134071562, 0.24829303134071562, 0.24829303134071562, 0.3540226218691812, 0.2482914820044678, 0.2497611189242951], \"name\": \"test mae\"}, {\"type\": \"bar\", \"x\": [\"linear\", \"lasso\", \"elastic net\", \"random forrest\", \"ridge\", \"mlpr\"], \"y\": [0.2484764636107935, 0.2484764636107935, 0.2484764636107935, 0.300549616949123, 0.2484667497423327, 0.1702557544801752], \"name\": \"train mae\"}], {\"barmode\": \"group\", \"title\": \"MAE metric\", \"xaxis\": {\"title\": \"Model\", \"titlefont\": {\"family\": \"Courier New, monospace\", \"size\": 18, \"color\": \"#7f7f7f\"}}, \"yaxis\": {\"title\": \"Test value\", \"titlefont\": {\"family\": \"Courier New, monospace\", \"size\": 25, \"color\": \"#7f7f7f\"}}}, {\"showLink\": true, \"linkText\": \"Export to plot.ly\"})});</script>"
      ]
     },
     "metadata": {},
     "output_type": "display_data"
    }
   ],
   "source": [
    "trace1 = go.Bar(\n",
    "    x=results.index,\n",
    "    y=results['test mae'],\n",
    "    name='test mae'\n",
    ")\n",
    "trace2 = go.Bar(\n",
    "    x=results.index,\n",
    "    y=results['train mae'],\n",
    "    name='train mae'\n",
    ")\n",
    "\n",
    "data = [trace1, trace2]\n",
    "layout = go.Layout(\n",
    "    barmode='group',\n",
    "    \n",
    "    title='MAE metric',\n",
    "    xaxis=dict(\n",
    "        title='Model',\n",
    "        titlefont=dict(\n",
    "            family='Courier New, monospace',\n",
    "            size=18,\n",
    "            color='#7f7f7f'\n",
    "        )\n",
    "    ),\n",
    "    yaxis=dict(\n",
    "        title='Test value',\n",
    "        titlefont=dict(\n",
    "            family='Courier New, monospace',\n",
    "            size=25,\n",
    "            color='#7f7f7f'\n",
    "        )\n",
    "    ) \n",
    ")\n",
    "\n",
    "fig = go.Figure(data=data, layout=layout)\n",
    "py.iplot(fig, filename='grouped-bar')"
   ]
  },
  {
   "cell_type": "code",
   "execution_count": 76,
   "metadata": {},
   "outputs": [
    {
     "data": {
      "application/vnd.plotly.v1+json": {
       "data": [
        {
         "name": "test mse",
         "type": "bar",
         "x": [
          "linear",
          "lasso",
          "elastic net",
          "random forrest",
          "ridge",
          "mlpr"
         ],
         "y": [
          0.1789037570864549,
          0.1789037570864549,
          0.1789037570864549,
          0.28177008001829174,
          0.17890511914987078,
          0.14791760002541507
         ]
        },
        {
         "name": "train mse",
         "type": "bar",
         "x": [
          "linear",
          "lasso",
          "elastic net",
          "random forrest",
          "ridge",
          "mlpr"
         ],
         "y": [
          0.1596387619796312,
          0.1596387619796312,
          0.1596387619796312,
          0.17880816082528297,
          0.159638770496622,
          0.05697087047326914
         ]
        }
       ],
       "layout": {
        "barmode": "group",
        "title": "MSE metric",
        "xaxis": {
         "title": "Model",
         "titlefont": {
          "color": "#7f7f7f",
          "family": "Courier New, monospace",
          "size": 18
         }
        },
        "yaxis": {
         "title": "Test value",
         "titlefont": {
          "color": "#7f7f7f",
          "family": "Courier New, monospace",
          "size": 25
         }
        }
       }
      },
      "text/html": [
       "<div id=\"841fc43e-4f32-4fcc-9259-4b7ea93b2a17\" style=\"height: 525px; width: 100%;\" class=\"plotly-graph-div\"></div><script type=\"text/javascript\">require([\"plotly\"], function(Plotly) { window.PLOTLYENV=window.PLOTLYENV || {};window.PLOTLYENV.BASE_URL=\"https://plot.ly\";Plotly.newPlot(\"841fc43e-4f32-4fcc-9259-4b7ea93b2a17\", [{\"type\": \"bar\", \"x\": [\"linear\", \"lasso\", \"elastic net\", \"random forrest\", \"ridge\", \"mlpr\"], \"y\": [0.1789037570864549, 0.1789037570864549, 0.1789037570864549, 0.28177008001829174, 0.17890511914987078, 0.14791760002541507], \"name\": \"test mse\"}, {\"type\": \"bar\", \"x\": [\"linear\", \"lasso\", \"elastic net\", \"random forrest\", \"ridge\", \"mlpr\"], \"y\": [0.1596387619796312, 0.1596387619796312, 0.1596387619796312, 0.17880816082528297, 0.159638770496622, 0.05697087047326914], \"name\": \"train mse\"}], {\"barmode\": \"group\", \"title\": \"MSE metric\", \"xaxis\": {\"title\": \"Model\", \"titlefont\": {\"family\": \"Courier New, monospace\", \"size\": 18, \"color\": \"#7f7f7f\"}}, \"yaxis\": {\"title\": \"Test value\", \"titlefont\": {\"family\": \"Courier New, monospace\", \"size\": 25, \"color\": \"#7f7f7f\"}}}, {\"showLink\": true, \"linkText\": \"Export to plot.ly\"})});</script>"
      ],
      "text/vnd.plotly.v1+html": [
       "<div id=\"841fc43e-4f32-4fcc-9259-4b7ea93b2a17\" style=\"height: 525px; width: 100%;\" class=\"plotly-graph-div\"></div><script type=\"text/javascript\">require([\"plotly\"], function(Plotly) { window.PLOTLYENV=window.PLOTLYENV || {};window.PLOTLYENV.BASE_URL=\"https://plot.ly\";Plotly.newPlot(\"841fc43e-4f32-4fcc-9259-4b7ea93b2a17\", [{\"type\": \"bar\", \"x\": [\"linear\", \"lasso\", \"elastic net\", \"random forrest\", \"ridge\", \"mlpr\"], \"y\": [0.1789037570864549, 0.1789037570864549, 0.1789037570864549, 0.28177008001829174, 0.17890511914987078, 0.14791760002541507], \"name\": \"test mse\"}, {\"type\": \"bar\", \"x\": [\"linear\", \"lasso\", \"elastic net\", \"random forrest\", \"ridge\", \"mlpr\"], \"y\": [0.1596387619796312, 0.1596387619796312, 0.1596387619796312, 0.17880816082528297, 0.159638770496622, 0.05697087047326914], \"name\": \"train mse\"}], {\"barmode\": \"group\", \"title\": \"MSE metric\", \"xaxis\": {\"title\": \"Model\", \"titlefont\": {\"family\": \"Courier New, monospace\", \"size\": 18, \"color\": \"#7f7f7f\"}}, \"yaxis\": {\"title\": \"Test value\", \"titlefont\": {\"family\": \"Courier New, monospace\", \"size\": 25, \"color\": \"#7f7f7f\"}}}, {\"showLink\": true, \"linkText\": \"Export to plot.ly\"})});</script>"
      ]
     },
     "metadata": {},
     "output_type": "display_data"
    }
   ],
   "source": [
    "trace1 = go.Bar(\n",
    "    x=results.index,\n",
    "    y=results['test mse'],\n",
    "    name='test mse'\n",
    ")\n",
    "trace2 = go.Bar(\n",
    "    x=results.index,\n",
    "    y=results['train mse'],\n",
    "    name='train mse'\n",
    ")\n",
    "\n",
    "data = [trace1, trace2]\n",
    "layout = go.Layout(\n",
    "    barmode='group',\n",
    "    \n",
    "    title='MSE metric',\n",
    "    xaxis=dict(\n",
    "        title='Model',\n",
    "        titlefont=dict(\n",
    "            family='Courier New, monospace',\n",
    "            size=18,\n",
    "            color='#7f7f7f'\n",
    "        )\n",
    "    ),\n",
    "    yaxis=dict(\n",
    "        title='Test value',\n",
    "        titlefont=dict(\n",
    "            family='Courier New, monospace',\n",
    "            size=25,\n",
    "            color='#7f7f7f'\n",
    "        )\n",
    "    ) \n",
    ")\n",
    "\n",
    "fig = go.Figure(data=data, layout=layout)\n",
    "py.iplot(fig, filename='grouped-bar')"
   ]
  },
  {
   "cell_type": "code",
   "execution_count": null,
   "metadata": {
    "collapsed": true
   },
   "outputs": [],
   "source": []
  }
 ],
 "metadata": {
  "kernelspec": {
   "display_name": "Python 3",
   "language": "python",
   "name": "python3"
  },
  "language_info": {
   "codemirror_mode": {
    "name": "ipython",
    "version": 3
   },
   "file_extension": ".py",
   "mimetype": "text/x-python",
   "name": "python",
   "nbconvert_exporter": "python",
   "pygments_lexer": "ipython3",
   "version": "3.6.1"
  }
 },
 "nbformat": 4,
 "nbformat_minor": 2
}
