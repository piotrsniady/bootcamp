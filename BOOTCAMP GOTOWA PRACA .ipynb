{
 "cells": [
  {
   "cell_type": "markdown",
   "metadata": {},
   "source": [
    "# House Prices: Advanced Regression Techniques"
   ]
  },
  {
   "cell_type": "markdown",
   "metadata": {},
   "source": [
    "# Table of contents"
   ]
  },
  {
   "cell_type": "markdown",
   "metadata": {},
   "source": [
    "<a href='#introduction'>Introduction</a> <br>\n",
    "<a href='#data'>The data</a> <br>\n",
    "<a href='#cleaning_data'>Cleaning data</a> <br>\n",
    "<a href='#data split and standarization'>Data split and standarization</a> <br>\n",
    "<a href='#pca'>PCA</a> <br>\n",
    "<a href='#linear regression'>Linear regression</a> <br>\n",
    "<a href='#lasso regression'>Lasso regression</a> <br>\n",
    "<a href='#elastic net regression'>Elastic Net regression</a> <br>\n",
    "<a href='#random forrest regression'>Random forrest regression</a> <br>\n",
    "<a href='#ridge regression'>Ridge regression</a> <br>\n",
    "<a href='#multi-layer perceptron regressor'>Neural Network - Multi-layer Perceptron regressor</a> <br>\n",
    "<a href='#conclusion'>Conclusion</a>"
   ]
  },
  {
   "cell_type": "markdown",
   "metadata": {},
   "source": [
    "# <a id='introduction'>Introduction</a>"
   ]
  },
  {
   "cell_type": "markdown",
   "metadata": {
    "collapsed": true
   },
   "source": [
    "The purpose of the analysis is to try to predict the sale price of each of the houses.\n",
    "The entire analysis is based on a data set containing 81 variables describing residential homes in the city of Ames in the state of Iowa in the United States. <br>\n",
    "A complete list of variables with their description is available in the given file: <a href='data_description.txt'>Data file</a> <br>\n",
    "The data has been downloaded from the site: https://www.kaggle.com/c/house-prices-advanced-regression-techniques"
   ]
  },
  {
   "cell_type": "markdown",
   "metadata": {},
   "source": [
    "# <a id='data'>The data</a>"
   ]
  },
  {
   "cell_type": "code",
   "execution_count": 1,
   "metadata": {
    "collapsed": true
   },
   "outputs": [],
   "source": [
    "import pandas as pd\n",
    "import numpy as np\n",
    "import matplotlib.pyplot as plt\n",
    "%matplotlib inline\n",
    "import warnings\n",
    "warnings.filterwarnings('ignore')"
   ]
  },
  {
   "cell_type": "markdown",
   "metadata": {},
   "source": [
    "The following table shows a fragment of the data set on which further analysis will be based."
   ]
  },
  {
   "cell_type": "code",
   "execution_count": 2,
   "metadata": {},
   "outputs": [
    {
     "data": {
      "text/html": [
       "<div>\n",
       "<style>\n",
       "    .dataframe thead tr:only-child th {\n",
       "        text-align: right;\n",
       "    }\n",
       "\n",
       "    .dataframe thead th {\n",
       "        text-align: left;\n",
       "    }\n",
       "\n",
       "    .dataframe tbody tr th {\n",
       "        vertical-align: top;\n",
       "    }\n",
       "</style>\n",
       "<table border=\"1\" class=\"dataframe\">\n",
       "  <thead>\n",
       "    <tr style=\"text-align: right;\">\n",
       "      <th></th>\n",
       "      <th>Id</th>\n",
       "      <th>MSSubClass</th>\n",
       "      <th>MSZoning</th>\n",
       "      <th>LotFrontage</th>\n",
       "      <th>LotArea</th>\n",
       "      <th>Street</th>\n",
       "      <th>Alley</th>\n",
       "      <th>LotShape</th>\n",
       "      <th>LandContour</th>\n",
       "      <th>Utilities</th>\n",
       "      <th>...</th>\n",
       "      <th>PoolArea</th>\n",
       "      <th>PoolQC</th>\n",
       "      <th>Fence</th>\n",
       "      <th>MiscFeature</th>\n",
       "      <th>MiscVal</th>\n",
       "      <th>MoSold</th>\n",
       "      <th>YrSold</th>\n",
       "      <th>SaleType</th>\n",
       "      <th>SaleCondition</th>\n",
       "      <th>SalePrice</th>\n",
       "    </tr>\n",
       "  </thead>\n",
       "  <tbody>\n",
       "    <tr>\n",
       "      <th>0</th>\n",
       "      <td>1</td>\n",
       "      <td>60</td>\n",
       "      <td>RL</td>\n",
       "      <td>65.0</td>\n",
       "      <td>8450</td>\n",
       "      <td>Pave</td>\n",
       "      <td>NaN</td>\n",
       "      <td>Reg</td>\n",
       "      <td>Lvl</td>\n",
       "      <td>AllPub</td>\n",
       "      <td>...</td>\n",
       "      <td>0</td>\n",
       "      <td>NaN</td>\n",
       "      <td>NaN</td>\n",
       "      <td>NaN</td>\n",
       "      <td>0</td>\n",
       "      <td>2</td>\n",
       "      <td>2008</td>\n",
       "      <td>WD</td>\n",
       "      <td>Normal</td>\n",
       "      <td>208500</td>\n",
       "    </tr>\n",
       "    <tr>\n",
       "      <th>1</th>\n",
       "      <td>2</td>\n",
       "      <td>20</td>\n",
       "      <td>RL</td>\n",
       "      <td>80.0</td>\n",
       "      <td>9600</td>\n",
       "      <td>Pave</td>\n",
       "      <td>NaN</td>\n",
       "      <td>Reg</td>\n",
       "      <td>Lvl</td>\n",
       "      <td>AllPub</td>\n",
       "      <td>...</td>\n",
       "      <td>0</td>\n",
       "      <td>NaN</td>\n",
       "      <td>NaN</td>\n",
       "      <td>NaN</td>\n",
       "      <td>0</td>\n",
       "      <td>5</td>\n",
       "      <td>2007</td>\n",
       "      <td>WD</td>\n",
       "      <td>Normal</td>\n",
       "      <td>181500</td>\n",
       "    </tr>\n",
       "    <tr>\n",
       "      <th>2</th>\n",
       "      <td>3</td>\n",
       "      <td>60</td>\n",
       "      <td>RL</td>\n",
       "      <td>68.0</td>\n",
       "      <td>11250</td>\n",
       "      <td>Pave</td>\n",
       "      <td>NaN</td>\n",
       "      <td>IR1</td>\n",
       "      <td>Lvl</td>\n",
       "      <td>AllPub</td>\n",
       "      <td>...</td>\n",
       "      <td>0</td>\n",
       "      <td>NaN</td>\n",
       "      <td>NaN</td>\n",
       "      <td>NaN</td>\n",
       "      <td>0</td>\n",
       "      <td>9</td>\n",
       "      <td>2008</td>\n",
       "      <td>WD</td>\n",
       "      <td>Normal</td>\n",
       "      <td>223500</td>\n",
       "    </tr>\n",
       "    <tr>\n",
       "      <th>3</th>\n",
       "      <td>4</td>\n",
       "      <td>70</td>\n",
       "      <td>RL</td>\n",
       "      <td>60.0</td>\n",
       "      <td>9550</td>\n",
       "      <td>Pave</td>\n",
       "      <td>NaN</td>\n",
       "      <td>IR1</td>\n",
       "      <td>Lvl</td>\n",
       "      <td>AllPub</td>\n",
       "      <td>...</td>\n",
       "      <td>0</td>\n",
       "      <td>NaN</td>\n",
       "      <td>NaN</td>\n",
       "      <td>NaN</td>\n",
       "      <td>0</td>\n",
       "      <td>2</td>\n",
       "      <td>2006</td>\n",
       "      <td>WD</td>\n",
       "      <td>Abnorml</td>\n",
       "      <td>140000</td>\n",
       "    </tr>\n",
       "    <tr>\n",
       "      <th>4</th>\n",
       "      <td>5</td>\n",
       "      <td>60</td>\n",
       "      <td>RL</td>\n",
       "      <td>84.0</td>\n",
       "      <td>14260</td>\n",
       "      <td>Pave</td>\n",
       "      <td>NaN</td>\n",
       "      <td>IR1</td>\n",
       "      <td>Lvl</td>\n",
       "      <td>AllPub</td>\n",
       "      <td>...</td>\n",
       "      <td>0</td>\n",
       "      <td>NaN</td>\n",
       "      <td>NaN</td>\n",
       "      <td>NaN</td>\n",
       "      <td>0</td>\n",
       "      <td>12</td>\n",
       "      <td>2008</td>\n",
       "      <td>WD</td>\n",
       "      <td>Normal</td>\n",
       "      <td>250000</td>\n",
       "    </tr>\n",
       "  </tbody>\n",
       "</table>\n",
       "<p>5 rows × 81 columns</p>\n",
       "</div>"
      ],
      "text/plain": [
       "   Id  MSSubClass MSZoning  LotFrontage  LotArea Street Alley LotShape  \\\n",
       "0   1          60       RL         65.0     8450   Pave   NaN      Reg   \n",
       "1   2          20       RL         80.0     9600   Pave   NaN      Reg   \n",
       "2   3          60       RL         68.0    11250   Pave   NaN      IR1   \n",
       "3   4          70       RL         60.0     9550   Pave   NaN      IR1   \n",
       "4   5          60       RL         84.0    14260   Pave   NaN      IR1   \n",
       "\n",
       "  LandContour Utilities    ...     PoolArea PoolQC Fence MiscFeature MiscVal  \\\n",
       "0         Lvl    AllPub    ...            0    NaN   NaN         NaN       0   \n",
       "1         Lvl    AllPub    ...            0    NaN   NaN         NaN       0   \n",
       "2         Lvl    AllPub    ...            0    NaN   NaN         NaN       0   \n",
       "3         Lvl    AllPub    ...            0    NaN   NaN         NaN       0   \n",
       "4         Lvl    AllPub    ...            0    NaN   NaN         NaN       0   \n",
       "\n",
       "  MoSold YrSold  SaleType  SaleCondition  SalePrice  \n",
       "0      2   2008        WD         Normal     208500  \n",
       "1      5   2007        WD         Normal     181500  \n",
       "2      9   2008        WD         Normal     223500  \n",
       "3      2   2006        WD        Abnorml     140000  \n",
       "4     12   2008        WD         Normal     250000  \n",
       "\n",
       "[5 rows x 81 columns]"
      ]
     },
     "execution_count": 2,
     "metadata": {},
     "output_type": "execute_result"
    }
   ],
   "source": [
    "df = pd.read_csv('train.csv')\n",
    "df.head()"
   ]
  },
  {
   "cell_type": "markdown",
   "metadata": {},
   "source": [
    "Basic information about numeric variables included in the dataset:"
   ]
  },
  {
   "cell_type": "code",
   "execution_count": 3,
   "metadata": {},
   "outputs": [
    {
     "data": {
      "text/html": [
       "<div>\n",
       "<style>\n",
       "    .dataframe thead tr:only-child th {\n",
       "        text-align: right;\n",
       "    }\n",
       "\n",
       "    .dataframe thead th {\n",
       "        text-align: left;\n",
       "    }\n",
       "\n",
       "    .dataframe tbody tr th {\n",
       "        vertical-align: top;\n",
       "    }\n",
       "</style>\n",
       "<table border=\"1\" class=\"dataframe\">\n",
       "  <thead>\n",
       "    <tr style=\"text-align: right;\">\n",
       "      <th></th>\n",
       "      <th>Id</th>\n",
       "      <th>MSSubClass</th>\n",
       "      <th>LotFrontage</th>\n",
       "      <th>LotArea</th>\n",
       "      <th>OverallQual</th>\n",
       "      <th>OverallCond</th>\n",
       "      <th>YearBuilt</th>\n",
       "      <th>YearRemodAdd</th>\n",
       "      <th>MasVnrArea</th>\n",
       "      <th>BsmtFinSF1</th>\n",
       "      <th>...</th>\n",
       "      <th>WoodDeckSF</th>\n",
       "      <th>OpenPorchSF</th>\n",
       "      <th>EnclosedPorch</th>\n",
       "      <th>3SsnPorch</th>\n",
       "      <th>ScreenPorch</th>\n",
       "      <th>PoolArea</th>\n",
       "      <th>MiscVal</th>\n",
       "      <th>MoSold</th>\n",
       "      <th>YrSold</th>\n",
       "      <th>SalePrice</th>\n",
       "    </tr>\n",
       "  </thead>\n",
       "  <tbody>\n",
       "    <tr>\n",
       "      <th>count</th>\n",
       "      <td>1460.000000</td>\n",
       "      <td>1460.000000</td>\n",
       "      <td>1201.000000</td>\n",
       "      <td>1460.000000</td>\n",
       "      <td>1460.000000</td>\n",
       "      <td>1460.000000</td>\n",
       "      <td>1460.000000</td>\n",
       "      <td>1460.000000</td>\n",
       "      <td>1452.000000</td>\n",
       "      <td>1460.000000</td>\n",
       "      <td>...</td>\n",
       "      <td>1460.000000</td>\n",
       "      <td>1460.000000</td>\n",
       "      <td>1460.000000</td>\n",
       "      <td>1460.000000</td>\n",
       "      <td>1460.000000</td>\n",
       "      <td>1460.000000</td>\n",
       "      <td>1460.000000</td>\n",
       "      <td>1460.000000</td>\n",
       "      <td>1460.000000</td>\n",
       "      <td>1460.000000</td>\n",
       "    </tr>\n",
       "    <tr>\n",
       "      <th>mean</th>\n",
       "      <td>730.500000</td>\n",
       "      <td>56.897260</td>\n",
       "      <td>70.049958</td>\n",
       "      <td>10516.828082</td>\n",
       "      <td>6.099315</td>\n",
       "      <td>5.575342</td>\n",
       "      <td>1971.267808</td>\n",
       "      <td>1984.865753</td>\n",
       "      <td>103.685262</td>\n",
       "      <td>443.639726</td>\n",
       "      <td>...</td>\n",
       "      <td>94.244521</td>\n",
       "      <td>46.660274</td>\n",
       "      <td>21.954110</td>\n",
       "      <td>3.409589</td>\n",
       "      <td>15.060959</td>\n",
       "      <td>2.758904</td>\n",
       "      <td>43.489041</td>\n",
       "      <td>6.321918</td>\n",
       "      <td>2007.815753</td>\n",
       "      <td>180921.195890</td>\n",
       "    </tr>\n",
       "    <tr>\n",
       "      <th>std</th>\n",
       "      <td>421.610009</td>\n",
       "      <td>42.300571</td>\n",
       "      <td>24.284752</td>\n",
       "      <td>9981.264932</td>\n",
       "      <td>1.382997</td>\n",
       "      <td>1.112799</td>\n",
       "      <td>30.202904</td>\n",
       "      <td>20.645407</td>\n",
       "      <td>181.066207</td>\n",
       "      <td>456.098091</td>\n",
       "      <td>...</td>\n",
       "      <td>125.338794</td>\n",
       "      <td>66.256028</td>\n",
       "      <td>61.119149</td>\n",
       "      <td>29.317331</td>\n",
       "      <td>55.757415</td>\n",
       "      <td>40.177307</td>\n",
       "      <td>496.123024</td>\n",
       "      <td>2.703626</td>\n",
       "      <td>1.328095</td>\n",
       "      <td>79442.502883</td>\n",
       "    </tr>\n",
       "    <tr>\n",
       "      <th>min</th>\n",
       "      <td>1.000000</td>\n",
       "      <td>20.000000</td>\n",
       "      <td>21.000000</td>\n",
       "      <td>1300.000000</td>\n",
       "      <td>1.000000</td>\n",
       "      <td>1.000000</td>\n",
       "      <td>1872.000000</td>\n",
       "      <td>1950.000000</td>\n",
       "      <td>0.000000</td>\n",
       "      <td>0.000000</td>\n",
       "      <td>...</td>\n",
       "      <td>0.000000</td>\n",
       "      <td>0.000000</td>\n",
       "      <td>0.000000</td>\n",
       "      <td>0.000000</td>\n",
       "      <td>0.000000</td>\n",
       "      <td>0.000000</td>\n",
       "      <td>0.000000</td>\n",
       "      <td>1.000000</td>\n",
       "      <td>2006.000000</td>\n",
       "      <td>34900.000000</td>\n",
       "    </tr>\n",
       "    <tr>\n",
       "      <th>25%</th>\n",
       "      <td>365.750000</td>\n",
       "      <td>20.000000</td>\n",
       "      <td>59.000000</td>\n",
       "      <td>7553.500000</td>\n",
       "      <td>5.000000</td>\n",
       "      <td>5.000000</td>\n",
       "      <td>1954.000000</td>\n",
       "      <td>1967.000000</td>\n",
       "      <td>0.000000</td>\n",
       "      <td>0.000000</td>\n",
       "      <td>...</td>\n",
       "      <td>0.000000</td>\n",
       "      <td>0.000000</td>\n",
       "      <td>0.000000</td>\n",
       "      <td>0.000000</td>\n",
       "      <td>0.000000</td>\n",
       "      <td>0.000000</td>\n",
       "      <td>0.000000</td>\n",
       "      <td>5.000000</td>\n",
       "      <td>2007.000000</td>\n",
       "      <td>129975.000000</td>\n",
       "    </tr>\n",
       "    <tr>\n",
       "      <th>50%</th>\n",
       "      <td>730.500000</td>\n",
       "      <td>50.000000</td>\n",
       "      <td>69.000000</td>\n",
       "      <td>9478.500000</td>\n",
       "      <td>6.000000</td>\n",
       "      <td>5.000000</td>\n",
       "      <td>1973.000000</td>\n",
       "      <td>1994.000000</td>\n",
       "      <td>0.000000</td>\n",
       "      <td>383.500000</td>\n",
       "      <td>...</td>\n",
       "      <td>0.000000</td>\n",
       "      <td>25.000000</td>\n",
       "      <td>0.000000</td>\n",
       "      <td>0.000000</td>\n",
       "      <td>0.000000</td>\n",
       "      <td>0.000000</td>\n",
       "      <td>0.000000</td>\n",
       "      <td>6.000000</td>\n",
       "      <td>2008.000000</td>\n",
       "      <td>163000.000000</td>\n",
       "    </tr>\n",
       "    <tr>\n",
       "      <th>75%</th>\n",
       "      <td>1095.250000</td>\n",
       "      <td>70.000000</td>\n",
       "      <td>80.000000</td>\n",
       "      <td>11601.500000</td>\n",
       "      <td>7.000000</td>\n",
       "      <td>6.000000</td>\n",
       "      <td>2000.000000</td>\n",
       "      <td>2004.000000</td>\n",
       "      <td>166.000000</td>\n",
       "      <td>712.250000</td>\n",
       "      <td>...</td>\n",
       "      <td>168.000000</td>\n",
       "      <td>68.000000</td>\n",
       "      <td>0.000000</td>\n",
       "      <td>0.000000</td>\n",
       "      <td>0.000000</td>\n",
       "      <td>0.000000</td>\n",
       "      <td>0.000000</td>\n",
       "      <td>8.000000</td>\n",
       "      <td>2009.000000</td>\n",
       "      <td>214000.000000</td>\n",
       "    </tr>\n",
       "    <tr>\n",
       "      <th>max</th>\n",
       "      <td>1460.000000</td>\n",
       "      <td>190.000000</td>\n",
       "      <td>313.000000</td>\n",
       "      <td>215245.000000</td>\n",
       "      <td>10.000000</td>\n",
       "      <td>9.000000</td>\n",
       "      <td>2010.000000</td>\n",
       "      <td>2010.000000</td>\n",
       "      <td>1600.000000</td>\n",
       "      <td>5644.000000</td>\n",
       "      <td>...</td>\n",
       "      <td>857.000000</td>\n",
       "      <td>547.000000</td>\n",
       "      <td>552.000000</td>\n",
       "      <td>508.000000</td>\n",
       "      <td>480.000000</td>\n",
       "      <td>738.000000</td>\n",
       "      <td>15500.000000</td>\n",
       "      <td>12.000000</td>\n",
       "      <td>2010.000000</td>\n",
       "      <td>755000.000000</td>\n",
       "    </tr>\n",
       "  </tbody>\n",
       "</table>\n",
       "<p>8 rows × 38 columns</p>\n",
       "</div>"
      ],
      "text/plain": [
       "                Id   MSSubClass  LotFrontage        LotArea  OverallQual  \\\n",
       "count  1460.000000  1460.000000  1201.000000    1460.000000  1460.000000   \n",
       "mean    730.500000    56.897260    70.049958   10516.828082     6.099315   \n",
       "std     421.610009    42.300571    24.284752    9981.264932     1.382997   \n",
       "min       1.000000    20.000000    21.000000    1300.000000     1.000000   \n",
       "25%     365.750000    20.000000    59.000000    7553.500000     5.000000   \n",
       "50%     730.500000    50.000000    69.000000    9478.500000     6.000000   \n",
       "75%    1095.250000    70.000000    80.000000   11601.500000     7.000000   \n",
       "max    1460.000000   190.000000   313.000000  215245.000000    10.000000   \n",
       "\n",
       "       OverallCond    YearBuilt  YearRemodAdd   MasVnrArea   BsmtFinSF1  \\\n",
       "count  1460.000000  1460.000000   1460.000000  1452.000000  1460.000000   \n",
       "mean      5.575342  1971.267808   1984.865753   103.685262   443.639726   \n",
       "std       1.112799    30.202904     20.645407   181.066207   456.098091   \n",
       "min       1.000000  1872.000000   1950.000000     0.000000     0.000000   \n",
       "25%       5.000000  1954.000000   1967.000000     0.000000     0.000000   \n",
       "50%       5.000000  1973.000000   1994.000000     0.000000   383.500000   \n",
       "75%       6.000000  2000.000000   2004.000000   166.000000   712.250000   \n",
       "max       9.000000  2010.000000   2010.000000  1600.000000  5644.000000   \n",
       "\n",
       "           ...         WoodDeckSF  OpenPorchSF  EnclosedPorch    3SsnPorch  \\\n",
       "count      ...        1460.000000  1460.000000    1460.000000  1460.000000   \n",
       "mean       ...          94.244521    46.660274      21.954110     3.409589   \n",
       "std        ...         125.338794    66.256028      61.119149    29.317331   \n",
       "min        ...           0.000000     0.000000       0.000000     0.000000   \n",
       "25%        ...           0.000000     0.000000       0.000000     0.000000   \n",
       "50%        ...           0.000000    25.000000       0.000000     0.000000   \n",
       "75%        ...         168.000000    68.000000       0.000000     0.000000   \n",
       "max        ...         857.000000   547.000000     552.000000   508.000000   \n",
       "\n",
       "       ScreenPorch     PoolArea       MiscVal       MoSold       YrSold  \\\n",
       "count  1460.000000  1460.000000   1460.000000  1460.000000  1460.000000   \n",
       "mean     15.060959     2.758904     43.489041     6.321918  2007.815753   \n",
       "std      55.757415    40.177307    496.123024     2.703626     1.328095   \n",
       "min       0.000000     0.000000      0.000000     1.000000  2006.000000   \n",
       "25%       0.000000     0.000000      0.000000     5.000000  2007.000000   \n",
       "50%       0.000000     0.000000      0.000000     6.000000  2008.000000   \n",
       "75%       0.000000     0.000000      0.000000     8.000000  2009.000000   \n",
       "max     480.000000   738.000000  15500.000000    12.000000  2010.000000   \n",
       "\n",
       "           SalePrice  \n",
       "count    1460.000000  \n",
       "mean   180921.195890  \n",
       "std     79442.502883  \n",
       "min     34900.000000  \n",
       "25%    129975.000000  \n",
       "50%    163000.000000  \n",
       "75%    214000.000000  \n",
       "max    755000.000000  \n",
       "\n",
       "[8 rows x 38 columns]"
      ]
     },
     "execution_count": 3,
     "metadata": {},
     "output_type": "execute_result"
    }
   ],
   "source": [
    "df.describe()"
   ]
  },
  {
   "cell_type": "markdown",
   "metadata": {},
   "source": [
    "# <a id='cleaning_data'>Cleaning data</a>"
   ]
  },
  {
   "cell_type": "markdown",
   "metadata": {},
   "source": [
    "You can start the data cleanup process by writing column names and checking in which columns data is missing."
   ]
  },
  {
   "cell_type": "markdown",
   "metadata": {},
   "source": [
    "The following function returns column names and missing values in these columns."
   ]
  },
  {
   "cell_type": "code",
   "execution_count": 4,
   "metadata": {},
   "outputs": [
    {
     "name": "stdout",
     "output_type": "stream",
     "text": [
      "LotFrontage 259\n",
      "Alley 1369\n",
      "MasVnrType 8\n",
      "MasVnrArea 8\n",
      "BsmtQual 37\n",
      "BsmtCond 37\n",
      "BsmtExposure 38\n",
      "BsmtFinType1 37\n",
      "BsmtFinType2 38\n",
      "Electrical 1\n",
      "FireplaceQu 690\n",
      "GarageType 81\n",
      "GarageYrBlt 81\n",
      "GarageFinish 81\n",
      "GarageQual 81\n",
      "GarageCond 81\n",
      "PoolQC 1453\n",
      "Fence 1179\n",
      "MiscFeature 1406\n"
     ]
    }
   ],
   "source": [
    "def col_view():\n",
    "    for i in df.columns:\n",
    "        val = df[i].isnull().sum() \n",
    "        if val != 0:\n",
    "            print(i,val)\n",
    "        \n",
    "col_view()"
   ]
  },
  {
   "cell_type": "markdown",
   "metadata": {},
   "source": [
    "The above list shows that there are columns in the data set that have large gaps in the data. You must delete them."
   ]
  },
  {
   "cell_type": "code",
   "execution_count": 5,
   "metadata": {
    "collapsed": true
   },
   "outputs": [],
   "source": [
    "del df['LotFrontage']\n",
    "del df['Alley']\n",
    "del df['FireplaceQu']\n",
    "del df['PoolQC']\n",
    "del df['Fence']\n",
    "del df['MiscFeature']"
   ]
  },
  {
   "cell_type": "markdown",
   "metadata": {},
   "source": [
    "# Lack in data"
   ]
  },
  {
   "cell_type": "markdown",
   "metadata": {},
   "source": [
    "The rest of the variables should be analyzed separately and modified accordingly. For categorical variables, in the absence location, add a new class \"Unknown\", and for numeric variables, fill in gaps, eg with an average value."
   ]
  },
  {
   "cell_type": "markdown",
   "metadata": {},
   "source": [
    "MasVnrType variable"
   ]
  },
  {
   "cell_type": "code",
   "execution_count": 6,
   "metadata": {},
   "outputs": [
    {
     "name": "stdout",
     "output_type": "stream",
     "text": [
      "None       864\n",
      "BrkFace    445\n",
      "Stone      128\n",
      "BrkCmn      15\n",
      "Name: MasVnrType, dtype: int64\n"
     ]
    },
    {
     "data": {
      "text/plain": [
       "0"
      ]
     },
     "execution_count": 6,
     "metadata": {},
     "output_type": "execute_result"
    }
   ],
   "source": [
    "print( df['MasVnrType'].value_counts() )\n",
    "df['MasVnrType'].fillna('Unknown', inplace=True)\n",
    "df['MasVnrType'].isnull().sum()"
   ]
  },
  {
   "cell_type": "markdown",
   "metadata": {
    "collapsed": true
   },
   "source": [
    "MasVnrArea variable"
   ]
  },
  {
   "cell_type": "code",
   "execution_count": 7,
   "metadata": {
    "scrolled": true
   },
   "outputs": [
    {
     "name": "stdout",
     "output_type": "stream",
     "text": [
      "0.0       861\n",
      "72.0        8\n",
      "180.0       8\n",
      "108.0       8\n",
      "120.0       7\n",
      "16.0        7\n",
      "80.0        6\n",
      "200.0       6\n",
      "106.0       6\n",
      "340.0       6\n",
      "170.0       5\n",
      "132.0       5\n",
      "360.0       5\n",
      "84.0        5\n",
      "320.0       5\n",
      "100.0       4\n",
      "196.0       4\n",
      "246.0       4\n",
      "216.0       4\n",
      "160.0       4\n",
      "183.0       4\n",
      "178.0       4\n",
      "270.0       4\n",
      "300.0       4\n",
      "210.0       4\n",
      "268.0       4\n",
      "252.0       4\n",
      "168.0       4\n",
      "336.0       4\n",
      "220.0       4\n",
      "         ... \n",
      "14.0        1\n",
      "53.0        1\n",
      "24.0        1\n",
      "127.0       1\n",
      "365.0       1\n",
      "115.0       1\n",
      "562.0       1\n",
      "259.0       1\n",
      "378.0       1\n",
      "219.0       1\n",
      "161.0       1\n",
      "247.0       1\n",
      "109.0       1\n",
      "278.0       1\n",
      "375.0       1\n",
      "225.0       1\n",
      "604.0       1\n",
      "762.0       1\n",
      "290.0       1\n",
      "299.0       1\n",
      "202.0       1\n",
      "731.0       1\n",
      "167.0       1\n",
      "309.0       1\n",
      "1129.0      1\n",
      "651.0       1\n",
      "337.0       1\n",
      "415.0       1\n",
      "293.0       1\n",
      "621.0       1\n",
      "Name: MasVnrArea, Length: 327, dtype: int64\n"
     ]
    }
   ],
   "source": [
    "print( df['MasVnrArea'].value_counts() )\n",
    "df['MasVnrArea'].fillna('0.0', inplace=True)\n",
    "df['MasVnrArea'].isnull().sum()\n",
    "df['MasVnrArea'] = df['MasVnrArea'].astype(float)"
   ]
  },
  {
   "cell_type": "markdown",
   "metadata": {
    "collapsed": true
   },
   "source": [
    "Electrical variable"
   ]
  },
  {
   "cell_type": "code",
   "execution_count": 8,
   "metadata": {},
   "outputs": [
    {
     "name": "stdout",
     "output_type": "stream",
     "text": [
      "SBrkr    1334\n",
      "FuseA      94\n",
      "FuseF      27\n",
      "FuseP       3\n",
      "Mix         1\n",
      "Name: Electrical, dtype: int64\n"
     ]
    },
    {
     "data": {
      "text/plain": [
       "0"
      ]
     },
     "execution_count": 8,
     "metadata": {},
     "output_type": "execute_result"
    }
   ],
   "source": [
    "print( df['Electrical'].value_counts() )\n",
    "df['Electrical'].fillna('SBrkr', inplace=True)\n",
    "df['Electrical'].isnull().sum()"
   ]
  },
  {
   "cell_type": "markdown",
   "metadata": {
    "collapsed": true
   },
   "source": [
    "BsmtQual variable"
   ]
  },
  {
   "cell_type": "code",
   "execution_count": 9,
   "metadata": {},
   "outputs": [
    {
     "name": "stdout",
     "output_type": "stream",
     "text": [
      "TA    649\n",
      "Gd    618\n",
      "Ex    121\n",
      "Fa     35\n",
      "Name: BsmtQual, dtype: int64\n"
     ]
    },
    {
     "data": {
      "text/plain": [
       "0"
      ]
     },
     "execution_count": 9,
     "metadata": {},
     "output_type": "execute_result"
    }
   ],
   "source": [
    "print( df['BsmtQual'].value_counts() )\n",
    "df['BsmtQual'].fillna('Unknown', inplace=True)\n",
    "df['BsmtQual'].isnull().sum()"
   ]
  },
  {
   "cell_type": "markdown",
   "metadata": {
    "collapsed": true
   },
   "source": [
    "BsmtCond variable"
   ]
  },
  {
   "cell_type": "code",
   "execution_count": 10,
   "metadata": {},
   "outputs": [
    {
     "name": "stdout",
     "output_type": "stream",
     "text": [
      "TA    1311\n",
      "Gd      65\n",
      "Fa      45\n",
      "Po       2\n",
      "Name: BsmtCond, dtype: int64\n"
     ]
    },
    {
     "data": {
      "text/plain": [
       "0"
      ]
     },
     "execution_count": 10,
     "metadata": {},
     "output_type": "execute_result"
    }
   ],
   "source": [
    "print( df['BsmtCond'].value_counts() )\n",
    "df['BsmtCond'].fillna('Unknown', inplace=True)\n",
    "df['BsmtCond'].isnull().sum()"
   ]
  },
  {
   "cell_type": "markdown",
   "metadata": {},
   "source": [
    "BsmtExposure variable"
   ]
  },
  {
   "cell_type": "code",
   "execution_count": 11,
   "metadata": {},
   "outputs": [
    {
     "name": "stdout",
     "output_type": "stream",
     "text": [
      "No    953\n",
      "Av    221\n",
      "Gd    134\n",
      "Mn    114\n",
      "Name: BsmtExposure, dtype: int64\n"
     ]
    },
    {
     "data": {
      "text/plain": [
       "0"
      ]
     },
     "execution_count": 11,
     "metadata": {},
     "output_type": "execute_result"
    }
   ],
   "source": [
    "print( df['BsmtExposure'].value_counts() )\n",
    "df['BsmtExposure'].fillna('Unknown', inplace=True)\n",
    "df['BsmtExposure'].isnull().sum()"
   ]
  },
  {
   "cell_type": "markdown",
   "metadata": {},
   "source": [
    "BsmtFinType1 variable"
   ]
  },
  {
   "cell_type": "code",
   "execution_count": 12,
   "metadata": {},
   "outputs": [
    {
     "name": "stdout",
     "output_type": "stream",
     "text": [
      "Unf    430\n",
      "GLQ    418\n",
      "ALQ    220\n",
      "BLQ    148\n",
      "Rec    133\n",
      "LwQ     74\n",
      "Name: BsmtFinType1, dtype: int64\n"
     ]
    },
    {
     "data": {
      "text/plain": [
       "0"
      ]
     },
     "execution_count": 12,
     "metadata": {},
     "output_type": "execute_result"
    }
   ],
   "source": [
    "print( df['BsmtFinType1'].value_counts() )\n",
    "df['BsmtFinType1'].fillna('Unknown', inplace=True)\n",
    "df['BsmtFinType1'].isnull().sum()"
   ]
  },
  {
   "cell_type": "markdown",
   "metadata": {},
   "source": [
    "BsmtFinType2 variable"
   ]
  },
  {
   "cell_type": "code",
   "execution_count": 13,
   "metadata": {},
   "outputs": [
    {
     "name": "stdout",
     "output_type": "stream",
     "text": [
      "Unf    1256\n",
      "Rec      54\n",
      "LwQ      46\n",
      "BLQ      33\n",
      "ALQ      19\n",
      "GLQ      14\n",
      "Name: BsmtFinType2, dtype: int64\n"
     ]
    },
    {
     "data": {
      "text/plain": [
       "0"
      ]
     },
     "execution_count": 13,
     "metadata": {},
     "output_type": "execute_result"
    }
   ],
   "source": [
    "print( df['BsmtFinType2'].value_counts() )\n",
    "df['BsmtFinType2'].fillna('Unknown', inplace=True)\n",
    "df['BsmtFinType2'].isnull().sum()"
   ]
  },
  {
   "cell_type": "markdown",
   "metadata": {},
   "source": [
    "GarageType variable"
   ]
  },
  {
   "cell_type": "code",
   "execution_count": 14,
   "metadata": {},
   "outputs": [
    {
     "name": "stdout",
     "output_type": "stream",
     "text": [
      "Attchd     870\n",
      "Detchd     387\n",
      "BuiltIn     88\n",
      "Basment     19\n",
      "CarPort      9\n",
      "2Types       6\n",
      "Name: GarageType, dtype: int64\n"
     ]
    },
    {
     "data": {
      "text/plain": [
       "0"
      ]
     },
     "execution_count": 14,
     "metadata": {},
     "output_type": "execute_result"
    }
   ],
   "source": [
    "print( df['GarageType'].value_counts() )\n",
    "df['GarageType'].fillna('Unknown', inplace=True)\n",
    "df['GarageType'].isnull().sum()"
   ]
  },
  {
   "cell_type": "markdown",
   "metadata": {},
   "source": [
    "GarageYrBlt variable"
   ]
  },
  {
   "cell_type": "code",
   "execution_count": 15,
   "metadata": {
    "scrolled": true
   },
   "outputs": [
    {
     "name": "stdout",
     "output_type": "stream",
     "text": [
      "2005.0    65\n",
      "2006.0    59\n",
      "2004.0    53\n",
      "2003.0    50\n",
      "2007.0    49\n",
      "1977.0    35\n",
      "1998.0    31\n",
      "1999.0    30\n",
      "2008.0    29\n",
      "1976.0    29\n",
      "2000.0    27\n",
      "2002.0    26\n",
      "1968.0    26\n",
      "1950.0    24\n",
      "1993.0    22\n",
      "2009.0    21\n",
      "1965.0    21\n",
      "1966.0    21\n",
      "1962.0    21\n",
      "1958.0    21\n",
      "2001.0    20\n",
      "1996.0    20\n",
      "1957.0    20\n",
      "1970.0    20\n",
      "1960.0    19\n",
      "1997.0    19\n",
      "1978.0    19\n",
      "1954.0    19\n",
      "1974.0    18\n",
      "1994.0    18\n",
      "          ..\n",
      "1922.0     5\n",
      "1936.0     5\n",
      "1916.0     5\n",
      "1931.0     4\n",
      "1945.0     4\n",
      "1935.0     4\n",
      "1928.0     4\n",
      "1946.0     4\n",
      "1982.0     4\n",
      "1938.0     3\n",
      "1921.0     3\n",
      "1924.0     3\n",
      "1910.0     3\n",
      "1952.0     3\n",
      "1932.0     3\n",
      "2010.0     3\n",
      "1923.0     3\n",
      "1937.0     2\n",
      "1934.0     2\n",
      "1918.0     2\n",
      "1947.0     2\n",
      "1929.0     2\n",
      "1914.0     2\n",
      "1915.0     2\n",
      "1942.0     2\n",
      "1908.0     1\n",
      "1927.0     1\n",
      "1933.0     1\n",
      "1900.0     1\n",
      "1906.0     1\n",
      "Name: GarageYrBlt, Length: 97, dtype: int64\n"
     ]
    },
    {
     "data": {
      "text/plain": [
       "0"
      ]
     },
     "execution_count": 15,
     "metadata": {},
     "output_type": "execute_result"
    }
   ],
   "source": [
    "print( df['GarageYrBlt'].value_counts() )\n",
    "df['GarageYrBlt'].fillna(df['GarageYrBlt'].mean(), inplace=True)\n",
    "df['GarageYrBlt'].isnull().sum()"
   ]
  },
  {
   "cell_type": "markdown",
   "metadata": {},
   "source": [
    "GarageFinish variable"
   ]
  },
  {
   "cell_type": "code",
   "execution_count": 16,
   "metadata": {},
   "outputs": [
    {
     "name": "stdout",
     "output_type": "stream",
     "text": [
      "Unf    605\n",
      "RFn    422\n",
      "Fin    352\n",
      "Name: GarageFinish, dtype: int64\n"
     ]
    },
    {
     "data": {
      "text/plain": [
       "0"
      ]
     },
     "execution_count": 16,
     "metadata": {},
     "output_type": "execute_result"
    }
   ],
   "source": [
    "print( df['GarageFinish'].value_counts() )\n",
    "df['GarageFinish'].fillna('Unknown', inplace=True)\n",
    "df['GarageFinish'].isnull().sum()"
   ]
  },
  {
   "cell_type": "markdown",
   "metadata": {},
   "source": [
    "GarageQual variable"
   ]
  },
  {
   "cell_type": "code",
   "execution_count": 17,
   "metadata": {},
   "outputs": [
    {
     "name": "stdout",
     "output_type": "stream",
     "text": [
      "TA    1311\n",
      "Fa      48\n",
      "Gd      14\n",
      "Po       3\n",
      "Ex       3\n",
      "Name: GarageQual, dtype: int64\n"
     ]
    },
    {
     "data": {
      "text/plain": [
       "0"
      ]
     },
     "execution_count": 17,
     "metadata": {},
     "output_type": "execute_result"
    }
   ],
   "source": [
    "print( df['GarageQual'].value_counts() )\n",
    "df['GarageQual'].fillna('Unknown', inplace=True)\n",
    "df['GarageQual'].isnull().sum()"
   ]
  },
  {
   "cell_type": "markdown",
   "metadata": {},
   "source": [
    "GarageCond variable"
   ]
  },
  {
   "cell_type": "code",
   "execution_count": 18,
   "metadata": {},
   "outputs": [
    {
     "name": "stdout",
     "output_type": "stream",
     "text": [
      "TA    1326\n",
      "Fa      35\n",
      "Gd       9\n",
      "Po       7\n",
      "Ex       2\n",
      "Name: GarageCond, dtype: int64\n"
     ]
    },
    {
     "data": {
      "text/plain": [
       "0"
      ]
     },
     "execution_count": 18,
     "metadata": {},
     "output_type": "execute_result"
    }
   ],
   "source": [
    "print( df['GarageCond'].value_counts() )\n",
    "df['GarageCond'].fillna('Unknown', inplace=True)\n",
    "df['GarageCond'].isnull().sum()"
   ]
  },
  {
   "cell_type": "markdown",
   "metadata": {},
   "source": [
    "# Other variables"
   ]
  },
  {
   "cell_type": "markdown",
   "metadata": {},
   "source": [
    "The following variables do not provide relevant information for analysis, so they must be removed."
   ]
  },
  {
   "cell_type": "code",
   "execution_count": 19,
   "metadata": {
    "collapsed": true
   },
   "outputs": [],
   "source": [
    "del df['Utilities']\n",
    "del df['3SsnPorch']\n",
    "del df['LowQualFinSF']\n",
    "del df['Id']"
   ]
  },
  {
   "cell_type": "markdown",
   "metadata": {},
   "source": [
    "# Date format variables"
   ]
  },
  {
   "cell_type": "markdown",
   "metadata": {},
   "source": [
    "In dataset there are some variables representing time values. Those variables need to a different form \n",
    "which they will represent for example not the year of construction but certain number of years from the construction.\n",
    "This can be achieved by subtracting the current date from the date of construction"
   ]
  },
  {
   "cell_type": "code",
   "execution_count": 20,
   "metadata": {},
   "outputs": [
    {
     "name": "stdout",
     "output_type": "stream",
     "text": [
      "2018\n"
     ]
    }
   ],
   "source": [
    "import datetime\n",
    "now = datetime.datetime.now()\n",
    "print(now.year)"
   ]
  },
  {
   "cell_type": "code",
   "execution_count": 21,
   "metadata": {
    "collapsed": true
   },
   "outputs": [],
   "source": [
    "df['YearBuilt'] = now.year - df['YearBuilt']\n",
    "df['YearRemodAdd'] = now.year - df['YearRemodAdd']\n",
    "df['GarageYrBlt'] = now.year - df['GarageYrBlt']\n",
    "df['YrSold'] = now.year - df['YrSold']"
   ]
  },
  {
   "cell_type": "markdown",
   "metadata": {},
   "source": [
    "In order to check the correctness of the activities carried out, \n",
    "we need to make sure that all deficiencies have been corrected\n",
    "by checking if all gaps are equal to zero."
   ]
  },
  {
   "cell_type": "code",
   "execution_count": 22,
   "metadata": {},
   "outputs": [
    {
     "name": "stdout",
     "output_type": "stream",
     "text": [
      "MSSubClass 0\n",
      "MSZoning 0\n",
      "LotArea 0\n",
      "Street 0\n",
      "LotShape 0\n",
      "LandContour 0\n",
      "LotConfig 0\n",
      "LandSlope 0\n",
      "Neighborhood 0\n",
      "Condition1 0\n",
      "Condition2 0\n",
      "BldgType 0\n",
      "HouseStyle 0\n",
      "OverallQual 0\n",
      "OverallCond 0\n",
      "YearBuilt 0\n",
      "YearRemodAdd 0\n",
      "RoofStyle 0\n",
      "RoofMatl 0\n",
      "Exterior1st 0\n",
      "Exterior2nd 0\n",
      "MasVnrType 0\n",
      "MasVnrArea 0\n",
      "ExterQual 0\n",
      "ExterCond 0\n",
      "Foundation 0\n",
      "BsmtQual 0\n",
      "BsmtCond 0\n",
      "BsmtExposure 0\n",
      "BsmtFinType1 0\n",
      "BsmtFinSF1 0\n",
      "BsmtFinType2 0\n",
      "BsmtFinSF2 0\n",
      "BsmtUnfSF 0\n",
      "TotalBsmtSF 0\n",
      "Heating 0\n",
      "HeatingQC 0\n",
      "CentralAir 0\n",
      "Electrical 0\n",
      "1stFlrSF 0\n",
      "2ndFlrSF 0\n",
      "GrLivArea 0\n",
      "BsmtFullBath 0\n",
      "BsmtHalfBath 0\n",
      "FullBath 0\n",
      "HalfBath 0\n",
      "BedroomAbvGr 0\n",
      "KitchenAbvGr 0\n",
      "KitchenQual 0\n",
      "TotRmsAbvGrd 0\n",
      "Functional 0\n",
      "Fireplaces 0\n",
      "GarageType 0\n",
      "GarageYrBlt 0\n",
      "GarageFinish 0\n",
      "GarageCars 0\n",
      "GarageArea 0\n",
      "GarageQual 0\n",
      "GarageCond 0\n",
      "PavedDrive 0\n",
      "WoodDeckSF 0\n",
      "OpenPorchSF 0\n",
      "EnclosedPorch 0\n",
      "ScreenPorch 0\n",
      "PoolArea 0\n",
      "MiscVal 0\n",
      "MoSold 0\n",
      "YrSold 0\n",
      "SaleType 0\n",
      "SaleCondition 0\n",
      "SalePrice 0\n"
     ]
    }
   ],
   "source": [
    "for i in df.columns:\n",
    "    val = df[i].isnull().sum() \n",
    "    if val == 0:\n",
    "        print(i,val)"
   ]
  },
  {
   "cell_type": "markdown",
   "metadata": {},
   "source": [
    "# One-hot encoding"
   ]
  },
  {
   "cell_type": "markdown",
   "metadata": {},
   "source": [
    "For further analysis it is necessary to conduct the so-called one-hot encoding, or conversion of categorical values into zero-one variables. checking if all gaps are equal to zero"
   ]
  },
  {
   "cell_type": "markdown",
   "metadata": {},
   "source": [
    "The following two lists show zero-one variables - categorical (dummies_columns) and numeric (non_dummies_columns).\n",
    "Both lists should be reduced to tabular form and combined into one table."
   ]
  },
  {
   "cell_type": "code",
   "execution_count": 23,
   "metadata": {
    "collapsed": true
   },
   "outputs": [],
   "source": [
    "dummies_columns = [\n",
    "df['MSSubClass'],df['MSZoning'],df['Street'],df['LotShape'],\n",
    "df['LandContour'],df['LotConfig'],df['LandSlope'],df['Neighborhood'],\n",
    "df['Condition1'],df['Condition2'],df['BldgType'],df['HouseStyle'],\n",
    "df['RoofStyle'],df['RoofMatl'],df['Exterior1st'],df['Exterior2nd'],\n",
    "df['MasVnrType'],df['ExterQual'],df['ExterCond'],df['Foundation'],\n",
    "df['BsmtQual'],df['BsmtCond'],df['BsmtExposure'],df['BsmtFinType1'],\n",
    "df['BsmtFinType2'],df['Heating'],df['HeatingQC'],df['CentralAir'],\n",
    "df['Electrical'],df['KitchenQual'],df['Functional'],df['GarageType'],\n",
    "df['GarageFinish'],df['GarageQual'],df['GarageCond'],df['PavedDrive'],\n",
    "df['SaleType'],df['SaleCondition']      \n",
    "]\n",
    "\n",
    "non_dummies_columns = [\n",
    "df['LotArea'],df['OverallQual'],df['OverallCond'],df['YearBuilt'],\n",
    "df['YearRemodAdd'],\n",
    "df['MasVnrArea'],\n",
    "df['BsmtFinSF1'],df['BsmtFinSF2'],\n",
    "df['BsmtUnfSF'],df['TotalBsmtSF'],df['1stFlrSF'],df['2ndFlrSF'],\n",
    "df['GrLivArea'],df['BsmtFullBath'],df['BsmtHalfBath'],\n",
    "df['FullBath'],df['HalfBath'],df['BedroomAbvGr'],df['KitchenAbvGr'],\n",
    "df['TotRmsAbvGrd'],df['Fireplaces'],df['GarageYrBlt'],df['GarageCars'],\n",
    "df['GarageArea'],df['WoodDeckSF'],df['OpenPorchSF'],df['EnclosedPorch'],\n",
    "df['ScreenPorch'],df['PoolArea'],df['MiscVal'],\n",
    "df['MoSold'],df['YrSold'],df['SalePrice']  \n",
    "]"
   ]
  },
  {
   "cell_type": "markdown",
   "metadata": {},
   "source": [
    "Dummies table:"
   ]
  },
  {
   "cell_type": "code",
   "execution_count": 24,
   "metadata": {},
   "outputs": [
    {
     "data": {
      "text/html": [
       "<div>\n",
       "<style>\n",
       "    .dataframe thead tr:only-child th {\n",
       "        text-align: right;\n",
       "    }\n",
       "\n",
       "    .dataframe thead th {\n",
       "        text-align: left;\n",
       "    }\n",
       "\n",
       "    .dataframe tbody tr th {\n",
       "        vertical-align: top;\n",
       "    }\n",
       "</style>\n",
       "<table border=\"1\" class=\"dataframe\">\n",
       "  <thead>\n",
       "    <tr style=\"text-align: right;\">\n",
       "      <th></th>\n",
       "      <th>20</th>\n",
       "      <th>30</th>\n",
       "      <th>40</th>\n",
       "      <th>45</th>\n",
       "      <th>50</th>\n",
       "      <th>60</th>\n",
       "      <th>70</th>\n",
       "      <th>75</th>\n",
       "      <th>80</th>\n",
       "      <th>85</th>\n",
       "      <th>...</th>\n",
       "      <th>ConLw</th>\n",
       "      <th>New</th>\n",
       "      <th>Oth</th>\n",
       "      <th>WD</th>\n",
       "      <th>Abnorml</th>\n",
       "      <th>AdjLand</th>\n",
       "      <th>Alloca</th>\n",
       "      <th>Family</th>\n",
       "      <th>Normal</th>\n",
       "      <th>Partial</th>\n",
       "    </tr>\n",
       "  </thead>\n",
       "  <tbody>\n",
       "    <tr>\n",
       "      <th>0</th>\n",
       "      <td>0</td>\n",
       "      <td>0</td>\n",
       "      <td>0</td>\n",
       "      <td>0</td>\n",
       "      <td>0</td>\n",
       "      <td>1</td>\n",
       "      <td>0</td>\n",
       "      <td>0</td>\n",
       "      <td>0</td>\n",
       "      <td>0</td>\n",
       "      <td>...</td>\n",
       "      <td>0</td>\n",
       "      <td>0</td>\n",
       "      <td>0</td>\n",
       "      <td>1</td>\n",
       "      <td>0</td>\n",
       "      <td>0</td>\n",
       "      <td>0</td>\n",
       "      <td>0</td>\n",
       "      <td>1</td>\n",
       "      <td>0</td>\n",
       "    </tr>\n",
       "    <tr>\n",
       "      <th>1</th>\n",
       "      <td>1</td>\n",
       "      <td>0</td>\n",
       "      <td>0</td>\n",
       "      <td>0</td>\n",
       "      <td>0</td>\n",
       "      <td>0</td>\n",
       "      <td>0</td>\n",
       "      <td>0</td>\n",
       "      <td>0</td>\n",
       "      <td>0</td>\n",
       "      <td>...</td>\n",
       "      <td>0</td>\n",
       "      <td>0</td>\n",
       "      <td>0</td>\n",
       "      <td>1</td>\n",
       "      <td>0</td>\n",
       "      <td>0</td>\n",
       "      <td>0</td>\n",
       "      <td>0</td>\n",
       "      <td>1</td>\n",
       "      <td>0</td>\n",
       "    </tr>\n",
       "    <tr>\n",
       "      <th>2</th>\n",
       "      <td>0</td>\n",
       "      <td>0</td>\n",
       "      <td>0</td>\n",
       "      <td>0</td>\n",
       "      <td>0</td>\n",
       "      <td>1</td>\n",
       "      <td>0</td>\n",
       "      <td>0</td>\n",
       "      <td>0</td>\n",
       "      <td>0</td>\n",
       "      <td>...</td>\n",
       "      <td>0</td>\n",
       "      <td>0</td>\n",
       "      <td>0</td>\n",
       "      <td>1</td>\n",
       "      <td>0</td>\n",
       "      <td>0</td>\n",
       "      <td>0</td>\n",
       "      <td>0</td>\n",
       "      <td>1</td>\n",
       "      <td>0</td>\n",
       "    </tr>\n",
       "    <tr>\n",
       "      <th>3</th>\n",
       "      <td>0</td>\n",
       "      <td>0</td>\n",
       "      <td>0</td>\n",
       "      <td>0</td>\n",
       "      <td>0</td>\n",
       "      <td>0</td>\n",
       "      <td>1</td>\n",
       "      <td>0</td>\n",
       "      <td>0</td>\n",
       "      <td>0</td>\n",
       "      <td>...</td>\n",
       "      <td>0</td>\n",
       "      <td>0</td>\n",
       "      <td>0</td>\n",
       "      <td>1</td>\n",
       "      <td>1</td>\n",
       "      <td>0</td>\n",
       "      <td>0</td>\n",
       "      <td>0</td>\n",
       "      <td>0</td>\n",
       "      <td>0</td>\n",
       "    </tr>\n",
       "    <tr>\n",
       "      <th>4</th>\n",
       "      <td>0</td>\n",
       "      <td>0</td>\n",
       "      <td>0</td>\n",
       "      <td>0</td>\n",
       "      <td>0</td>\n",
       "      <td>1</td>\n",
       "      <td>0</td>\n",
       "      <td>0</td>\n",
       "      <td>0</td>\n",
       "      <td>0</td>\n",
       "      <td>...</td>\n",
       "      <td>0</td>\n",
       "      <td>0</td>\n",
       "      <td>0</td>\n",
       "      <td>1</td>\n",
       "      <td>0</td>\n",
       "      <td>0</td>\n",
       "      <td>0</td>\n",
       "      <td>0</td>\n",
       "      <td>1</td>\n",
       "      <td>0</td>\n",
       "    </tr>\n",
       "  </tbody>\n",
       "</table>\n",
       "<p>5 rows × 257 columns</p>\n",
       "</div>"
      ],
      "text/plain": [
       "   20  30  40  45  50  60  70  75  80  85   ...     ConLw  New  Oth  WD  \\\n",
       "0   0   0   0   0   0   1   0   0   0   0   ...         0    0    0   1   \n",
       "1   1   0   0   0   0   0   0   0   0   0   ...         0    0    0   1   \n",
       "2   0   0   0   0   0   1   0   0   0   0   ...         0    0    0   1   \n",
       "3   0   0   0   0   0   0   1   0   0   0   ...         0    0    0   1   \n",
       "4   0   0   0   0   0   1   0   0   0   0   ...         0    0    0   1   \n",
       "\n",
       "   Abnorml  AdjLand  Alloca  Family  Normal  Partial  \n",
       "0        0        0       0       0       1        0  \n",
       "1        0        0       0       0       1        0  \n",
       "2        0        0       0       0       1        0  \n",
       "3        1        0       0       0       0        0  \n",
       "4        0        0       0       0       1        0  \n",
       "\n",
       "[5 rows x 257 columns]"
      ]
     },
     "execution_count": 24,
     "metadata": {},
     "output_type": "execute_result"
    }
   ],
   "source": [
    "df_dummies = []\n",
    "for i in dummies_columns:\n",
    "    df_dummies.append(pd.get_dummies(i))\n",
    "    \n",
    "df_dummies = pd.concat(df_dummies,axis=1)\n",
    "df_dummies.head()"
   ]
  },
  {
   "cell_type": "markdown",
   "metadata": {},
   "source": [
    "Non dummies table:"
   ]
  },
  {
   "cell_type": "code",
   "execution_count": 25,
   "metadata": {},
   "outputs": [
    {
     "data": {
      "text/html": [
       "<div>\n",
       "<style>\n",
       "    .dataframe thead tr:only-child th {\n",
       "        text-align: right;\n",
       "    }\n",
       "\n",
       "    .dataframe thead th {\n",
       "        text-align: left;\n",
       "    }\n",
       "\n",
       "    .dataframe tbody tr th {\n",
       "        vertical-align: top;\n",
       "    }\n",
       "</style>\n",
       "<table border=\"1\" class=\"dataframe\">\n",
       "  <thead>\n",
       "    <tr style=\"text-align: right;\">\n",
       "      <th></th>\n",
       "      <th>LotArea</th>\n",
       "      <th>OverallQual</th>\n",
       "      <th>OverallCond</th>\n",
       "      <th>YearBuilt</th>\n",
       "      <th>YearRemodAdd</th>\n",
       "      <th>MasVnrArea</th>\n",
       "      <th>BsmtFinSF1</th>\n",
       "      <th>BsmtFinSF2</th>\n",
       "      <th>BsmtUnfSF</th>\n",
       "      <th>TotalBsmtSF</th>\n",
       "      <th>...</th>\n",
       "      <th>GarageArea</th>\n",
       "      <th>WoodDeckSF</th>\n",
       "      <th>OpenPorchSF</th>\n",
       "      <th>EnclosedPorch</th>\n",
       "      <th>ScreenPorch</th>\n",
       "      <th>PoolArea</th>\n",
       "      <th>MiscVal</th>\n",
       "      <th>MoSold</th>\n",
       "      <th>YrSold</th>\n",
       "      <th>SalePrice</th>\n",
       "    </tr>\n",
       "  </thead>\n",
       "  <tbody>\n",
       "    <tr>\n",
       "      <th>0</th>\n",
       "      <td>8450</td>\n",
       "      <td>7</td>\n",
       "      <td>5</td>\n",
       "      <td>15</td>\n",
       "      <td>15</td>\n",
       "      <td>196.0</td>\n",
       "      <td>706</td>\n",
       "      <td>0</td>\n",
       "      <td>150</td>\n",
       "      <td>856</td>\n",
       "      <td>...</td>\n",
       "      <td>548</td>\n",
       "      <td>0</td>\n",
       "      <td>61</td>\n",
       "      <td>0</td>\n",
       "      <td>0</td>\n",
       "      <td>0</td>\n",
       "      <td>0</td>\n",
       "      <td>2</td>\n",
       "      <td>10</td>\n",
       "      <td>208500</td>\n",
       "    </tr>\n",
       "    <tr>\n",
       "      <th>1</th>\n",
       "      <td>9600</td>\n",
       "      <td>6</td>\n",
       "      <td>8</td>\n",
       "      <td>42</td>\n",
       "      <td>42</td>\n",
       "      <td>0.0</td>\n",
       "      <td>978</td>\n",
       "      <td>0</td>\n",
       "      <td>284</td>\n",
       "      <td>1262</td>\n",
       "      <td>...</td>\n",
       "      <td>460</td>\n",
       "      <td>298</td>\n",
       "      <td>0</td>\n",
       "      <td>0</td>\n",
       "      <td>0</td>\n",
       "      <td>0</td>\n",
       "      <td>0</td>\n",
       "      <td>5</td>\n",
       "      <td>11</td>\n",
       "      <td>181500</td>\n",
       "    </tr>\n",
       "    <tr>\n",
       "      <th>2</th>\n",
       "      <td>11250</td>\n",
       "      <td>7</td>\n",
       "      <td>5</td>\n",
       "      <td>17</td>\n",
       "      <td>16</td>\n",
       "      <td>162.0</td>\n",
       "      <td>486</td>\n",
       "      <td>0</td>\n",
       "      <td>434</td>\n",
       "      <td>920</td>\n",
       "      <td>...</td>\n",
       "      <td>608</td>\n",
       "      <td>0</td>\n",
       "      <td>42</td>\n",
       "      <td>0</td>\n",
       "      <td>0</td>\n",
       "      <td>0</td>\n",
       "      <td>0</td>\n",
       "      <td>9</td>\n",
       "      <td>10</td>\n",
       "      <td>223500</td>\n",
       "    </tr>\n",
       "    <tr>\n",
       "      <th>3</th>\n",
       "      <td>9550</td>\n",
       "      <td>7</td>\n",
       "      <td>5</td>\n",
       "      <td>103</td>\n",
       "      <td>48</td>\n",
       "      <td>0.0</td>\n",
       "      <td>216</td>\n",
       "      <td>0</td>\n",
       "      <td>540</td>\n",
       "      <td>756</td>\n",
       "      <td>...</td>\n",
       "      <td>642</td>\n",
       "      <td>0</td>\n",
       "      <td>35</td>\n",
       "      <td>272</td>\n",
       "      <td>0</td>\n",
       "      <td>0</td>\n",
       "      <td>0</td>\n",
       "      <td>2</td>\n",
       "      <td>12</td>\n",
       "      <td>140000</td>\n",
       "    </tr>\n",
       "    <tr>\n",
       "      <th>4</th>\n",
       "      <td>14260</td>\n",
       "      <td>8</td>\n",
       "      <td>5</td>\n",
       "      <td>18</td>\n",
       "      <td>18</td>\n",
       "      <td>350.0</td>\n",
       "      <td>655</td>\n",
       "      <td>0</td>\n",
       "      <td>490</td>\n",
       "      <td>1145</td>\n",
       "      <td>...</td>\n",
       "      <td>836</td>\n",
       "      <td>192</td>\n",
       "      <td>84</td>\n",
       "      <td>0</td>\n",
       "      <td>0</td>\n",
       "      <td>0</td>\n",
       "      <td>0</td>\n",
       "      <td>12</td>\n",
       "      <td>10</td>\n",
       "      <td>250000</td>\n",
       "    </tr>\n",
       "  </tbody>\n",
       "</table>\n",
       "<p>5 rows × 33 columns</p>\n",
       "</div>"
      ],
      "text/plain": [
       "   LotArea  OverallQual  OverallCond  YearBuilt  YearRemodAdd  MasVnrArea  \\\n",
       "0     8450            7            5         15            15       196.0   \n",
       "1     9600            6            8         42            42         0.0   \n",
       "2    11250            7            5         17            16       162.0   \n",
       "3     9550            7            5        103            48         0.0   \n",
       "4    14260            8            5         18            18       350.0   \n",
       "\n",
       "   BsmtFinSF1  BsmtFinSF2  BsmtUnfSF  TotalBsmtSF    ...      GarageArea  \\\n",
       "0         706           0        150          856    ...             548   \n",
       "1         978           0        284         1262    ...             460   \n",
       "2         486           0        434          920    ...             608   \n",
       "3         216           0        540          756    ...             642   \n",
       "4         655           0        490         1145    ...             836   \n",
       "\n",
       "   WoodDeckSF  OpenPorchSF  EnclosedPorch  ScreenPorch  PoolArea  MiscVal  \\\n",
       "0           0           61              0            0         0        0   \n",
       "1         298            0              0            0         0        0   \n",
       "2           0           42              0            0         0        0   \n",
       "3           0           35            272            0         0        0   \n",
       "4         192           84              0            0         0        0   \n",
       "\n",
       "   MoSold  YrSold  SalePrice  \n",
       "0       2      10     208500  \n",
       "1       5      11     181500  \n",
       "2       9      10     223500  \n",
       "3       2      12     140000  \n",
       "4      12      10     250000  \n",
       "\n",
       "[5 rows x 33 columns]"
      ]
     },
     "execution_count": 25,
     "metadata": {},
     "output_type": "execute_result"
    }
   ],
   "source": [
    "df_non_dummies_columns=[]\n",
    "for i in non_dummies_columns:\n",
    "    df_non_dummies_columns.append(i)\n",
    "    \n",
    "df_non_dummies_columns=pd.concat(df_non_dummies_columns,axis=1)\n",
    "df_non_dummies_columns.head()"
   ]
  },
  {
   "cell_type": "markdown",
   "metadata": {},
   "source": [
    "Final data table:"
   ]
  },
  {
   "cell_type": "code",
   "execution_count": 26,
   "metadata": {},
   "outputs": [
    {
     "data": {
      "text/html": [
       "<div>\n",
       "<style>\n",
       "    .dataframe thead tr:only-child th {\n",
       "        text-align: right;\n",
       "    }\n",
       "\n",
       "    .dataframe thead th {\n",
       "        text-align: left;\n",
       "    }\n",
       "\n",
       "    .dataframe tbody tr th {\n",
       "        vertical-align: top;\n",
       "    }\n",
       "</style>\n",
       "<table border=\"1\" class=\"dataframe\">\n",
       "  <thead>\n",
       "    <tr style=\"text-align: right;\">\n",
       "      <th></th>\n",
       "      <th>20</th>\n",
       "      <th>30</th>\n",
       "      <th>40</th>\n",
       "      <th>45</th>\n",
       "      <th>50</th>\n",
       "      <th>60</th>\n",
       "      <th>70</th>\n",
       "      <th>75</th>\n",
       "      <th>80</th>\n",
       "      <th>85</th>\n",
       "      <th>...</th>\n",
       "      <th>GarageArea</th>\n",
       "      <th>WoodDeckSF</th>\n",
       "      <th>OpenPorchSF</th>\n",
       "      <th>EnclosedPorch</th>\n",
       "      <th>ScreenPorch</th>\n",
       "      <th>PoolArea</th>\n",
       "      <th>MiscVal</th>\n",
       "      <th>MoSold</th>\n",
       "      <th>YrSold</th>\n",
       "      <th>SalePrice</th>\n",
       "    </tr>\n",
       "  </thead>\n",
       "  <tbody>\n",
       "    <tr>\n",
       "      <th>0</th>\n",
       "      <td>0</td>\n",
       "      <td>0</td>\n",
       "      <td>0</td>\n",
       "      <td>0</td>\n",
       "      <td>0</td>\n",
       "      <td>1</td>\n",
       "      <td>0</td>\n",
       "      <td>0</td>\n",
       "      <td>0</td>\n",
       "      <td>0</td>\n",
       "      <td>...</td>\n",
       "      <td>548</td>\n",
       "      <td>0</td>\n",
       "      <td>61</td>\n",
       "      <td>0</td>\n",
       "      <td>0</td>\n",
       "      <td>0</td>\n",
       "      <td>0</td>\n",
       "      <td>2</td>\n",
       "      <td>10</td>\n",
       "      <td>208500</td>\n",
       "    </tr>\n",
       "    <tr>\n",
       "      <th>1</th>\n",
       "      <td>1</td>\n",
       "      <td>0</td>\n",
       "      <td>0</td>\n",
       "      <td>0</td>\n",
       "      <td>0</td>\n",
       "      <td>0</td>\n",
       "      <td>0</td>\n",
       "      <td>0</td>\n",
       "      <td>0</td>\n",
       "      <td>0</td>\n",
       "      <td>...</td>\n",
       "      <td>460</td>\n",
       "      <td>298</td>\n",
       "      <td>0</td>\n",
       "      <td>0</td>\n",
       "      <td>0</td>\n",
       "      <td>0</td>\n",
       "      <td>0</td>\n",
       "      <td>5</td>\n",
       "      <td>11</td>\n",
       "      <td>181500</td>\n",
       "    </tr>\n",
       "    <tr>\n",
       "      <th>2</th>\n",
       "      <td>0</td>\n",
       "      <td>0</td>\n",
       "      <td>0</td>\n",
       "      <td>0</td>\n",
       "      <td>0</td>\n",
       "      <td>1</td>\n",
       "      <td>0</td>\n",
       "      <td>0</td>\n",
       "      <td>0</td>\n",
       "      <td>0</td>\n",
       "      <td>...</td>\n",
       "      <td>608</td>\n",
       "      <td>0</td>\n",
       "      <td>42</td>\n",
       "      <td>0</td>\n",
       "      <td>0</td>\n",
       "      <td>0</td>\n",
       "      <td>0</td>\n",
       "      <td>9</td>\n",
       "      <td>10</td>\n",
       "      <td>223500</td>\n",
       "    </tr>\n",
       "    <tr>\n",
       "      <th>3</th>\n",
       "      <td>0</td>\n",
       "      <td>0</td>\n",
       "      <td>0</td>\n",
       "      <td>0</td>\n",
       "      <td>0</td>\n",
       "      <td>0</td>\n",
       "      <td>1</td>\n",
       "      <td>0</td>\n",
       "      <td>0</td>\n",
       "      <td>0</td>\n",
       "      <td>...</td>\n",
       "      <td>642</td>\n",
       "      <td>0</td>\n",
       "      <td>35</td>\n",
       "      <td>272</td>\n",
       "      <td>0</td>\n",
       "      <td>0</td>\n",
       "      <td>0</td>\n",
       "      <td>2</td>\n",
       "      <td>12</td>\n",
       "      <td>140000</td>\n",
       "    </tr>\n",
       "    <tr>\n",
       "      <th>4</th>\n",
       "      <td>0</td>\n",
       "      <td>0</td>\n",
       "      <td>0</td>\n",
       "      <td>0</td>\n",
       "      <td>0</td>\n",
       "      <td>1</td>\n",
       "      <td>0</td>\n",
       "      <td>0</td>\n",
       "      <td>0</td>\n",
       "      <td>0</td>\n",
       "      <td>...</td>\n",
       "      <td>836</td>\n",
       "      <td>192</td>\n",
       "      <td>84</td>\n",
       "      <td>0</td>\n",
       "      <td>0</td>\n",
       "      <td>0</td>\n",
       "      <td>0</td>\n",
       "      <td>12</td>\n",
       "      <td>10</td>\n",
       "      <td>250000</td>\n",
       "    </tr>\n",
       "  </tbody>\n",
       "</table>\n",
       "<p>5 rows × 290 columns</p>\n",
       "</div>"
      ],
      "text/plain": [
       "   20  30  40  45  50  60  70  75  80  85    ...      GarageArea  WoodDeckSF  \\\n",
       "0   0   0   0   0   0   1   0   0   0   0    ...             548           0   \n",
       "1   1   0   0   0   0   0   0   0   0   0    ...             460         298   \n",
       "2   0   0   0   0   0   1   0   0   0   0    ...             608           0   \n",
       "3   0   0   0   0   0   0   1   0   0   0    ...             642           0   \n",
       "4   0   0   0   0   0   1   0   0   0   0    ...             836         192   \n",
       "\n",
       "   OpenPorchSF  EnclosedPorch  ScreenPorch  PoolArea  MiscVal  MoSold  YrSold  \\\n",
       "0           61              0            0         0        0       2      10   \n",
       "1            0              0            0         0        0       5      11   \n",
       "2           42              0            0         0        0       9      10   \n",
       "3           35            272            0         0        0       2      12   \n",
       "4           84              0            0         0        0      12      10   \n",
       "\n",
       "   SalePrice  \n",
       "0     208500  \n",
       "1     181500  \n",
       "2     223500  \n",
       "3     140000  \n",
       "4     250000  \n",
       "\n",
       "[5 rows x 290 columns]"
      ]
     },
     "execution_count": 26,
     "metadata": {},
     "output_type": "execute_result"
    }
   ],
   "source": [
    "final_data = pd.concat([df_dummies,df_non_dummies_columns],axis=1)\n",
    "final_data.head()"
   ]
  },
  {
   "cell_type": "markdown",
   "metadata": {},
   "source": [
    "# <a id='data split and standarization'>Data split and standarization</a>"
   ]
  },
  {
   "cell_type": "markdown",
   "metadata": {},
   "source": [
    "For further analysis it is necessary to divide data into test and training and to standardize variables."
   ]
  },
  {
   "cell_type": "code",
   "execution_count": 27,
   "metadata": {
    "collapsed": true
   },
   "outputs": [],
   "source": [
    "from sklearn.preprocessing import StandardScaler\n",
    "from sklearn.model_selection import train_test_split"
   ]
  },
  {
   "cell_type": "markdown",
   "metadata": {},
   "source": [
    "The variable y must be separated from the set and saved in a separate variable."
   ]
  },
  {
   "cell_type": "code",
   "execution_count": 28,
   "metadata": {
    "collapsed": true
   },
   "outputs": [],
   "source": [
    "y = df_non_dummies_columns['SalePrice']\n",
    "del df_non_dummies_columns['SalePrice']"
   ]
  },
  {
   "cell_type": "code",
   "execution_count": 29,
   "metadata": {
    "collapsed": true
   },
   "outputs": [],
   "source": [
    "# splitting data set into train and test sets\n",
    "X_train, X_test, y_train, y_test = train_test_split(final_data, y, test_size=0.33, random_state=20)\n",
    "\n",
    "X_train = X_train.values # X_train represents training part of data\n",
    "X_test = X_test.values # X_test represents testing part of data\n",
    "\n",
    "y_train = y_train.values.reshape(-1, 1) # y_train represents training part of y data\n",
    "y_test = y_test.values.reshape(-1, 1) # y_train represents training part of y data"
   ]
  },
  {
   "cell_type": "code",
   "execution_count": 30,
   "metadata": {
    "collapsed": true
   },
   "outputs": [],
   "source": [
    "X_scaler = StandardScaler(with_mean=True, with_std=True) # the standar scaler is assigning to X_scaler variable\n",
    "X_scaler.fit(X_train) # fitting standard scaler to X_train (calculating mean and variance)\n",
    "X_train_scaled = X_scaler.transform(X_train) # scaling X_train set\n",
    "X_test_scaled = X_scaler.transform(X_test) # scaling X_test set\n",
    "\n",
    "Y_scaler = StandardScaler(with_mean=True, with_std=True)\n",
    "Y_scaler.fit(y_train.reshape(-1,1))\n",
    "y_train_scaled = Y_scaler.transform(y_train) # scaling y_train set\n",
    "y_test_scaled = Y_scaler.transform(y_test) # scaling y_test set"
   ]
  },
  {
   "cell_type": "markdown",
   "metadata": {},
   "source": [
    "# <a id='pca'>PCA - reduction of data dimensions.</a>"
   ]
  },
  {
   "cell_type": "code",
   "execution_count": 31,
   "metadata": {
    "collapsed": true
   },
   "outputs": [],
   "source": [
    "from sklearn.decomposition import PCA\n",
    "import matplotlib.pyplot as plt\n",
    "% matplotlib inline"
   ]
  },
  {
   "cell_type": "code",
   "execution_count": 32,
   "metadata": {
    "collapsed": true
   },
   "outputs": [],
   "source": [
    "pca = PCA(100) # setting number of components to 100\n",
    "X_train_pca100 = pca.fit_transform(X_train_scaled) # \n",
    "X_test_pca100 = pca.transform(X_test_scaled) # transform X_test_scaled set\n",
    "explained_variance = pca.explained_variance_ratio_ # calculate explained ratio"
   ]
  },
  {
   "cell_type": "code",
   "execution_count": 33,
   "metadata": {},
   "outputs": [
    {
     "name": "stdout",
     "output_type": "stream",
     "text": [
      "[ 0.07011773  0.03077629  0.0286153   0.02511796  0.0222592   0.01975043\n",
      "  0.01745891  0.01647659  0.01373682  0.01312998  0.0127597   0.01248419\n",
      "  0.01101148  0.01091368  0.01060335  0.0104309   0.01032183  0.01000427\n",
      "  0.00985821  0.00962885  0.00928943  0.00904699  0.00889165  0.00883855\n",
      "  0.00859131  0.00849057  0.00843822  0.0082724   0.00792785  0.00777962\n",
      "  0.007702    0.00757832  0.00749935  0.00732092  0.00720116  0.00708601\n",
      "  0.00705206  0.00697631  0.0068858   0.00675592  0.00659905  0.00656449\n",
      "  0.00645399  0.00629898  0.00620411  0.00609169  0.00599709  0.00595079\n",
      "  0.00588184  0.00587103  0.00575327  0.00565628  0.00552489  0.0055061\n",
      "  0.00547077  0.00542727  0.00534723  0.00526419  0.00521815  0.00519081\n",
      "  0.00510782  0.00503386  0.00497026  0.00492258  0.00489994  0.00480877\n",
      "  0.00472186  0.00468667  0.00459872  0.00450944  0.00449289  0.00443702\n",
      "  0.00438047  0.00435236  0.00430212  0.00420455  0.00417389  0.00409713\n",
      "  0.00405976  0.00403639  0.00401359  0.00397768  0.0039273   0.00387216\n",
      "  0.00381653  0.00378356  0.00373367  0.00371804  0.00364096  0.00362119\n",
      "  0.00357876  0.00354287  0.00349441  0.00344202  0.00342015  0.00337104\n",
      "  0.00332347  0.00328603  0.00320774  0.0032036 ]\n"
     ]
    }
   ],
   "source": [
    "print( pca.explained_variance_ratio_ )"
   ]
  },
  {
   "cell_type": "markdown",
   "metadata": {},
   "source": [
    "# Elbow method"
   ]
  },
  {
   "cell_type": "markdown",
   "metadata": {},
   "source": [
    "On the basis of the representative \"elbow method\", the number of component variables that are sufficient to describe the whole set is determined."
   ]
  },
  {
   "cell_type": "code",
   "execution_count": 34,
   "metadata": {},
   "outputs": [
    {
     "data": {
      "text/plain": [
       "[<matplotlib.lines.Line2D at 0x18a2d8143c8>]"
      ]
     },
     "execution_count": 34,
     "metadata": {},
     "output_type": "execute_result"
    },
    {
     "data": {
      "image/png": "[encoded data removed]",
      "text/plain": [
       "<matplotlib.figure.Figure at 0x18a2b19ca90>"
      ]
     },
     "metadata": {},
     "output_type": "display_data"
    }
   ],
   "source": [
    "plt.plot(pca.explained_variance_ratio_, '-.')"
   ]
  },
  {
   "cell_type": "markdown",
   "metadata": {},
   "source": [
    "The above chart shows that the optimal value is 20 variables."
   ]
  },
  {
   "cell_type": "markdown",
   "metadata": {},
   "source": [
    "The number of data from the training and test set should be transformed to 20 variables according to the above method."
   ]
  },
  {
   "cell_type": "code",
   "execution_count": 35,
   "metadata": {
    "collapsed": true
   },
   "outputs": [],
   "source": [
    "X_train = X_train_pca100[:,:20] # first 20 principal components for train set\n",
    "X_test = X_test_pca100[:,:20] # first 20 principal components for test set"
   ]
  },
  {
   "cell_type": "markdown",
   "metadata": {},
   "source": [
    "# Automatization"
   ]
  },
  {
   "cell_type": "markdown",
   "metadata": {},
   "source": [
    "The function implemented below will be used to improve and facilitate further analysis."
   ]
  },
  {
   "cell_type": "markdown",
   "metadata": {},
   "source": [
    "The calculate_reg_metrics function returns metrics calculated on the base\n",
    "test and training values of y, and then displays them."
   ]
  },
  {
   "cell_type": "code",
   "execution_count": 36,
   "metadata": {
    "collapsed": true
   },
   "outputs": [],
   "source": [
    "from sklearn.metrics import mean_squared_error, r2_score, mean_absolute_error"
   ]
  },
  {
   "cell_type": "code",
   "execution_count": 37,
   "metadata": {
    "collapsed": true
   },
   "outputs": [],
   "source": [
    "def calculate_reg_metrics(y_train_scaled, y_test_scaled, model, X_train, X_test, name):\n",
    "    \n",
    "    y_pred_test = model.predict(X_test)\n",
    "    y_pred_train = model.predict(X_train)\n",
    "    \n",
    "    mse_train = mean_squared_error(y_train_scaled, y_pred_train)\n",
    "    r2_train = r2_score(y_train_scaled, y_pred_train)\n",
    "    mae_train = mean_absolute_error(y_train_scaled, y_pred_train)\n",
    "    \n",
    "    mse_test = mean_squared_error(y_test_scaled, y_pred_test)\n",
    "    r2_test = r2_score(y_test_scaled, y_pred_test)\n",
    "    mae_test = mean_absolute_error(y_test_scaled, y_pred_test)\n",
    "      \n",
    "    data = pd.DataFrame(index=[name],\n",
    "                        data={'train mse':[mse_train], \n",
    "                              'train r2':[r2_train],\n",
    "                              'train mae':[mae_train],\n",
    "                              'test mse':[mse_test],\n",
    "                              'test r2':[r2_test],\n",
    "                              'test mae':[mae_test]} )    \n",
    "    return data"
   ]
  },
  {
   "cell_type": "markdown",
   "metadata": {},
   "source": [
    "# <a id='linear regression'>Linear regression</a>"
   ]
  },
  {
   "cell_type": "code",
   "execution_count": 38,
   "metadata": {
    "collapsed": true
   },
   "outputs": [],
   "source": [
    "from sklearn.linear_model import LinearRegression"
   ]
  },
  {
   "cell_type": "code",
   "execution_count": 39,
   "metadata": {},
   "outputs": [
    {
     "data": {
      "text/plain": [
       "LinearRegression(copy_X=True, fit_intercept=True, n_jobs=1, normalize=False)"
      ]
     },
     "execution_count": 39,
     "metadata": {},
     "output_type": "execute_result"
    }
   ],
   "source": [
    "model = LinearRegression() # initializing model\n",
    "model.fit(X_train, y_train_scaled) # fitting model to training data"
   ]
  },
  {
   "cell_type": "code",
   "execution_count": 40,
   "metadata": {},
   "outputs": [
    {
     "data": {
      "text/html": [
       "<div>\n",
       "<style>\n",
       "    .dataframe thead tr:only-child th {\n",
       "        text-align: right;\n",
       "    }\n",
       "\n",
       "    .dataframe thead th {\n",
       "        text-align: left;\n",
       "    }\n",
       "\n",
       "    .dataframe tbody tr th {\n",
       "        vertical-align: top;\n",
       "    }\n",
       "</style>\n",
       "<table border=\"1\" class=\"dataframe\">\n",
       "  <thead>\n",
       "    <tr style=\"text-align: right;\">\n",
       "      <th></th>\n",
       "      <th>test mae</th>\n",
       "      <th>test mse</th>\n",
       "      <th>test r2</th>\n",
       "      <th>train mae</th>\n",
       "      <th>train mse</th>\n",
       "      <th>train r2</th>\n",
       "    </tr>\n",
       "  </thead>\n",
       "  <tbody>\n",
       "    <tr>\n",
       "      <th>linear</th>\n",
       "      <td>0.24828</td>\n",
       "      <td>0.178887</td>\n",
       "      <td>0.814022</td>\n",
       "      <td>0.248472</td>\n",
       "      <td>0.159634</td>\n",
       "      <td>0.840366</td>\n",
       "    </tr>\n",
       "  </tbody>\n",
       "</table>\n",
       "</div>"
      ],
      "text/plain": [
       "        test mae  test mse   test r2  train mae  train mse  train r2\n",
       "linear   0.24828  0.178887  0.814022   0.248472   0.159634  0.840366"
      ]
     },
     "execution_count": 40,
     "metadata": {},
     "output_type": "execute_result"
    }
   ],
   "source": [
    "linear_reg_metrics = calculate_reg_metrics(y_train_scaled, y_test_scaled,  model, X_train, X_test, 'linear')\n",
    "linear_reg_metrics # printing table with metrics"
   ]
  },
  {
   "cell_type": "markdown",
   "metadata": {},
   "source": [
    "# <a id='lasso regression'>Lasso regression</a>"
   ]
  },
  {
   "cell_type": "code",
   "execution_count": 41,
   "metadata": {
    "collapsed": true
   },
   "outputs": [],
   "source": [
    "from sklearn.pipeline import Pipeline\n",
    "from sklearn.linear_model import Lasso\n",
    "from sklearn.model_selection import GridSearchCV"
   ]
  },
  {
   "cell_type": "code",
   "execution_count": 42,
   "metadata": {
    "collapsed": true
   },
   "outputs": [],
   "source": [
    "lasso_params={\n",
    "    \"Lasso regression__alpha\":[0.0001,0.001,0.01,0.1]\n",
    "}\n",
    "\n",
    "pipe = Pipeline([                  \n",
    "                 ('Lasso regression', Lasso())\n",
    "                ])\n",
    "\n",
    "grid = GridSearchCV(pipe , lasso_params, \n",
    "                    cv=5, refit=True)"
   ]
  },
  {
   "cell_type": "code",
   "execution_count": 43,
   "metadata": {},
   "outputs": [
    {
     "name": "stdout",
     "output_type": "stream",
     "text": [
      "{'Lasso regression__alpha': 0.01}\n"
     ]
    }
   ],
   "source": [
    "grid.fit(X_train, y_train_scaled) # fitting grid search to training data \n",
    "print(grid.best_params_) # printing best parameters"
   ]
  },
  {
   "cell_type": "code",
   "execution_count": 44,
   "metadata": {},
   "outputs": [
    {
     "data": {
      "text/plain": [
       "Pipeline(steps=[('Lasso regression', Lasso(alpha=0.01, copy_X=True, fit_intercept=True, max_iter=1000,\n",
       "   normalize=False, positive=False, precompute=False, random_state=None,\n",
       "   selection='cyclic', tol=0.0001, warm_start=False))])"
      ]
     },
     "execution_count": 44,
     "metadata": {},
     "output_type": "execute_result"
    }
   ],
   "source": [
    "model_lasso = grid.best_estimator_ # getting the best estimator\n",
    "model_lasso"
   ]
  },
  {
   "cell_type": "code",
   "execution_count": 45,
   "metadata": {},
   "outputs": [
    {
     "data": {
      "text/html": [
       "<div>\n",
       "<style>\n",
       "    .dataframe thead tr:only-child th {\n",
       "        text-align: right;\n",
       "    }\n",
       "\n",
       "    .dataframe thead th {\n",
       "        text-align: left;\n",
       "    }\n",
       "\n",
       "    .dataframe tbody tr th {\n",
       "        vertical-align: top;\n",
       "    }\n",
       "</style>\n",
       "<table border=\"1\" class=\"dataframe\">\n",
       "  <thead>\n",
       "    <tr style=\"text-align: right;\">\n",
       "      <th></th>\n",
       "      <th>test mae</th>\n",
       "      <th>test mse</th>\n",
       "      <th>test r2</th>\n",
       "      <th>train mae</th>\n",
       "      <th>train mse</th>\n",
       "      <th>train r2</th>\n",
       "    </tr>\n",
       "  </thead>\n",
       "  <tbody>\n",
       "    <tr>\n",
       "      <th>lasso</th>\n",
       "      <td>0.24828</td>\n",
       "      <td>0.178887</td>\n",
       "      <td>0.814022</td>\n",
       "      <td>0.248472</td>\n",
       "      <td>0.159634</td>\n",
       "      <td>0.840366</td>\n",
       "    </tr>\n",
       "  </tbody>\n",
       "</table>\n",
       "</div>"
      ],
      "text/plain": [
       "       test mae  test mse   test r2  train mae  train mse  train r2\n",
       "lasso   0.24828  0.178887  0.814022   0.248472   0.159634  0.840366"
      ]
     },
     "execution_count": 45,
     "metadata": {},
     "output_type": "execute_result"
    }
   ],
   "source": [
    "lasso_metrics = calculate_reg_metrics(y_train_scaled, y_test_scaled,  model, X_train, X_test, 'lasso')\n",
    "lasso_metrics # printing table with metrics"
   ]
  },
  {
   "cell_type": "markdown",
   "metadata": {},
   "source": [
    "# <a id='elastic net regression'>Elastic Net regression</a>"
   ]
  },
  {
   "cell_type": "code",
   "execution_count": 46,
   "metadata": {
    "collapsed": true
   },
   "outputs": [],
   "source": [
    "from sklearn.linear_model import ElasticNet"
   ]
  },
  {
   "cell_type": "code",
   "execution_count": 47,
   "metadata": {
    "collapsed": true
   },
   "outputs": [],
   "source": [
    "elastic_net_params = {   \n",
    "    \"Elastic Net regression__alpha\":[1.0,2.0,10.0],\n",
    "    \"Elastic Net regression__l1_ratio\":[1.0,2.0,10.0]\n",
    "}\n",
    "pipe = Pipeline([                  \n",
    "                 ('Elastic Net regression', ElasticNet())\n",
    "                ])\n",
    "\n",
    "grid = GridSearchCV(pipe , elastic_net_params, \n",
    "                    cv=5, refit=True)"
   ]
  },
  {
   "cell_type": "code",
   "execution_count": 48,
   "metadata": {},
   "outputs": [
    {
     "name": "stdout",
     "output_type": "stream",
     "text": [
      "{'Elastic Net regression__alpha': 1.0, 'Elastic Net regression__l1_ratio': 1.0}\n"
     ]
    }
   ],
   "source": [
    "grid.fit(X_train, y_train_scaled) # fitting grid search to training data\n",
    "print(grid.best_params_) # printing best parameters"
   ]
  },
  {
   "cell_type": "code",
   "execution_count": 49,
   "metadata": {},
   "outputs": [
    {
     "data": {
      "text/plain": [
       "Pipeline(steps=[('Elastic Net regression', ElasticNet(alpha=1.0, copy_X=True, fit_intercept=True, l1_ratio=1.0,\n",
       "      max_iter=1000, normalize=False, positive=False, precompute=False,\n",
       "      random_state=None, selection='cyclic', tol=0.0001, warm_start=False))])"
      ]
     },
     "execution_count": 49,
     "metadata": {},
     "output_type": "execute_result"
    }
   ],
   "source": [
    "model_elsatic_net = grid.best_estimator_ # getting best estimator\n",
    "model_elsatic_net"
   ]
  },
  {
   "cell_type": "code",
   "execution_count": 50,
   "metadata": {},
   "outputs": [
    {
     "data": {
      "text/html": [
       "<div>\n",
       "<style>\n",
       "    .dataframe thead tr:only-child th {\n",
       "        text-align: right;\n",
       "    }\n",
       "\n",
       "    .dataframe thead th {\n",
       "        text-align: left;\n",
       "    }\n",
       "\n",
       "    .dataframe tbody tr th {\n",
       "        vertical-align: top;\n",
       "    }\n",
       "</style>\n",
       "<table border=\"1\" class=\"dataframe\">\n",
       "  <thead>\n",
       "    <tr style=\"text-align: right;\">\n",
       "      <th></th>\n",
       "      <th>test mae</th>\n",
       "      <th>test mse</th>\n",
       "      <th>test r2</th>\n",
       "      <th>train mae</th>\n",
       "      <th>train mse</th>\n",
       "      <th>train r2</th>\n",
       "    </tr>\n",
       "  </thead>\n",
       "  <tbody>\n",
       "    <tr>\n",
       "      <th>elastic net</th>\n",
       "      <td>0.24828</td>\n",
       "      <td>0.178887</td>\n",
       "      <td>0.814022</td>\n",
       "      <td>0.248472</td>\n",
       "      <td>0.159634</td>\n",
       "      <td>0.840366</td>\n",
       "    </tr>\n",
       "  </tbody>\n",
       "</table>\n",
       "</div>"
      ],
      "text/plain": [
       "             test mae  test mse   test r2  train mae  train mse  train r2\n",
       "elastic net   0.24828  0.178887  0.814022   0.248472   0.159634  0.840366"
      ]
     },
     "execution_count": 50,
     "metadata": {},
     "output_type": "execute_result"
    }
   ],
   "source": [
    "elastic_net_metrics = calculate_reg_metrics(y_train_scaled, y_test_scaled,  model, X_train, X_test, 'elastic net')\n",
    "elastic_net_metrics # printing table with metrics"
   ]
  },
  {
   "cell_type": "markdown",
   "metadata": {},
   "source": [
    "# <a id='random forrest regression'>Random forrest regression</a>"
   ]
  },
  {
   "cell_type": "code",
   "execution_count": 51,
   "metadata": {
    "collapsed": true
   },
   "outputs": [],
   "source": [
    "from sklearn.ensemble import RandomForestRegressor"
   ]
  },
  {
   "cell_type": "code",
   "execution_count": 52,
   "metadata": {
    "collapsed": true
   },
   "outputs": [],
   "source": [
    "random_forest_params = {\n",
    "    \"Random forrest regression__max_features\": [\"sqrt\", \"log2\"],\n",
    "    \"Random forrest regression__max_depth\": [2,3,4,5],\n",
    "    \"Random forrest regression__n_estimators\": [100,200,300]\n",
    "}\n",
    "pipe = Pipeline([                  \n",
    "                 ('Random forrest regression', RandomForestRegressor())\n",
    "                ])\n",
    "\n",
    "grid = GridSearchCV(pipe , random_forest_params, \n",
    "                    cv=5, refit=True)"
   ]
  },
  {
   "cell_type": "code",
   "execution_count": 53,
   "metadata": {
    "scrolled": true
   },
   "outputs": [
    {
     "name": "stdout",
     "output_type": "stream",
     "text": [
      "{'Random forrest regression__max_depth': 5, 'Random forrest regression__max_features': 'log2', 'Random forrest regression__n_estimators': 200}\n"
     ]
    }
   ],
   "source": [
    "grid.fit(X_train, y_train_scaled) # fitting grid search to training data \n",
    "print(grid.best_params_) # printing best parameters"
   ]
  },
  {
   "cell_type": "code",
   "execution_count": 54,
   "metadata": {},
   "outputs": [
    {
     "data": {
      "text/plain": [
       "Pipeline(steps=[('Random forrest regression', RandomForestRegressor(bootstrap=True, criterion='mse', max_depth=5,\n",
       "           max_features='log2', max_leaf_nodes=None,\n",
       "           min_impurity_split=1e-07, min_samples_leaf=1,\n",
       "           min_samples_split=2, min_weight_fraction_leaf=0.0,\n",
       "           n_estimators=200, n_jobs=1, oob_score=False, random_state=None,\n",
       "           verbose=0, warm_start=False))])"
      ]
     },
     "execution_count": 54,
     "metadata": {},
     "output_type": "execute_result"
    }
   ],
   "source": [
    "model_random_forrest = grid.best_estimator_# getting the best estimator\n",
    "model_random_forrest"
   ]
  },
  {
   "cell_type": "code",
   "execution_count": 55,
   "metadata": {},
   "outputs": [
    {
     "data": {
      "text/html": [
       "<div>\n",
       "<style>\n",
       "    .dataframe thead tr:only-child th {\n",
       "        text-align: right;\n",
       "    }\n",
       "\n",
       "    .dataframe thead th {\n",
       "        text-align: left;\n",
       "    }\n",
       "\n",
       "    .dataframe tbody tr th {\n",
       "        vertical-align: top;\n",
       "    }\n",
       "</style>\n",
       "<table border=\"1\" class=\"dataframe\">\n",
       "  <thead>\n",
       "    <tr style=\"text-align: right;\">\n",
       "      <th></th>\n",
       "      <th>test mae</th>\n",
       "      <th>test mse</th>\n",
       "      <th>test r2</th>\n",
       "      <th>train mae</th>\n",
       "      <th>train mse</th>\n",
       "      <th>train r2</th>\n",
       "    </tr>\n",
       "  </thead>\n",
       "  <tbody>\n",
       "    <tr>\n",
       "      <th>random forrest</th>\n",
       "      <td>0.35505</td>\n",
       "      <td>0.292555</td>\n",
       "      <td>0.695848</td>\n",
       "      <td>0.307854</td>\n",
       "      <td>0.182688</td>\n",
       "      <td>0.817312</td>\n",
       "    </tr>\n",
       "  </tbody>\n",
       "</table>\n",
       "</div>"
      ],
      "text/plain": [
       "                test mae  test mse   test r2  train mae  train mse  train r2\n",
       "random forrest   0.35505  0.292555  0.695848   0.307854   0.182688  0.817312"
      ]
     },
     "execution_count": 55,
     "metadata": {},
     "output_type": "execute_result"
    }
   ],
   "source": [
    "random_forrest_metrics = calculate_reg_metrics(y_train_scaled, y_test_scaled,  model_random_forrest, X_train, X_test, 'random forrest')\n",
    "random_forrest_metrics # printing table with metrics"
   ]
  },
  {
   "cell_type": "markdown",
   "metadata": {},
   "source": [
    "# <a id='ridge regression'>Ridge regression</a>"
   ]
  },
  {
   "cell_type": "code",
   "execution_count": 56,
   "metadata": {
    "collapsed": true
   },
   "outputs": [],
   "source": [
    "from sklearn.linear_model import Ridge"
   ]
  },
  {
   "cell_type": "code",
   "execution_count": 57,
   "metadata": {
    "collapsed": true
   },
   "outputs": [],
   "source": [
    "ridge_params={\n",
    "    \"Ridge regression__alpha\":[0.0001,0.001,0.01,0.1,1]\n",
    "}\n",
    "pipe = Pipeline([                  \n",
    "                 ('Ridge regression', Ridge())\n",
    "                ])\n",
    "\n",
    "grid = GridSearchCV(pipe , ridge_params, \n",
    "                    cv=5, refit=True)"
   ]
  },
  {
   "cell_type": "code",
   "execution_count": 58,
   "metadata": {
    "scrolled": true
   },
   "outputs": [
    {
     "name": "stdout",
     "output_type": "stream",
     "text": [
      "{'Ridge regression__alpha': 1}\n"
     ]
    }
   ],
   "source": [
    "grid.fit(X_train, y_train_scaled) # fitting grid search to training data\n",
    "print(grid.best_params_) # printing best parameters"
   ]
  },
  {
   "cell_type": "code",
   "execution_count": 59,
   "metadata": {},
   "outputs": [
    {
     "data": {
      "text/plain": [
       "Pipeline(steps=[('Ridge regression', Ridge(alpha=1, copy_X=True, fit_intercept=True, max_iter=None,\n",
       "   normalize=False, random_state=None, solver='auto', tol=0.001))])"
      ]
     },
     "execution_count": 59,
     "metadata": {},
     "output_type": "execute_result"
    }
   ],
   "source": [
    "model_ridge = grid.best_estimator_ #getting best estimator\n",
    "model_ridge"
   ]
  },
  {
   "cell_type": "code",
   "execution_count": 60,
   "metadata": {},
   "outputs": [
    {
     "data": {
      "text/html": [
       "<div>\n",
       "<style>\n",
       "    .dataframe thead tr:only-child th {\n",
       "        text-align: right;\n",
       "    }\n",
       "\n",
       "    .dataframe thead th {\n",
       "        text-align: left;\n",
       "    }\n",
       "\n",
       "    .dataframe tbody tr th {\n",
       "        vertical-align: top;\n",
       "    }\n",
       "</style>\n",
       "<table border=\"1\" class=\"dataframe\">\n",
       "  <thead>\n",
       "    <tr style=\"text-align: right;\">\n",
       "      <th></th>\n",
       "      <th>test mae</th>\n",
       "      <th>test mse</th>\n",
       "      <th>test r2</th>\n",
       "      <th>train mae</th>\n",
       "      <th>train mse</th>\n",
       "      <th>train r2</th>\n",
       "    </tr>\n",
       "  </thead>\n",
       "  <tbody>\n",
       "    <tr>\n",
       "      <th>ridge</th>\n",
       "      <td>0.248279</td>\n",
       "      <td>0.178889</td>\n",
       "      <td>0.81402</td>\n",
       "      <td>0.248462</td>\n",
       "      <td>0.159634</td>\n",
       "      <td>0.840366</td>\n",
       "    </tr>\n",
       "  </tbody>\n",
       "</table>\n",
       "</div>"
      ],
      "text/plain": [
       "       test mae  test mse  test r2  train mae  train mse  train r2\n",
       "ridge  0.248279  0.178889  0.81402   0.248462   0.159634  0.840366"
      ]
     },
     "execution_count": 60,
     "metadata": {},
     "output_type": "execute_result"
    }
   ],
   "source": [
    "ridge_metrics = calculate_reg_metrics(y_train_scaled, y_test_scaled,  model_ridge, X_train, X_test,'ridge')\n",
    "ridge_metrics # printing table with metrics"
   ]
  },
  {
   "cell_type": "markdown",
   "metadata": {},
   "source": [
    "# <a id='multi-layer perceptron regressor'>Neural Network - Multi-layer Perceptron regressor</a>"
   ]
  },
  {
   "cell_type": "code",
   "execution_count": 61,
   "metadata": {
    "collapsed": true
   },
   "outputs": [],
   "source": [
    "from sklearn.neural_network import MLPRegressor"
   ]
  },
  {
   "cell_type": "code",
   "execution_count": 62,
   "metadata": {
    "collapsed": true
   },
   "outputs": [],
   "source": [
    "nn_params = {\n",
    "    \"MLPRegressor__hidden_layer_sizes\": [[10],[20],[30],[10,10]],\n",
    "    \"MLPRegressor__alpha\":[0.0001,0.001,0.01,0.1], \n",
    "    \"MLPRegressor__learning_rate\":['constant', 'invscaling', 'adaptive'] ,\n",
    "    \"MLPRegressor__batch_size\":[50,100],\n",
    "    \"MLPRegressor__max_iter\":[500,1000,1500]\n",
    "}\n",
    "pipe = Pipeline([                  \n",
    "                 ('MLPRegressor', MLPRegressor())\n",
    "                ])\n",
    "\n",
    "grid = GridSearchCV(pipe , nn_params, \n",
    "                    cv=5, refit=True)"
   ]
  },
  {
   "cell_type": "code",
   "execution_count": 63,
   "metadata": {},
   "outputs": [
    {
     "name": "stdout",
     "output_type": "stream",
     "text": [
      "{'MLPRegressor__alpha': 0.01, 'MLPRegressor__batch_size': 50, 'MLPRegressor__hidden_layer_sizes': [10, 10], 'MLPRegressor__learning_rate': 'invscaling', 'MLPRegressor__max_iter': 1500}\n"
     ]
    }
   ],
   "source": [
    "grid.fit(X_train, y_train_scaled) # fitting grid search to training data \n",
    "print(grid.best_params_) # printing best parameters"
   ]
  },
  {
   "cell_type": "code",
   "execution_count": 64,
   "metadata": {},
   "outputs": [
    {
     "data": {
      "text/plain": [
       "Pipeline(steps=[('MLPRegressor', MLPRegressor(activation='relu', alpha=0.01, batch_size=50, beta_1=0.9,\n",
       "       beta_2=0.999, early_stopping=False, epsilon=1e-08,\n",
       "       hidden_layer_sizes=[10, 10], learning_rate='invscaling',\n",
       "       learning_rate_init=0.001, max_iter=1500, momentum=0.9,\n",
       "       nesterovs_momentum=True, power_t=0.5, random_state=None,\n",
       "       shuffle=True, solver='adam', tol=0.0001, validation_fraction=0.1,\n",
       "       verbose=False, warm_start=False))])"
      ]
     },
     "execution_count": 64,
     "metadata": {},
     "output_type": "execute_result"
    }
   ],
   "source": [
    "model_mlpr = grid.best_estimator_ # getting the best estimator\n",
    "model_mlpr"
   ]
  },
  {
   "cell_type": "code",
   "execution_count": 65,
   "metadata": {},
   "outputs": [
    {
     "data": {
      "text/html": [
       "<div>\n",
       "<style>\n",
       "    .dataframe thead tr:only-child th {\n",
       "        text-align: right;\n",
       "    }\n",
       "\n",
       "    .dataframe thead th {\n",
       "        text-align: left;\n",
       "    }\n",
       "\n",
       "    .dataframe tbody tr th {\n",
       "        vertical-align: top;\n",
       "    }\n",
       "</style>\n",
       "<table border=\"1\" class=\"dataframe\">\n",
       "  <thead>\n",
       "    <tr style=\"text-align: right;\">\n",
       "      <th></th>\n",
       "      <th>test mae</th>\n",
       "      <th>test mse</th>\n",
       "      <th>test r2</th>\n",
       "      <th>train mae</th>\n",
       "      <th>train mse</th>\n",
       "      <th>train r2</th>\n",
       "    </tr>\n",
       "  </thead>\n",
       "  <tbody>\n",
       "    <tr>\n",
       "      <th>mlpr</th>\n",
       "      <td>0.257562</td>\n",
       "      <td>0.169751</td>\n",
       "      <td>0.82352</td>\n",
       "      <td>0.199617</td>\n",
       "      <td>0.077356</td>\n",
       "      <td>0.922644</td>\n",
       "    </tr>\n",
       "  </tbody>\n",
       "</table>\n",
       "</div>"
      ],
      "text/plain": [
       "      test mae  test mse  test r2  train mae  train mse  train r2\n",
       "mlpr  0.257562  0.169751  0.82352   0.199617   0.077356  0.922644"
      ]
     },
     "execution_count": 65,
     "metadata": {},
     "output_type": "execute_result"
    }
   ],
   "source": [
    "mlpr_metrics = calculate_reg_metrics(y_train_scaled, y_test_scaled,  model_mlpr, X_train, X_test, 'mlpr')\n",
    "mlpr_metrics # printing table with metrics"
   ]
  },
  {
   "cell_type": "markdown",
   "metadata": {},
   "source": [
    "# <a id='conclusion'>Conclusions</a>"
   ]
  },
  {
   "cell_type": "markdown",
   "metadata": {},
   "source": [
    "List of metrics for each regressions:"
   ]
  },
  {
   "cell_type": "code",
   "execution_count": 66,
   "metadata": {
    "collapsed": true
   },
   "outputs": [],
   "source": [
    "data = [\n",
    "    linear_reg_metrics,\n",
    "    lasso_metrics,\n",
    "    elastic_net_metrics,\n",
    "    random_forrest_metrics,\n",
    "    ridge_metrics,\n",
    "    mlpr_metrics\n",
    "]"
   ]
  },
  {
   "cell_type": "markdown",
   "metadata": {},
   "source": [
    "Table of metrics for each regressions:"
   ]
  },
  {
   "cell_type": "code",
   "execution_count": 67,
   "metadata": {
    "scrolled": false
   },
   "outputs": [
    {
     "data": {
      "text/html": [
       "<div>\n",
       "<style>\n",
       "    .dataframe thead tr:only-child th {\n",
       "        text-align: right;\n",
       "    }\n",
       "\n",
       "    .dataframe thead th {\n",
       "        text-align: left;\n",
       "    }\n",
       "\n",
       "    .dataframe tbody tr th {\n",
       "        vertical-align: top;\n",
       "    }\n",
       "</style>\n",
       "<table border=\"1\" class=\"dataframe\">\n",
       "  <thead>\n",
       "    <tr style=\"text-align: right;\">\n",
       "      <th></th>\n",
       "      <th>test mae</th>\n",
       "      <th>test mse</th>\n",
       "      <th>test r2</th>\n",
       "      <th>train mae</th>\n",
       "      <th>train mse</th>\n",
       "      <th>train r2</th>\n",
       "    </tr>\n",
       "  </thead>\n",
       "  <tbody>\n",
       "    <tr>\n",
       "      <th>mlpr</th>\n",
       "      <td>0.257562</td>\n",
       "      <td>0.169751</td>\n",
       "      <td>0.823520</td>\n",
       "      <td>0.199617</td>\n",
       "      <td>0.077356</td>\n",
       "      <td>0.922644</td>\n",
       "    </tr>\n",
       "    <tr>\n",
       "      <th>linear</th>\n",
       "      <td>0.248280</td>\n",
       "      <td>0.178887</td>\n",
       "      <td>0.814022</td>\n",
       "      <td>0.248472</td>\n",
       "      <td>0.159634</td>\n",
       "      <td>0.840366</td>\n",
       "    </tr>\n",
       "    <tr>\n",
       "      <th>lasso</th>\n",
       "      <td>0.248280</td>\n",
       "      <td>0.178887</td>\n",
       "      <td>0.814022</td>\n",
       "      <td>0.248472</td>\n",
       "      <td>0.159634</td>\n",
       "      <td>0.840366</td>\n",
       "    </tr>\n",
       "    <tr>\n",
       "      <th>elastic net</th>\n",
       "      <td>0.248280</td>\n",
       "      <td>0.178887</td>\n",
       "      <td>0.814022</td>\n",
       "      <td>0.248472</td>\n",
       "      <td>0.159634</td>\n",
       "      <td>0.840366</td>\n",
       "    </tr>\n",
       "    <tr>\n",
       "      <th>ridge</th>\n",
       "      <td>0.248279</td>\n",
       "      <td>0.178889</td>\n",
       "      <td>0.814020</td>\n",
       "      <td>0.248462</td>\n",
       "      <td>0.159634</td>\n",
       "      <td>0.840366</td>\n",
       "    </tr>\n",
       "    <tr>\n",
       "      <th>random forrest</th>\n",
       "      <td>0.355050</td>\n",
       "      <td>0.292555</td>\n",
       "      <td>0.695848</td>\n",
       "      <td>0.307854</td>\n",
       "      <td>0.182688</td>\n",
       "      <td>0.817312</td>\n",
       "    </tr>\n",
       "  </tbody>\n",
       "</table>\n",
       "</div>"
      ],
      "text/plain": [
       "                test mae  test mse   test r2  train mae  train mse  train r2\n",
       "mlpr            0.257562  0.169751  0.823520   0.199617   0.077356  0.922644\n",
       "linear          0.248280  0.178887  0.814022   0.248472   0.159634  0.840366\n",
       "lasso           0.248280  0.178887  0.814022   0.248472   0.159634  0.840366\n",
       "elastic net     0.248280  0.178887  0.814022   0.248472   0.159634  0.840366\n",
       "ridge           0.248279  0.178889  0.814020   0.248462   0.159634  0.840366\n",
       "random forrest  0.355050  0.292555  0.695848   0.307854   0.182688  0.817312"
      ]
     },
     "execution_count": 67,
     "metadata": {},
     "output_type": "execute_result"
    }
   ],
   "source": [
    "results = pd.concat(data) \n",
    "results.sort_values('test mse')"
   ]
  },
  {
   "cell_type": "markdown",
   "metadata": {},
   "source": [
    "# Testing the best model"
   ]
  },
  {
   "cell_type": "markdown",
   "metadata": {},
   "source": [
    "The table above shows that the best model is a neural network. The next step is to scale back the values from the test set to compare how our predicted results differed from the test results."
   ]
  },
  {
   "cell_type": "code",
   "execution_count": 79,
   "metadata": {
    "collapsed": true
   },
   "outputs": [],
   "source": [
    "predicted_test_y = model_mlpr.predict(X_test)"
   ]
  },
  {
   "cell_type": "code",
   "execution_count": 80,
   "metadata": {},
   "outputs": [
    {
     "data": {
      "text/plain": [
       "array([  42090.93181785,  243628.42757071,  110204.5524009 ,\n",
       "        362067.40915919,  151128.8688939 ,  335056.62301017,\n",
       "        180825.54719208,  186807.50435033,  149322.25944683,\n",
       "        221700.52753024,  296736.80689119,  102194.2452394 ,\n",
       "        198068.39405953,  152148.09116932,  122178.87309411,\n",
       "        135303.81824159,  136422.73552165,  105818.80211661,\n",
       "        197594.29965621,  166695.81082641,  144136.80133315,\n",
       "        191806.33379853,  334707.09502764,  126974.04833752,\n",
       "        190140.24739719,  134241.01500101,  134110.8162323 ,\n",
       "        145569.47100492,  111997.36450461,   77581.66689278,\n",
       "        113071.41885079,  286374.73411961,  204484.55586118,\n",
       "         62280.60629927,   99634.75593772,  179477.84761761,\n",
       "        147232.5917485 ,  204475.63480032,  146041.21159872,\n",
       "        245372.4211271 ,  124116.6931969 ,  123117.85820713,\n",
       "        281576.02363946,  126008.42868573,  188029.08527358,\n",
       "        165096.98676202,  147144.80019596,  430192.75075402,\n",
       "        237027.14971289,  148091.09848703,  144175.10787443,\n",
       "        212364.89614303,  149152.0003792 ,  195421.7226359 ,\n",
       "        212039.59882265,  253881.16525094,  136909.26397339,\n",
       "        205601.9070206 ,  133133.90254992,   94339.62385738,\n",
       "        120100.88831744,  172299.32994857,  208411.95727308,\n",
       "        175517.3060077 ,  208883.68498229,  180534.19058239,\n",
       "        138062.34933255,  123040.21819385,  201076.70483651,\n",
       "        133253.74871101,  165172.64641756,  111027.97770697,\n",
       "        241645.88495352,  240209.21287816,  145573.9871767 ,\n",
       "        161526.30589375,  136840.63654204,  135490.03113689,\n",
       "        141937.97147794,  227738.57390411,  329264.5971328 ,\n",
       "         77914.41269025,  129947.28820113,  136991.24779232,\n",
       "        187666.46941526,  219481.8120207 ,  132759.32545445,\n",
       "        108233.72205739,  137208.92288569,  279887.905355  ,\n",
       "        145058.3448009 ,  153631.92365341,  186108.34353755,\n",
       "        166794.4966264 ,  317830.1360878 ,  201065.55577362,\n",
       "         98534.09619536,  130484.7194614 ,  135312.85954607,\n",
       "        141368.71089202,  242378.73580434,  146179.82666788,\n",
       "        110392.32810416,  216699.71223241,  203924.73045564,\n",
       "        126399.4668514 ,  191006.45677386,   90353.52738078,\n",
       "         89889.87154588,  404714.7703165 ,  225206.99357548,\n",
       "        224067.74008845,  121759.32843932,  492664.21006542,\n",
       "        205535.03859217,  172669.94290009,  122793.17131728,\n",
       "        234015.06218701,  180585.38597335,  153476.88156982,\n",
       "        162814.21231907,  125268.10164856,  231317.64278771,\n",
       "        157427.75319314,  210607.14753816,  222925.08025835,\n",
       "        156085.65582835,  170300.10607988,  171439.5218922 ,\n",
       "        172231.19432001,  133914.45773185,  139503.64205699,\n",
       "        176268.36351534,  172375.86272071,  130055.65648956,\n",
       "        162089.6453163 ,  193597.23129677,  149532.54406169,\n",
       "        341237.40705438,  211559.87928635,  150593.91513867,\n",
       "        157949.31415405,  167424.33609994,  196805.3982677 ,\n",
       "        160223.66669308,  157335.56885081,  250834.55640372,\n",
       "        186399.44601537,  117904.72440756,  139038.66516843,\n",
       "        165523.69652585,  135675.9395852 ,  313982.40847431,\n",
       "        142550.96294879,  152966.74505705,  132450.27072804,\n",
       "        121370.52432749,  353443.27019471,  129436.41083283,\n",
       "        205204.63605558,  127428.08660917,  133919.01589918,\n",
       "        266552.21587635,  170289.8487803 ,  166194.78276148,\n",
       "        166620.87202024,  147522.94146077,  259345.57704795,\n",
       "        306539.07093559,  221541.18065313,  232062.91383734,\n",
       "        157379.96738174,  166252.33821335,  167770.84738136,\n",
       "        208931.99890092,  122939.02314056,  125353.11187139,\n",
       "        208035.34979606,  116832.61078261,  211454.55066842,\n",
       "        152763.34020768,  164919.96155797,  213857.91285909,\n",
       "        275398.67480191,  223941.03720402,  144828.6090857 ,\n",
       "        115860.80719649,  496922.78790079,  205841.1352454 ,\n",
       "        186935.99237367,   33410.86406979,  433874.91526558,\n",
       "        167934.04589853,  119389.27726717,  185654.64340546,\n",
       "        267064.71856933,  133186.0729072 ,  238171.36945301,\n",
       "         97072.7527523 ,  162865.81339381,  430227.80110235,\n",
       "        241289.46698658,  202030.60808947,  132349.42882474,\n",
       "        138944.22717326,  166097.53736076,  222833.64360227,\n",
       "        293466.58101036,  117225.4895437 ,  136795.43552605,\n",
       "        190356.35316372,  125590.97696744,  115133.23749172,\n",
       "        164362.25527041,  192708.78464487,  123557.53943885,\n",
       "        238169.46859699,  143732.51574022,  322296.52864284,\n",
       "        144435.81977633,   59291.59912587,  215439.14647835,\n",
       "        182519.22459576,  172606.74971254,  209888.00796534,\n",
       "        227250.88848985,  134382.12713379,  169439.11782764,\n",
       "         85431.74588834,  190452.67852307,   71701.58801169,\n",
       "        199183.18151268,  255194.67644098,  108253.28978021,\n",
       "        340897.16604976,  163089.62443657,  163114.3343501 ,\n",
       "         56932.18162354,  136281.30201712,  183305.74381209,\n",
       "        157054.69400145,  153510.89588725,  135005.40315371,\n",
       "        136714.78633173,  182042.19498177,  169274.1336869 ,\n",
       "        125865.29429654,  220005.96844297,  223917.80190029,\n",
       "        125798.03530714,  195732.56482392,  148443.29471347,\n",
       "        326080.58381249,  138884.46367104,  234346.27428595,\n",
       "        359038.83130472,  211946.09618272,  164622.70541186,\n",
       "        340903.64818512,  177388.56222167,  138507.67446206,\n",
       "        142186.67953989,  126411.77841192,  127536.81003096,\n",
       "        229716.85927327,  235067.93723547,  269766.227283  ,\n",
       "        132090.05383029,  129514.6913502 ,  197934.28976312,\n",
       "        308002.56229007,  150694.36307909,  157598.4909035 ,\n",
       "        152708.08175129,  165649.38857145,  152069.58074385,\n",
       "        177158.70999407,  146074.75498122,  206616.59566175,\n",
       "        191305.18058359,  158032.09663533,  226566.43293434,\n",
       "        165187.42158898,  107754.07168026,  194931.3191755 ,\n",
       "         48545.85094267,  220670.9211908 ,  241275.72065269,\n",
       "        111277.84690529,  263132.98019866,  334330.24712338,\n",
       "        223680.59545276,   97981.34487922,  179735.48879149,\n",
       "        130900.98079134,  163377.63054962,  108671.29947886,\n",
       "        177103.12711924,  316175.60098892,  148313.39965499,\n",
       "        120953.92423422,  238246.96048431,  223272.24748753,\n",
       "        139255.19614382,  123845.97669872,  313899.06746453,\n",
       "        213929.92601434,  279471.90857676,  241603.03745201,\n",
       "        234025.60811413,   85572.05420623,   95785.89644255,\n",
       "        302202.96247463,  225958.21546642,  154713.00002648,\n",
       "        155478.55047411,  367124.73531049,  118433.88121121,\n",
       "        163160.63884146,  310025.55411001,  169582.2974033 ,\n",
       "        131059.77342931,   66929.7883024 ,  262783.12106364,\n",
       "        143619.97762492,  145612.34598308,   83691.83779012,\n",
       "        279935.45609435,  135123.94014249,  126359.09065849,\n",
       "        204239.30836254,  176021.86967916,  196150.40105488,\n",
       "        275072.42952291,  261204.90964818,  218208.33445181,\n",
       "        100652.31032232,   52840.30999729,  195739.04999772,\n",
       "        126164.99621738,   53993.76262623,  168521.43575523,\n",
       "        227144.04171609,  173535.91658807,  149403.63119817,\n",
       "        189531.08165141,   81591.94002427,  198862.68358805,\n",
       "        132729.42390842,  123436.20200773,  309513.8940822 ,\n",
       "        138528.72132394,  342592.99463142,   95087.37224587,\n",
       "        147137.256712  ,  152184.37063313,  172978.14111117,\n",
       "        138674.25460088,  202382.6560701 ,  310040.48178188,\n",
       "        142111.56287608,  122514.32238482,  129550.72097554,\n",
       "        139707.5188254 ,  310071.95347033,   82541.06540145,\n",
       "        161782.08651455,  148422.60609582,  368220.1711095 ,\n",
       "        150636.28828035,  301650.49719195,  148241.74068867,\n",
       "        145241.8680188 ,  238096.21768804,  247333.5446044 ,\n",
       "        187235.97257325,  171786.3258041 ,  231828.6428624 ,\n",
       "        166213.27574733,  142392.39294267,  160761.79077125,\n",
       "        136913.8193839 ,  316637.85409708,   86838.76073697,\n",
       "        192291.82972928,  277077.23965615,   98189.32336124,\n",
       "        160742.0747429 ,  108855.581044  ,  215846.79904401,\n",
       "        149814.17693589,  135588.05696432,  139243.93646105,\n",
       "        140475.79790213,  174119.5151397 ,  100388.36392098,\n",
       "        353431.34359369,  173403.05794439,  204071.86243974,\n",
       "        130832.95923717,  109379.81226849,  163894.20714781,\n",
       "        131586.0111166 ,  146196.20454529,  146466.7549914 ,\n",
       "        188523.89915696,  155079.35489765,  321312.74378485,\n",
       "         60182.4117562 ,  142117.59504159,   96679.97811905,\n",
       "        205178.45285766,  370338.31613463,  130900.07726741,\n",
       "        246683.91425871,  321138.47421511,  158830.31346889,\n",
       "        190391.55145075,  482467.88782651,  193780.26825785,\n",
       "        156870.8513581 ,  129556.47780224,  288541.47983173,\n",
       "        204067.52629872,  254912.00788133,  197174.89041542,\n",
       "        368269.67365031,  238884.88524195,  240158.22443797,\n",
       "        167201.61625482,  144450.19860765,  258558.3862013 ,\n",
       "        190566.96444115,  360599.24983808,  252829.72032123,\n",
       "        139816.95146465,  217675.99612846,  148274.26724567,\n",
       "        126335.68118823,  130165.84827341,  140466.47578518,\n",
       "        236644.33059313,  222411.72025276,  229947.61888108,\n",
       "        238068.23676656,  265233.45021355,  131582.38046585,\n",
       "        218088.26232446,  167061.65332504,  134744.30451006,\n",
       "        164517.5353181 ,  189848.68586458,  257691.9766129 ,\n",
       "         48335.00186551,   97368.35146248,  195085.45485516,\n",
       "        120911.25693209,  126642.75032376,  314857.90564388,\n",
       "        209012.58836127,  165544.41961075,  188085.69388366,\n",
       "        166726.74751382,  135691.11829375,  396836.78435443,\n",
       "        138042.34339626,   85865.03167974,  236820.81796328,\n",
       "        209348.09528705,  146367.62193332,  140839.77195417,\n",
       "        115817.4927213 ,  421505.56538454,  117561.84619927,\n",
       "        159086.48705768,  338848.00920473,  126993.06240766,\n",
       "        154509.97609381,  150303.67862016,  197421.95649157,\n",
       "        165569.45044997,  118638.71512107])"
      ]
     },
     "execution_count": 80,
     "metadata": {},
     "output_type": "execute_result"
    }
   ],
   "source": [
    "predicted_test_y_dollars = Y_scaler.inverse_transform(predicted_test_y) \n",
    "predicted_test_y_dollars"
   ]
  },
  {
   "cell_type": "markdown",
   "metadata": {},
   "source": [
    "The following \"dollars\" table shows the predicted and test values of y and the module with the difference of these values."
   ]
  },
  {
   "cell_type": "code",
   "execution_count": 81,
   "metadata": {
    "scrolled": true
   },
   "outputs": [
    {
     "data": {
      "text/html": [
       "<div>\n",
       "<style>\n",
       "    .dataframe thead tr:only-child th {\n",
       "        text-align: right;\n",
       "    }\n",
       "\n",
       "    .dataframe thead th {\n",
       "        text-align: left;\n",
       "    }\n",
       "\n",
       "    .dataframe tbody tr th {\n",
       "        vertical-align: top;\n",
       "    }\n",
       "</style>\n",
       "<table border=\"1\" class=\"dataframe\">\n",
       "  <thead>\n",
       "    <tr style=\"text-align: right;\">\n",
       "      <th></th>\n",
       "      <th>predicted y test dollars</th>\n",
       "      <th>y test dollars</th>\n",
       "      <th>difference</th>\n",
       "      <th>abs difference</th>\n",
       "    </tr>\n",
       "  </thead>\n",
       "  <tbody>\n",
       "    <tr>\n",
       "      <th>0</th>\n",
       "      <td>42090.931818</td>\n",
       "      <td>127500</td>\n",
       "      <td>-85409.068182</td>\n",
       "      <td>85409.068182</td>\n",
       "    </tr>\n",
       "    <tr>\n",
       "      <th>1</th>\n",
       "      <td>243628.427571</td>\n",
       "      <td>324000</td>\n",
       "      <td>-80371.572429</td>\n",
       "      <td>80371.572429</td>\n",
       "    </tr>\n",
       "    <tr>\n",
       "      <th>2</th>\n",
       "      <td>110204.552401</td>\n",
       "      <td>82500</td>\n",
       "      <td>27704.552401</td>\n",
       "      <td>27704.552401</td>\n",
       "    </tr>\n",
       "    <tr>\n",
       "      <th>3</th>\n",
       "      <td>362067.409159</td>\n",
       "      <td>335000</td>\n",
       "      <td>27067.409159</td>\n",
       "      <td>27067.409159</td>\n",
       "    </tr>\n",
       "    <tr>\n",
       "      <th>4</th>\n",
       "      <td>151128.868894</td>\n",
       "      <td>149500</td>\n",
       "      <td>1628.868894</td>\n",
       "      <td>1628.868894</td>\n",
       "    </tr>\n",
       "    <tr>\n",
       "      <th>5</th>\n",
       "      <td>335056.623010</td>\n",
       "      <td>275000</td>\n",
       "      <td>60056.623010</td>\n",
       "      <td>60056.623010</td>\n",
       "    </tr>\n",
       "    <tr>\n",
       "      <th>6</th>\n",
       "      <td>180825.547192</td>\n",
       "      <td>240000</td>\n",
       "      <td>-59174.452808</td>\n",
       "      <td>59174.452808</td>\n",
       "    </tr>\n",
       "    <tr>\n",
       "      <th>7</th>\n",
       "      <td>186807.504350</td>\n",
       "      <td>210000</td>\n",
       "      <td>-23192.495650</td>\n",
       "      <td>23192.495650</td>\n",
       "    </tr>\n",
       "    <tr>\n",
       "      <th>8</th>\n",
       "      <td>149322.259447</td>\n",
       "      <td>161750</td>\n",
       "      <td>-12427.740553</td>\n",
       "      <td>12427.740553</td>\n",
       "    </tr>\n",
       "    <tr>\n",
       "      <th>9</th>\n",
       "      <td>221700.527530</td>\n",
       "      <td>260000</td>\n",
       "      <td>-38299.472470</td>\n",
       "      <td>38299.472470</td>\n",
       "    </tr>\n",
       "    <tr>\n",
       "      <th>10</th>\n",
       "      <td>296736.806891</td>\n",
       "      <td>270000</td>\n",
       "      <td>26736.806891</td>\n",
       "      <td>26736.806891</td>\n",
       "    </tr>\n",
       "    <tr>\n",
       "      <th>11</th>\n",
       "      <td>102194.245239</td>\n",
       "      <td>129500</td>\n",
       "      <td>-27305.754761</td>\n",
       "      <td>27305.754761</td>\n",
       "    </tr>\n",
       "    <tr>\n",
       "      <th>12</th>\n",
       "      <td>198068.394060</td>\n",
       "      <td>196000</td>\n",
       "      <td>2068.394060</td>\n",
       "      <td>2068.394060</td>\n",
       "    </tr>\n",
       "    <tr>\n",
       "      <th>13</th>\n",
       "      <td>152148.091169</td>\n",
       "      <td>143000</td>\n",
       "      <td>9148.091169</td>\n",
       "      <td>9148.091169</td>\n",
       "    </tr>\n",
       "    <tr>\n",
       "      <th>14</th>\n",
       "      <td>122178.873094</td>\n",
       "      <td>107400</td>\n",
       "      <td>14778.873094</td>\n",
       "      <td>14778.873094</td>\n",
       "    </tr>\n",
       "    <tr>\n",
       "      <th>15</th>\n",
       "      <td>135303.818242</td>\n",
       "      <td>128500</td>\n",
       "      <td>6803.818242</td>\n",
       "      <td>6803.818242</td>\n",
       "    </tr>\n",
       "    <tr>\n",
       "      <th>16</th>\n",
       "      <td>136422.735522</td>\n",
       "      <td>138800</td>\n",
       "      <td>-2377.264478</td>\n",
       "      <td>2377.264478</td>\n",
       "    </tr>\n",
       "    <tr>\n",
       "      <th>17</th>\n",
       "      <td>105818.802117</td>\n",
       "      <td>76500</td>\n",
       "      <td>29318.802117</td>\n",
       "      <td>29318.802117</td>\n",
       "    </tr>\n",
       "    <tr>\n",
       "      <th>18</th>\n",
       "      <td>197594.299656</td>\n",
       "      <td>178000</td>\n",
       "      <td>19594.299656</td>\n",
       "      <td>19594.299656</td>\n",
       "    </tr>\n",
       "    <tr>\n",
       "      <th>19</th>\n",
       "      <td>166695.810826</td>\n",
       "      <td>200000</td>\n",
       "      <td>-33304.189174</td>\n",
       "      <td>33304.189174</td>\n",
       "    </tr>\n",
       "    <tr>\n",
       "      <th>20</th>\n",
       "      <td>144136.801333</td>\n",
       "      <td>151000</td>\n",
       "      <td>-6863.198667</td>\n",
       "      <td>6863.198667</td>\n",
       "    </tr>\n",
       "    <tr>\n",
       "      <th>21</th>\n",
       "      <td>191806.333799</td>\n",
       "      <td>175900</td>\n",
       "      <td>15906.333799</td>\n",
       "      <td>15906.333799</td>\n",
       "    </tr>\n",
       "    <tr>\n",
       "      <th>22</th>\n",
       "      <td>334707.095028</td>\n",
       "      <td>375000</td>\n",
       "      <td>-40292.904972</td>\n",
       "      <td>40292.904972</td>\n",
       "    </tr>\n",
       "    <tr>\n",
       "      <th>23</th>\n",
       "      <td>126974.048338</td>\n",
       "      <td>139000</td>\n",
       "      <td>-12025.951662</td>\n",
       "      <td>12025.951662</td>\n",
       "    </tr>\n",
       "    <tr>\n",
       "      <th>24</th>\n",
       "      <td>190140.247397</td>\n",
       "      <td>176000</td>\n",
       "      <td>14140.247397</td>\n",
       "      <td>14140.247397</td>\n",
       "    </tr>\n",
       "    <tr>\n",
       "      <th>25</th>\n",
       "      <td>134241.015001</td>\n",
       "      <td>167500</td>\n",
       "      <td>-33258.984999</td>\n",
       "      <td>33258.984999</td>\n",
       "    </tr>\n",
       "    <tr>\n",
       "      <th>26</th>\n",
       "      <td>134110.816232</td>\n",
       "      <td>144000</td>\n",
       "      <td>-9889.183768</td>\n",
       "      <td>9889.183768</td>\n",
       "    </tr>\n",
       "    <tr>\n",
       "      <th>27</th>\n",
       "      <td>145569.471005</td>\n",
       "      <td>129000</td>\n",
       "      <td>16569.471005</td>\n",
       "      <td>16569.471005</td>\n",
       "    </tr>\n",
       "    <tr>\n",
       "      <th>28</th>\n",
       "      <td>111997.364505</td>\n",
       "      <td>100000</td>\n",
       "      <td>11997.364505</td>\n",
       "      <td>11997.364505</td>\n",
       "    </tr>\n",
       "    <tr>\n",
       "      <th>29</th>\n",
       "      <td>77581.666893</td>\n",
       "      <td>103200</td>\n",
       "      <td>-25618.333107</td>\n",
       "      <td>25618.333107</td>\n",
       "    </tr>\n",
       "    <tr>\n",
       "      <th>...</th>\n",
       "      <td>...</td>\n",
       "      <td>...</td>\n",
       "      <td>...</td>\n",
       "      <td>...</td>\n",
       "    </tr>\n",
       "    <tr>\n",
       "      <th>452</th>\n",
       "      <td>257691.976613</td>\n",
       "      <td>274725</td>\n",
       "      <td>-17033.023387</td>\n",
       "      <td>17033.023387</td>\n",
       "    </tr>\n",
       "    <tr>\n",
       "      <th>453</th>\n",
       "      <td>48335.001866</td>\n",
       "      <td>35311</td>\n",
       "      <td>13024.001866</td>\n",
       "      <td>13024.001866</td>\n",
       "    </tr>\n",
       "    <tr>\n",
       "      <th>454</th>\n",
       "      <td>97368.351462</td>\n",
       "      <td>106250</td>\n",
       "      <td>-8881.648538</td>\n",
       "      <td>8881.648538</td>\n",
       "    </tr>\n",
       "    <tr>\n",
       "      <th>455</th>\n",
       "      <td>195085.454855</td>\n",
       "      <td>194201</td>\n",
       "      <td>884.454855</td>\n",
       "      <td>884.454855</td>\n",
       "    </tr>\n",
       "    <tr>\n",
       "      <th>456</th>\n",
       "      <td>120911.256932</td>\n",
       "      <td>113000</td>\n",
       "      <td>7911.256932</td>\n",
       "      <td>7911.256932</td>\n",
       "    </tr>\n",
       "    <tr>\n",
       "      <th>457</th>\n",
       "      <td>126642.750324</td>\n",
       "      <td>129900</td>\n",
       "      <td>-3257.249676</td>\n",
       "      <td>3257.249676</td>\n",
       "    </tr>\n",
       "    <tr>\n",
       "      <th>458</th>\n",
       "      <td>314857.905644</td>\n",
       "      <td>301500</td>\n",
       "      <td>13357.905644</td>\n",
       "      <td>13357.905644</td>\n",
       "    </tr>\n",
       "    <tr>\n",
       "      <th>459</th>\n",
       "      <td>209012.588361</td>\n",
       "      <td>197000</td>\n",
       "      <td>12012.588361</td>\n",
       "      <td>12012.588361</td>\n",
       "    </tr>\n",
       "    <tr>\n",
       "      <th>460</th>\n",
       "      <td>165544.419611</td>\n",
       "      <td>156000</td>\n",
       "      <td>9544.419611</td>\n",
       "      <td>9544.419611</td>\n",
       "    </tr>\n",
       "    <tr>\n",
       "      <th>461</th>\n",
       "      <td>188085.693884</td>\n",
       "      <td>223500</td>\n",
       "      <td>-35414.306116</td>\n",
       "      <td>35414.306116</td>\n",
       "    </tr>\n",
       "    <tr>\n",
       "      <th>462</th>\n",
       "      <td>166726.747514</td>\n",
       "      <td>196500</td>\n",
       "      <td>-29773.252486</td>\n",
       "      <td>29773.252486</td>\n",
       "    </tr>\n",
       "    <tr>\n",
       "      <th>463</th>\n",
       "      <td>135691.118294</td>\n",
       "      <td>129500</td>\n",
       "      <td>6191.118294</td>\n",
       "      <td>6191.118294</td>\n",
       "    </tr>\n",
       "    <tr>\n",
       "      <th>464</th>\n",
       "      <td>396836.784354</td>\n",
       "      <td>378500</td>\n",
       "      <td>18336.784354</td>\n",
       "      <td>18336.784354</td>\n",
       "    </tr>\n",
       "    <tr>\n",
       "      <th>465</th>\n",
       "      <td>138042.343396</td>\n",
       "      <td>152000</td>\n",
       "      <td>-13957.656604</td>\n",
       "      <td>13957.656604</td>\n",
       "    </tr>\n",
       "    <tr>\n",
       "      <th>466</th>\n",
       "      <td>85865.031680</td>\n",
       "      <td>101800</td>\n",
       "      <td>-15934.968320</td>\n",
       "      <td>15934.968320</td>\n",
       "    </tr>\n",
       "    <tr>\n",
       "      <th>467</th>\n",
       "      <td>236820.817963</td>\n",
       "      <td>217500</td>\n",
       "      <td>19320.817963</td>\n",
       "      <td>19320.817963</td>\n",
       "    </tr>\n",
       "    <tr>\n",
       "      <th>468</th>\n",
       "      <td>209348.095287</td>\n",
       "      <td>181134</td>\n",
       "      <td>28214.095287</td>\n",
       "      <td>28214.095287</td>\n",
       "    </tr>\n",
       "    <tr>\n",
       "      <th>469</th>\n",
       "      <td>146367.621933</td>\n",
       "      <td>125500</td>\n",
       "      <td>20867.621933</td>\n",
       "      <td>20867.621933</td>\n",
       "    </tr>\n",
       "    <tr>\n",
       "      <th>470</th>\n",
       "      <td>140839.771954</td>\n",
       "      <td>142500</td>\n",
       "      <td>-1660.228046</td>\n",
       "      <td>1660.228046</td>\n",
       "    </tr>\n",
       "    <tr>\n",
       "      <th>471</th>\n",
       "      <td>115817.492721</td>\n",
       "      <td>132250</td>\n",
       "      <td>-16432.507279</td>\n",
       "      <td>16432.507279</td>\n",
       "    </tr>\n",
       "    <tr>\n",
       "      <th>472</th>\n",
       "      <td>421505.565385</td>\n",
       "      <td>361919</td>\n",
       "      <td>59586.565385</td>\n",
       "      <td>59586.565385</td>\n",
       "    </tr>\n",
       "    <tr>\n",
       "      <th>473</th>\n",
       "      <td>117561.846199</td>\n",
       "      <td>117000</td>\n",
       "      <td>561.846199</td>\n",
       "      <td>561.846199</td>\n",
       "    </tr>\n",
       "    <tr>\n",
       "      <th>474</th>\n",
       "      <td>159086.487058</td>\n",
       "      <td>207000</td>\n",
       "      <td>-47913.512942</td>\n",
       "      <td>47913.512942</td>\n",
       "    </tr>\n",
       "    <tr>\n",
       "      <th>475</th>\n",
       "      <td>338848.009205</td>\n",
       "      <td>253293</td>\n",
       "      <td>85555.009205</td>\n",
       "      <td>85555.009205</td>\n",
       "    </tr>\n",
       "    <tr>\n",
       "      <th>476</th>\n",
       "      <td>126993.062408</td>\n",
       "      <td>134000</td>\n",
       "      <td>-7006.937592</td>\n",
       "      <td>7006.937592</td>\n",
       "    </tr>\n",
       "    <tr>\n",
       "      <th>477</th>\n",
       "      <td>154509.976094</td>\n",
       "      <td>141000</td>\n",
       "      <td>13509.976094</td>\n",
       "      <td>13509.976094</td>\n",
       "    </tr>\n",
       "    <tr>\n",
       "      <th>478</th>\n",
       "      <td>150303.678620</td>\n",
       "      <td>163900</td>\n",
       "      <td>-13596.321380</td>\n",
       "      <td>13596.321380</td>\n",
       "    </tr>\n",
       "    <tr>\n",
       "      <th>479</th>\n",
       "      <td>197421.956492</td>\n",
       "      <td>190000</td>\n",
       "      <td>7421.956492</td>\n",
       "      <td>7421.956492</td>\n",
       "    </tr>\n",
       "    <tr>\n",
       "      <th>480</th>\n",
       "      <td>165569.450450</td>\n",
       "      <td>107500</td>\n",
       "      <td>58069.450450</td>\n",
       "      <td>58069.450450</td>\n",
       "    </tr>\n",
       "    <tr>\n",
       "      <th>481</th>\n",
       "      <td>118638.715121</td>\n",
       "      <td>127500</td>\n",
       "      <td>-8861.284879</td>\n",
       "      <td>8861.284879</td>\n",
       "    </tr>\n",
       "  </tbody>\n",
       "</table>\n",
       "<p>482 rows × 4 columns</p>\n",
       "</div>"
      ],
      "text/plain": [
       "     predicted y test dollars  y test dollars    difference  abs difference\n",
       "0                42090.931818          127500 -85409.068182    85409.068182\n",
       "1               243628.427571          324000 -80371.572429    80371.572429\n",
       "2               110204.552401           82500  27704.552401    27704.552401\n",
       "3               362067.409159          335000  27067.409159    27067.409159\n",
       "4               151128.868894          149500   1628.868894     1628.868894\n",
       "5               335056.623010          275000  60056.623010    60056.623010\n",
       "6               180825.547192          240000 -59174.452808    59174.452808\n",
       "7               186807.504350          210000 -23192.495650    23192.495650\n",
       "8               149322.259447          161750 -12427.740553    12427.740553\n",
       "9               221700.527530          260000 -38299.472470    38299.472470\n",
       "10              296736.806891          270000  26736.806891    26736.806891\n",
       "11              102194.245239          129500 -27305.754761    27305.754761\n",
       "12              198068.394060          196000   2068.394060     2068.394060\n",
       "13              152148.091169          143000   9148.091169     9148.091169\n",
       "14              122178.873094          107400  14778.873094    14778.873094\n",
       "15              135303.818242          128500   6803.818242     6803.818242\n",
       "16              136422.735522          138800  -2377.264478     2377.264478\n",
       "17              105818.802117           76500  29318.802117    29318.802117\n",
       "18              197594.299656          178000  19594.299656    19594.299656\n",
       "19              166695.810826          200000 -33304.189174    33304.189174\n",
       "20              144136.801333          151000  -6863.198667     6863.198667\n",
       "21              191806.333799          175900  15906.333799    15906.333799\n",
       "22              334707.095028          375000 -40292.904972    40292.904972\n",
       "23              126974.048338          139000 -12025.951662    12025.951662\n",
       "24              190140.247397          176000  14140.247397    14140.247397\n",
       "25              134241.015001          167500 -33258.984999    33258.984999\n",
       "26              134110.816232          144000  -9889.183768     9889.183768\n",
       "27              145569.471005          129000  16569.471005    16569.471005\n",
       "28              111997.364505          100000  11997.364505    11997.364505\n",
       "29               77581.666893          103200 -25618.333107    25618.333107\n",
       "..                        ...             ...           ...             ...\n",
       "452             257691.976613          274725 -17033.023387    17033.023387\n",
       "453              48335.001866           35311  13024.001866    13024.001866\n",
       "454              97368.351462          106250  -8881.648538     8881.648538\n",
       "455             195085.454855          194201    884.454855      884.454855\n",
       "456             120911.256932          113000   7911.256932     7911.256932\n",
       "457             126642.750324          129900  -3257.249676     3257.249676\n",
       "458             314857.905644          301500  13357.905644    13357.905644\n",
       "459             209012.588361          197000  12012.588361    12012.588361\n",
       "460             165544.419611          156000   9544.419611     9544.419611\n",
       "461             188085.693884          223500 -35414.306116    35414.306116\n",
       "462             166726.747514          196500 -29773.252486    29773.252486\n",
       "463             135691.118294          129500   6191.118294     6191.118294\n",
       "464             396836.784354          378500  18336.784354    18336.784354\n",
       "465             138042.343396          152000 -13957.656604    13957.656604\n",
       "466              85865.031680          101800 -15934.968320    15934.968320\n",
       "467             236820.817963          217500  19320.817963    19320.817963\n",
       "468             209348.095287          181134  28214.095287    28214.095287\n",
       "469             146367.621933          125500  20867.621933    20867.621933\n",
       "470             140839.771954          142500  -1660.228046     1660.228046\n",
       "471             115817.492721          132250 -16432.507279    16432.507279\n",
       "472             421505.565385          361919  59586.565385    59586.565385\n",
       "473             117561.846199          117000    561.846199      561.846199\n",
       "474             159086.487058          207000 -47913.512942    47913.512942\n",
       "475             338848.009205          253293  85555.009205    85555.009205\n",
       "476             126993.062408          134000  -7006.937592     7006.937592\n",
       "477             154509.976094          141000  13509.976094    13509.976094\n",
       "478             150303.678620          163900 -13596.321380    13596.321380\n",
       "479             197421.956492          190000   7421.956492     7421.956492\n",
       "480             165569.450450          107500  58069.450450    58069.450450\n",
       "481             118638.715121          127500  -8861.284879     8861.284879\n",
       "\n",
       "[482 rows x 4 columns]"
      ]
     },
     "execution_count": 81,
     "metadata": {},
     "output_type": "execute_result"
    }
   ],
   "source": [
    "dollars = pd.DataFrame(data={'y test dollars':y_test.flatten(),'predicted y test dollars':predicted_test_y_dollars})\n",
    "dollars['difference'] = dollars['predicted y test dollars'] - dollars['y test dollars']\n",
    "dollars['abs difference'] = abs(dollars['difference'])\n",
    "dollars"
   ]
  },
  {
   "cell_type": "markdown",
   "metadata": {},
   "source": [
    "Negative values indicate underestimation and positive values about overestimation relative to test values."
   ]
  },
  {
   "cell_type": "markdown",
   "metadata": {},
   "source": [
    "# Data visualization"
   ]
  },
  {
   "cell_type": "code",
   "execution_count": 82,
   "metadata": {},
   "outputs": [
    {
     "data": {
      "text/html": [
       "<script>requirejs.config({paths: { 'plotly': ['https://cdn.plot.ly/plotly-latest.min']},});if(!window.Plotly) {{require(['plotly'],function(plotly) {window.Plotly=plotly;});}}</script>"
      ],
      "text/vnd.plotly.v1+html": [
       "<script>requirejs.config({paths: { 'plotly': ['https://cdn.plot.ly/plotly-latest.min']},});if(!window.Plotly) {{require(['plotly'],function(plotly) {window.Plotly=plotly;});}}</script>"
      ]
     },
     "metadata": {},
     "output_type": "display_data"
    }
   ],
   "source": [
    "import plotly.offline as py\n",
    "import plotly.graph_objs as go\n",
    "py.init_notebook_mode(connected=True)"
   ]
  },
  {
   "cell_type": "markdown",
   "metadata": {},
   "source": [
    "# Histogram"
   ]
  },
  {
   "cell_type": "code",
   "execution_count": 83,
   "metadata": {},
   "outputs": [
    {
     "data": {
      "application/vnd.plotly.v1+json": {
       "data": [
        {
         "type": "histogram",
         "x": [
          -85409.06818215045,
          -80371.57242928556,
          27704.552400904096,
          27067.409159185423,
          1628.8688939003332,
          60056.62301016692,
          -59174.45280791758,
          -23192.49564966769,
          -12427.740553174692,
          -38299.47246976357,
          26736.806891186512,
          -27305.754760602358,
          2068.3940595343593,
          9148.091169321822,
          14778.873094107112,
          6803.818241585337,
          -2377.2644783498836,
          29318.802116608276,
          19594.299656213116,
          -33304.18917359234,
          -6863.198666845274,
          15906.333798526175,
          -40292.90497235849,
          -12025.951662481384,
          14140.24739718539,
          -33258.984998986474,
          -9889.183767701092,
          16569.471004920604,
          11997.364504611702,
          -25618.333107222876,
          -5928.581149209451,
          -3625.265880386636,
          16734.555861178815,
          -29719.393700727407,
          32634.75593771883,
          24477.847617608466,
          5232.591748495237,
          -22224.365199675143,
          -9858.788401282189,
          5472.4211271047825,
          -7383.306803097512,
          13617.858207134559,
          6576.023639456136,
          -12991.571314269648,
          -4970.9147264208,
          26209.98676201573,
          -16355.199804038391,
          -124807.24924598087,
          23527.14971288995,
          12591.098487030016,
          39175.10787443112,
          39864.89614302828,
          -14847.999620799063,
          5421.722635899903,
          2539.5988226526533,
          14082.16525093856,
          1909.2639733856777,
          10201.90702059769,
          23133.90254991653,
          15339.623857382205,
          -6399.111682564733,
          -3200.6700514268014,
          -42168.042726915155,
          3517.306007702544,
          25983.684982288454,
          534.1905823921552,
          -6937.65066745301,
          13040.218193850276,
          35676.70483650759,
          -14746.251288992353,
          -5827.353582443378,
          8251.977706974416,
          -45354.11504648067,
          60309.21287815913,
          9073.987176703085,
          -473.69410625260207,
          9840.636542040942,
          490.0311368893017,
          -23562.02852206325,
          -22261.426095885923,
          -24735.40286720486,
          -2085.587309748531,
          -40052.71179886676,
          -4008.752207679092,
          8766.469415263302,
          39941.81202069635,
          34759.32545444564,
          -7816.277942611603,
          -6791.077114305226,
          -112.09464500332251,
          20558.344800897466,
          5631.923653405043,
          -4891.656462453568,
          84294.49662639893,
          5330.136087795894,
          13065.55577361572,
          -19965.903804636342,
          -26515.280538602296,
          -4687.14045392914,
          8368.710892024857,
          22378.735804335913,
          -3120.1733321191277,
          -14607.671895839303,
          11699.712232407386,
          14924.730455643614,
          17919.466851398087,
          5106.456773858459,
          7353.527380780084,
          11889.871545876944,
          -21285.2296834992,
          45541.99357547687,
          -9102.259911545058,
          23459.32843931773,
          53884.21006541699,
          -33464.96140782841,
          7669.942900093272,
          -18706.828682722655,
          -29419.937812990072,
          25585.38597334514,
          -6523.118430177739,
          -5685.787680929818,
          -12231.898351439071,
          5317.642787708668,
          -12572.246806856478,
          10607.147538157296,
          7925.080258348957,
          11085.65582834772,
          -7699.893920115108,
          -3560.478107798379,
          -2768.80567999091,
          -13085.54226815101,
          49503.642056992714,
          -21231.63648466443,
          7375.862720714766,
          -16944.343510440056,
          14089.6453162994,
          39597.23129677016,
          6032.544061693334,
          -88762.5929456221,
          -3440.1207136476005,
          1593.915138665092,
          30949.31415405037,
          -75575.66390005621,
          21305.398267699435,
          15223.666693084291,
          -1564.4311491900298,
          -15165.443596283469,
          39899.4460153729,
          5404.724407561473,
          5138.665168429783,
          13523.696525854059,
          10675.93958519958,
          91982.40847431315,
          34550.96294878537,
          -17033.254942953645,
          -6949.729271964839,
          -8629.47567251217,
          -17434.729805292096,
          -20563.589167168102,
          -10795.36394442385,
          12924.086609168575,
          8419.015899180813,
          21052.215876350587,
          -27610.151219699415,
          23241.782761478593,
          -38379.12797975703,
          14522.941460772301,
          9345.577047946688,
          -11460.929064406548,
          -13458.819346870616,
          62.91383733978728,
          -9620.032618264755,
          -3747.661786648445,
          13770.847381361178,
          8790.998900916224,
          -4560.976859438233,
          35882.11187138932,
          23035.34979605701,
          -29167.389217389165,
          6454.550668423239,
          -5236.659792317136,
          21669.961557970644,
          42107.912859089,
          26498.674801906105,
          31441.03720402025,
          -3171.3909143003984,
          25510.807196494614,
          -86010.21209920815,
          20091.135245395068,
          5935.992373670044,
          -1489.135930205579,
          -32625.084734415053,
          -4465.954101470299,
          10381.277267171943,
          -4345.356594540237,
          27064.718569325225,
          -4313.9270927970065,
          -6428.6305469942745,
          12072.75275229587,
          -27084.186606187082,
          -314772.19889765466,
          32389.466986582265,
          -12469.391910531675,
          6349.428824740258,
          -12055.772826739325,
          -12902.462639235571,
          -33166.35639773283,
          87166.58101035969,
          -29774.510456300384,
          -26204.564473950566,
          -12143.646836276195,
          15590.976967444221,
          18633.237491719206,
          20862.255270409747,
          -48791.21535512607,
          -25442.460561154905,
          23169.468596989784,
          -15267.484259777499,
          -27703.471357155126,
          10935.819776325952,
          -41708.40087413242,
          8439.146478354203,
          9519.224595764274,
          -9293.250287456089,
          -40111.992034659546,
          7250.88848985231,
          1882.12713379247,
          -10560.882172357698,
          -568.2541116625216,
          5452.678523071081,
          -15298.411988306776,
          -38316.81848731986,
          15194.676440975541,
          41753.28978020717,
          -29002.833950244705,
          8089.624436569255,
          6114.334350098623,
          -22067.81837645681,
          -16718.697982879297,
          -6694.256187905703,
          -5945.305998548836,
          9358.895887254213,
          5005.403153706517,
          -2285.2136682696582,
          -4457.805018233892,
          -15725.866313101375,
          -18134.705703463915,
          -2494.031557027716,
          -2082.1980997061182,
          25798.035307138023,
          -38267.43517607541,
          -19556.705286533834,
          -14919.416187513154,
          -1115.5363289589295,
          19446.274285948602,
          -18387.168695284694,
          18446.09618272158,
          -15877.294588136836,
          -99096.35181488335,
          26488.562221665896,
          16507.674462060677,
          3186.679539886274,
          1511.7784119235293,
          -10963.189969038795,
          -40283.14072672714,
          43067.937235471705,
          37766.22728299815,
          2590.05383028544,
          9614.691350201654,
          -8015.710236881772,
          18002.56229007116,
          -20305.636920907767,
          20698.490903502854,
          -4291.918248706061,
          -54350.611428547854,
          -14930.419256154273,
          -21741.29000592575,
          41174.75498122189,
          -20383.404338252498,
          26305.180583589274,
          -1967.9033646698226,
          -2433.5670656639268,
          17187.42158898199,
          5754.071680264489,
          3931.3191754981817,
          -3954.1490573271876,
          8670.92119079968,
          2275.720652687596,
          -11722.153094709822,
          3132.9801986640086,
          74330.24712338409,
          28980.595452757436,
          3981.3448792157724,
          11835.488791490468,
          20900.980791343638,
          -12622.369450376602,
          -22328.700521141946,
          22103.127119244367,
          7175.600988921011,
          -3686.60034500694,
          953.9242342165962,
          33246.96048430831,
          -5227.752512474428,
          29255.196143821813,
          35845.976698724044,
          78899.06746453093,
          -18070.073985655996,
          21971.90857676213,
          11603.037452009303,
          -974.3918858710385,
          -14427.945793773033,
          -10214.10355744927,
          9125.962474625558,
          30958.21546641644,
          -20286.999973516504,
          -20521.449525891687,
          7124.735310494201,
          -20966.11878878565,
          -1539.3611585351173,
          -9974.445889986586,
          20782.297403301607,
          -9140.226570693761,
          -24070.211697601553,
          71783.12106364372,
          38719.97762492398,
          -21887.65401691929,
          -3308.162209878559,
          14035.45609435119,
          -8776.05985750744,
          6359.090658487403,
          -27260.69163745508,
          24021.869679160416,
          22150.401054883027,
          -10927.570477094152,
          6204.909648179746,
          -6791.665548189718,
          -2347.689677678165,
          -31659.690002706106,
          30239.049997718015,
          -14835.003782618238,
          -26506.237373772427,
          11589.435755227081,
          1144.0417160856887,
          14035.916588068445,
          11903.631198166753,
          6531.081651407381,
          -28408.059975732074,
          49862.683588050655,
          8729.423908423167,
          -25063.797992273845,
          19513.89408220374,
          4628.721323944046,
          -42407.005368578364,
          -41912.62775413423,
          -18862.743287997087,
          22184.370633127168,
          -5021.858888834104,
          -14325.745399121835,
          26482.656070098077,
          52040.481781877344,
          35111.562876076176,
          -5985.677615181659,
          17550.72097553918,
          -9992.48117459906,
          -4928.046529670828,
          1541.0654014454776,
          -15217.913485453319,
          20422.606095824332,
          18220.171109496267,
          -7863.711719648243,
          -38099.50280805107,
          10241.740688668797,
          37241.86801880406,
          -41403.78231195541,
          8333.544604398048,
          -37764.02742674717,
          6636.325804100459,
          16828.642862395558,
          11213.275747327978,
          -607.6070573345642,
          1761.7907712547749,
          24413.81938389779,
          6637.854097082687,
          1838.7607369710313,
          -75708.17027071948,
          -29922.760343852628,
          -8310.676638764533,
          -44257.92525709883,
          -4144.418955997069,
          1846.7990440096473,
          -28185.8230641103,
          23588.05696432473,
          3243.9364610498305,
          -15524.202097874455,
          -22880.4848603,
          48388.36392097823,
          27431.34359369264,
          -25096.942055610823,
          73571.86243973559,
          35832.95923716549,
          -620.1877315056627,
          -11005.792852188606,
          -413.9888833959121,
          -22803.795454714767,
          9966.754991395079,
          -1476.1008430368674,
          10079.354897645622,
          -3987.2562151477905,
          5182.411756195157,
          3617.595041589637,
          -13220.0218809512,
          16178.452857661032,
          -24278.6838653679,
          21000.077267408516,
          -10316.085741291608,
          36138.47421510768,
          26830.3134688882,
          -1608.448549246299,
          297717.88782651484,
          3780.268257849297,
          16870.851358097687,
          -2443.522197755912,
          3541.479831725708,
          -25932.473701279407,
          18412.00788133411,
          17674.890415424365,
          66269.67365030514,
          53884.88524194891,
          40158.22443796549,
          -4698.383745183586,
          8490.198607651168,
          30558.38620129705,
          -9933.035558854463,
          45786.249838076765,
          -19070.279678770865,
          9816.951464647398,
          20175.996128463652,
          20774.267245670053,
          7835.681188225964,
          -18334.15172659274,
          15966.475785180519,
          23394.330593125836,
          19911.720252755913,
          25947.61888108164,
          7568.2367665575875,
          41233.45021355455,
          18582.380465853756,
          18188.262324462557,
          12061.653325038642,
          17744.3045100639,
          -15482.464681903017,
          -2151.3141354151885,
          -17033.023387096473,
          13024.001865513826,
          -8881.648537524146,
          884.4548551595362,
          7911.256932090211,
          -3257.2496762351075,
          13357.905643884093,
          12012.58836127221,
          9544.419610747864,
          -35414.30611634004,
          -29773.252486179234,
          6191.118293750595,
          18336.78435442614,
          -13957.656603735959,
          -15934.968320259199,
          19320.817963277863,
          28214.095287045173,
          20867.621933321177,
          -1660.2280458280002,
          -16432.50727869988,
          59586.565384543384,
          561.8461992726225,
          -47913.51294232148,
          85555.00920473202,
          -7006.937592336413,
          13509.97609381302,
          -13596.321379836882,
          7421.956491571036,
          58069.450449967,
          -8861.284878929699
         ]
        }
       ],
       "layout": {}
      },
      "text/html": [
       "<div id=\"170d4587-67c2-4fae-bce8-97d6124f1149\" style=\"height: 525px; width: 100%;\" class=\"plotly-graph-div\"></div><script type=\"text/javascript\">require([\"plotly\"], function(Plotly) { window.PLOTLYENV=window.PLOTLYENV || {};window.PLOTLYENV.BASE_URL=\"https://plot.ly\";Plotly.newPlot(\"170d4587-67c2-4fae-bce8-97d6124f1149\", [{\"type\": \"histogram\", \"x\": [-85409.06818215045, -80371.57242928556, 27704.552400904096, 27067.409159185423, 1628.8688939003332, 60056.62301016692, -59174.45280791758, -23192.49564966769, -12427.740553174692, -38299.47246976357, 26736.806891186512, -27305.754760602358, 2068.3940595343593, 9148.091169321822, 14778.873094107112, 6803.818241585337, -2377.2644783498836, 29318.802116608276, 19594.299656213116, -33304.18917359234, -6863.198666845274, 15906.333798526175, -40292.90497235849, -12025.951662481384, 14140.24739718539, -33258.984998986474, -9889.183767701092, 16569.471004920604, 11997.364504611702, -25618.333107222876, -5928.581149209451, -3625.265880386636, 16734.555861178815, -29719.393700727407, 32634.75593771883, 24477.847617608466, 5232.591748495237, -22224.365199675143, -9858.788401282189, 5472.4211271047825, -7383.306803097512, 13617.858207134559, 6576.023639456136, -12991.571314269648, -4970.9147264208, 26209.98676201573, -16355.199804038391, -124807.24924598087, 23527.14971288995, 12591.098487030016, 39175.10787443112, 39864.89614302828, -14847.999620799063, 5421.722635899903, 2539.5988226526533, 14082.16525093856, 1909.2639733856777, 10201.90702059769, 23133.90254991653, 15339.623857382205, -6399.111682564733, -3200.6700514268014, -42168.042726915155, 3517.306007702544, 25983.684982288454, 534.1905823921552, -6937.65066745301, 13040.218193850276, 35676.70483650759, -14746.251288992353, -5827.353582443378, 8251.977706974416, -45354.11504648067, 60309.21287815913, 9073.987176703085, -473.69410625260207, 9840.636542040942, 490.0311368893017, -23562.02852206325, -22261.426095885923, -24735.40286720486, -2085.587309748531, -40052.71179886676, -4008.752207679092, 8766.469415263302, 39941.81202069635, 34759.32545444564, -7816.277942611603, -6791.077114305226, -112.09464500332251, 20558.344800897466, 5631.923653405043, -4891.656462453568, 84294.49662639893, 5330.136087795894, 13065.55577361572, -19965.903804636342, -26515.280538602296, -4687.14045392914, 8368.710892024857, 22378.735804335913, -3120.1733321191277, -14607.671895839303, 11699.712232407386, 14924.730455643614, 17919.466851398087, 5106.456773858459, 7353.527380780084, 11889.871545876944, -21285.2296834992, 45541.99357547687, -9102.259911545058, 23459.32843931773, 53884.21006541699, -33464.96140782841, 7669.942900093272, -18706.828682722655, -29419.937812990072, 25585.38597334514, -6523.118430177739, -5685.787680929818, -12231.898351439071, 5317.642787708668, -12572.246806856478, 10607.147538157296, 7925.080258348957, 11085.65582834772, -7699.893920115108, -3560.478107798379, -2768.80567999091, -13085.54226815101, 49503.642056992714, -21231.63648466443, 7375.862720714766, -16944.343510440056, 14089.6453162994, 39597.23129677016, 6032.544061693334, -88762.5929456221, -3440.1207136476005, 1593.915138665092, 30949.31415405037, -75575.66390005621, 21305.398267699435, 15223.666693084291, -1564.4311491900298, -15165.443596283469, 39899.4460153729, 5404.724407561473, 5138.665168429783, 13523.696525854059, 10675.93958519958, 91982.40847431315, 34550.96294878537, -17033.254942953645, -6949.729271964839, -8629.47567251217, -17434.729805292096, -20563.589167168102, -10795.36394442385, 12924.086609168575, 8419.015899180813, 21052.215876350587, -27610.151219699415, 23241.782761478593, -38379.12797975703, 14522.941460772301, 9345.577047946688, -11460.929064406548, -13458.819346870616, 62.91383733978728, -9620.032618264755, -3747.661786648445, 13770.847381361178, 8790.998900916224, -4560.976859438233, 35882.11187138932, 23035.34979605701, -29167.389217389165, 6454.550668423239, -5236.659792317136, 21669.961557970644, 42107.912859089, 26498.674801906105, 31441.03720402025, -3171.3909143003984, 25510.807196494614, -86010.21209920815, 20091.135245395068, 5935.992373670044, -1489.135930205579, -32625.084734415053, -4465.954101470299, 10381.277267171943, -4345.356594540237, 27064.718569325225, -4313.9270927970065, -6428.6305469942745, 12072.75275229587, -27084.186606187082, -314772.19889765466, 32389.466986582265, -12469.391910531675, 6349.428824740258, -12055.772826739325, -12902.462639235571, -33166.35639773283, 87166.58101035969, -29774.510456300384, -26204.564473950566, -12143.646836276195, 15590.976967444221, 18633.237491719206, 20862.255270409747, -48791.21535512607, -25442.460561154905, 23169.468596989784, -15267.484259777499, -27703.471357155126, 10935.819776325952, -41708.40087413242, 8439.146478354203, 9519.224595764274, -9293.250287456089, -40111.992034659546, 7250.88848985231, 1882.12713379247, -10560.882172357698, -568.2541116625216, 5452.678523071081, -15298.411988306776, -38316.81848731986, 15194.676440975541, 41753.28978020717, -29002.833950244705, 8089.624436569255, 6114.334350098623, -22067.81837645681, -16718.697982879297, -6694.256187905703, -5945.305998548836, 9358.895887254213, 5005.403153706517, -2285.2136682696582, -4457.805018233892, -15725.866313101375, -18134.705703463915, -2494.031557027716, -2082.1980997061182, 25798.035307138023, -38267.43517607541, -19556.705286533834, -14919.416187513154, -1115.5363289589295, 19446.274285948602, -18387.168695284694, 18446.09618272158, -15877.294588136836, -99096.35181488335, 26488.562221665896, 16507.674462060677, 3186.679539886274, 1511.7784119235293, -10963.189969038795, -40283.14072672714, 43067.937235471705, 37766.22728299815, 2590.05383028544, 9614.691350201654, -8015.710236881772, 18002.56229007116, -20305.636920907767, 20698.490903502854, -4291.918248706061, -54350.611428547854, -14930.419256154273, -21741.29000592575, 41174.75498122189, -20383.404338252498, 26305.180583589274, -1967.9033646698226, -2433.5670656639268, 17187.42158898199, 5754.071680264489, 3931.3191754981817, -3954.1490573271876, 8670.92119079968, 2275.720652687596, -11722.153094709822, 3132.9801986640086, 74330.24712338409, 28980.595452757436, 3981.3448792157724, 11835.488791490468, 20900.980791343638, -12622.369450376602, -22328.700521141946, 22103.127119244367, 7175.600988921011, -3686.60034500694, 953.9242342165962, 33246.96048430831, -5227.752512474428, 29255.196143821813, 35845.976698724044, 78899.06746453093, -18070.073985655996, 21971.90857676213, 11603.037452009303, -974.3918858710385, -14427.945793773033, -10214.10355744927, 9125.962474625558, 30958.21546641644, -20286.999973516504, -20521.449525891687, 7124.735310494201, -20966.11878878565, -1539.3611585351173, -9974.445889986586, 20782.297403301607, -9140.226570693761, -24070.211697601553, 71783.12106364372, 38719.97762492398, -21887.65401691929, -3308.162209878559, 14035.45609435119, -8776.05985750744, 6359.090658487403, -27260.69163745508, 24021.869679160416, 22150.401054883027, -10927.570477094152, 6204.909648179746, -6791.665548189718, -2347.689677678165, -31659.690002706106, 30239.049997718015, -14835.003782618238, -26506.237373772427, 11589.435755227081, 1144.0417160856887, 14035.916588068445, 11903.631198166753, 6531.081651407381, -28408.059975732074, 49862.683588050655, 8729.423908423167, -25063.797992273845, 19513.89408220374, 4628.721323944046, -42407.005368578364, -41912.62775413423, -18862.743287997087, 22184.370633127168, -5021.858888834104, -14325.745399121835, 26482.656070098077, 52040.481781877344, 35111.562876076176, -5985.677615181659, 17550.72097553918, -9992.48117459906, -4928.046529670828, 1541.0654014454776, -15217.913485453319, 20422.606095824332, 18220.171109496267, -7863.711719648243, -38099.50280805107, 10241.740688668797, 37241.86801880406, -41403.78231195541, 8333.544604398048, -37764.02742674717, 6636.325804100459, 16828.642862395558, 11213.275747327978, -607.6070573345642, 1761.7907712547749, 24413.81938389779, 6637.854097082687, 1838.7607369710313, -75708.17027071948, -29922.760343852628, -8310.676638764533, -44257.92525709883, -4144.418955997069, 1846.7990440096473, -28185.8230641103, 23588.05696432473, 3243.9364610498305, -15524.202097874455, -22880.4848603, 48388.36392097823, 27431.34359369264, -25096.942055610823, 73571.86243973559, 35832.95923716549, -620.1877315056627, -11005.792852188606, -413.9888833959121, -22803.795454714767, 9966.754991395079, -1476.1008430368674, 10079.354897645622, -3987.2562151477905, 5182.411756195157, 3617.595041589637, -13220.0218809512, 16178.452857661032, -24278.6838653679, 21000.077267408516, -10316.085741291608, 36138.47421510768, 26830.3134688882, -1608.448549246299, 297717.88782651484, 3780.268257849297, 16870.851358097687, -2443.522197755912, 3541.479831725708, -25932.473701279407, 18412.00788133411, 17674.890415424365, 66269.67365030514, 53884.88524194891, 40158.22443796549, -4698.383745183586, 8490.198607651168, 30558.38620129705, -9933.035558854463, 45786.249838076765, -19070.279678770865, 9816.951464647398, 20175.996128463652, 20774.267245670053, 7835.681188225964, -18334.15172659274, 15966.475785180519, 23394.330593125836, 19911.720252755913, 25947.61888108164, 7568.2367665575875, 41233.45021355455, 18582.380465853756, 18188.262324462557, 12061.653325038642, 17744.3045100639, -15482.464681903017, -2151.3141354151885, -17033.023387096473, 13024.001865513826, -8881.648537524146, 884.4548551595362, 7911.256932090211, -3257.2496762351075, 13357.905643884093, 12012.58836127221, 9544.419610747864, -35414.30611634004, -29773.252486179234, 6191.118293750595, 18336.78435442614, -13957.656603735959, -15934.968320259199, 19320.817963277863, 28214.095287045173, 20867.621933321177, -1660.2280458280002, -16432.50727869988, 59586.565384543384, 561.8461992726225, -47913.51294232148, 85555.00920473202, -7006.937592336413, 13509.97609381302, -13596.321379836882, 7421.956491571036, 58069.450449967, -8861.284878929699]}], {}, {\"showLink\": true, \"linkText\": \"Export to plot.ly\"})});</script>"
      ],
      "text/vnd.plotly.v1+html": [
       "<div id=\"170d4587-67c2-4fae-bce8-97d6124f1149\" style=\"height: 525px; width: 100%;\" class=\"plotly-graph-div\"></div><script type=\"text/javascript\">require([\"plotly\"], function(Plotly) { window.PLOTLYENV=window.PLOTLYENV || {};window.PLOTLYENV.BASE_URL=\"https://plot.ly\";Plotly.newPlot(\"170d4587-67c2-4fae-bce8-97d6124f1149\", [{\"type\": \"histogram\", \"x\": [-85409.06818215045, -80371.57242928556, 27704.552400904096, 27067.409159185423, 1628.8688939003332, 60056.62301016692, -59174.45280791758, -23192.49564966769, -12427.740553174692, -38299.47246976357, 26736.806891186512, -27305.754760602358, 2068.3940595343593, 9148.091169321822, 14778.873094107112, 6803.818241585337, -2377.2644783498836, 29318.802116608276, 19594.299656213116, -33304.18917359234, -6863.198666845274, 15906.333798526175, -40292.90497235849, -12025.951662481384, 14140.24739718539, -33258.984998986474, -9889.183767701092, 16569.471004920604, 11997.364504611702, -25618.333107222876, -5928.581149209451, -3625.265880386636, 16734.555861178815, -29719.393700727407, 32634.75593771883, 24477.847617608466, 5232.591748495237, -22224.365199675143, -9858.788401282189, 5472.4211271047825, -7383.306803097512, 13617.858207134559, 6576.023639456136, -12991.571314269648, -4970.9147264208, 26209.98676201573, -16355.199804038391, -124807.24924598087, 23527.14971288995, 12591.098487030016, 39175.10787443112, 39864.89614302828, -14847.999620799063, 5421.722635899903, 2539.5988226526533, 14082.16525093856, 1909.2639733856777, 10201.90702059769, 23133.90254991653, 15339.623857382205, -6399.111682564733, -3200.6700514268014, -42168.042726915155, 3517.306007702544, 25983.684982288454, 534.1905823921552, -6937.65066745301, 13040.218193850276, 35676.70483650759, -14746.251288992353, -5827.353582443378, 8251.977706974416, -45354.11504648067, 60309.21287815913, 9073.987176703085, -473.69410625260207, 9840.636542040942, 490.0311368893017, -23562.02852206325, -22261.426095885923, -24735.40286720486, -2085.587309748531, -40052.71179886676, -4008.752207679092, 8766.469415263302, 39941.81202069635, 34759.32545444564, -7816.277942611603, -6791.077114305226, -112.09464500332251, 20558.344800897466, 5631.923653405043, -4891.656462453568, 84294.49662639893, 5330.136087795894, 13065.55577361572, -19965.903804636342, -26515.280538602296, -4687.14045392914, 8368.710892024857, 22378.735804335913, -3120.1733321191277, -14607.671895839303, 11699.712232407386, 14924.730455643614, 17919.466851398087, 5106.456773858459, 7353.527380780084, 11889.871545876944, -21285.2296834992, 45541.99357547687, -9102.259911545058, 23459.32843931773, 53884.21006541699, -33464.96140782841, 7669.942900093272, -18706.828682722655, -29419.937812990072, 25585.38597334514, -6523.118430177739, -5685.787680929818, -12231.898351439071, 5317.642787708668, -12572.246806856478, 10607.147538157296, 7925.080258348957, 11085.65582834772, -7699.893920115108, -3560.478107798379, -2768.80567999091, -13085.54226815101, 49503.642056992714, -21231.63648466443, 7375.862720714766, -16944.343510440056, 14089.6453162994, 39597.23129677016, 6032.544061693334, -88762.5929456221, -3440.1207136476005, 1593.915138665092, 30949.31415405037, -75575.66390005621, 21305.398267699435, 15223.666693084291, -1564.4311491900298, -15165.443596283469, 39899.4460153729, 5404.724407561473, 5138.665168429783, 13523.696525854059, 10675.93958519958, 91982.40847431315, 34550.96294878537, -17033.254942953645, -6949.729271964839, -8629.47567251217, -17434.729805292096, -20563.589167168102, -10795.36394442385, 12924.086609168575, 8419.015899180813, 21052.215876350587, -27610.151219699415, 23241.782761478593, -38379.12797975703, 14522.941460772301, 9345.577047946688, -11460.929064406548, -13458.819346870616, 62.91383733978728, -9620.032618264755, -3747.661786648445, 13770.847381361178, 8790.998900916224, -4560.976859438233, 35882.11187138932, 23035.34979605701, -29167.389217389165, 6454.550668423239, -5236.659792317136, 21669.961557970644, 42107.912859089, 26498.674801906105, 31441.03720402025, -3171.3909143003984, 25510.807196494614, -86010.21209920815, 20091.135245395068, 5935.992373670044, -1489.135930205579, -32625.084734415053, -4465.954101470299, 10381.277267171943, -4345.356594540237, 27064.718569325225, -4313.9270927970065, -6428.6305469942745, 12072.75275229587, -27084.186606187082, -314772.19889765466, 32389.466986582265, -12469.391910531675, 6349.428824740258, -12055.772826739325, -12902.462639235571, -33166.35639773283, 87166.58101035969, -29774.510456300384, -26204.564473950566, -12143.646836276195, 15590.976967444221, 18633.237491719206, 20862.255270409747, -48791.21535512607, -25442.460561154905, 23169.468596989784, -15267.484259777499, -27703.471357155126, 10935.819776325952, -41708.40087413242, 8439.146478354203, 9519.224595764274, -9293.250287456089, -40111.992034659546, 7250.88848985231, 1882.12713379247, -10560.882172357698, -568.2541116625216, 5452.678523071081, -15298.411988306776, -38316.81848731986, 15194.676440975541, 41753.28978020717, -29002.833950244705, 8089.624436569255, 6114.334350098623, -22067.81837645681, -16718.697982879297, -6694.256187905703, -5945.305998548836, 9358.895887254213, 5005.403153706517, -2285.2136682696582, -4457.805018233892, -15725.866313101375, -18134.705703463915, -2494.031557027716, -2082.1980997061182, 25798.035307138023, -38267.43517607541, -19556.705286533834, -14919.416187513154, -1115.5363289589295, 19446.274285948602, -18387.168695284694, 18446.09618272158, -15877.294588136836, -99096.35181488335, 26488.562221665896, 16507.674462060677, 3186.679539886274, 1511.7784119235293, -10963.189969038795, -40283.14072672714, 43067.937235471705, 37766.22728299815, 2590.05383028544, 9614.691350201654, -8015.710236881772, 18002.56229007116, -20305.636920907767, 20698.490903502854, -4291.918248706061, -54350.611428547854, -14930.419256154273, -21741.29000592575, 41174.75498122189, -20383.404338252498, 26305.180583589274, -1967.9033646698226, -2433.5670656639268, 17187.42158898199, 5754.071680264489, 3931.3191754981817, -3954.1490573271876, 8670.92119079968, 2275.720652687596, -11722.153094709822, 3132.9801986640086, 74330.24712338409, 28980.595452757436, 3981.3448792157724, 11835.488791490468, 20900.980791343638, -12622.369450376602, -22328.700521141946, 22103.127119244367, 7175.600988921011, -3686.60034500694, 953.9242342165962, 33246.96048430831, -5227.752512474428, 29255.196143821813, 35845.976698724044, 78899.06746453093, -18070.073985655996, 21971.90857676213, 11603.037452009303, -974.3918858710385, -14427.945793773033, -10214.10355744927, 9125.962474625558, 30958.21546641644, -20286.999973516504, -20521.449525891687, 7124.735310494201, -20966.11878878565, -1539.3611585351173, -9974.445889986586, 20782.297403301607, -9140.226570693761, -24070.211697601553, 71783.12106364372, 38719.97762492398, -21887.65401691929, -3308.162209878559, 14035.45609435119, -8776.05985750744, 6359.090658487403, -27260.69163745508, 24021.869679160416, 22150.401054883027, -10927.570477094152, 6204.909648179746, -6791.665548189718, -2347.689677678165, -31659.690002706106, 30239.049997718015, -14835.003782618238, -26506.237373772427, 11589.435755227081, 1144.0417160856887, 14035.916588068445, 11903.631198166753, 6531.081651407381, -28408.059975732074, 49862.683588050655, 8729.423908423167, -25063.797992273845, 19513.89408220374, 4628.721323944046, -42407.005368578364, -41912.62775413423, -18862.743287997087, 22184.370633127168, -5021.858888834104, -14325.745399121835, 26482.656070098077, 52040.481781877344, 35111.562876076176, -5985.677615181659, 17550.72097553918, -9992.48117459906, -4928.046529670828, 1541.0654014454776, -15217.913485453319, 20422.606095824332, 18220.171109496267, -7863.711719648243, -38099.50280805107, 10241.740688668797, 37241.86801880406, -41403.78231195541, 8333.544604398048, -37764.02742674717, 6636.325804100459, 16828.642862395558, 11213.275747327978, -607.6070573345642, 1761.7907712547749, 24413.81938389779, 6637.854097082687, 1838.7607369710313, -75708.17027071948, -29922.760343852628, -8310.676638764533, -44257.92525709883, -4144.418955997069, 1846.7990440096473, -28185.8230641103, 23588.05696432473, 3243.9364610498305, -15524.202097874455, -22880.4848603, 48388.36392097823, 27431.34359369264, -25096.942055610823, 73571.86243973559, 35832.95923716549, -620.1877315056627, -11005.792852188606, -413.9888833959121, -22803.795454714767, 9966.754991395079, -1476.1008430368674, 10079.354897645622, -3987.2562151477905, 5182.411756195157, 3617.595041589637, -13220.0218809512, 16178.452857661032, -24278.6838653679, 21000.077267408516, -10316.085741291608, 36138.47421510768, 26830.3134688882, -1608.448549246299, 297717.88782651484, 3780.268257849297, 16870.851358097687, -2443.522197755912, 3541.479831725708, -25932.473701279407, 18412.00788133411, 17674.890415424365, 66269.67365030514, 53884.88524194891, 40158.22443796549, -4698.383745183586, 8490.198607651168, 30558.38620129705, -9933.035558854463, 45786.249838076765, -19070.279678770865, 9816.951464647398, 20175.996128463652, 20774.267245670053, 7835.681188225964, -18334.15172659274, 15966.475785180519, 23394.330593125836, 19911.720252755913, 25947.61888108164, 7568.2367665575875, 41233.45021355455, 18582.380465853756, 18188.262324462557, 12061.653325038642, 17744.3045100639, -15482.464681903017, -2151.3141354151885, -17033.023387096473, 13024.001865513826, -8881.648537524146, 884.4548551595362, 7911.256932090211, -3257.2496762351075, 13357.905643884093, 12012.58836127221, 9544.419610747864, -35414.30611634004, -29773.252486179234, 6191.118293750595, 18336.78435442614, -13957.656603735959, -15934.968320259199, 19320.817963277863, 28214.095287045173, 20867.621933321177, -1660.2280458280002, -16432.50727869988, 59586.565384543384, 561.8461992726225, -47913.51294232148, 85555.00920473202, -7006.937592336413, 13509.97609381302, -13596.321379836882, 7421.956491571036, 58069.450449967, -8861.284878929699]}], {}, {\"showLink\": true, \"linkText\": \"Export to plot.ly\"})});</script>"
      ]
     },
     "metadata": {},
     "output_type": "display_data"
    }
   ],
   "source": [
    "data = [go.Histogram(x=dollars['difference'])]\n",
    "py.iplot(data, filename='basic histogram')"
   ]
  },
  {
   "cell_type": "markdown",
   "metadata": {},
   "source": [
    "# Box plot"
   ]
  },
  {
   "cell_type": "code",
   "execution_count": 84,
   "metadata": {},
   "outputs": [
    {
     "data": {
      "application/vnd.plotly.v1+json": {
       "data": [
        {
         "type": "box",
         "y": [
          -85409.06818215045,
          -80371.57242928556,
          27704.552400904096,
          27067.409159185423,
          1628.8688939003332,
          60056.62301016692,
          -59174.45280791758,
          -23192.49564966769,
          -12427.740553174692,
          -38299.47246976357,
          26736.806891186512,
          -27305.754760602358,
          2068.3940595343593,
          9148.091169321822,
          14778.873094107112,
          6803.818241585337,
          -2377.2644783498836,
          29318.802116608276,
          19594.299656213116,
          -33304.18917359234,
          -6863.198666845274,
          15906.333798526175,
          -40292.90497235849,
          -12025.951662481384,
          14140.24739718539,
          -33258.984998986474,
          -9889.183767701092,
          16569.471004920604,
          11997.364504611702,
          -25618.333107222876,
          -5928.581149209451,
          -3625.265880386636,
          16734.555861178815,
          -29719.393700727407,
          32634.75593771883,
          24477.847617608466,
          5232.591748495237,
          -22224.365199675143,
          -9858.788401282189,
          5472.4211271047825,
          -7383.306803097512,
          13617.858207134559,
          6576.023639456136,
          -12991.571314269648,
          -4970.9147264208,
          26209.98676201573,
          -16355.199804038391,
          -124807.24924598087,
          23527.14971288995,
          12591.098487030016,
          39175.10787443112,
          39864.89614302828,
          -14847.999620799063,
          5421.722635899903,
          2539.5988226526533,
          14082.16525093856,
          1909.2639733856777,
          10201.90702059769,
          23133.90254991653,
          15339.623857382205,
          -6399.111682564733,
          -3200.6700514268014,
          -42168.042726915155,
          3517.306007702544,
          25983.684982288454,
          534.1905823921552,
          -6937.65066745301,
          13040.218193850276,
          35676.70483650759,
          -14746.251288992353,
          -5827.353582443378,
          8251.977706974416,
          -45354.11504648067,
          60309.21287815913,
          9073.987176703085,
          -473.69410625260207,
          9840.636542040942,
          490.0311368893017,
          -23562.02852206325,
          -22261.426095885923,
          -24735.40286720486,
          -2085.587309748531,
          -40052.71179886676,
          -4008.752207679092,
          8766.469415263302,
          39941.81202069635,
          34759.32545444564,
          -7816.277942611603,
          -6791.077114305226,
          -112.09464500332251,
          20558.344800897466,
          5631.923653405043,
          -4891.656462453568,
          84294.49662639893,
          5330.136087795894,
          13065.55577361572,
          -19965.903804636342,
          -26515.280538602296,
          -4687.14045392914,
          8368.710892024857,
          22378.735804335913,
          -3120.1733321191277,
          -14607.671895839303,
          11699.712232407386,
          14924.730455643614,
          17919.466851398087,
          5106.456773858459,
          7353.527380780084,
          11889.871545876944,
          -21285.2296834992,
          45541.99357547687,
          -9102.259911545058,
          23459.32843931773,
          53884.21006541699,
          -33464.96140782841,
          7669.942900093272,
          -18706.828682722655,
          -29419.937812990072,
          25585.38597334514,
          -6523.118430177739,
          -5685.787680929818,
          -12231.898351439071,
          5317.642787708668,
          -12572.246806856478,
          10607.147538157296,
          7925.080258348957,
          11085.65582834772,
          -7699.893920115108,
          -3560.478107798379,
          -2768.80567999091,
          -13085.54226815101,
          49503.642056992714,
          -21231.63648466443,
          7375.862720714766,
          -16944.343510440056,
          14089.6453162994,
          39597.23129677016,
          6032.544061693334,
          -88762.5929456221,
          -3440.1207136476005,
          1593.915138665092,
          30949.31415405037,
          -75575.66390005621,
          21305.398267699435,
          15223.666693084291,
          -1564.4311491900298,
          -15165.443596283469,
          39899.4460153729,
          5404.724407561473,
          5138.665168429783,
          13523.696525854059,
          10675.93958519958,
          91982.40847431315,
          34550.96294878537,
          -17033.254942953645,
          -6949.729271964839,
          -8629.47567251217,
          -17434.729805292096,
          -20563.589167168102,
          -10795.36394442385,
          12924.086609168575,
          8419.015899180813,
          21052.215876350587,
          -27610.151219699415,
          23241.782761478593,
          -38379.12797975703,
          14522.941460772301,
          9345.577047946688,
          -11460.929064406548,
          -13458.819346870616,
          62.91383733978728,
          -9620.032618264755,
          -3747.661786648445,
          13770.847381361178,
          8790.998900916224,
          -4560.976859438233,
          35882.11187138932,
          23035.34979605701,
          -29167.389217389165,
          6454.550668423239,
          -5236.659792317136,
          21669.961557970644,
          42107.912859089,
          26498.674801906105,
          31441.03720402025,
          -3171.3909143003984,
          25510.807196494614,
          -86010.21209920815,
          20091.135245395068,
          5935.992373670044,
          -1489.135930205579,
          -32625.084734415053,
          -4465.954101470299,
          10381.277267171943,
          -4345.356594540237,
          27064.718569325225,
          -4313.9270927970065,
          -6428.6305469942745,
          12072.75275229587,
          -27084.186606187082,
          -314772.19889765466,
          32389.466986582265,
          -12469.391910531675,
          6349.428824740258,
          -12055.772826739325,
          -12902.462639235571,
          -33166.35639773283,
          87166.58101035969,
          -29774.510456300384,
          -26204.564473950566,
          -12143.646836276195,
          15590.976967444221,
          18633.237491719206,
          20862.255270409747,
          -48791.21535512607,
          -25442.460561154905,
          23169.468596989784,
          -15267.484259777499,
          -27703.471357155126,
          10935.819776325952,
          -41708.40087413242,
          8439.146478354203,
          9519.224595764274,
          -9293.250287456089,
          -40111.992034659546,
          7250.88848985231,
          1882.12713379247,
          -10560.882172357698,
          -568.2541116625216,
          5452.678523071081,
          -15298.411988306776,
          -38316.81848731986,
          15194.676440975541,
          41753.28978020717,
          -29002.833950244705,
          8089.624436569255,
          6114.334350098623,
          -22067.81837645681,
          -16718.697982879297,
          -6694.256187905703,
          -5945.305998548836,
          9358.895887254213,
          5005.403153706517,
          -2285.2136682696582,
          -4457.805018233892,
          -15725.866313101375,
          -18134.705703463915,
          -2494.031557027716,
          -2082.1980997061182,
          25798.035307138023,
          -38267.43517607541,
          -19556.705286533834,
          -14919.416187513154,
          -1115.5363289589295,
          19446.274285948602,
          -18387.168695284694,
          18446.09618272158,
          -15877.294588136836,
          -99096.35181488335,
          26488.562221665896,
          16507.674462060677,
          3186.679539886274,
          1511.7784119235293,
          -10963.189969038795,
          -40283.14072672714,
          43067.937235471705,
          37766.22728299815,
          2590.05383028544,
          9614.691350201654,
          -8015.710236881772,
          18002.56229007116,
          -20305.636920907767,
          20698.490903502854,
          -4291.918248706061,
          -54350.611428547854,
          -14930.419256154273,
          -21741.29000592575,
          41174.75498122189,
          -20383.404338252498,
          26305.180583589274,
          -1967.9033646698226,
          -2433.5670656639268,
          17187.42158898199,
          5754.071680264489,
          3931.3191754981817,
          -3954.1490573271876,
          8670.92119079968,
          2275.720652687596,
          -11722.153094709822,
          3132.9801986640086,
          74330.24712338409,
          28980.595452757436,
          3981.3448792157724,
          11835.488791490468,
          20900.980791343638,
          -12622.369450376602,
          -22328.700521141946,
          22103.127119244367,
          7175.600988921011,
          -3686.60034500694,
          953.9242342165962,
          33246.96048430831,
          -5227.752512474428,
          29255.196143821813,
          35845.976698724044,
          78899.06746453093,
          -18070.073985655996,
          21971.90857676213,
          11603.037452009303,
          -974.3918858710385,
          -14427.945793773033,
          -10214.10355744927,
          9125.962474625558,
          30958.21546641644,
          -20286.999973516504,
          -20521.449525891687,
          7124.735310494201,
          -20966.11878878565,
          -1539.3611585351173,
          -9974.445889986586,
          20782.297403301607,
          -9140.226570693761,
          -24070.211697601553,
          71783.12106364372,
          38719.97762492398,
          -21887.65401691929,
          -3308.162209878559,
          14035.45609435119,
          -8776.05985750744,
          6359.090658487403,
          -27260.69163745508,
          24021.869679160416,
          22150.401054883027,
          -10927.570477094152,
          6204.909648179746,
          -6791.665548189718,
          -2347.689677678165,
          -31659.690002706106,
          30239.049997718015,
          -14835.003782618238,
          -26506.237373772427,
          11589.435755227081,
          1144.0417160856887,
          14035.916588068445,
          11903.631198166753,
          6531.081651407381,
          -28408.059975732074,
          49862.683588050655,
          8729.423908423167,
          -25063.797992273845,
          19513.89408220374,
          4628.721323944046,
          -42407.005368578364,
          -41912.62775413423,
          -18862.743287997087,
          22184.370633127168,
          -5021.858888834104,
          -14325.745399121835,
          26482.656070098077,
          52040.481781877344,
          35111.562876076176,
          -5985.677615181659,
          17550.72097553918,
          -9992.48117459906,
          -4928.046529670828,
          1541.0654014454776,
          -15217.913485453319,
          20422.606095824332,
          18220.171109496267,
          -7863.711719648243,
          -38099.50280805107,
          10241.740688668797,
          37241.86801880406,
          -41403.78231195541,
          8333.544604398048,
          -37764.02742674717,
          6636.325804100459,
          16828.642862395558,
          11213.275747327978,
          -607.6070573345642,
          1761.7907712547749,
          24413.81938389779,
          6637.854097082687,
          1838.7607369710313,
          -75708.17027071948,
          -29922.760343852628,
          -8310.676638764533,
          -44257.92525709883,
          -4144.418955997069,
          1846.7990440096473,
          -28185.8230641103,
          23588.05696432473,
          3243.9364610498305,
          -15524.202097874455,
          -22880.4848603,
          48388.36392097823,
          27431.34359369264,
          -25096.942055610823,
          73571.86243973559,
          35832.95923716549,
          -620.1877315056627,
          -11005.792852188606,
          -413.9888833959121,
          -22803.795454714767,
          9966.754991395079,
          -1476.1008430368674,
          10079.354897645622,
          -3987.2562151477905,
          5182.411756195157,
          3617.595041589637,
          -13220.0218809512,
          16178.452857661032,
          -24278.6838653679,
          21000.077267408516,
          -10316.085741291608,
          36138.47421510768,
          26830.3134688882,
          -1608.448549246299,
          297717.88782651484,
          3780.268257849297,
          16870.851358097687,
          -2443.522197755912,
          3541.479831725708,
          -25932.473701279407,
          18412.00788133411,
          17674.890415424365,
          66269.67365030514,
          53884.88524194891,
          40158.22443796549,
          -4698.383745183586,
          8490.198607651168,
          30558.38620129705,
          -9933.035558854463,
          45786.249838076765,
          -19070.279678770865,
          9816.951464647398,
          20175.996128463652,
          20774.267245670053,
          7835.681188225964,
          -18334.15172659274,
          15966.475785180519,
          23394.330593125836,
          19911.720252755913,
          25947.61888108164,
          7568.2367665575875,
          41233.45021355455,
          18582.380465853756,
          18188.262324462557,
          12061.653325038642,
          17744.3045100639,
          -15482.464681903017,
          -2151.3141354151885,
          -17033.023387096473,
          13024.001865513826,
          -8881.648537524146,
          884.4548551595362,
          7911.256932090211,
          -3257.2496762351075,
          13357.905643884093,
          12012.58836127221,
          9544.419610747864,
          -35414.30611634004,
          -29773.252486179234,
          6191.118293750595,
          18336.78435442614,
          -13957.656603735959,
          -15934.968320259199,
          19320.817963277863,
          28214.095287045173,
          20867.621933321177,
          -1660.2280458280002,
          -16432.50727869988,
          59586.565384543384,
          561.8461992726225,
          -47913.51294232148,
          85555.00920473202,
          -7006.937592336413,
          13509.97609381302,
          -13596.321379836882,
          7421.956491571036,
          58069.450449967,
          -8861.284878929699
         ]
        }
       ],
       "layout": {}
      },
      "text/html": [
       "<div id=\"30f105a3-e5ff-4231-83e5-e87ccf5742b5\" style=\"height: 525px; width: 100%;\" class=\"plotly-graph-div\"></div><script type=\"text/javascript\">require([\"plotly\"], function(Plotly) { window.PLOTLYENV=window.PLOTLYENV || {};window.PLOTLYENV.BASE_URL=\"https://plot.ly\";Plotly.newPlot(\"30f105a3-e5ff-4231-83e5-e87ccf5742b5\", [{\"type\": \"box\", \"y\": [-85409.06818215045, -80371.57242928556, 27704.552400904096, 27067.409159185423, 1628.8688939003332, 60056.62301016692, -59174.45280791758, -23192.49564966769, -12427.740553174692, -38299.47246976357, 26736.806891186512, -27305.754760602358, 2068.3940595343593, 9148.091169321822, 14778.873094107112, 6803.818241585337, -2377.2644783498836, 29318.802116608276, 19594.299656213116, -33304.18917359234, -6863.198666845274, 15906.333798526175, -40292.90497235849, -12025.951662481384, 14140.24739718539, -33258.984998986474, -9889.183767701092, 16569.471004920604, 11997.364504611702, -25618.333107222876, -5928.581149209451, -3625.265880386636, 16734.555861178815, -29719.393700727407, 32634.75593771883, 24477.847617608466, 5232.591748495237, -22224.365199675143, -9858.788401282189, 5472.4211271047825, -7383.306803097512, 13617.858207134559, 6576.023639456136, -12991.571314269648, -4970.9147264208, 26209.98676201573, -16355.199804038391, -124807.24924598087, 23527.14971288995, 12591.098487030016, 39175.10787443112, 39864.89614302828, -14847.999620799063, 5421.722635899903, 2539.5988226526533, 14082.16525093856, 1909.2639733856777, 10201.90702059769, 23133.90254991653, 15339.623857382205, -6399.111682564733, -3200.6700514268014, -42168.042726915155, 3517.306007702544, 25983.684982288454, 534.1905823921552, -6937.65066745301, 13040.218193850276, 35676.70483650759, -14746.251288992353, -5827.353582443378, 8251.977706974416, -45354.11504648067, 60309.21287815913, 9073.987176703085, -473.69410625260207, 9840.636542040942, 490.0311368893017, -23562.02852206325, -22261.426095885923, -24735.40286720486, -2085.587309748531, -40052.71179886676, -4008.752207679092, 8766.469415263302, 39941.81202069635, 34759.32545444564, -7816.277942611603, -6791.077114305226, -112.09464500332251, 20558.344800897466, 5631.923653405043, -4891.656462453568, 84294.49662639893, 5330.136087795894, 13065.55577361572, -19965.903804636342, -26515.280538602296, -4687.14045392914, 8368.710892024857, 22378.735804335913, -3120.1733321191277, -14607.671895839303, 11699.712232407386, 14924.730455643614, 17919.466851398087, 5106.456773858459, 7353.527380780084, 11889.871545876944, -21285.2296834992, 45541.99357547687, -9102.259911545058, 23459.32843931773, 53884.21006541699, -33464.96140782841, 7669.942900093272, -18706.828682722655, -29419.937812990072, 25585.38597334514, -6523.118430177739, -5685.787680929818, -12231.898351439071, 5317.642787708668, -12572.246806856478, 10607.147538157296, 7925.080258348957, 11085.65582834772, -7699.893920115108, -3560.478107798379, -2768.80567999091, -13085.54226815101, 49503.642056992714, -21231.63648466443, 7375.862720714766, -16944.343510440056, 14089.6453162994, 39597.23129677016, 6032.544061693334, -88762.5929456221, -3440.1207136476005, 1593.915138665092, 30949.31415405037, -75575.66390005621, 21305.398267699435, 15223.666693084291, -1564.4311491900298, -15165.443596283469, 39899.4460153729, 5404.724407561473, 5138.665168429783, 13523.696525854059, 10675.93958519958, 91982.40847431315, 34550.96294878537, -17033.254942953645, -6949.729271964839, -8629.47567251217, -17434.729805292096, -20563.589167168102, -10795.36394442385, 12924.086609168575, 8419.015899180813, 21052.215876350587, -27610.151219699415, 23241.782761478593, -38379.12797975703, 14522.941460772301, 9345.577047946688, -11460.929064406548, -13458.819346870616, 62.91383733978728, -9620.032618264755, -3747.661786648445, 13770.847381361178, 8790.998900916224, -4560.976859438233, 35882.11187138932, 23035.34979605701, -29167.389217389165, 6454.550668423239, -5236.659792317136, 21669.961557970644, 42107.912859089, 26498.674801906105, 31441.03720402025, -3171.3909143003984, 25510.807196494614, -86010.21209920815, 20091.135245395068, 5935.992373670044, -1489.135930205579, -32625.084734415053, -4465.954101470299, 10381.277267171943, -4345.356594540237, 27064.718569325225, -4313.9270927970065, -6428.6305469942745, 12072.75275229587, -27084.186606187082, -314772.19889765466, 32389.466986582265, -12469.391910531675, 6349.428824740258, -12055.772826739325, -12902.462639235571, -33166.35639773283, 87166.58101035969, -29774.510456300384, -26204.564473950566, -12143.646836276195, 15590.976967444221, 18633.237491719206, 20862.255270409747, -48791.21535512607, -25442.460561154905, 23169.468596989784, -15267.484259777499, -27703.471357155126, 10935.819776325952, -41708.40087413242, 8439.146478354203, 9519.224595764274, -9293.250287456089, -40111.992034659546, 7250.88848985231, 1882.12713379247, -10560.882172357698, -568.2541116625216, 5452.678523071081, -15298.411988306776, -38316.81848731986, 15194.676440975541, 41753.28978020717, -29002.833950244705, 8089.624436569255, 6114.334350098623, -22067.81837645681, -16718.697982879297, -6694.256187905703, -5945.305998548836, 9358.895887254213, 5005.403153706517, -2285.2136682696582, -4457.805018233892, -15725.866313101375, -18134.705703463915, -2494.031557027716, -2082.1980997061182, 25798.035307138023, -38267.43517607541, -19556.705286533834, -14919.416187513154, -1115.5363289589295, 19446.274285948602, -18387.168695284694, 18446.09618272158, -15877.294588136836, -99096.35181488335, 26488.562221665896, 16507.674462060677, 3186.679539886274, 1511.7784119235293, -10963.189969038795, -40283.14072672714, 43067.937235471705, 37766.22728299815, 2590.05383028544, 9614.691350201654, -8015.710236881772, 18002.56229007116, -20305.636920907767, 20698.490903502854, -4291.918248706061, -54350.611428547854, -14930.419256154273, -21741.29000592575, 41174.75498122189, -20383.404338252498, 26305.180583589274, -1967.9033646698226, -2433.5670656639268, 17187.42158898199, 5754.071680264489, 3931.3191754981817, -3954.1490573271876, 8670.92119079968, 2275.720652687596, -11722.153094709822, 3132.9801986640086, 74330.24712338409, 28980.595452757436, 3981.3448792157724, 11835.488791490468, 20900.980791343638, -12622.369450376602, -22328.700521141946, 22103.127119244367, 7175.600988921011, -3686.60034500694, 953.9242342165962, 33246.96048430831, -5227.752512474428, 29255.196143821813, 35845.976698724044, 78899.06746453093, -18070.073985655996, 21971.90857676213, 11603.037452009303, -974.3918858710385, -14427.945793773033, -10214.10355744927, 9125.962474625558, 30958.21546641644, -20286.999973516504, -20521.449525891687, 7124.735310494201, -20966.11878878565, -1539.3611585351173, -9974.445889986586, 20782.297403301607, -9140.226570693761, -24070.211697601553, 71783.12106364372, 38719.97762492398, -21887.65401691929, -3308.162209878559, 14035.45609435119, -8776.05985750744, 6359.090658487403, -27260.69163745508, 24021.869679160416, 22150.401054883027, -10927.570477094152, 6204.909648179746, -6791.665548189718, -2347.689677678165, -31659.690002706106, 30239.049997718015, -14835.003782618238, -26506.237373772427, 11589.435755227081, 1144.0417160856887, 14035.916588068445, 11903.631198166753, 6531.081651407381, -28408.059975732074, 49862.683588050655, 8729.423908423167, -25063.797992273845, 19513.89408220374, 4628.721323944046, -42407.005368578364, -41912.62775413423, -18862.743287997087, 22184.370633127168, -5021.858888834104, -14325.745399121835, 26482.656070098077, 52040.481781877344, 35111.562876076176, -5985.677615181659, 17550.72097553918, -9992.48117459906, -4928.046529670828, 1541.0654014454776, -15217.913485453319, 20422.606095824332, 18220.171109496267, -7863.711719648243, -38099.50280805107, 10241.740688668797, 37241.86801880406, -41403.78231195541, 8333.544604398048, -37764.02742674717, 6636.325804100459, 16828.642862395558, 11213.275747327978, -607.6070573345642, 1761.7907712547749, 24413.81938389779, 6637.854097082687, 1838.7607369710313, -75708.17027071948, -29922.760343852628, -8310.676638764533, -44257.92525709883, -4144.418955997069, 1846.7990440096473, -28185.8230641103, 23588.05696432473, 3243.9364610498305, -15524.202097874455, -22880.4848603, 48388.36392097823, 27431.34359369264, -25096.942055610823, 73571.86243973559, 35832.95923716549, -620.1877315056627, -11005.792852188606, -413.9888833959121, -22803.795454714767, 9966.754991395079, -1476.1008430368674, 10079.354897645622, -3987.2562151477905, 5182.411756195157, 3617.595041589637, -13220.0218809512, 16178.452857661032, -24278.6838653679, 21000.077267408516, -10316.085741291608, 36138.47421510768, 26830.3134688882, -1608.448549246299, 297717.88782651484, 3780.268257849297, 16870.851358097687, -2443.522197755912, 3541.479831725708, -25932.473701279407, 18412.00788133411, 17674.890415424365, 66269.67365030514, 53884.88524194891, 40158.22443796549, -4698.383745183586, 8490.198607651168, 30558.38620129705, -9933.035558854463, 45786.249838076765, -19070.279678770865, 9816.951464647398, 20175.996128463652, 20774.267245670053, 7835.681188225964, -18334.15172659274, 15966.475785180519, 23394.330593125836, 19911.720252755913, 25947.61888108164, 7568.2367665575875, 41233.45021355455, 18582.380465853756, 18188.262324462557, 12061.653325038642, 17744.3045100639, -15482.464681903017, -2151.3141354151885, -17033.023387096473, 13024.001865513826, -8881.648537524146, 884.4548551595362, 7911.256932090211, -3257.2496762351075, 13357.905643884093, 12012.58836127221, 9544.419610747864, -35414.30611634004, -29773.252486179234, 6191.118293750595, 18336.78435442614, -13957.656603735959, -15934.968320259199, 19320.817963277863, 28214.095287045173, 20867.621933321177, -1660.2280458280002, -16432.50727869988, 59586.565384543384, 561.8461992726225, -47913.51294232148, 85555.00920473202, -7006.937592336413, 13509.97609381302, -13596.321379836882, 7421.956491571036, 58069.450449967, -8861.284878929699]}], {}, {\"showLink\": true, \"linkText\": \"Export to plot.ly\"})});</script>"
      ],
      "text/vnd.plotly.v1+html": [
       "<div id=\"30f105a3-e5ff-4231-83e5-e87ccf5742b5\" style=\"height: 525px; width: 100%;\" class=\"plotly-graph-div\"></div><script type=\"text/javascript\">require([\"plotly\"], function(Plotly) { window.PLOTLYENV=window.PLOTLYENV || {};window.PLOTLYENV.BASE_URL=\"https://plot.ly\";Plotly.newPlot(\"30f105a3-e5ff-4231-83e5-e87ccf5742b5\", [{\"type\": \"box\", \"y\": [-85409.06818215045, -80371.57242928556, 27704.552400904096, 27067.409159185423, 1628.8688939003332, 60056.62301016692, -59174.45280791758, -23192.49564966769, -12427.740553174692, -38299.47246976357, 26736.806891186512, -27305.754760602358, 2068.3940595343593, 9148.091169321822, 14778.873094107112, 6803.818241585337, -2377.2644783498836, 29318.802116608276, 19594.299656213116, -33304.18917359234, -6863.198666845274, 15906.333798526175, -40292.90497235849, -12025.951662481384, 14140.24739718539, -33258.984998986474, -9889.183767701092, 16569.471004920604, 11997.364504611702, -25618.333107222876, -5928.581149209451, -3625.265880386636, 16734.555861178815, -29719.393700727407, 32634.75593771883, 24477.847617608466, 5232.591748495237, -22224.365199675143, -9858.788401282189, 5472.4211271047825, -7383.306803097512, 13617.858207134559, 6576.023639456136, -12991.571314269648, -4970.9147264208, 26209.98676201573, -16355.199804038391, -124807.24924598087, 23527.14971288995, 12591.098487030016, 39175.10787443112, 39864.89614302828, -14847.999620799063, 5421.722635899903, 2539.5988226526533, 14082.16525093856, 1909.2639733856777, 10201.90702059769, 23133.90254991653, 15339.623857382205, -6399.111682564733, -3200.6700514268014, -42168.042726915155, 3517.306007702544, 25983.684982288454, 534.1905823921552, -6937.65066745301, 13040.218193850276, 35676.70483650759, -14746.251288992353, -5827.353582443378, 8251.977706974416, -45354.11504648067, 60309.21287815913, 9073.987176703085, -473.69410625260207, 9840.636542040942, 490.0311368893017, -23562.02852206325, -22261.426095885923, -24735.40286720486, -2085.587309748531, -40052.71179886676, -4008.752207679092, 8766.469415263302, 39941.81202069635, 34759.32545444564, -7816.277942611603, -6791.077114305226, -112.09464500332251, 20558.344800897466, 5631.923653405043, -4891.656462453568, 84294.49662639893, 5330.136087795894, 13065.55577361572, -19965.903804636342, -26515.280538602296, -4687.14045392914, 8368.710892024857, 22378.735804335913, -3120.1733321191277, -14607.671895839303, 11699.712232407386, 14924.730455643614, 17919.466851398087, 5106.456773858459, 7353.527380780084, 11889.871545876944, -21285.2296834992, 45541.99357547687, -9102.259911545058, 23459.32843931773, 53884.21006541699, -33464.96140782841, 7669.942900093272, -18706.828682722655, -29419.937812990072, 25585.38597334514, -6523.118430177739, -5685.787680929818, -12231.898351439071, 5317.642787708668, -12572.246806856478, 10607.147538157296, 7925.080258348957, 11085.65582834772, -7699.893920115108, -3560.478107798379, -2768.80567999091, -13085.54226815101, 49503.642056992714, -21231.63648466443, 7375.862720714766, -16944.343510440056, 14089.6453162994, 39597.23129677016, 6032.544061693334, -88762.5929456221, -3440.1207136476005, 1593.915138665092, 30949.31415405037, -75575.66390005621, 21305.398267699435, 15223.666693084291, -1564.4311491900298, -15165.443596283469, 39899.4460153729, 5404.724407561473, 5138.665168429783, 13523.696525854059, 10675.93958519958, 91982.40847431315, 34550.96294878537, -17033.254942953645, -6949.729271964839, -8629.47567251217, -17434.729805292096, -20563.589167168102, -10795.36394442385, 12924.086609168575, 8419.015899180813, 21052.215876350587, -27610.151219699415, 23241.782761478593, -38379.12797975703, 14522.941460772301, 9345.577047946688, -11460.929064406548, -13458.819346870616, 62.91383733978728, -9620.032618264755, -3747.661786648445, 13770.847381361178, 8790.998900916224, -4560.976859438233, 35882.11187138932, 23035.34979605701, -29167.389217389165, 6454.550668423239, -5236.659792317136, 21669.961557970644, 42107.912859089, 26498.674801906105, 31441.03720402025, -3171.3909143003984, 25510.807196494614, -86010.21209920815, 20091.135245395068, 5935.992373670044, -1489.135930205579, -32625.084734415053, -4465.954101470299, 10381.277267171943, -4345.356594540237, 27064.718569325225, -4313.9270927970065, -6428.6305469942745, 12072.75275229587, -27084.186606187082, -314772.19889765466, 32389.466986582265, -12469.391910531675, 6349.428824740258, -12055.772826739325, -12902.462639235571, -33166.35639773283, 87166.58101035969, -29774.510456300384, -26204.564473950566, -12143.646836276195, 15590.976967444221, 18633.237491719206, 20862.255270409747, -48791.21535512607, -25442.460561154905, 23169.468596989784, -15267.484259777499, -27703.471357155126, 10935.819776325952, -41708.40087413242, 8439.146478354203, 9519.224595764274, -9293.250287456089, -40111.992034659546, 7250.88848985231, 1882.12713379247, -10560.882172357698, -568.2541116625216, 5452.678523071081, -15298.411988306776, -38316.81848731986, 15194.676440975541, 41753.28978020717, -29002.833950244705, 8089.624436569255, 6114.334350098623, -22067.81837645681, -16718.697982879297, -6694.256187905703, -5945.305998548836, 9358.895887254213, 5005.403153706517, -2285.2136682696582, -4457.805018233892, -15725.866313101375, -18134.705703463915, -2494.031557027716, -2082.1980997061182, 25798.035307138023, -38267.43517607541, -19556.705286533834, -14919.416187513154, -1115.5363289589295, 19446.274285948602, -18387.168695284694, 18446.09618272158, -15877.294588136836, -99096.35181488335, 26488.562221665896, 16507.674462060677, 3186.679539886274, 1511.7784119235293, -10963.189969038795, -40283.14072672714, 43067.937235471705, 37766.22728299815, 2590.05383028544, 9614.691350201654, -8015.710236881772, 18002.56229007116, -20305.636920907767, 20698.490903502854, -4291.918248706061, -54350.611428547854, -14930.419256154273, -21741.29000592575, 41174.75498122189, -20383.404338252498, 26305.180583589274, -1967.9033646698226, -2433.5670656639268, 17187.42158898199, 5754.071680264489, 3931.3191754981817, -3954.1490573271876, 8670.92119079968, 2275.720652687596, -11722.153094709822, 3132.9801986640086, 74330.24712338409, 28980.595452757436, 3981.3448792157724, 11835.488791490468, 20900.980791343638, -12622.369450376602, -22328.700521141946, 22103.127119244367, 7175.600988921011, -3686.60034500694, 953.9242342165962, 33246.96048430831, -5227.752512474428, 29255.196143821813, 35845.976698724044, 78899.06746453093, -18070.073985655996, 21971.90857676213, 11603.037452009303, -974.3918858710385, -14427.945793773033, -10214.10355744927, 9125.962474625558, 30958.21546641644, -20286.999973516504, -20521.449525891687, 7124.735310494201, -20966.11878878565, -1539.3611585351173, -9974.445889986586, 20782.297403301607, -9140.226570693761, -24070.211697601553, 71783.12106364372, 38719.97762492398, -21887.65401691929, -3308.162209878559, 14035.45609435119, -8776.05985750744, 6359.090658487403, -27260.69163745508, 24021.869679160416, 22150.401054883027, -10927.570477094152, 6204.909648179746, -6791.665548189718, -2347.689677678165, -31659.690002706106, 30239.049997718015, -14835.003782618238, -26506.237373772427, 11589.435755227081, 1144.0417160856887, 14035.916588068445, 11903.631198166753, 6531.081651407381, -28408.059975732074, 49862.683588050655, 8729.423908423167, -25063.797992273845, 19513.89408220374, 4628.721323944046, -42407.005368578364, -41912.62775413423, -18862.743287997087, 22184.370633127168, -5021.858888834104, -14325.745399121835, 26482.656070098077, 52040.481781877344, 35111.562876076176, -5985.677615181659, 17550.72097553918, -9992.48117459906, -4928.046529670828, 1541.0654014454776, -15217.913485453319, 20422.606095824332, 18220.171109496267, -7863.711719648243, -38099.50280805107, 10241.740688668797, 37241.86801880406, -41403.78231195541, 8333.544604398048, -37764.02742674717, 6636.325804100459, 16828.642862395558, 11213.275747327978, -607.6070573345642, 1761.7907712547749, 24413.81938389779, 6637.854097082687, 1838.7607369710313, -75708.17027071948, -29922.760343852628, -8310.676638764533, -44257.92525709883, -4144.418955997069, 1846.7990440096473, -28185.8230641103, 23588.05696432473, 3243.9364610498305, -15524.202097874455, -22880.4848603, 48388.36392097823, 27431.34359369264, -25096.942055610823, 73571.86243973559, 35832.95923716549, -620.1877315056627, -11005.792852188606, -413.9888833959121, -22803.795454714767, 9966.754991395079, -1476.1008430368674, 10079.354897645622, -3987.2562151477905, 5182.411756195157, 3617.595041589637, -13220.0218809512, 16178.452857661032, -24278.6838653679, 21000.077267408516, -10316.085741291608, 36138.47421510768, 26830.3134688882, -1608.448549246299, 297717.88782651484, 3780.268257849297, 16870.851358097687, -2443.522197755912, 3541.479831725708, -25932.473701279407, 18412.00788133411, 17674.890415424365, 66269.67365030514, 53884.88524194891, 40158.22443796549, -4698.383745183586, 8490.198607651168, 30558.38620129705, -9933.035558854463, 45786.249838076765, -19070.279678770865, 9816.951464647398, 20175.996128463652, 20774.267245670053, 7835.681188225964, -18334.15172659274, 15966.475785180519, 23394.330593125836, 19911.720252755913, 25947.61888108164, 7568.2367665575875, 41233.45021355455, 18582.380465853756, 18188.262324462557, 12061.653325038642, 17744.3045100639, -15482.464681903017, -2151.3141354151885, -17033.023387096473, 13024.001865513826, -8881.648537524146, 884.4548551595362, 7911.256932090211, -3257.2496762351075, 13357.905643884093, 12012.58836127221, 9544.419610747864, -35414.30611634004, -29773.252486179234, 6191.118293750595, 18336.78435442614, -13957.656603735959, -15934.968320259199, 19320.817963277863, 28214.095287045173, 20867.621933321177, -1660.2280458280002, -16432.50727869988, 59586.565384543384, 561.8461992726225, -47913.51294232148, 85555.00920473202, -7006.937592336413, 13509.97609381302, -13596.321379836882, 7421.956491571036, 58069.450449967, -8861.284878929699]}], {}, {\"showLink\": true, \"linkText\": \"Export to plot.ly\"})});</script>"
      ]
     },
     "metadata": {},
     "output_type": "display_data"
    }
   ],
   "source": [
    " trace0 = go.Box(\n",
    "    y=dollars['difference']\n",
    ")\n",
    "\n",
    "data = [trace0]\n",
    "py.iplot(data)"
   ]
  },
  {
   "cell_type": "markdown",
   "metadata": {},
   "source": [
    "# Metrics:"
   ]
  },
  {
   "cell_type": "code",
   "execution_count": 85,
   "metadata": {},
   "outputs": [
    {
     "data": {
      "application/vnd.plotly.v1+json": {
       "data": [
        {
         "name": "test r2",
         "type": "bar",
         "x": [
          "linear",
          "lasso",
          "elastic net",
          "random forrest",
          "ridge",
          "mlpr"
         ],
         "y": [
          0.8140215193814759,
          0.8140215193814759,
          0.8140215193814759,
          0.6958477708131623,
          0.8140200924728846,
          0.8235198247372146
         ]
        },
        {
         "name": "train r2",
         "type": "bar",
         "x": [
          "linear",
          "lasso",
          "elastic net",
          "random forrest",
          "ridge",
          "mlpr"
         ],
         "y": [
          0.8403662527257292,
          0.8403662527257292,
          0.8403662527257292,
          0.8173116657025585,
          0.8403662442087643,
          0.9226442464259064
         ]
        }
       ],
       "layout": {
        "barmode": "group",
        "title": "R2 metric",
        "xaxis": {
         "title": "Model",
         "titlefont": {
          "color": "#7f7f7f",
          "family": "Courier New, monospace",
          "size": 18
         }
        },
        "yaxis": {
         "title": "Test value",
         "titlefont": {
          "color": "#7f7f7f",
          "family": "Courier New, monospace",
          "size": 25
         }
        }
       }
      },
      "text/html": [
       "<div id=\"d4be55d0-50cc-43f3-a7c7-1077182e6baf\" style=\"height: 525px; width: 100%;\" class=\"plotly-graph-div\"></div><script type=\"text/javascript\">require([\"plotly\"], function(Plotly) { window.PLOTLYENV=window.PLOTLYENV || {};window.PLOTLYENV.BASE_URL=\"https://plot.ly\";Plotly.newPlot(\"d4be55d0-50cc-43f3-a7c7-1077182e6baf\", [{\"type\": \"bar\", \"x\": [\"linear\", \"lasso\", \"elastic net\", \"random forrest\", \"ridge\", \"mlpr\"], \"y\": [0.8140215193814759, 0.8140215193814759, 0.8140215193814759, 0.6958477708131623, 0.8140200924728846, 0.8235198247372146], \"name\": \"test r2\"}, {\"type\": \"bar\", \"x\": [\"linear\", \"lasso\", \"elastic net\", \"random forrest\", \"ridge\", \"mlpr\"], \"y\": [0.8403662527257292, 0.8403662527257292, 0.8403662527257292, 0.8173116657025585, 0.8403662442087643, 0.9226442464259064], \"name\": \"train r2\"}], {\"barmode\": \"group\", \"title\": \"R2 metric\", \"xaxis\": {\"title\": \"Model\", \"titlefont\": {\"family\": \"Courier New, monospace\", \"size\": 18, \"color\": \"#7f7f7f\"}}, \"yaxis\": {\"title\": \"Test value\", \"titlefont\": {\"family\": \"Courier New, monospace\", \"size\": 25, \"color\": \"#7f7f7f\"}}}, {\"showLink\": true, \"linkText\": \"Export to plot.ly\"})});</script>"
      ],
      "text/vnd.plotly.v1+html": [
       "<div id=\"d4be55d0-50cc-43f3-a7c7-1077182e6baf\" style=\"height: 525px; width: 100%;\" class=\"plotly-graph-div\"></div><script type=\"text/javascript\">require([\"plotly\"], function(Plotly) { window.PLOTLYENV=window.PLOTLYENV || {};window.PLOTLYENV.BASE_URL=\"https://plot.ly\";Plotly.newPlot(\"d4be55d0-50cc-43f3-a7c7-1077182e6baf\", [{\"type\": \"bar\", \"x\": [\"linear\", \"lasso\", \"elastic net\", \"random forrest\", \"ridge\", \"mlpr\"], \"y\": [0.8140215193814759, 0.8140215193814759, 0.8140215193814759, 0.6958477708131623, 0.8140200924728846, 0.8235198247372146], \"name\": \"test r2\"}, {\"type\": \"bar\", \"x\": [\"linear\", \"lasso\", \"elastic net\", \"random forrest\", \"ridge\", \"mlpr\"], \"y\": [0.8403662527257292, 0.8403662527257292, 0.8403662527257292, 0.8173116657025585, 0.8403662442087643, 0.9226442464259064], \"name\": \"train r2\"}], {\"barmode\": \"group\", \"title\": \"R2 metric\", \"xaxis\": {\"title\": \"Model\", \"titlefont\": {\"family\": \"Courier New, monospace\", \"size\": 18, \"color\": \"#7f7f7f\"}}, \"yaxis\": {\"title\": \"Test value\", \"titlefont\": {\"family\": \"Courier New, monospace\", \"size\": 25, \"color\": \"#7f7f7f\"}}}, {\"showLink\": true, \"linkText\": \"Export to plot.ly\"})});</script>"
      ]
     },
     "metadata": {},
     "output_type": "display_data"
    }
   ],
   "source": [
    "trace1 = go.Bar(\n",
    "    x=results.index,\n",
    "    y=results['test r2'],\n",
    "    name='test r2'\n",
    ")\n",
    "trace2 = go.Bar(\n",
    "    x=results.index,\n",
    "    y=results['train r2'],\n",
    "    name='train r2'\n",
    ")\n",
    "\n",
    "data = [trace1, trace2]\n",
    "layout = go.Layout(\n",
    "    barmode='group',\n",
    "    \n",
    "    title='R2 metric',\n",
    "    xaxis=dict(\n",
    "        title='Model',\n",
    "        titlefont=dict(\n",
    "            family='Courier New, monospace',\n",
    "            size=18,\n",
    "            color='#7f7f7f'\n",
    "        )\n",
    "    ),\n",
    "    yaxis=dict(\n",
    "        title='Test value',\n",
    "        titlefont=dict(\n",
    "            family='Courier New, monospace',\n",
    "            size=25,\n",
    "            color='#7f7f7f'\n",
    "        )\n",
    "    ) \n",
    ")\n",
    "\n",
    "fig = go.Figure(data=data, layout=layout)\n",
    "py.iplot(fig, filename='grouped-bar')"
   ]
  },
  {
   "cell_type": "code",
   "execution_count": 86,
   "metadata": {},
   "outputs": [
    {
     "data": {
      "application/vnd.plotly.v1+json": {
       "data": [
        {
         "name": "test mae",
         "type": "bar",
         "x": [
          "linear",
          "lasso",
          "elastic net",
          "random forrest",
          "ridge",
          "mlpr"
         ],
         "y": [
          0.24828007171367175,
          0.24828007171367175,
          0.24828007171367175,
          0.35504972838838533,
          0.24827851463187545,
          0.2575618154572945
         ]
        },
        {
         "name": "train mae",
         "type": "bar",
         "x": [
          "linear",
          "lasso",
          "elastic net",
          "random forrest",
          "ridge",
          "mlpr"
         ],
         "y": [
          0.24847169595164276,
          0.24847169595164276,
          0.24847169595164276,
          0.3078535985780181,
          0.24846198357712937,
          0.1996169788295519
         ]
        }
       ],
       "layout": {
        "barmode": "group",
        "title": "MAE metric",
        "xaxis": {
         "title": "Model",
         "titlefont": {
          "color": "#7f7f7f",
          "family": "Courier New, monospace",
          "size": 18
         }
        },
        "yaxis": {
         "title": "Test value",
         "titlefont": {
          "color": "#7f7f7f",
          "family": "Courier New, monospace",
          "size": 25
         }
        }
       }
      },
      "text/html": [
       "<div id=\"81cce744-9435-4437-81f4-549b7ddc1ac3\" style=\"height: 525px; width: 100%;\" class=\"plotly-graph-div\"></div><script type=\"text/javascript\">require([\"plotly\"], function(Plotly) { window.PLOTLYENV=window.PLOTLYENV || {};window.PLOTLYENV.BASE_URL=\"https://plot.ly\";Plotly.newPlot(\"81cce744-9435-4437-81f4-549b7ddc1ac3\", [{\"type\": \"bar\", \"x\": [\"linear\", \"lasso\", \"elastic net\", \"random forrest\", \"ridge\", \"mlpr\"], \"y\": [0.24828007171367175, 0.24828007171367175, 0.24828007171367175, 0.35504972838838533, 0.24827851463187545, 0.2575618154572945], \"name\": \"test mae\"}, {\"type\": \"bar\", \"x\": [\"linear\", \"lasso\", \"elastic net\", \"random forrest\", \"ridge\", \"mlpr\"], \"y\": [0.24847169595164276, 0.24847169595164276, 0.24847169595164276, 0.3078535985780181, 0.24846198357712937, 0.1996169788295519], \"name\": \"train mae\"}], {\"barmode\": \"group\", \"title\": \"MAE metric\", \"xaxis\": {\"title\": \"Model\", \"titlefont\": {\"family\": \"Courier New, monospace\", \"size\": 18, \"color\": \"#7f7f7f\"}}, \"yaxis\": {\"title\": \"Test value\", \"titlefont\": {\"family\": \"Courier New, monospace\", \"size\": 25, \"color\": \"#7f7f7f\"}}}, {\"showLink\": true, \"linkText\": \"Export to plot.ly\"})});</script>"
      ],
      "text/vnd.plotly.v1+html": [
       "<div id=\"81cce744-9435-4437-81f4-549b7ddc1ac3\" style=\"height: 525px; width: 100%;\" class=\"plotly-graph-div\"></div><script type=\"text/javascript\">require([\"plotly\"], function(Plotly) { window.PLOTLYENV=window.PLOTLYENV || {};window.PLOTLYENV.BASE_URL=\"https://plot.ly\";Plotly.newPlot(\"81cce744-9435-4437-81f4-549b7ddc1ac3\", [{\"type\": \"bar\", \"x\": [\"linear\", \"lasso\", \"elastic net\", \"random forrest\", \"ridge\", \"mlpr\"], \"y\": [0.24828007171367175, 0.24828007171367175, 0.24828007171367175, 0.35504972838838533, 0.24827851463187545, 0.2575618154572945], \"name\": \"test mae\"}, {\"type\": \"bar\", \"x\": [\"linear\", \"lasso\", \"elastic net\", \"random forrest\", \"ridge\", \"mlpr\"], \"y\": [0.24847169595164276, 0.24847169595164276, 0.24847169595164276, 0.3078535985780181, 0.24846198357712937, 0.1996169788295519], \"name\": \"train mae\"}], {\"barmode\": \"group\", \"title\": \"MAE metric\", \"xaxis\": {\"title\": \"Model\", \"titlefont\": {\"family\": \"Courier New, monospace\", \"size\": 18, \"color\": \"#7f7f7f\"}}, \"yaxis\": {\"title\": \"Test value\", \"titlefont\": {\"family\": \"Courier New, monospace\", \"size\": 25, \"color\": \"#7f7f7f\"}}}, {\"showLink\": true, \"linkText\": \"Export to plot.ly\"})});</script>"
      ]
     },
     "metadata": {},
     "output_type": "display_data"
    }
   ],
   "source": [
    "trace1 = go.Bar(\n",
    "    x=results.index,\n",
    "    y=results['test mae'],\n",
    "    name='test mae'\n",
    ")\n",
    "trace2 = go.Bar(\n",
    "    x=results.index,\n",
    "    y=results['train mae'],\n",
    "    name='train mae'\n",
    ")\n",
    "\n",
    "data = [trace1, trace2]\n",
    "layout = go.Layout(\n",
    "    barmode='group',\n",
    "    \n",
    "    title='MAE metric',\n",
    "    xaxis=dict(\n",
    "        title='Model',\n",
    "        titlefont=dict(\n",
    "            family='Courier New, monospace',\n",
    "            size=18,\n",
    "            color='#7f7f7f'\n",
    "        )\n",
    "    ),\n",
    "    yaxis=dict(\n",
    "        title='Test value',\n",
    "        titlefont=dict(\n",
    "            family='Courier New, monospace',\n",
    "            size=25,\n",
    "            color='#7f7f7f'\n",
    "        )\n",
    "    ) \n",
    ")\n",
    "\n",
    "fig = go.Figure(data=data, layout=layout)\n",
    "py.iplot(fig, filename='grouped-bar')"
   ]
  },
  {
   "cell_type": "code",
   "execution_count": 87,
   "metadata": {},
   "outputs": [
    {
     "data": {
      "application/vnd.plotly.v1+json": {
       "data": [
        {
         "name": "test mse",
         "type": "bar",
         "x": [
          "linear",
          "lasso",
          "elastic net",
          "random forrest",
          "ridge",
          "mlpr"
         ],
         "y": [
          0.17888722886938277,
          0.17888722886938277,
          0.17888722886938277,
          0.292555080849819,
          0.17888860137077592,
          0.16975108839553654
         ]
        },
        {
         "name": "train mse",
         "type": "bar",
         "x": [
          "linear",
          "lasso",
          "elastic net",
          "random forrest",
          "ridge",
          "mlpr"
         ],
         "y": [
          0.15963374727427077,
          0.15963374727427077,
          0.15963374727427077,
          0.18268833429744147,
          0.1596337557912358,
          0.07735575357409365
         ]
        }
       ],
       "layout": {
        "barmode": "group",
        "title": "MSE metric",
        "xaxis": {
         "title": "Model",
         "titlefont": {
          "color": "#7f7f7f",
          "family": "Courier New, monospace",
          "size": 18
         }
        },
        "yaxis": {
         "title": "Test value",
         "titlefont": {
          "color": "#7f7f7f",
          "family": "Courier New, monospace",
          "size": 25
         }
        }
       }
      },
      "text/html": [
       "<div id=\"0497bbab-d7b4-4e55-8a25-04d5683019b5\" style=\"height: 525px; width: 100%;\" class=\"plotly-graph-div\"></div><script type=\"text/javascript\">require([\"plotly\"], function(Plotly) { window.PLOTLYENV=window.PLOTLYENV || {};window.PLOTLYENV.BASE_URL=\"https://plot.ly\";Plotly.newPlot(\"0497bbab-d7b4-4e55-8a25-04d5683019b5\", [{\"type\": \"bar\", \"x\": [\"linear\", \"lasso\", \"elastic net\", \"random forrest\", \"ridge\", \"mlpr\"], \"y\": [0.17888722886938277, 0.17888722886938277, 0.17888722886938277, 0.292555080849819, 0.17888860137077592, 0.16975108839553654], \"name\": \"test mse\"}, {\"type\": \"bar\", \"x\": [\"linear\", \"lasso\", \"elastic net\", \"random forrest\", \"ridge\", \"mlpr\"], \"y\": [0.15963374727427077, 0.15963374727427077, 0.15963374727427077, 0.18268833429744147, 0.1596337557912358, 0.07735575357409365], \"name\": \"train mse\"}], {\"barmode\": \"group\", \"title\": \"MSE metric\", \"xaxis\": {\"title\": \"Model\", \"titlefont\": {\"family\": \"Courier New, monospace\", \"size\": 18, \"color\": \"#7f7f7f\"}}, \"yaxis\": {\"title\": \"Test value\", \"titlefont\": {\"family\": \"Courier New, monospace\", \"size\": 25, \"color\": \"#7f7f7f\"}}}, {\"showLink\": true, \"linkText\": \"Export to plot.ly\"})});</script>"
      ],
      "text/vnd.plotly.v1+html": [
       "<div id=\"0497bbab-d7b4-4e55-8a25-04d5683019b5\" style=\"height: 525px; width: 100%;\" class=\"plotly-graph-div\"></div><script type=\"text/javascript\">require([\"plotly\"], function(Plotly) { window.PLOTLYENV=window.PLOTLYENV || {};window.PLOTLYENV.BASE_URL=\"https://plot.ly\";Plotly.newPlot(\"0497bbab-d7b4-4e55-8a25-04d5683019b5\", [{\"type\": \"bar\", \"x\": [\"linear\", \"lasso\", \"elastic net\", \"random forrest\", \"ridge\", \"mlpr\"], \"y\": [0.17888722886938277, 0.17888722886938277, 0.17888722886938277, 0.292555080849819, 0.17888860137077592, 0.16975108839553654], \"name\": \"test mse\"}, {\"type\": \"bar\", \"x\": [\"linear\", \"lasso\", \"elastic net\", \"random forrest\", \"ridge\", \"mlpr\"], \"y\": [0.15963374727427077, 0.15963374727427077, 0.15963374727427077, 0.18268833429744147, 0.1596337557912358, 0.07735575357409365], \"name\": \"train mse\"}], {\"barmode\": \"group\", \"title\": \"MSE metric\", \"xaxis\": {\"title\": \"Model\", \"titlefont\": {\"family\": \"Courier New, monospace\", \"size\": 18, \"color\": \"#7f7f7f\"}}, \"yaxis\": {\"title\": \"Test value\", \"titlefont\": {\"family\": \"Courier New, monospace\", \"size\": 25, \"color\": \"#7f7f7f\"}}}, {\"showLink\": true, \"linkText\": \"Export to plot.ly\"})});</script>"
      ]
     },
     "metadata": {},
     "output_type": "display_data"
    }
   ],
   "source": [
    "trace1 = go.Bar(\n",
    "    x=results.index,\n",
    "    y=results['test mse'],\n",
    "    name='test mse'\n",
    ")\n",
    "trace2 = go.Bar(\n",
    "    x=results.index,\n",
    "    y=results['train mse'],\n",
    "    name='train mse'\n",
    ")\n",
    "\n",
    "data = [trace1, trace2]\n",
    "layout = go.Layout(\n",
    "    barmode='group',\n",
    "    \n",
    "    title='MSE metric',\n",
    "    xaxis=dict(\n",
    "        title='Model',\n",
    "        titlefont=dict(\n",
    "            family='Courier New, monospace',\n",
    "            size=18,\n",
    "            color='#7f7f7f'\n",
    "        )\n",
    "    ),\n",
    "    yaxis=dict(\n",
    "        title='Test value',\n",
    "        titlefont=dict(\n",
    "            family='Courier New, monospace',\n",
    "            size=25,\n",
    "            color='#7f7f7f'\n",
    "        )\n",
    "    ) \n",
    ")\n",
    "\n",
    "fig = go.Figure(data=data, layout=layout)\n",
    "py.iplot(fig, filename='grouped-bar')"
   ]
  },
  {
   "cell_type": "code",
   "execution_count": null,
   "metadata": {
    "collapsed": true
   },
   "outputs": [],
   "source": []
  }
 ],
 "metadata": {
  "kernelspec": {
   "display_name": "Python 3",
   "language": "python",
   "name": "python3"
  },
  "language_info": {
   "codemirror_mode": {
    "name": "ipython",
    "version": 3
   },
   "file_extension": ".py",
   "mimetype": "text/x-python",
   "name": "python",
   "nbconvert_exporter": "python",
   "pygments_lexer": "ipython3",
   "version": "3.6.1"
  }
 },
 "nbformat": 4,
 "nbformat_minor": 2
}
